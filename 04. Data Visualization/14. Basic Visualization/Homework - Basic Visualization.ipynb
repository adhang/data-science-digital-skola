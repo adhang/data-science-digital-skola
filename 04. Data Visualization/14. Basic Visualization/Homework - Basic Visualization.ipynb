{
  "nbformat": 4,
  "nbformat_minor": 0,
  "metadata": {
    "colab": {
      "name": "Homework - Basic Visualization.ipynb",
      "provenance": [],
      "collapsed_sections": [],
      "toc_visible": true,
      "mount_file_id": "1EirZe81iJkzo2gt-3cBq6wCfLA0Spibj",
      "authorship_tag": "ABX9TyMumno5CVvUa4o0o4JTnxFE",
      "include_colab_link": true
    },
    "kernelspec": {
      "name": "python3",
      "display_name": "Python 3"
    },
    "language_info": {
      "name": "python"
    }
  },
  "cells": [
    {
      "cell_type": "markdown",
      "metadata": {
        "id": "view-in-github",
        "colab_type": "text"
      },
      "source": [
        "<a href=\"https://colab.research.google.com/github/adhang/data-science-digital-skola/blob/update/14.%20Basic%20Visualization/Homework%20-%20Basic%20Visualization.ipynb\" target=\"_parent\"><img src=\"https://colab.research.google.com/assets/colab-badge.svg\" alt=\"Open In Colab\"/></a>"
      ]
    },
    {
      "cell_type": "markdown",
      "source": [
        "# Homework - Basic Visualization\n",
        "Author: Adhang Muntaha Muhammad\n",
        "\n",
        "[![LinkedIn](https://img.shields.io/badge/linkedin-0077B5?style=for-the-badge&logo=linkedin&logoColor=white&link=https://www.linkedin.com/in/adhangmuntaha/)](https://www.linkedin.com/in/adhangmuntaha/)\n",
        "[![GitHub](https://img.shields.io/badge/github-121011?style=for-the-badge&logo=github&logoColor=white&link=https://github.com/adhang)](https://github.com/adhang)\n",
        "[![Kaggle](https://img.shields.io/badge/kaggle-20BEFF?style=for-the-badge&logo=kaggle&logoColor=white&link=https://www.kaggle.com/adhang)](https://www.kaggle.com/adhang)\n",
        "[![Tableau](https://img.shields.io/badge/tableau-E97627?style=for-the-badge&logo=tableau&logoColor=white&link=https://public.tableau.com/app/profile/adhang)](https://public.tableau.com/app/profile/adhang)\n",
        "___\n",
        "**Contents**\n",
        "- Dataset Information\n",
        "- Importing Library\n",
        "- Spaceship Titanic\n",
        "  - Reading Dataset\n",
        "  - Data Visualization\n",
        "- Power Consumption in India\n",
        "  - Reading Dataset\n",
        "  - Data Visualization"
      ],
      "metadata": {
        "id": "qKD1b67At5-H"
      }
    },
    {
      "cell_type": "markdown",
      "source": [
        "# Dataset Information\n",
        "I will use some datasets:\n",
        "- **Spaceship Titanic** <br>\n",
        "This dataset is a fictional dataset containing personal records recovered from the ship's damaged computer system. This dataset is used to predict whether a passenger was transported to an alternate dimension during the Spaceship Titanic's collision with the spacetime anomaly.\n",
        "<br><br>\n",
        "The dataset can be found here: [train.csv](https://www.kaggle.com/c/spaceship-titanic)\n",
        "<br><br>\n",
        "- **Power Consumption in India** <br>\n",
        "This dataset contains power consumption in India during the COVID-19 pandemic (2019 Jan - 2020 Dec). Each column contains the power consumption in Mega Units (MU) for each state of India.\n",
        "<br><br>\n",
        "The dataset can be found here: [dataset_tk.csv](https://www.kaggle.com/twinkle0705/state-wise-power-consumption-in-india)\n",
        "<br><br>"
      ],
      "metadata": {
        "id": "DHXBBKXGx2yc"
      }
    },
    {
      "cell_type": "markdown",
      "source": [
        "# Importing Library"
      ],
      "metadata": {
        "id": "3K9b-eKLuI0n"
      }
    },
    {
      "cell_type": "code",
      "execution_count": null,
      "metadata": {
        "id": "AX2ZVsS5tyn8"
      },
      "outputs": [],
      "source": [
        "import pandas as pd"
      ]
    },
    {
      "cell_type": "markdown",
      "source": [
        "# Spaceship Titanic"
      ],
      "metadata": {
        "id": "DUT2Kj1XzrDC"
      }
    },
    {
      "cell_type": "markdown",
      "source": [
        "## Reading Dataset"
      ],
      "metadata": {
        "id": "0FHqtgxI0Z1l"
      }
    },
    {
      "cell_type": "code",
      "source": [
        "data_titanic = pd.read_csv('/content/drive/MyDrive/Digital Skola/Homework/dataset/kaggle_spacehip_titanic.csv')\n",
        "data_titanic.head()"
      ],
      "metadata": {
        "colab": {
          "base_uri": "https://localhost:8080/",
          "height": 356
        },
        "id": "RJBN8Xe3x1Ol",
        "outputId": "751db1a8-5d2e-4b22-9fbb-827bc2b5fc22"
      },
      "execution_count": null,
      "outputs": [
        {
          "output_type": "execute_result",
          "data": {
            "text/html": [
              "\n",
              "  <div id=\"df-469ed884-56b7-4455-bb2b-d75199b8a87e\">\n",
              "    <div class=\"colab-df-container\">\n",
              "      <div>\n",
              "<style scoped>\n",
              "    .dataframe tbody tr th:only-of-type {\n",
              "        vertical-align: middle;\n",
              "    }\n",
              "\n",
              "    .dataframe tbody tr th {\n",
              "        vertical-align: top;\n",
              "    }\n",
              "\n",
              "    .dataframe thead th {\n",
              "        text-align: right;\n",
              "    }\n",
              "</style>\n",
              "<table border=\"1\" class=\"dataframe\">\n",
              "  <thead>\n",
              "    <tr style=\"text-align: right;\">\n",
              "      <th></th>\n",
              "      <th>PassengerId</th>\n",
              "      <th>HomePlanet</th>\n",
              "      <th>CryoSleep</th>\n",
              "      <th>Cabin</th>\n",
              "      <th>Destination</th>\n",
              "      <th>Age</th>\n",
              "      <th>VIP</th>\n",
              "      <th>RoomService</th>\n",
              "      <th>FoodCourt</th>\n",
              "      <th>ShoppingMall</th>\n",
              "      <th>Spa</th>\n",
              "      <th>VRDeck</th>\n",
              "      <th>Name</th>\n",
              "      <th>Transported</th>\n",
              "    </tr>\n",
              "  </thead>\n",
              "  <tbody>\n",
              "    <tr>\n",
              "      <th>0</th>\n",
              "      <td>0001_01</td>\n",
              "      <td>Europa</td>\n",
              "      <td>False</td>\n",
              "      <td>B/0/P</td>\n",
              "      <td>TRAPPIST-1e</td>\n",
              "      <td>39.0</td>\n",
              "      <td>False</td>\n",
              "      <td>0.0</td>\n",
              "      <td>0.0</td>\n",
              "      <td>0.0</td>\n",
              "      <td>0.0</td>\n",
              "      <td>0.0</td>\n",
              "      <td>Maham Ofracculy</td>\n",
              "      <td>False</td>\n",
              "    </tr>\n",
              "    <tr>\n",
              "      <th>1</th>\n",
              "      <td>0002_01</td>\n",
              "      <td>Earth</td>\n",
              "      <td>False</td>\n",
              "      <td>F/0/S</td>\n",
              "      <td>TRAPPIST-1e</td>\n",
              "      <td>24.0</td>\n",
              "      <td>False</td>\n",
              "      <td>109.0</td>\n",
              "      <td>9.0</td>\n",
              "      <td>25.0</td>\n",
              "      <td>549.0</td>\n",
              "      <td>44.0</td>\n",
              "      <td>Juanna Vines</td>\n",
              "      <td>True</td>\n",
              "    </tr>\n",
              "    <tr>\n",
              "      <th>2</th>\n",
              "      <td>0003_01</td>\n",
              "      <td>Europa</td>\n",
              "      <td>False</td>\n",
              "      <td>A/0/S</td>\n",
              "      <td>TRAPPIST-1e</td>\n",
              "      <td>58.0</td>\n",
              "      <td>True</td>\n",
              "      <td>43.0</td>\n",
              "      <td>3576.0</td>\n",
              "      <td>0.0</td>\n",
              "      <td>6715.0</td>\n",
              "      <td>49.0</td>\n",
              "      <td>Altark Susent</td>\n",
              "      <td>False</td>\n",
              "    </tr>\n",
              "    <tr>\n",
              "      <th>3</th>\n",
              "      <td>0003_02</td>\n",
              "      <td>Europa</td>\n",
              "      <td>False</td>\n",
              "      <td>A/0/S</td>\n",
              "      <td>TRAPPIST-1e</td>\n",
              "      <td>33.0</td>\n",
              "      <td>False</td>\n",
              "      <td>0.0</td>\n",
              "      <td>1283.0</td>\n",
              "      <td>371.0</td>\n",
              "      <td>3329.0</td>\n",
              "      <td>193.0</td>\n",
              "      <td>Solam Susent</td>\n",
              "      <td>False</td>\n",
              "    </tr>\n",
              "    <tr>\n",
              "      <th>4</th>\n",
              "      <td>0004_01</td>\n",
              "      <td>Earth</td>\n",
              "      <td>False</td>\n",
              "      <td>F/1/S</td>\n",
              "      <td>TRAPPIST-1e</td>\n",
              "      <td>16.0</td>\n",
              "      <td>False</td>\n",
              "      <td>303.0</td>\n",
              "      <td>70.0</td>\n",
              "      <td>151.0</td>\n",
              "      <td>565.0</td>\n",
              "      <td>2.0</td>\n",
              "      <td>Willy Santantines</td>\n",
              "      <td>True</td>\n",
              "    </tr>\n",
              "  </tbody>\n",
              "</table>\n",
              "</div>\n",
              "      <button class=\"colab-df-convert\" onclick=\"convertToInteractive('df-469ed884-56b7-4455-bb2b-d75199b8a87e')\"\n",
              "              title=\"Convert this dataframe to an interactive table.\"\n",
              "              style=\"display:none;\">\n",
              "        \n",
              "  <svg xmlns=\"http://www.w3.org/2000/svg\" height=\"24px\"viewBox=\"0 0 24 24\"\n",
              "       width=\"24px\">\n",
              "    <path d=\"M0 0h24v24H0V0z\" fill=\"none\"/>\n",
              "    <path d=\"M18.56 5.44l.94 2.06.94-2.06 2.06-.94-2.06-.94-.94-2.06-.94 2.06-2.06.94zm-11 1L8.5 8.5l.94-2.06 2.06-.94-2.06-.94L8.5 2.5l-.94 2.06-2.06.94zm10 10l.94 2.06.94-2.06 2.06-.94-2.06-.94-.94-2.06-.94 2.06-2.06.94z\"/><path d=\"M17.41 7.96l-1.37-1.37c-.4-.4-.92-.59-1.43-.59-.52 0-1.04.2-1.43.59L10.3 9.45l-7.72 7.72c-.78.78-.78 2.05 0 2.83L4 21.41c.39.39.9.59 1.41.59.51 0 1.02-.2 1.41-.59l7.78-7.78 2.81-2.81c.8-.78.8-2.07 0-2.86zM5.41 20L4 18.59l7.72-7.72 1.47 1.35L5.41 20z\"/>\n",
              "  </svg>\n",
              "      </button>\n",
              "      \n",
              "  <style>\n",
              "    .colab-df-container {\n",
              "      display:flex;\n",
              "      flex-wrap:wrap;\n",
              "      gap: 12px;\n",
              "    }\n",
              "\n",
              "    .colab-df-convert {\n",
              "      background-color: #E8F0FE;\n",
              "      border: none;\n",
              "      border-radius: 50%;\n",
              "      cursor: pointer;\n",
              "      display: none;\n",
              "      fill: #1967D2;\n",
              "      height: 32px;\n",
              "      padding: 0 0 0 0;\n",
              "      width: 32px;\n",
              "    }\n",
              "\n",
              "    .colab-df-convert:hover {\n",
              "      background-color: #E2EBFA;\n",
              "      box-shadow: 0px 1px 2px rgba(60, 64, 67, 0.3), 0px 1px 3px 1px rgba(60, 64, 67, 0.15);\n",
              "      fill: #174EA6;\n",
              "    }\n",
              "\n",
              "    [theme=dark] .colab-df-convert {\n",
              "      background-color: #3B4455;\n",
              "      fill: #D2E3FC;\n",
              "    }\n",
              "\n",
              "    [theme=dark] .colab-df-convert:hover {\n",
              "      background-color: #434B5C;\n",
              "      box-shadow: 0px 1px 3px 1px rgba(0, 0, 0, 0.15);\n",
              "      filter: drop-shadow(0px 1px 2px rgba(0, 0, 0, 0.3));\n",
              "      fill: #FFFFFF;\n",
              "    }\n",
              "  </style>\n",
              "\n",
              "      <script>\n",
              "        const buttonEl =\n",
              "          document.querySelector('#df-469ed884-56b7-4455-bb2b-d75199b8a87e button.colab-df-convert');\n",
              "        buttonEl.style.display =\n",
              "          google.colab.kernel.accessAllowed ? 'block' : 'none';\n",
              "\n",
              "        async function convertToInteractive(key) {\n",
              "          const element = document.querySelector('#df-469ed884-56b7-4455-bb2b-d75199b8a87e');\n",
              "          const dataTable =\n",
              "            await google.colab.kernel.invokeFunction('convertToInteractive',\n",
              "                                                     [key], {});\n",
              "          if (!dataTable) return;\n",
              "\n",
              "          const docLinkHtml = 'Like what you see? Visit the ' +\n",
              "            '<a target=\"_blank\" href=https://colab.research.google.com/notebooks/data_table.ipynb>data table notebook</a>'\n",
              "            + ' to learn more about interactive tables.';\n",
              "          element.innerHTML = '';\n",
              "          dataTable['output_type'] = 'display_data';\n",
              "          await google.colab.output.renderOutput(dataTable, element);\n",
              "          const docLink = document.createElement('div');\n",
              "          docLink.innerHTML = docLinkHtml;\n",
              "          element.appendChild(docLink);\n",
              "        }\n",
              "      </script>\n",
              "    </div>\n",
              "  </div>\n",
              "  "
            ],
            "text/plain": [
              "  PassengerId HomePlanet CryoSleep  Cabin  Destination   Age    VIP  \\\n",
              "0     0001_01     Europa     False  B/0/P  TRAPPIST-1e  39.0  False   \n",
              "1     0002_01      Earth     False  F/0/S  TRAPPIST-1e  24.0  False   \n",
              "2     0003_01     Europa     False  A/0/S  TRAPPIST-1e  58.0   True   \n",
              "3     0003_02     Europa     False  A/0/S  TRAPPIST-1e  33.0  False   \n",
              "4     0004_01      Earth     False  F/1/S  TRAPPIST-1e  16.0  False   \n",
              "\n",
              "   RoomService  FoodCourt  ShoppingMall     Spa  VRDeck               Name  \\\n",
              "0          0.0        0.0           0.0     0.0     0.0    Maham Ofracculy   \n",
              "1        109.0        9.0          25.0   549.0    44.0       Juanna Vines   \n",
              "2         43.0     3576.0           0.0  6715.0    49.0      Altark Susent   \n",
              "3          0.0     1283.0         371.0  3329.0   193.0       Solam Susent   \n",
              "4        303.0       70.0         151.0   565.0     2.0  Willy Santantines   \n",
              "\n",
              "   Transported  \n",
              "0        False  \n",
              "1         True  \n",
              "2        False  \n",
              "3        False  \n",
              "4         True  "
            ]
          },
          "metadata": {},
          "execution_count": 2
        }
      ]
    },
    {
      "cell_type": "markdown",
      "source": [
        "### Dropping Column"
      ],
      "metadata": {
        "id": "MM657QvC0XFe"
      }
    },
    {
      "cell_type": "code",
      "source": [
        "data_titanic.duplicated().sum()"
      ],
      "metadata": {
        "colab": {
          "base_uri": "https://localhost:8080/"
        },
        "id": "Ko6Mh1xV0M9M",
        "outputId": "00983de0-ecb9-4167-a93d-7e0a1be2402f"
      },
      "execution_count": null,
      "outputs": [
        {
          "output_type": "execute_result",
          "data": {
            "text/plain": [
              "0"
            ]
          },
          "metadata": {},
          "execution_count": 3
        }
      ]
    },
    {
      "cell_type": "markdown",
      "source": [
        "No duplicate records. I will drop the `Passenger Id` and `Name` columns since each row has been identified by its index."
      ],
      "metadata": {
        "id": "utTNGD7dcoyh"
      }
    },
    {
      "cell_type": "code",
      "source": [
        "data_titanic.drop(columns=['PassengerId', 'Name'], inplace=True)\n",
        "data_titanic.head()"
      ],
      "metadata": {
        "colab": {
          "base_uri": "https://localhost:8080/",
          "height": 206
        },
        "id": "nZvxBDmAzxEm",
        "outputId": "24a3628e-d07f-4230-b449-b3f99d77bb5f"
      },
      "execution_count": null,
      "outputs": [
        {
          "output_type": "execute_result",
          "data": {
            "text/html": [
              "\n",
              "  <div id=\"df-2b22ba76-ca62-40b8-8478-56fcbe38c31f\">\n",
              "    <div class=\"colab-df-container\">\n",
              "      <div>\n",
              "<style scoped>\n",
              "    .dataframe tbody tr th:only-of-type {\n",
              "        vertical-align: middle;\n",
              "    }\n",
              "\n",
              "    .dataframe tbody tr th {\n",
              "        vertical-align: top;\n",
              "    }\n",
              "\n",
              "    .dataframe thead th {\n",
              "        text-align: right;\n",
              "    }\n",
              "</style>\n",
              "<table border=\"1\" class=\"dataframe\">\n",
              "  <thead>\n",
              "    <tr style=\"text-align: right;\">\n",
              "      <th></th>\n",
              "      <th>HomePlanet</th>\n",
              "      <th>CryoSleep</th>\n",
              "      <th>Cabin</th>\n",
              "      <th>Destination</th>\n",
              "      <th>Age</th>\n",
              "      <th>VIP</th>\n",
              "      <th>RoomService</th>\n",
              "      <th>FoodCourt</th>\n",
              "      <th>ShoppingMall</th>\n",
              "      <th>Spa</th>\n",
              "      <th>VRDeck</th>\n",
              "      <th>Transported</th>\n",
              "    </tr>\n",
              "  </thead>\n",
              "  <tbody>\n",
              "    <tr>\n",
              "      <th>0</th>\n",
              "      <td>Europa</td>\n",
              "      <td>False</td>\n",
              "      <td>B/0/P</td>\n",
              "      <td>TRAPPIST-1e</td>\n",
              "      <td>39.0</td>\n",
              "      <td>False</td>\n",
              "      <td>0.0</td>\n",
              "      <td>0.0</td>\n",
              "      <td>0.0</td>\n",
              "      <td>0.0</td>\n",
              "      <td>0.0</td>\n",
              "      <td>False</td>\n",
              "    </tr>\n",
              "    <tr>\n",
              "      <th>1</th>\n",
              "      <td>Earth</td>\n",
              "      <td>False</td>\n",
              "      <td>F/0/S</td>\n",
              "      <td>TRAPPIST-1e</td>\n",
              "      <td>24.0</td>\n",
              "      <td>False</td>\n",
              "      <td>109.0</td>\n",
              "      <td>9.0</td>\n",
              "      <td>25.0</td>\n",
              "      <td>549.0</td>\n",
              "      <td>44.0</td>\n",
              "      <td>True</td>\n",
              "    </tr>\n",
              "    <tr>\n",
              "      <th>2</th>\n",
              "      <td>Europa</td>\n",
              "      <td>False</td>\n",
              "      <td>A/0/S</td>\n",
              "      <td>TRAPPIST-1e</td>\n",
              "      <td>58.0</td>\n",
              "      <td>True</td>\n",
              "      <td>43.0</td>\n",
              "      <td>3576.0</td>\n",
              "      <td>0.0</td>\n",
              "      <td>6715.0</td>\n",
              "      <td>49.0</td>\n",
              "      <td>False</td>\n",
              "    </tr>\n",
              "    <tr>\n",
              "      <th>3</th>\n",
              "      <td>Europa</td>\n",
              "      <td>False</td>\n",
              "      <td>A/0/S</td>\n",
              "      <td>TRAPPIST-1e</td>\n",
              "      <td>33.0</td>\n",
              "      <td>False</td>\n",
              "      <td>0.0</td>\n",
              "      <td>1283.0</td>\n",
              "      <td>371.0</td>\n",
              "      <td>3329.0</td>\n",
              "      <td>193.0</td>\n",
              "      <td>False</td>\n",
              "    </tr>\n",
              "    <tr>\n",
              "      <th>4</th>\n",
              "      <td>Earth</td>\n",
              "      <td>False</td>\n",
              "      <td>F/1/S</td>\n",
              "      <td>TRAPPIST-1e</td>\n",
              "      <td>16.0</td>\n",
              "      <td>False</td>\n",
              "      <td>303.0</td>\n",
              "      <td>70.0</td>\n",
              "      <td>151.0</td>\n",
              "      <td>565.0</td>\n",
              "      <td>2.0</td>\n",
              "      <td>True</td>\n",
              "    </tr>\n",
              "  </tbody>\n",
              "</table>\n",
              "</div>\n",
              "      <button class=\"colab-df-convert\" onclick=\"convertToInteractive('df-2b22ba76-ca62-40b8-8478-56fcbe38c31f')\"\n",
              "              title=\"Convert this dataframe to an interactive table.\"\n",
              "              style=\"display:none;\">\n",
              "        \n",
              "  <svg xmlns=\"http://www.w3.org/2000/svg\" height=\"24px\"viewBox=\"0 0 24 24\"\n",
              "       width=\"24px\">\n",
              "    <path d=\"M0 0h24v24H0V0z\" fill=\"none\"/>\n",
              "    <path d=\"M18.56 5.44l.94 2.06.94-2.06 2.06-.94-2.06-.94-.94-2.06-.94 2.06-2.06.94zm-11 1L8.5 8.5l.94-2.06 2.06-.94-2.06-.94L8.5 2.5l-.94 2.06-2.06.94zm10 10l.94 2.06.94-2.06 2.06-.94-2.06-.94-.94-2.06-.94 2.06-2.06.94z\"/><path d=\"M17.41 7.96l-1.37-1.37c-.4-.4-.92-.59-1.43-.59-.52 0-1.04.2-1.43.59L10.3 9.45l-7.72 7.72c-.78.78-.78 2.05 0 2.83L4 21.41c.39.39.9.59 1.41.59.51 0 1.02-.2 1.41-.59l7.78-7.78 2.81-2.81c.8-.78.8-2.07 0-2.86zM5.41 20L4 18.59l7.72-7.72 1.47 1.35L5.41 20z\"/>\n",
              "  </svg>\n",
              "      </button>\n",
              "      \n",
              "  <style>\n",
              "    .colab-df-container {\n",
              "      display:flex;\n",
              "      flex-wrap:wrap;\n",
              "      gap: 12px;\n",
              "    }\n",
              "\n",
              "    .colab-df-convert {\n",
              "      background-color: #E8F0FE;\n",
              "      border: none;\n",
              "      border-radius: 50%;\n",
              "      cursor: pointer;\n",
              "      display: none;\n",
              "      fill: #1967D2;\n",
              "      height: 32px;\n",
              "      padding: 0 0 0 0;\n",
              "      width: 32px;\n",
              "    }\n",
              "\n",
              "    .colab-df-convert:hover {\n",
              "      background-color: #E2EBFA;\n",
              "      box-shadow: 0px 1px 2px rgba(60, 64, 67, 0.3), 0px 1px 3px 1px rgba(60, 64, 67, 0.15);\n",
              "      fill: #174EA6;\n",
              "    }\n",
              "\n",
              "    [theme=dark] .colab-df-convert {\n",
              "      background-color: #3B4455;\n",
              "      fill: #D2E3FC;\n",
              "    }\n",
              "\n",
              "    [theme=dark] .colab-df-convert:hover {\n",
              "      background-color: #434B5C;\n",
              "      box-shadow: 0px 1px 3px 1px rgba(0, 0, 0, 0.15);\n",
              "      filter: drop-shadow(0px 1px 2px rgba(0, 0, 0, 0.3));\n",
              "      fill: #FFFFFF;\n",
              "    }\n",
              "  </style>\n",
              "\n",
              "      <script>\n",
              "        const buttonEl =\n",
              "          document.querySelector('#df-2b22ba76-ca62-40b8-8478-56fcbe38c31f button.colab-df-convert');\n",
              "        buttonEl.style.display =\n",
              "          google.colab.kernel.accessAllowed ? 'block' : 'none';\n",
              "\n",
              "        async function convertToInteractive(key) {\n",
              "          const element = document.querySelector('#df-2b22ba76-ca62-40b8-8478-56fcbe38c31f');\n",
              "          const dataTable =\n",
              "            await google.colab.kernel.invokeFunction('convertToInteractive',\n",
              "                                                     [key], {});\n",
              "          if (!dataTable) return;\n",
              "\n",
              "          const docLinkHtml = 'Like what you see? Visit the ' +\n",
              "            '<a target=\"_blank\" href=https://colab.research.google.com/notebooks/data_table.ipynb>data table notebook</a>'\n",
              "            + ' to learn more about interactive tables.';\n",
              "          element.innerHTML = '';\n",
              "          dataTable['output_type'] = 'display_data';\n",
              "          await google.colab.output.renderOutput(dataTable, element);\n",
              "          const docLink = document.createElement('div');\n",
              "          docLink.innerHTML = docLinkHtml;\n",
              "          element.appendChild(docLink);\n",
              "        }\n",
              "      </script>\n",
              "    </div>\n",
              "  </div>\n",
              "  "
            ],
            "text/plain": [
              "  HomePlanet CryoSleep  Cabin  Destination   Age    VIP  RoomService  \\\n",
              "0     Europa     False  B/0/P  TRAPPIST-1e  39.0  False          0.0   \n",
              "1      Earth     False  F/0/S  TRAPPIST-1e  24.0  False        109.0   \n",
              "2     Europa     False  A/0/S  TRAPPIST-1e  58.0   True         43.0   \n",
              "3     Europa     False  A/0/S  TRAPPIST-1e  33.0  False          0.0   \n",
              "4      Earth     False  F/1/S  TRAPPIST-1e  16.0  False        303.0   \n",
              "\n",
              "   FoodCourt  ShoppingMall     Spa  VRDeck  Transported  \n",
              "0        0.0           0.0     0.0     0.0        False  \n",
              "1        9.0          25.0   549.0    44.0         True  \n",
              "2     3576.0           0.0  6715.0    49.0        False  \n",
              "3     1283.0         371.0  3329.0   193.0        False  \n",
              "4       70.0         151.0   565.0     2.0         True  "
            ]
          },
          "metadata": {},
          "execution_count": 4
        }
      ]
    },
    {
      "cell_type": "markdown",
      "source": [
        "### Basic Information"
      ],
      "metadata": {
        "id": "oqSw5kad0hfX"
      }
    },
    {
      "cell_type": "code",
      "source": [
        "data_titanic.info()"
      ],
      "metadata": {
        "colab": {
          "base_uri": "https://localhost:8080/"
        },
        "id": "xxvwQ-tr0KZt",
        "outputId": "2fbf4903-4891-4448-9524-435b56197ae2"
      },
      "execution_count": null,
      "outputs": [
        {
          "output_type": "stream",
          "name": "stdout",
          "text": [
            "<class 'pandas.core.frame.DataFrame'>\n",
            "RangeIndex: 8693 entries, 0 to 8692\n",
            "Data columns (total 12 columns):\n",
            " #   Column        Non-Null Count  Dtype  \n",
            "---  ------        --------------  -----  \n",
            " 0   HomePlanet    8492 non-null   object \n",
            " 1   CryoSleep     8476 non-null   object \n",
            " 2   Cabin         8494 non-null   object \n",
            " 3   Destination   8511 non-null   object \n",
            " 4   Age           8514 non-null   float64\n",
            " 5   VIP           8490 non-null   object \n",
            " 6   RoomService   8512 non-null   float64\n",
            " 7   FoodCourt     8510 non-null   float64\n",
            " 8   ShoppingMall  8485 non-null   float64\n",
            " 9   Spa           8510 non-null   float64\n",
            " 10  VRDeck        8505 non-null   float64\n",
            " 11  Transported   8693 non-null   bool   \n",
            "dtypes: bool(1), float64(6), object(5)\n",
            "memory usage: 755.7+ KB\n"
          ]
        }
      ]
    },
    {
      "cell_type": "code",
      "source": [
        "data_titanic.isna().sum()"
      ],
      "metadata": {
        "colab": {
          "base_uri": "https://localhost:8080/"
        },
        "id": "BOHQLUk10nra",
        "outputId": "d7538997-afec-4698-a4ff-49a1973a3789"
      },
      "execution_count": null,
      "outputs": [
        {
          "output_type": "execute_result",
          "data": {
            "text/plain": [
              "HomePlanet      201\n",
              "CryoSleep       217\n",
              "Cabin           199\n",
              "Destination     182\n",
              "Age             179\n",
              "VIP             203\n",
              "RoomService     181\n",
              "FoodCourt       183\n",
              "ShoppingMall    208\n",
              "Spa             183\n",
              "VRDeck          188\n",
              "Transported       0\n",
              "dtype: int64"
            ]
          },
          "metadata": {},
          "execution_count": 6
        }
      ]
    },
    {
      "cell_type": "markdown",
      "source": [
        "There are some null values, but I'll leave them as they are."
      ],
      "metadata": {
        "id": "2xNGLIRbddbr"
      }
    },
    {
      "cell_type": "markdown",
      "source": [
        "## Data Visualization"
      ],
      "metadata": {
        "id": "1yp-5IRA0syL"
      }
    },
    {
      "cell_type": "markdown",
      "source": [
        "### Horizontal Bar Chart"
      ],
      "metadata": {
        "id": "G3weo01v2h2E"
      }
    },
    {
      "cell_type": "code",
      "source": [
        "data_titanic['HomePlanet'].value_counts(sort=True, ascending=True).plot(kind='barh', figsize=(9,6))"
      ],
      "metadata": {
        "colab": {
          "base_uri": "https://localhost:8080/",
          "height": 391
        },
        "id": "hZhyzq_y0qTA",
        "outputId": "62bc2b6a-224c-4b34-d12f-38a3a2cbdd20"
      },
      "execution_count": null,
      "outputs": [
        {
          "output_type": "execute_result",
          "data": {
            "text/plain": [
              "<matplotlib.axes._subplots.AxesSubplot at 0x7f92e0eb5950>"
            ]
          },
          "metadata": {},
          "execution_count": 7
        },
        {
          "output_type": "display_data",
          "data": {
            "image/png": "[encoded data removed]",
            "text/plain": [
              "<Figure size 648x432 with 1 Axes>"
            ]
          },
          "metadata": {
            "needs_background": "light"
          }
        }
      ]
    },
    {
      "cell_type": "markdown",
      "source": [
        "From this bar chart, we can see that most of the passengers on the Spaceship Titanic are departed from planet Earth."
      ],
      "metadata": {
        "id": "JINgSV73dvDH"
      }
    },
    {
      "cell_type": "markdown",
      "source": [
        "### Vertical Bar Chart"
      ],
      "metadata": {
        "id": "b4S4Tnoe2kL2"
      }
    },
    {
      "cell_type": "code",
      "source": [
        "data_titanic['HomePlanet'].value_counts(sort=True, ascending=False).plot(kind='bar', figsize=(9,6))"
      ],
      "metadata": {
        "colab": {
          "base_uri": "https://localhost:8080/",
          "height": 416
        },
        "id": "-HpTzVoO2l_W",
        "outputId": "459f7bf0-56a8-4c34-ad82-cc773447a08a"
      },
      "execution_count": null,
      "outputs": [
        {
          "output_type": "execute_result",
          "data": {
            "text/plain": [
              "<matplotlib.axes._subplots.AxesSubplot at 0x7f92e0e4c610>"
            ]
          },
          "metadata": {},
          "execution_count": 8
        },
        {
          "output_type": "display_data",
          "data": {
            "image/png": "[encoded data removed]",
            "text/plain": [
              "<Figure size 648x432 with 1 Axes>"
            ]
          },
          "metadata": {
            "needs_background": "light"
          }
        }
      ]
    },
    {
      "cell_type": "markdown",
      "source": [
        "From this bar chart, we can see that most of the passengers on the Spaceship Titanic are departed from planet Earth."
      ],
      "metadata": {
        "id": "eOm1piENefBh"
      }
    },
    {
      "cell_type": "markdown",
      "source": [
        "### Histogram"
      ],
      "metadata": {
        "id": "Dc0N0_2q2OCf"
      }
    },
    {
      "cell_type": "code",
      "source": [
        "data_titanic['Age'].plot(kind='hist', bins=20, figsize=(9,6))"
      ],
      "metadata": {
        "colab": {
          "base_uri": "https://localhost:8080/",
          "height": 391
        },
        "id": "uENe_8cS00tW",
        "outputId": "1cb7b2f6-6b3c-417c-fb52-5b42e171d0df"
      },
      "execution_count": null,
      "outputs": [
        {
          "output_type": "execute_result",
          "data": {
            "text/plain": [
              "<matplotlib.axes._subplots.AxesSubplot at 0x7f92e0935890>"
            ]
          },
          "metadata": {},
          "execution_count": 9
        },
        {
          "output_type": "display_data",
          "data": {
            "image/png": "[encoded data removed]",
            "text/plain": [
              "<Figure size 648x432 with 1 Axes>"
            ]
          },
          "metadata": {
            "needs_background": "light"
          }
        }
      ]
    },
    {
      "cell_type": "markdown",
      "source": [
        "From this histogram, we can see that the `Age` attribute is slighltly right-skewed."
      ],
      "metadata": {
        "id": "omFDwLbSekV0"
      }
    },
    {
      "cell_type": "markdown",
      "source": [
        "### Density"
      ],
      "metadata": {
        "id": "AoNu8QctOXe3"
      }
    },
    {
      "cell_type": "code",
      "source": [
        "data_titanic['Age'].plot(kind='kde', figsize=(9,6))"
      ],
      "metadata": {
        "colab": {
          "base_uri": "https://localhost:8080/",
          "height": 391
        },
        "id": "gXmEyZYHOZNs",
        "outputId": "c5d384fd-920d-4a26-87e1-e77753499746"
      },
      "execution_count": null,
      "outputs": [
        {
          "output_type": "execute_result",
          "data": {
            "text/plain": [
              "<matplotlib.axes._subplots.AxesSubplot at 0x7f92e08cc850>"
            ]
          },
          "metadata": {},
          "execution_count": 10
        },
        {
          "output_type": "display_data",
          "data": {
            "image/png": "[encoded data removed]",
            "text/plain": [
              "<Figure size 648x432 with 1 Axes>"
            ]
          },
          "metadata": {
            "needs_background": "light"
          }
        }
      ]
    },
    {
      "cell_type": "markdown",
      "source": [
        "From this histogram, we can see that the `Age` attribute is slightly right-skewed."
      ],
      "metadata": {
        "id": "R54YQM_XjIsi"
      }
    },
    {
      "cell_type": "markdown",
      "source": [
        "### Pie Chart"
      ],
      "metadata": {
        "id": "aZ-8dbCe2_j4"
      }
    },
    {
      "cell_type": "code",
      "source": [
        "data_titanic['CryoSleep'].value_counts().plot(kind='pie', figsize=(9,6))"
      ],
      "metadata": {
        "colab": {
          "base_uri": "https://localhost:8080/",
          "height": 374
        },
        "id": "4t1Fq9Ym2USh",
        "outputId": "6eb6472f-0177-4d55-92f0-735f3c36c85d"
      },
      "execution_count": null,
      "outputs": [
        {
          "output_type": "execute_result",
          "data": {
            "text/plain": [
              "<matplotlib.axes._subplots.AxesSubplot at 0x7f92d0671190>"
            ]
          },
          "metadata": {},
          "execution_count": 11
        },
        {
          "output_type": "display_data",
          "data": {
            "image/png": "[encoded data removed]",
            "text/plain": [
              "<Figure size 648x432 with 1 Axes>"
            ]
          },
          "metadata": {}
        }
      ]
    },
    {
      "cell_type": "markdown",
      "source": [
        "By using a pie chart, we can see that most of the passenger didn't choose to be placed in cryosleep."
      ],
      "metadata": {
        "id": "5plqvXxMnqrq"
      }
    },
    {
      "cell_type": "markdown",
      "source": [
        "### Table Gradient"
      ],
      "metadata": {
        "id": "QSELHUVhRKnD"
      }
    },
    {
      "cell_type": "markdown",
      "source": [
        "Sometimes, tables are not a bad choice for visualizing data. For example, I use colored tables to visualize correlations between attributes."
      ],
      "metadata": {
        "id": "cNokbQfNr-_A"
      }
    },
    {
      "cell_type": "code",
      "source": [
        "data_titanic.corr().style.background_gradient(cmap='coolwarm', vmin=-1, vmax=1)"
      ],
      "metadata": {
        "colab": {
          "base_uri": "https://localhost:8080/",
          "height": 268
        },
        "id": "8Y7ng2aB_9HH",
        "outputId": "c9e61362-f018-426e-d8ea-a9948e166512"
      },
      "execution_count": null,
      "outputs": [
        {
          "output_type": "execute_result",
          "data": {
            "text/html": [
              "<style type=\"text/css\">\n",
              "#T_bddf1_row0_col0, #T_bddf1_row1_col1, #T_bddf1_row2_col2, #T_bddf1_row3_col3, #T_bddf1_row4_col4, #T_bddf1_row5_col5, #T_bddf1_row6_col6 {\n",
              "  background-color: #b40426;\n",
              "  color: #f1f1f1;\n",
              "}\n",
              "#T_bddf1_row0_col1, #T_bddf1_row1_col0 {\n",
              "  background-color: #e5d8d1;\n",
              "  color: #000000;\n",
              "}\n",
              "#T_bddf1_row0_col2, #T_bddf1_row2_col0 {\n",
              "  background-color: #ecd3c5;\n",
              "  color: #000000;\n",
              "}\n",
              "#T_bddf1_row0_col3, #T_bddf1_row3_col0 {\n",
              "  background-color: #e1dad6;\n",
              "  color: #000000;\n",
              "}\n",
              "#T_bddf1_row0_col4, #T_bddf1_row4_col0 {\n",
              "  background-color: #ebd3c6;\n",
              "  color: #000000;\n",
              "}\n",
              "#T_bddf1_row0_col5, #T_bddf1_row5_col0 {\n",
              "  background-color: #e9d5cb;\n",
              "  color: #000000;\n",
              "}\n",
              "#T_bddf1_row0_col6, #T_bddf1_row6_col0 {\n",
              "  background-color: #d3dbe7;\n",
              "  color: #000000;\n",
              "}\n",
              "#T_bddf1_row1_col2, #T_bddf1_row1_col5, #T_bddf1_row2_col1, #T_bddf1_row5_col1 {\n",
              "  background-color: #dadce0;\n",
              "  color: #000000;\n",
              "}\n",
              "#T_bddf1_row1_col3, #T_bddf1_row3_col1 {\n",
              "  background-color: #e3d9d3;\n",
              "  color: #000000;\n",
              "}\n",
              "#T_bddf1_row1_col4, #T_bddf1_row3_col4, #T_bddf1_row3_col6, #T_bddf1_row4_col1, #T_bddf1_row4_col3, #T_bddf1_row6_col3 {\n",
              "  background-color: #dedcdb;\n",
              "  color: #000000;\n",
              "}\n",
              "#T_bddf1_row1_col6, #T_bddf1_row6_col1 {\n",
              "  background-color: #b9d0f9;\n",
              "  color: #000000;\n",
              "}\n",
              "#T_bddf1_row2_col3, #T_bddf1_row3_col2 {\n",
              "  background-color: #dbdcde;\n",
              "  color: #000000;\n",
              "}\n",
              "#T_bddf1_row2_col4, #T_bddf1_row4_col2 {\n",
              "  background-color: #f3c8b2;\n",
              "  color: #000000;\n",
              "}\n",
              "#T_bddf1_row2_col5, #T_bddf1_row5_col2 {\n",
              "  background-color: #f3c7b1;\n",
              "  color: #000000;\n",
              "}\n",
              "#T_bddf1_row2_col6, #T_bddf1_row6_col2 {\n",
              "  background-color: #e2dad5;\n",
              "  color: #000000;\n",
              "}\n",
              "#T_bddf1_row3_col5, #T_bddf1_row5_col3 {\n",
              "  background-color: #dcdddd;\n",
              "  color: #000000;\n",
              "}\n",
              "#T_bddf1_row4_col5, #T_bddf1_row5_col4 {\n",
              "  background-color: #eed0c0;\n",
              "  color: #000000;\n",
              "}\n",
              "#T_bddf1_row4_col6, #T_bddf1_row6_col4 {\n",
              "  background-color: #bcd2f7;\n",
              "  color: #000000;\n",
              "}\n",
              "#T_bddf1_row5_col6, #T_bddf1_row6_col5 {\n",
              "  background-color: #bfd3f6;\n",
              "  color: #000000;\n",
              "}\n",
              "</style>\n",
              "<table id=\"T_bddf1_\" class=\"dataframe\">\n",
              "  <thead>\n",
              "    <tr>\n",
              "      <th class=\"blank level0\" >&nbsp;</th>\n",
              "      <th class=\"col_heading level0 col0\" >Age</th>\n",
              "      <th class=\"col_heading level0 col1\" >RoomService</th>\n",
              "      <th class=\"col_heading level0 col2\" >FoodCourt</th>\n",
              "      <th class=\"col_heading level0 col3\" >ShoppingMall</th>\n",
              "      <th class=\"col_heading level0 col4\" >Spa</th>\n",
              "      <th class=\"col_heading level0 col5\" >VRDeck</th>\n",
              "      <th class=\"col_heading level0 col6\" >Transported</th>\n",
              "    </tr>\n",
              "  </thead>\n",
              "  <tbody>\n",
              "    <tr>\n",
              "      <th id=\"T_bddf1_level0_row0\" class=\"row_heading level0 row0\" >Age</th>\n",
              "      <td id=\"T_bddf1_row0_col0\" class=\"data row0 col0\" >1.000000</td>\n",
              "      <td id=\"T_bddf1_row0_col1\" class=\"data row0 col1\" >0.068723</td>\n",
              "      <td id=\"T_bddf1_row0_col2\" class=\"data row0 col2\" >0.130421</td>\n",
              "      <td id=\"T_bddf1_row0_col3\" class=\"data row0 col3\" >0.033133</td>\n",
              "      <td id=\"T_bddf1_row0_col4\" class=\"data row0 col4\" >0.123970</td>\n",
              "      <td id=\"T_bddf1_row0_col5\" class=\"data row0 col5\" >0.101007</td>\n",
              "      <td id=\"T_bddf1_row0_col6\" class=\"data row0 col6\" >-0.075026</td>\n",
              "    </tr>\n",
              "    <tr>\n",
              "      <th id=\"T_bddf1_level0_row1\" class=\"row_heading level0 row1\" >RoomService</th>\n",
              "      <td id=\"T_bddf1_row1_col0\" class=\"data row1 col0\" >0.068723</td>\n",
              "      <td id=\"T_bddf1_row1_col1\" class=\"data row1 col1\" >1.000000</td>\n",
              "      <td id=\"T_bddf1_row1_col2\" class=\"data row1 col2\" >-0.015889</td>\n",
              "      <td id=\"T_bddf1_row1_col3\" class=\"data row1 col3\" >0.054480</td>\n",
              "      <td id=\"T_bddf1_row1_col4\" class=\"data row1 col4\" >0.010080</td>\n",
              "      <td id=\"T_bddf1_row1_col5\" class=\"data row1 col5\" >-0.019581</td>\n",
              "      <td id=\"T_bddf1_row1_col6\" class=\"data row1 col6\" >-0.244611</td>\n",
              "    </tr>\n",
              "    <tr>\n",
              "      <th id=\"T_bddf1_level0_row2\" class=\"row_heading level0 row2\" >FoodCourt</th>\n",
              "      <td id=\"T_bddf1_row2_col0\" class=\"data row2 col0\" >0.130421</td>\n",
              "      <td id=\"T_bddf1_row2_col1\" class=\"data row2 col1\" >-0.015889</td>\n",
              "      <td id=\"T_bddf1_row2_col2\" class=\"data row2 col2\" >1.000000</td>\n",
              "      <td id=\"T_bddf1_row2_col3\" class=\"data row2 col3\" >-0.014228</td>\n",
              "      <td id=\"T_bddf1_row2_col4\" class=\"data row2 col4\" >0.221891</td>\n",
              "      <td id=\"T_bddf1_row2_col5\" class=\"data row2 col5\" >0.227995</td>\n",
              "      <td id=\"T_bddf1_row2_col6\" class=\"data row2 col6\" >0.046566</td>\n",
              "    </tr>\n",
              "    <tr>\n",
              "      <th id=\"T_bddf1_level0_row3\" class=\"row_heading level0 row3\" >ShoppingMall</th>\n",
              "      <td id=\"T_bddf1_row3_col0\" class=\"data row3 col0\" >0.033133</td>\n",
              "      <td id=\"T_bddf1_row3_col1\" class=\"data row3 col1\" >0.054480</td>\n",
              "      <td id=\"T_bddf1_row3_col2\" class=\"data row3 col2\" >-0.014228</td>\n",
              "      <td id=\"T_bddf1_row3_col3\" class=\"data row3 col3\" >1.000000</td>\n",
              "      <td id=\"T_bddf1_row3_col4\" class=\"data row3 col4\" >0.013879</td>\n",
              "      <td id=\"T_bddf1_row3_col5\" class=\"data row3 col5\" >-0.007322</td>\n",
              "      <td id=\"T_bddf1_row3_col6\" class=\"data row3 col6\" >0.010141</td>\n",
              "    </tr>\n",
              "    <tr>\n",
              "      <th id=\"T_bddf1_level0_row4\" class=\"row_heading level0 row4\" >Spa</th>\n",
              "      <td id=\"T_bddf1_row4_col0\" class=\"data row4 col0\" >0.123970</td>\n",
              "      <td id=\"T_bddf1_row4_col1\" class=\"data row4 col1\" >0.010080</td>\n",
              "      <td id=\"T_bddf1_row4_col2\" class=\"data row4 col2\" >0.221891</td>\n",
              "      <td id=\"T_bddf1_row4_col3\" class=\"data row4 col3\" >0.013879</td>\n",
              "      <td id=\"T_bddf1_row4_col4\" class=\"data row4 col4\" >1.000000</td>\n",
              "      <td id=\"T_bddf1_row4_col5\" class=\"data row4 col5\" >0.153821</td>\n",
              "      <td id=\"T_bddf1_row4_col6\" class=\"data row4 col6\" >-0.221131</td>\n",
              "    </tr>\n",
              "    <tr>\n",
              "      <th id=\"T_bddf1_level0_row5\" class=\"row_heading level0 row5\" >VRDeck</th>\n",
              "      <td id=\"T_bddf1_row5_col0\" class=\"data row5 col0\" >0.101007</td>\n",
              "      <td id=\"T_bddf1_row5_col1\" class=\"data row5 col1\" >-0.019581</td>\n",
              "      <td id=\"T_bddf1_row5_col2\" class=\"data row5 col2\" >0.227995</td>\n",
              "      <td id=\"T_bddf1_row5_col3\" class=\"data row5 col3\" >-0.007322</td>\n",
              "      <td id=\"T_bddf1_row5_col4\" class=\"data row5 col4\" >0.153821</td>\n",
              "      <td id=\"T_bddf1_row5_col5\" class=\"data row5 col5\" >1.000000</td>\n",
              "      <td id=\"T_bddf1_row5_col6\" class=\"data row5 col6\" >-0.207075</td>\n",
              "    </tr>\n",
              "    <tr>\n",
              "      <th id=\"T_bddf1_level0_row6\" class=\"row_heading level0 row6\" >Transported</th>\n",
              "      <td id=\"T_bddf1_row6_col0\" class=\"data row6 col0\" >-0.075026</td>\n",
              "      <td id=\"T_bddf1_row6_col1\" class=\"data row6 col1\" >-0.244611</td>\n",
              "      <td id=\"T_bddf1_row6_col2\" class=\"data row6 col2\" >0.046566</td>\n",
              "      <td id=\"T_bddf1_row6_col3\" class=\"data row6 col3\" >0.010141</td>\n",
              "      <td id=\"T_bddf1_row6_col4\" class=\"data row6 col4\" >-0.221131</td>\n",
              "      <td id=\"T_bddf1_row6_col5\" class=\"data row6 col5\" >-0.207075</td>\n",
              "      <td id=\"T_bddf1_row6_col6\" class=\"data row6 col6\" >1.000000</td>\n",
              "    </tr>\n",
              "  </tbody>\n",
              "</table>\n"
            ],
            "text/plain": [
              "<pandas.io.formats.style.Styler at 0x7f92d0671510>"
            ]
          },
          "metadata": {},
          "execution_count": 12
        }
      ]
    },
    {
      "cell_type": "markdown",
      "source": [
        "From this table, we can see that cells with warm colors (reddish) have a positive correlation. On the other hand, cold-colored (bluish) cells have a negative correlation. The darker the color, the higher the correlation."
      ],
      "metadata": {
        "id": "G6zxq9DyrJ9k"
      }
    },
    {
      "cell_type": "markdown",
      "source": [
        "### Table Bar"
      ],
      "metadata": {
        "id": "DWnOM_hTRM7U"
      }
    },
    {
      "cell_type": "code",
      "source": [
        "pd.pivot_table(data=data_titanic,\n",
        "               values=['Age'],\n",
        "               index=['HomePlanet'],\n",
        "               aggfunc='mean').style.bar(vmin=0)"
      ],
      "metadata": {
        "colab": {
          "base_uri": "https://localhost:8080/",
          "height": 174
        },
        "id": "b0PlGO_QQ1N6",
        "outputId": "48fcd47c-23c3-470b-c3d8-c5f8bf85c133"
      },
      "execution_count": null,
      "outputs": [
        {
          "output_type": "execute_result",
          "data": {
            "text/html": [
              "<style type=\"text/css\">\n",
              "#T_2a836_row0_col0 {\n",
              "  width: 10em;\n",
              "  height: 80%;\n",
              "  background: linear-gradient(90deg,#d65f5f 75.7%, transparent 75.7%);\n",
              "}\n",
              "#T_2a836_row1_col0 {\n",
              "  width: 10em;\n",
              "  height: 80%;\n",
              "  background: linear-gradient(90deg,#d65f5f 100.0%, transparent 100.0%);\n",
              "}\n",
              "#T_2a836_row2_col0 {\n",
              "  width: 10em;\n",
              "  height: 80%;\n",
              "  background: linear-gradient(90deg,#d65f5f 85.1%, transparent 85.1%);\n",
              "}\n",
              "</style>\n",
              "<table id=\"T_2a836_\" class=\"dataframe\">\n",
              "  <thead>\n",
              "    <tr>\n",
              "      <th class=\"blank level0\" >&nbsp;</th>\n",
              "      <th class=\"col_heading level0 col0\" >Age</th>\n",
              "    </tr>\n",
              "    <tr>\n",
              "      <th class=\"index_name level0\" >HomePlanet</th>\n",
              "      <th class=\"blank col0\" >&nbsp;</th>\n",
              "    </tr>\n",
              "  </thead>\n",
              "  <tbody>\n",
              "    <tr>\n",
              "      <th id=\"T_2a836_level0_row0\" class=\"row_heading level0 row0\" >Earth</th>\n",
              "      <td id=\"T_2a836_row0_col0\" class=\"data row0 col0\" >26.068232</td>\n",
              "    </tr>\n",
              "    <tr>\n",
              "      <th id=\"T_2a836_level0_row1\" class=\"row_heading level0 row1\" >Europa</th>\n",
              "      <td id=\"T_2a836_row1_col0\" class=\"data row1 col0\" >34.419664</td>\n",
              "    </tr>\n",
              "    <tr>\n",
              "      <th id=\"T_2a836_level0_row2\" class=\"row_heading level0 row2\" >Mars</th>\n",
              "      <td id=\"T_2a836_row2_col0\" class=\"data row2 col0\" >29.297203</td>\n",
              "    </tr>\n",
              "  </tbody>\n",
              "</table>\n"
            ],
            "text/plain": [
              "<pandas.io.formats.style.Styler at 0x7f92d027aa90>"
            ]
          },
          "metadata": {},
          "execution_count": 13
        }
      ]
    },
    {
      "cell_type": "markdown",
      "source": [
        "A pivot table with colored bars can help us interpret the value of each cell. Even if the rows are not sorted, we can clearly understand that passengers from Planet Europa have the highest average age.\n",
        "<br><br>\n",
        "But, sorting the rows is way better."
      ],
      "metadata": {
        "id": "s4cNlyQXtDNT"
      }
    },
    {
      "cell_type": "code",
      "source": [
        "pd.pivot_table(data=data_titanic,\n",
        "               values=['Age'],\n",
        "               index=['HomePlanet'],\n",
        "               aggfunc='mean').sort_values(by='Age', ascending=False).style.bar(vmin=0)"
      ],
      "metadata": {
        "colab": {
          "base_uri": "https://localhost:8080/",
          "height": 174
        },
        "id": "rkIWQ8OevWHj",
        "outputId": "01784f15-71d8-49db-f272-e2e117acc10c"
      },
      "execution_count": null,
      "outputs": [
        {
          "output_type": "execute_result",
          "data": {
            "text/html": [
              "<style type=\"text/css\">\n",
              "#T_d1481_row0_col0 {\n",
              "  width: 10em;\n",
              "  height: 80%;\n",
              "  background: linear-gradient(90deg,#d65f5f 100.0%, transparent 100.0%);\n",
              "}\n",
              "#T_d1481_row1_col0 {\n",
              "  width: 10em;\n",
              "  height: 80%;\n",
              "  background: linear-gradient(90deg,#d65f5f 85.1%, transparent 85.1%);\n",
              "}\n",
              "#T_d1481_row2_col0 {\n",
              "  width: 10em;\n",
              "  height: 80%;\n",
              "  background: linear-gradient(90deg,#d65f5f 75.7%, transparent 75.7%);\n",
              "}\n",
              "</style>\n",
              "<table id=\"T_d1481_\" class=\"dataframe\">\n",
              "  <thead>\n",
              "    <tr>\n",
              "      <th class=\"blank level0\" >&nbsp;</th>\n",
              "      <th class=\"col_heading level0 col0\" >Age</th>\n",
              "    </tr>\n",
              "    <tr>\n",
              "      <th class=\"index_name level0\" >HomePlanet</th>\n",
              "      <th class=\"blank col0\" >&nbsp;</th>\n",
              "    </tr>\n",
              "  </thead>\n",
              "  <tbody>\n",
              "    <tr>\n",
              "      <th id=\"T_d1481_level0_row0\" class=\"row_heading level0 row0\" >Europa</th>\n",
              "      <td id=\"T_d1481_row0_col0\" class=\"data row0 col0\" >34.419664</td>\n",
              "    </tr>\n",
              "    <tr>\n",
              "      <th id=\"T_d1481_level0_row1\" class=\"row_heading level0 row1\" >Mars</th>\n",
              "      <td id=\"T_d1481_row1_col0\" class=\"data row1 col0\" >29.297203</td>\n",
              "    </tr>\n",
              "    <tr>\n",
              "      <th id=\"T_d1481_level0_row2\" class=\"row_heading level0 row2\" >Earth</th>\n",
              "      <td id=\"T_d1481_row2_col0\" class=\"data row2 col0\" >26.068232</td>\n",
              "    </tr>\n",
              "  </tbody>\n",
              "</table>\n"
            ],
            "text/plain": [
              "<pandas.io.formats.style.Styler at 0x7f92d028ff90>"
            ]
          },
          "metadata": {},
          "execution_count": 14
        }
      ]
    },
    {
      "cell_type": "markdown",
      "source": [
        "### Scatter Plot"
      ],
      "metadata": {
        "id": "MNoJZJFzL-w0"
      }
    },
    {
      "cell_type": "code",
      "source": [
        "data_titanic.plot(kind='scatter', x='FoodCourt', y='VRDeck', figsize=(9,6))"
      ],
      "metadata": {
        "colab": {
          "base_uri": "https://localhost:8080/",
          "height": 405
        },
        "id": "vZg44u5jMDWs",
        "outputId": "9324ace4-d562-4bc0-db29-363d3e9f1442"
      },
      "execution_count": null,
      "outputs": [
        {
          "output_type": "execute_result",
          "data": {
            "text/plain": [
              "<matplotlib.axes._subplots.AxesSubplot at 0x7f92e0f2f210>"
            ]
          },
          "metadata": {},
          "execution_count": 15
        },
        {
          "output_type": "display_data",
          "data": {
            "image/png": "[encoded data removed]",
            "text/plain": [
              "<Figure size 648x432 with 1 Axes>"
            ]
          },
          "metadata": {
            "needs_background": "light"
          }
        }
      ]
    },
    {
      "cell_type": "markdown",
      "source": [
        "Although `FoodCourt` and `VRDeck` attributes have the highest correlation, we still can't see a clear pattern."
      ],
      "metadata": {
        "id": "zsALODRwveQ4"
      }
    },
    {
      "cell_type": "markdown",
      "source": [
        "# Power Consumption in India"
      ],
      "metadata": {
        "id": "vJTvLNqMKOBn"
      }
    },
    {
      "cell_type": "markdown",
      "source": [
        "## Reading Dataset"
      ],
      "metadata": {
        "id": "QDpd5rPgKRmY"
      }
    },
    {
      "cell_type": "code",
      "source": [
        "data_power = pd.read_csv('/content/drive/MyDrive/Digital Skola/Homework/dataset/kaggle_power_consumption_india.csv')\n",
        "data_power.head()"
      ],
      "metadata": {
        "colab": {
          "base_uri": "https://localhost:8080/",
          "height": 403
        },
        "id": "3q1i9cxwFKOA",
        "outputId": "0b96f51b-d501-46e2-b8dd-27fa8722e9e9"
      },
      "execution_count": null,
      "outputs": [
        {
          "output_type": "execute_result",
          "data": {
            "text/html": [
              "\n",
              "  <div id=\"df-27b89214-9f25-4188-af00-167cdfe06976\">\n",
              "    <div class=\"colab-df-container\">\n",
              "      <div>\n",
              "<style scoped>\n",
              "    .dataframe tbody tr th:only-of-type {\n",
              "        vertical-align: middle;\n",
              "    }\n",
              "\n",
              "    .dataframe tbody tr th {\n",
              "        vertical-align: top;\n",
              "    }\n",
              "\n",
              "    .dataframe thead th {\n",
              "        text-align: right;\n",
              "    }\n",
              "</style>\n",
              "<table border=\"1\" class=\"dataframe\">\n",
              "  <thead>\n",
              "    <tr style=\"text-align: right;\">\n",
              "      <th></th>\n",
              "      <th>Unnamed: 0</th>\n",
              "      <th>Punjab</th>\n",
              "      <th>Haryana</th>\n",
              "      <th>Rajasthan</th>\n",
              "      <th>Delhi</th>\n",
              "      <th>UP</th>\n",
              "      <th>Uttarakhand</th>\n",
              "      <th>HP</th>\n",
              "      <th>J&amp;K</th>\n",
              "      <th>Chandigarh</th>\n",
              "      <th>...</th>\n",
              "      <th>Odisha</th>\n",
              "      <th>West Bengal</th>\n",
              "      <th>Sikkim</th>\n",
              "      <th>Arunachal Pradesh</th>\n",
              "      <th>Assam</th>\n",
              "      <th>Manipur</th>\n",
              "      <th>Meghalaya</th>\n",
              "      <th>Mizoram</th>\n",
              "      <th>Nagaland</th>\n",
              "      <th>Tripura</th>\n",
              "    </tr>\n",
              "  </thead>\n",
              "  <tbody>\n",
              "    <tr>\n",
              "      <th>0</th>\n",
              "      <td>02/01/2019 00:00:00</td>\n",
              "      <td>119.9</td>\n",
              "      <td>130.3</td>\n",
              "      <td>234.1</td>\n",
              "      <td>85.8</td>\n",
              "      <td>313.9</td>\n",
              "      <td>40.7</td>\n",
              "      <td>30.0</td>\n",
              "      <td>52.5</td>\n",
              "      <td>5.0</td>\n",
              "      <td>...</td>\n",
              "      <td>70.2</td>\n",
              "      <td>108.2</td>\n",
              "      <td>2.0</td>\n",
              "      <td>2.1</td>\n",
              "      <td>21.7</td>\n",
              "      <td>2.7</td>\n",
              "      <td>6.1</td>\n",
              "      <td>1.9</td>\n",
              "      <td>2.2</td>\n",
              "      <td>3.4</td>\n",
              "    </tr>\n",
              "    <tr>\n",
              "      <th>1</th>\n",
              "      <td>03/01/2019 00:00:00</td>\n",
              "      <td>121.9</td>\n",
              "      <td>133.5</td>\n",
              "      <td>240.2</td>\n",
              "      <td>85.5</td>\n",
              "      <td>311.8</td>\n",
              "      <td>39.3</td>\n",
              "      <td>30.1</td>\n",
              "      <td>54.1</td>\n",
              "      <td>4.9</td>\n",
              "      <td>...</td>\n",
              "      <td>67.9</td>\n",
              "      <td>110.2</td>\n",
              "      <td>1.9</td>\n",
              "      <td>2.2</td>\n",
              "      <td>23.4</td>\n",
              "      <td>2.4</td>\n",
              "      <td>6.5</td>\n",
              "      <td>1.8</td>\n",
              "      <td>2.2</td>\n",
              "      <td>3.6</td>\n",
              "    </tr>\n",
              "    <tr>\n",
              "      <th>2</th>\n",
              "      <td>04/01/2019 00:00:00</td>\n",
              "      <td>118.8</td>\n",
              "      <td>128.2</td>\n",
              "      <td>239.8</td>\n",
              "      <td>83.5</td>\n",
              "      <td>320.7</td>\n",
              "      <td>38.1</td>\n",
              "      <td>30.1</td>\n",
              "      <td>53.2</td>\n",
              "      <td>4.8</td>\n",
              "      <td>...</td>\n",
              "      <td>66.3</td>\n",
              "      <td>106.8</td>\n",
              "      <td>1.7</td>\n",
              "      <td>2.2</td>\n",
              "      <td>21.7</td>\n",
              "      <td>2.4</td>\n",
              "      <td>6.3</td>\n",
              "      <td>1.7</td>\n",
              "      <td>2.2</td>\n",
              "      <td>3.5</td>\n",
              "    </tr>\n",
              "    <tr>\n",
              "      <th>3</th>\n",
              "      <td>05/01/2019 00:00:00</td>\n",
              "      <td>121.0</td>\n",
              "      <td>127.5</td>\n",
              "      <td>239.1</td>\n",
              "      <td>79.2</td>\n",
              "      <td>299.0</td>\n",
              "      <td>39.2</td>\n",
              "      <td>30.2</td>\n",
              "      <td>51.5</td>\n",
              "      <td>4.3</td>\n",
              "      <td>...</td>\n",
              "      <td>65.8</td>\n",
              "      <td>107.0</td>\n",
              "      <td>2.0</td>\n",
              "      <td>2.2</td>\n",
              "      <td>22.5</td>\n",
              "      <td>2.7</td>\n",
              "      <td>5.7</td>\n",
              "      <td>1.8</td>\n",
              "      <td>2.3</td>\n",
              "      <td>3.5</td>\n",
              "    </tr>\n",
              "    <tr>\n",
              "      <th>4</th>\n",
              "      <td>06/01/2019 00:00:00</td>\n",
              "      <td>121.4</td>\n",
              "      <td>132.6</td>\n",
              "      <td>240.4</td>\n",
              "      <td>76.6</td>\n",
              "      <td>286.8</td>\n",
              "      <td>39.2</td>\n",
              "      <td>31.0</td>\n",
              "      <td>53.2</td>\n",
              "      <td>4.3</td>\n",
              "      <td>...</td>\n",
              "      <td>62.9</td>\n",
              "      <td>106.4</td>\n",
              "      <td>2.0</td>\n",
              "      <td>2.2</td>\n",
              "      <td>21.7</td>\n",
              "      <td>2.7</td>\n",
              "      <td>6.2</td>\n",
              "      <td>1.9</td>\n",
              "      <td>2.3</td>\n",
              "      <td>3.3</td>\n",
              "    </tr>\n",
              "  </tbody>\n",
              "</table>\n",
              "<p>5 rows × 34 columns</p>\n",
              "</div>\n",
              "      <button class=\"colab-df-convert\" onclick=\"convertToInteractive('df-27b89214-9f25-4188-af00-167cdfe06976')\"\n",
              "              title=\"Convert this dataframe to an interactive table.\"\n",
              "              style=\"display:none;\">\n",
              "        \n",
              "  <svg xmlns=\"http://www.w3.org/2000/svg\" height=\"24px\"viewBox=\"0 0 24 24\"\n",
              "       width=\"24px\">\n",
              "    <path d=\"M0 0h24v24H0V0z\" fill=\"none\"/>\n",
              "    <path d=\"M18.56 5.44l.94 2.06.94-2.06 2.06-.94-2.06-.94-.94-2.06-.94 2.06-2.06.94zm-11 1L8.5 8.5l.94-2.06 2.06-.94-2.06-.94L8.5 2.5l-.94 2.06-2.06.94zm10 10l.94 2.06.94-2.06 2.06-.94-2.06-.94-.94-2.06-.94 2.06-2.06.94z\"/><path d=\"M17.41 7.96l-1.37-1.37c-.4-.4-.92-.59-1.43-.59-.52 0-1.04.2-1.43.59L10.3 9.45l-7.72 7.72c-.78.78-.78 2.05 0 2.83L4 21.41c.39.39.9.59 1.41.59.51 0 1.02-.2 1.41-.59l7.78-7.78 2.81-2.81c.8-.78.8-2.07 0-2.86zM5.41 20L4 18.59l7.72-7.72 1.47 1.35L5.41 20z\"/>\n",
              "  </svg>\n",
              "      </button>\n",
              "      \n",
              "  <style>\n",
              "    .colab-df-container {\n",
              "      display:flex;\n",
              "      flex-wrap:wrap;\n",
              "      gap: 12px;\n",
              "    }\n",
              "\n",
              "    .colab-df-convert {\n",
              "      background-color: #E8F0FE;\n",
              "      border: none;\n",
              "      border-radius: 50%;\n",
              "      cursor: pointer;\n",
              "      display: none;\n",
              "      fill: #1967D2;\n",
              "      height: 32px;\n",
              "      padding: 0 0 0 0;\n",
              "      width: 32px;\n",
              "    }\n",
              "\n",
              "    .colab-df-convert:hover {\n",
              "      background-color: #E2EBFA;\n",
              "      box-shadow: 0px 1px 2px rgba(60, 64, 67, 0.3), 0px 1px 3px 1px rgba(60, 64, 67, 0.15);\n",
              "      fill: #174EA6;\n",
              "    }\n",
              "\n",
              "    [theme=dark] .colab-df-convert {\n",
              "      background-color: #3B4455;\n",
              "      fill: #D2E3FC;\n",
              "    }\n",
              "\n",
              "    [theme=dark] .colab-df-convert:hover {\n",
              "      background-color: #434B5C;\n",
              "      box-shadow: 0px 1px 3px 1px rgba(0, 0, 0, 0.15);\n",
              "      filter: drop-shadow(0px 1px 2px rgba(0, 0, 0, 0.3));\n",
              "      fill: #FFFFFF;\n",
              "    }\n",
              "  </style>\n",
              "\n",
              "      <script>\n",
              "        const buttonEl =\n",
              "          document.querySelector('#df-27b89214-9f25-4188-af00-167cdfe06976 button.colab-df-convert');\n",
              "        buttonEl.style.display =\n",
              "          google.colab.kernel.accessAllowed ? 'block' : 'none';\n",
              "\n",
              "        async function convertToInteractive(key) {\n",
              "          const element = document.querySelector('#df-27b89214-9f25-4188-af00-167cdfe06976');\n",
              "          const dataTable =\n",
              "            await google.colab.kernel.invokeFunction('convertToInteractive',\n",
              "                                                     [key], {});\n",
              "          if (!dataTable) return;\n",
              "\n",
              "          const docLinkHtml = 'Like what you see? Visit the ' +\n",
              "            '<a target=\"_blank\" href=https://colab.research.google.com/notebooks/data_table.ipynb>data table notebook</a>'\n",
              "            + ' to learn more about interactive tables.';\n",
              "          element.innerHTML = '';\n",
              "          dataTable['output_type'] = 'display_data';\n",
              "          await google.colab.output.renderOutput(dataTable, element);\n",
              "          const docLink = document.createElement('div');\n",
              "          docLink.innerHTML = docLinkHtml;\n",
              "          element.appendChild(docLink);\n",
              "        }\n",
              "      </script>\n",
              "    </div>\n",
              "  </div>\n",
              "  "
            ],
            "text/plain": [
              "            Unnamed: 0  Punjab  Haryana  Rajasthan  Delhi     UP  Uttarakhand  \\\n",
              "0  02/01/2019 00:00:00   119.9    130.3      234.1   85.8  313.9         40.7   \n",
              "1  03/01/2019 00:00:00   121.9    133.5      240.2   85.5  311.8         39.3   \n",
              "2  04/01/2019 00:00:00   118.8    128.2      239.8   83.5  320.7         38.1   \n",
              "3  05/01/2019 00:00:00   121.0    127.5      239.1   79.2  299.0         39.2   \n",
              "4  06/01/2019 00:00:00   121.4    132.6      240.4   76.6  286.8         39.2   \n",
              "\n",
              "     HP   J&K  Chandigarh  ...  Odisha  West Bengal  Sikkim  \\\n",
              "0  30.0  52.5         5.0  ...    70.2        108.2     2.0   \n",
              "1  30.1  54.1         4.9  ...    67.9        110.2     1.9   \n",
              "2  30.1  53.2         4.8  ...    66.3        106.8     1.7   \n",
              "3  30.2  51.5         4.3  ...    65.8        107.0     2.0   \n",
              "4  31.0  53.2         4.3  ...    62.9        106.4     2.0   \n",
              "\n",
              "   Arunachal Pradesh  Assam  Manipur  Meghalaya  Mizoram  Nagaland  Tripura  \n",
              "0                2.1   21.7      2.7        6.1      1.9       2.2      3.4  \n",
              "1                2.2   23.4      2.4        6.5      1.8       2.2      3.6  \n",
              "2                2.2   21.7      2.4        6.3      1.7       2.2      3.5  \n",
              "3                2.2   22.5      2.7        5.7      1.8       2.3      3.5  \n",
              "4                2.2   21.7      2.7        6.2      1.9       2.3      3.3  \n",
              "\n",
              "[5 rows x 34 columns]"
            ]
          },
          "metadata": {},
          "execution_count": 16
        }
      ]
    },
    {
      "cell_type": "markdown",
      "source": [
        "### Renaming Column"
      ],
      "metadata": {
        "id": "OFh4OmqGKvEC"
      }
    },
    {
      "cell_type": "code",
      "source": [
        "data_power.rename(columns={'Unnamed: 0':'date'}, inplace=True)\n",
        "data_power.head()"
      ],
      "metadata": {
        "colab": {
          "base_uri": "https://localhost:8080/",
          "height": 403
        },
        "id": "2v4hkropKxvz",
        "outputId": "5eacf218-9bf8-4dc7-dc57-c65ccaa84e5e"
      },
      "execution_count": null,
      "outputs": [
        {
          "output_type": "execute_result",
          "data": {
            "text/html": [
              "\n",
              "  <div id=\"df-abcba324-e1c4-4908-9f34-da6a28ad8a68\">\n",
              "    <div class=\"colab-df-container\">\n",
              "      <div>\n",
              "<style scoped>\n",
              "    .dataframe tbody tr th:only-of-type {\n",
              "        vertical-align: middle;\n",
              "    }\n",
              "\n",
              "    .dataframe tbody tr th {\n",
              "        vertical-align: top;\n",
              "    }\n",
              "\n",
              "    .dataframe thead th {\n",
              "        text-align: right;\n",
              "    }\n",
              "</style>\n",
              "<table border=\"1\" class=\"dataframe\">\n",
              "  <thead>\n",
              "    <tr style=\"text-align: right;\">\n",
              "      <th></th>\n",
              "      <th>date</th>\n",
              "      <th>Punjab</th>\n",
              "      <th>Haryana</th>\n",
              "      <th>Rajasthan</th>\n",
              "      <th>Delhi</th>\n",
              "      <th>UP</th>\n",
              "      <th>Uttarakhand</th>\n",
              "      <th>HP</th>\n",
              "      <th>J&amp;K</th>\n",
              "      <th>Chandigarh</th>\n",
              "      <th>...</th>\n",
              "      <th>Odisha</th>\n",
              "      <th>West Bengal</th>\n",
              "      <th>Sikkim</th>\n",
              "      <th>Arunachal Pradesh</th>\n",
              "      <th>Assam</th>\n",
              "      <th>Manipur</th>\n",
              "      <th>Meghalaya</th>\n",
              "      <th>Mizoram</th>\n",
              "      <th>Nagaland</th>\n",
              "      <th>Tripura</th>\n",
              "    </tr>\n",
              "  </thead>\n",
              "  <tbody>\n",
              "    <tr>\n",
              "      <th>0</th>\n",
              "      <td>02/01/2019 00:00:00</td>\n",
              "      <td>119.9</td>\n",
              "      <td>130.3</td>\n",
              "      <td>234.1</td>\n",
              "      <td>85.8</td>\n",
              "      <td>313.9</td>\n",
              "      <td>40.7</td>\n",
              "      <td>30.0</td>\n",
              "      <td>52.5</td>\n",
              "      <td>5.0</td>\n",
              "      <td>...</td>\n",
              "      <td>70.2</td>\n",
              "      <td>108.2</td>\n",
              "      <td>2.0</td>\n",
              "      <td>2.1</td>\n",
              "      <td>21.7</td>\n",
              "      <td>2.7</td>\n",
              "      <td>6.1</td>\n",
              "      <td>1.9</td>\n",
              "      <td>2.2</td>\n",
              "      <td>3.4</td>\n",
              "    </tr>\n",
              "    <tr>\n",
              "      <th>1</th>\n",
              "      <td>03/01/2019 00:00:00</td>\n",
              "      <td>121.9</td>\n",
              "      <td>133.5</td>\n",
              "      <td>240.2</td>\n",
              "      <td>85.5</td>\n",
              "      <td>311.8</td>\n",
              "      <td>39.3</td>\n",
              "      <td>30.1</td>\n",
              "      <td>54.1</td>\n",
              "      <td>4.9</td>\n",
              "      <td>...</td>\n",
              "      <td>67.9</td>\n",
              "      <td>110.2</td>\n",
              "      <td>1.9</td>\n",
              "      <td>2.2</td>\n",
              "      <td>23.4</td>\n",
              "      <td>2.4</td>\n",
              "      <td>6.5</td>\n",
              "      <td>1.8</td>\n",
              "      <td>2.2</td>\n",
              "      <td>3.6</td>\n",
              "    </tr>\n",
              "    <tr>\n",
              "      <th>2</th>\n",
              "      <td>04/01/2019 00:00:00</td>\n",
              "      <td>118.8</td>\n",
              "      <td>128.2</td>\n",
              "      <td>239.8</td>\n",
              "      <td>83.5</td>\n",
              "      <td>320.7</td>\n",
              "      <td>38.1</td>\n",
              "      <td>30.1</td>\n",
              "      <td>53.2</td>\n",
              "      <td>4.8</td>\n",
              "      <td>...</td>\n",
              "      <td>66.3</td>\n",
              "      <td>106.8</td>\n",
              "      <td>1.7</td>\n",
              "      <td>2.2</td>\n",
              "      <td>21.7</td>\n",
              "      <td>2.4</td>\n",
              "      <td>6.3</td>\n",
              "      <td>1.7</td>\n",
              "      <td>2.2</td>\n",
              "      <td>3.5</td>\n",
              "    </tr>\n",
              "    <tr>\n",
              "      <th>3</th>\n",
              "      <td>05/01/2019 00:00:00</td>\n",
              "      <td>121.0</td>\n",
              "      <td>127.5</td>\n",
              "      <td>239.1</td>\n",
              "      <td>79.2</td>\n",
              "      <td>299.0</td>\n",
              "      <td>39.2</td>\n",
              "      <td>30.2</td>\n",
              "      <td>51.5</td>\n",
              "      <td>4.3</td>\n",
              "      <td>...</td>\n",
              "      <td>65.8</td>\n",
              "      <td>107.0</td>\n",
              "      <td>2.0</td>\n",
              "      <td>2.2</td>\n",
              "      <td>22.5</td>\n",
              "      <td>2.7</td>\n",
              "      <td>5.7</td>\n",
              "      <td>1.8</td>\n",
              "      <td>2.3</td>\n",
              "      <td>3.5</td>\n",
              "    </tr>\n",
              "    <tr>\n",
              "      <th>4</th>\n",
              "      <td>06/01/2019 00:00:00</td>\n",
              "      <td>121.4</td>\n",
              "      <td>132.6</td>\n",
              "      <td>240.4</td>\n",
              "      <td>76.6</td>\n",
              "      <td>286.8</td>\n",
              "      <td>39.2</td>\n",
              "      <td>31.0</td>\n",
              "      <td>53.2</td>\n",
              "      <td>4.3</td>\n",
              "      <td>...</td>\n",
              "      <td>62.9</td>\n",
              "      <td>106.4</td>\n",
              "      <td>2.0</td>\n",
              "      <td>2.2</td>\n",
              "      <td>21.7</td>\n",
              "      <td>2.7</td>\n",
              "      <td>6.2</td>\n",
              "      <td>1.9</td>\n",
              "      <td>2.3</td>\n",
              "      <td>3.3</td>\n",
              "    </tr>\n",
              "  </tbody>\n",
              "</table>\n",
              "<p>5 rows × 34 columns</p>\n",
              "</div>\n",
              "      <button class=\"colab-df-convert\" onclick=\"convertToInteractive('df-abcba324-e1c4-4908-9f34-da6a28ad8a68')\"\n",
              "              title=\"Convert this dataframe to an interactive table.\"\n",
              "              style=\"display:none;\">\n",
              "        \n",
              "  <svg xmlns=\"http://www.w3.org/2000/svg\" height=\"24px\"viewBox=\"0 0 24 24\"\n",
              "       width=\"24px\">\n",
              "    <path d=\"M0 0h24v24H0V0z\" fill=\"none\"/>\n",
              "    <path d=\"M18.56 5.44l.94 2.06.94-2.06 2.06-.94-2.06-.94-.94-2.06-.94 2.06-2.06.94zm-11 1L8.5 8.5l.94-2.06 2.06-.94-2.06-.94L8.5 2.5l-.94 2.06-2.06.94zm10 10l.94 2.06.94-2.06 2.06-.94-2.06-.94-.94-2.06-.94 2.06-2.06.94z\"/><path d=\"M17.41 7.96l-1.37-1.37c-.4-.4-.92-.59-1.43-.59-.52 0-1.04.2-1.43.59L10.3 9.45l-7.72 7.72c-.78.78-.78 2.05 0 2.83L4 21.41c.39.39.9.59 1.41.59.51 0 1.02-.2 1.41-.59l7.78-7.78 2.81-2.81c.8-.78.8-2.07 0-2.86zM5.41 20L4 18.59l7.72-7.72 1.47 1.35L5.41 20z\"/>\n",
              "  </svg>\n",
              "      </button>\n",
              "      \n",
              "  <style>\n",
              "    .colab-df-container {\n",
              "      display:flex;\n",
              "      flex-wrap:wrap;\n",
              "      gap: 12px;\n",
              "    }\n",
              "\n",
              "    .colab-df-convert {\n",
              "      background-color: #E8F0FE;\n",
              "      border: none;\n",
              "      border-radius: 50%;\n",
              "      cursor: pointer;\n",
              "      display: none;\n",
              "      fill: #1967D2;\n",
              "      height: 32px;\n",
              "      padding: 0 0 0 0;\n",
              "      width: 32px;\n",
              "    }\n",
              "\n",
              "    .colab-df-convert:hover {\n",
              "      background-color: #E2EBFA;\n",
              "      box-shadow: 0px 1px 2px rgba(60, 64, 67, 0.3), 0px 1px 3px 1px rgba(60, 64, 67, 0.15);\n",
              "      fill: #174EA6;\n",
              "    }\n",
              "\n",
              "    [theme=dark] .colab-df-convert {\n",
              "      background-color: #3B4455;\n",
              "      fill: #D2E3FC;\n",
              "    }\n",
              "\n",
              "    [theme=dark] .colab-df-convert:hover {\n",
              "      background-color: #434B5C;\n",
              "      box-shadow: 0px 1px 3px 1px rgba(0, 0, 0, 0.15);\n",
              "      filter: drop-shadow(0px 1px 2px rgba(0, 0, 0, 0.3));\n",
              "      fill: #FFFFFF;\n",
              "    }\n",
              "  </style>\n",
              "\n",
              "      <script>\n",
              "        const buttonEl =\n",
              "          document.querySelector('#df-abcba324-e1c4-4908-9f34-da6a28ad8a68 button.colab-df-convert');\n",
              "        buttonEl.style.display =\n",
              "          google.colab.kernel.accessAllowed ? 'block' : 'none';\n",
              "\n",
              "        async function convertToInteractive(key) {\n",
              "          const element = document.querySelector('#df-abcba324-e1c4-4908-9f34-da6a28ad8a68');\n",
              "          const dataTable =\n",
              "            await google.colab.kernel.invokeFunction('convertToInteractive',\n",
              "                                                     [key], {});\n",
              "          if (!dataTable) return;\n",
              "\n",
              "          const docLinkHtml = 'Like what you see? Visit the ' +\n",
              "            '<a target=\"_blank\" href=https://colab.research.google.com/notebooks/data_table.ipynb>data table notebook</a>'\n",
              "            + ' to learn more about interactive tables.';\n",
              "          element.innerHTML = '';\n",
              "          dataTable['output_type'] = 'display_data';\n",
              "          await google.colab.output.renderOutput(dataTable, element);\n",
              "          const docLink = document.createElement('div');\n",
              "          docLink.innerHTML = docLinkHtml;\n",
              "          element.appendChild(docLink);\n",
              "        }\n",
              "      </script>\n",
              "    </div>\n",
              "  </div>\n",
              "  "
            ],
            "text/plain": [
              "                  date  Punjab  Haryana  Rajasthan  Delhi     UP  Uttarakhand  \\\n",
              "0  02/01/2019 00:00:00   119.9    130.3      234.1   85.8  313.9         40.7   \n",
              "1  03/01/2019 00:00:00   121.9    133.5      240.2   85.5  311.8         39.3   \n",
              "2  04/01/2019 00:00:00   118.8    128.2      239.8   83.5  320.7         38.1   \n",
              "3  05/01/2019 00:00:00   121.0    127.5      239.1   79.2  299.0         39.2   \n",
              "4  06/01/2019 00:00:00   121.4    132.6      240.4   76.6  286.8         39.2   \n",
              "\n",
              "     HP   J&K  Chandigarh  ...  Odisha  West Bengal  Sikkim  \\\n",
              "0  30.0  52.5         5.0  ...    70.2        108.2     2.0   \n",
              "1  30.1  54.1         4.9  ...    67.9        110.2     1.9   \n",
              "2  30.1  53.2         4.8  ...    66.3        106.8     1.7   \n",
              "3  30.2  51.5         4.3  ...    65.8        107.0     2.0   \n",
              "4  31.0  53.2         4.3  ...    62.9        106.4     2.0   \n",
              "\n",
              "   Arunachal Pradesh  Assam  Manipur  Meghalaya  Mizoram  Nagaland  Tripura  \n",
              "0                2.1   21.7      2.7        6.1      1.9       2.2      3.4  \n",
              "1                2.2   23.4      2.4        6.5      1.8       2.2      3.6  \n",
              "2                2.2   21.7      2.4        6.3      1.7       2.2      3.5  \n",
              "3                2.2   22.5      2.7        5.7      1.8       2.3      3.5  \n",
              "4                2.2   21.7      2.7        6.2      1.9       2.3      3.3  \n",
              "\n",
              "[5 rows x 34 columns]"
            ]
          },
          "metadata": {},
          "execution_count": 17
        }
      ]
    },
    {
      "cell_type": "markdown",
      "source": [
        "### Filter Column\n",
        "For simplicity reason, I will only use 2 state."
      ],
      "metadata": {
        "id": "OozQOXhtLCON"
      }
    },
    {
      "cell_type": "code",
      "source": [
        "data_power_small = data_power.iloc[:,:3]\n",
        "data_power_small.head(15)"
      ],
      "metadata": {
        "colab": {
          "base_uri": "https://localhost:8080/",
          "height": 520
        },
        "id": "JDV7xAFiKaDB",
        "outputId": "6727deb8-d613-4d5b-a5dd-5cf053a43192"
      },
      "execution_count": null,
      "outputs": [
        {
          "output_type": "execute_result",
          "data": {
            "text/html": [
              "\n",
              "  <div id=\"df-a7d85baf-d12e-4d15-9781-c54747f5cd0a\">\n",
              "    <div class=\"colab-df-container\">\n",
              "      <div>\n",
              "<style scoped>\n",
              "    .dataframe tbody tr th:only-of-type {\n",
              "        vertical-align: middle;\n",
              "    }\n",
              "\n",
              "    .dataframe tbody tr th {\n",
              "        vertical-align: top;\n",
              "    }\n",
              "\n",
              "    .dataframe thead th {\n",
              "        text-align: right;\n",
              "    }\n",
              "</style>\n",
              "<table border=\"1\" class=\"dataframe\">\n",
              "  <thead>\n",
              "    <tr style=\"text-align: right;\">\n",
              "      <th></th>\n",
              "      <th>date</th>\n",
              "      <th>Punjab</th>\n",
              "      <th>Haryana</th>\n",
              "    </tr>\n",
              "  </thead>\n",
              "  <tbody>\n",
              "    <tr>\n",
              "      <th>0</th>\n",
              "      <td>02/01/2019 00:00:00</td>\n",
              "      <td>119.9</td>\n",
              "      <td>130.3</td>\n",
              "    </tr>\n",
              "    <tr>\n",
              "      <th>1</th>\n",
              "      <td>03/01/2019 00:00:00</td>\n",
              "      <td>121.9</td>\n",
              "      <td>133.5</td>\n",
              "    </tr>\n",
              "    <tr>\n",
              "      <th>2</th>\n",
              "      <td>04/01/2019 00:00:00</td>\n",
              "      <td>118.8</td>\n",
              "      <td>128.2</td>\n",
              "    </tr>\n",
              "    <tr>\n",
              "      <th>3</th>\n",
              "      <td>05/01/2019 00:00:00</td>\n",
              "      <td>121.0</td>\n",
              "      <td>127.5</td>\n",
              "    </tr>\n",
              "    <tr>\n",
              "      <th>4</th>\n",
              "      <td>06/01/2019 00:00:00</td>\n",
              "      <td>121.4</td>\n",
              "      <td>132.6</td>\n",
              "    </tr>\n",
              "    <tr>\n",
              "      <th>5</th>\n",
              "      <td>07/01/2019 00:00:00</td>\n",
              "      <td>118.0</td>\n",
              "      <td>132.1</td>\n",
              "    </tr>\n",
              "    <tr>\n",
              "      <th>6</th>\n",
              "      <td>08/01/2019 00:00:00</td>\n",
              "      <td>107.5</td>\n",
              "      <td>121.4</td>\n",
              "    </tr>\n",
              "    <tr>\n",
              "      <th>7</th>\n",
              "      <td>09/01/2019 00:00:00</td>\n",
              "      <td>132.5</td>\n",
              "      <td>148.2</td>\n",
              "    </tr>\n",
              "    <tr>\n",
              "      <th>8</th>\n",
              "      <td>10/01/2019 00:00:00</td>\n",
              "      <td>131.5</td>\n",
              "      <td>157.0</td>\n",
              "    </tr>\n",
              "    <tr>\n",
              "      <th>9</th>\n",
              "      <td>11/01/2019 00:00:00</td>\n",
              "      <td>130.3</td>\n",
              "      <td>145.3</td>\n",
              "    </tr>\n",
              "    <tr>\n",
              "      <th>10</th>\n",
              "      <td>12/01/2019 00:00:00</td>\n",
              "      <td>137.9</td>\n",
              "      <td>151.9</td>\n",
              "    </tr>\n",
              "    <tr>\n",
              "      <th>11</th>\n",
              "      <td>13/01/2019 00:00:00</td>\n",
              "      <td>135.8</td>\n",
              "      <td>141.4</td>\n",
              "    </tr>\n",
              "    <tr>\n",
              "      <th>12</th>\n",
              "      <td>14/01/2019 00:00:00</td>\n",
              "      <td>139.3</td>\n",
              "      <td>143.8</td>\n",
              "    </tr>\n",
              "    <tr>\n",
              "      <th>13</th>\n",
              "      <td>15/01/2019 00:00:00</td>\n",
              "      <td>141.1</td>\n",
              "      <td>142.9</td>\n",
              "    </tr>\n",
              "    <tr>\n",
              "      <th>14</th>\n",
              "      <td>16/01/2019 00:00:00</td>\n",
              "      <td>231.9</td>\n",
              "      <td>180.5</td>\n",
              "    </tr>\n",
              "  </tbody>\n",
              "</table>\n",
              "</div>\n",
              "      <button class=\"colab-df-convert\" onclick=\"convertToInteractive('df-a7d85baf-d12e-4d15-9781-c54747f5cd0a')\"\n",
              "              title=\"Convert this dataframe to an interactive table.\"\n",
              "              style=\"display:none;\">\n",
              "        \n",
              "  <svg xmlns=\"http://www.w3.org/2000/svg\" height=\"24px\"viewBox=\"0 0 24 24\"\n",
              "       width=\"24px\">\n",
              "    <path d=\"M0 0h24v24H0V0z\" fill=\"none\"/>\n",
              "    <path d=\"M18.56 5.44l.94 2.06.94-2.06 2.06-.94-2.06-.94-.94-2.06-.94 2.06-2.06.94zm-11 1L8.5 8.5l.94-2.06 2.06-.94-2.06-.94L8.5 2.5l-.94 2.06-2.06.94zm10 10l.94 2.06.94-2.06 2.06-.94-2.06-.94-.94-2.06-.94 2.06-2.06.94z\"/><path d=\"M17.41 7.96l-1.37-1.37c-.4-.4-.92-.59-1.43-.59-.52 0-1.04.2-1.43.59L10.3 9.45l-7.72 7.72c-.78.78-.78 2.05 0 2.83L4 21.41c.39.39.9.59 1.41.59.51 0 1.02-.2 1.41-.59l7.78-7.78 2.81-2.81c.8-.78.8-2.07 0-2.86zM5.41 20L4 18.59l7.72-7.72 1.47 1.35L5.41 20z\"/>\n",
              "  </svg>\n",
              "      </button>\n",
              "      \n",
              "  <style>\n",
              "    .colab-df-container {\n",
              "      display:flex;\n",
              "      flex-wrap:wrap;\n",
              "      gap: 12px;\n",
              "    }\n",
              "\n",
              "    .colab-df-convert {\n",
              "      background-color: #E8F0FE;\n",
              "      border: none;\n",
              "      border-radius: 50%;\n",
              "      cursor: pointer;\n",
              "      display: none;\n",
              "      fill: #1967D2;\n",
              "      height: 32px;\n",
              "      padding: 0 0 0 0;\n",
              "      width: 32px;\n",
              "    }\n",
              "\n",
              "    .colab-df-convert:hover {\n",
              "      background-color: #E2EBFA;\n",
              "      box-shadow: 0px 1px 2px rgba(60, 64, 67, 0.3), 0px 1px 3px 1px rgba(60, 64, 67, 0.15);\n",
              "      fill: #174EA6;\n",
              "    }\n",
              "\n",
              "    [theme=dark] .colab-df-convert {\n",
              "      background-color: #3B4455;\n",
              "      fill: #D2E3FC;\n",
              "    }\n",
              "\n",
              "    [theme=dark] .colab-df-convert:hover {\n",
              "      background-color: #434B5C;\n",
              "      box-shadow: 0px 1px 3px 1px rgba(0, 0, 0, 0.15);\n",
              "      filter: drop-shadow(0px 1px 2px rgba(0, 0, 0, 0.3));\n",
              "      fill: #FFFFFF;\n",
              "    }\n",
              "  </style>\n",
              "\n",
              "      <script>\n",
              "        const buttonEl =\n",
              "          document.querySelector('#df-a7d85baf-d12e-4d15-9781-c54747f5cd0a button.colab-df-convert');\n",
              "        buttonEl.style.display =\n",
              "          google.colab.kernel.accessAllowed ? 'block' : 'none';\n",
              "\n",
              "        async function convertToInteractive(key) {\n",
              "          const element = document.querySelector('#df-a7d85baf-d12e-4d15-9781-c54747f5cd0a');\n",
              "          const dataTable =\n",
              "            await google.colab.kernel.invokeFunction('convertToInteractive',\n",
              "                                                     [key], {});\n",
              "          if (!dataTable) return;\n",
              "\n",
              "          const docLinkHtml = 'Like what you see? Visit the ' +\n",
              "            '<a target=\"_blank\" href=https://colab.research.google.com/notebooks/data_table.ipynb>data table notebook</a>'\n",
              "            + ' to learn more about interactive tables.';\n",
              "          element.innerHTML = '';\n",
              "          dataTable['output_type'] = 'display_data';\n",
              "          await google.colab.output.renderOutput(dataTable, element);\n",
              "          const docLink = document.createElement('div');\n",
              "          docLink.innerHTML = docLinkHtml;\n",
              "          element.appendChild(docLink);\n",
              "        }\n",
              "      </script>\n",
              "    </div>\n",
              "  </div>\n",
              "  "
            ],
            "text/plain": [
              "                   date  Punjab  Haryana\n",
              "0   02/01/2019 00:00:00   119.9    130.3\n",
              "1   03/01/2019 00:00:00   121.9    133.5\n",
              "2   04/01/2019 00:00:00   118.8    128.2\n",
              "3   05/01/2019 00:00:00   121.0    127.5\n",
              "4   06/01/2019 00:00:00   121.4    132.6\n",
              "5   07/01/2019 00:00:00   118.0    132.1\n",
              "6   08/01/2019 00:00:00   107.5    121.4\n",
              "7   09/01/2019 00:00:00   132.5    148.2\n",
              "8   10/01/2019 00:00:00   131.5    157.0\n",
              "9   11/01/2019 00:00:00   130.3    145.3\n",
              "10  12/01/2019 00:00:00   137.9    151.9\n",
              "11  13/01/2019 00:00:00   135.8    141.4\n",
              "12  14/01/2019 00:00:00   139.3    143.8\n",
              "13  15/01/2019 00:00:00   141.1    142.9\n",
              "14  16/01/2019 00:00:00   231.9    180.5"
            ]
          },
          "metadata": {},
          "execution_count": 18
        }
      ]
    },
    {
      "cell_type": "markdown",
      "source": [
        "### Basic Information"
      ],
      "metadata": {
        "id": "nUb1kE1BDdEZ"
      }
    },
    {
      "cell_type": "code",
      "source": [
        "data_power_small.info()"
      ],
      "metadata": {
        "colab": {
          "base_uri": "https://localhost:8080/"
        },
        "id": "n0_XgV7mDfzE",
        "outputId": "7cb3c0fb-f21b-47a9-bd98-43faa4bf3146"
      },
      "execution_count": null,
      "outputs": [
        {
          "output_type": "stream",
          "name": "stdout",
          "text": [
            "<class 'pandas.core.frame.DataFrame'>\n",
            "RangeIndex: 503 entries, 0 to 502\n",
            "Data columns (total 3 columns):\n",
            " #   Column   Non-Null Count  Dtype  \n",
            "---  ------   --------------  -----  \n",
            " 0   date     503 non-null    object \n",
            " 1   Punjab   503 non-null    float64\n",
            " 2   Haryana  503 non-null    float64\n",
            "dtypes: float64(2), object(1)\n",
            "memory usage: 11.9+ KB\n"
          ]
        }
      ]
    },
    {
      "cell_type": "markdown",
      "source": [
        "Since the `date` attribute data type is not a `datetime`, I will change it later."
      ],
      "metadata": {
        "id": "RWT4lnd_EDN3"
      }
    },
    {
      "cell_type": "code",
      "source": [
        "data_power_small.describe()"
      ],
      "metadata": {
        "colab": {
          "base_uri": "https://localhost:8080/",
          "height": 300
        },
        "id": "gJtuoc1UDiMS",
        "outputId": "0c74c383-cabf-4781-b9e1-b2dd75ba6d7a"
      },
      "execution_count": null,
      "outputs": [
        {
          "output_type": "execute_result",
          "data": {
            "text/html": [
              "\n",
              "  <div id=\"df-45863f0f-76d0-4b51-93f6-0b9d2ebda4bf\">\n",
              "    <div class=\"colab-df-container\">\n",
              "      <div>\n",
              "<style scoped>\n",
              "    .dataframe tbody tr th:only-of-type {\n",
              "        vertical-align: middle;\n",
              "    }\n",
              "\n",
              "    .dataframe tbody tr th {\n",
              "        vertical-align: top;\n",
              "    }\n",
              "\n",
              "    .dataframe thead th {\n",
              "        text-align: right;\n",
              "    }\n",
              "</style>\n",
              "<table border=\"1\" class=\"dataframe\">\n",
              "  <thead>\n",
              "    <tr style=\"text-align: right;\">\n",
              "      <th></th>\n",
              "      <th>Punjab</th>\n",
              "      <th>Haryana</th>\n",
              "    </tr>\n",
              "  </thead>\n",
              "  <tbody>\n",
              "    <tr>\n",
              "      <th>count</th>\n",
              "      <td>503.000000</td>\n",
              "      <td>503.000000</td>\n",
              "    </tr>\n",
              "    <tr>\n",
              "      <th>mean</th>\n",
              "      <td>141.145527</td>\n",
              "      <td>138.333598</td>\n",
              "    </tr>\n",
              "    <tr>\n",
              "      <th>std</th>\n",
              "      <td>56.977361</td>\n",
              "      <td>38.106593</td>\n",
              "    </tr>\n",
              "    <tr>\n",
              "      <th>min</th>\n",
              "      <td>56.100000</td>\n",
              "      <td>64.800000</td>\n",
              "    </tr>\n",
              "    <tr>\n",
              "      <th>25%</th>\n",
              "      <td>104.000000</td>\n",
              "      <td>114.800000</td>\n",
              "    </tr>\n",
              "    <tr>\n",
              "      <th>50%</th>\n",
              "      <td>118.300000</td>\n",
              "      <td>126.800000</td>\n",
              "    </tr>\n",
              "    <tr>\n",
              "      <th>75%</th>\n",
              "      <td>162.500000</td>\n",
              "      <td>158.100000</td>\n",
              "    </tr>\n",
              "    <tr>\n",
              "      <th>max</th>\n",
              "      <td>300.000000</td>\n",
              "      <td>237.200000</td>\n",
              "    </tr>\n",
              "  </tbody>\n",
              "</table>\n",
              "</div>\n",
              "      <button class=\"colab-df-convert\" onclick=\"convertToInteractive('df-45863f0f-76d0-4b51-93f6-0b9d2ebda4bf')\"\n",
              "              title=\"Convert this dataframe to an interactive table.\"\n",
              "              style=\"display:none;\">\n",
              "        \n",
              "  <svg xmlns=\"http://www.w3.org/2000/svg\" height=\"24px\"viewBox=\"0 0 24 24\"\n",
              "       width=\"24px\">\n",
              "    <path d=\"M0 0h24v24H0V0z\" fill=\"none\"/>\n",
              "    <path d=\"M18.56 5.44l.94 2.06.94-2.06 2.06-.94-2.06-.94-.94-2.06-.94 2.06-2.06.94zm-11 1L8.5 8.5l.94-2.06 2.06-.94-2.06-.94L8.5 2.5l-.94 2.06-2.06.94zm10 10l.94 2.06.94-2.06 2.06-.94-2.06-.94-.94-2.06-.94 2.06-2.06.94z\"/><path d=\"M17.41 7.96l-1.37-1.37c-.4-.4-.92-.59-1.43-.59-.52 0-1.04.2-1.43.59L10.3 9.45l-7.72 7.72c-.78.78-.78 2.05 0 2.83L4 21.41c.39.39.9.59 1.41.59.51 0 1.02-.2 1.41-.59l7.78-7.78 2.81-2.81c.8-.78.8-2.07 0-2.86zM5.41 20L4 18.59l7.72-7.72 1.47 1.35L5.41 20z\"/>\n",
              "  </svg>\n",
              "      </button>\n",
              "      \n",
              "  <style>\n",
              "    .colab-df-container {\n",
              "      display:flex;\n",
              "      flex-wrap:wrap;\n",
              "      gap: 12px;\n",
              "    }\n",
              "\n",
              "    .colab-df-convert {\n",
              "      background-color: #E8F0FE;\n",
              "      border: none;\n",
              "      border-radius: 50%;\n",
              "      cursor: pointer;\n",
              "      display: none;\n",
              "      fill: #1967D2;\n",
              "      height: 32px;\n",
              "      padding: 0 0 0 0;\n",
              "      width: 32px;\n",
              "    }\n",
              "\n",
              "    .colab-df-convert:hover {\n",
              "      background-color: #E2EBFA;\n",
              "      box-shadow: 0px 1px 2px rgba(60, 64, 67, 0.3), 0px 1px 3px 1px rgba(60, 64, 67, 0.15);\n",
              "      fill: #174EA6;\n",
              "    }\n",
              "\n",
              "    [theme=dark] .colab-df-convert {\n",
              "      background-color: #3B4455;\n",
              "      fill: #D2E3FC;\n",
              "    }\n",
              "\n",
              "    [theme=dark] .colab-df-convert:hover {\n",
              "      background-color: #434B5C;\n",
              "      box-shadow: 0px 1px 3px 1px rgba(0, 0, 0, 0.15);\n",
              "      filter: drop-shadow(0px 1px 2px rgba(0, 0, 0, 0.3));\n",
              "      fill: #FFFFFF;\n",
              "    }\n",
              "  </style>\n",
              "\n",
              "      <script>\n",
              "        const buttonEl =\n",
              "          document.querySelector('#df-45863f0f-76d0-4b51-93f6-0b9d2ebda4bf button.colab-df-convert');\n",
              "        buttonEl.style.display =\n",
              "          google.colab.kernel.accessAllowed ? 'block' : 'none';\n",
              "\n",
              "        async function convertToInteractive(key) {\n",
              "          const element = document.querySelector('#df-45863f0f-76d0-4b51-93f6-0b9d2ebda4bf');\n",
              "          const dataTable =\n",
              "            await google.colab.kernel.invokeFunction('convertToInteractive',\n",
              "                                                     [key], {});\n",
              "          if (!dataTable) return;\n",
              "\n",
              "          const docLinkHtml = 'Like what you see? Visit the ' +\n",
              "            '<a target=\"_blank\" href=https://colab.research.google.com/notebooks/data_table.ipynb>data table notebook</a>'\n",
              "            + ' to learn more about interactive tables.';\n",
              "          element.innerHTML = '';\n",
              "          dataTable['output_type'] = 'display_data';\n",
              "          await google.colab.output.renderOutput(dataTable, element);\n",
              "          const docLink = document.createElement('div');\n",
              "          docLink.innerHTML = docLinkHtml;\n",
              "          element.appendChild(docLink);\n",
              "        }\n",
              "      </script>\n",
              "    </div>\n",
              "  </div>\n",
              "  "
            ],
            "text/plain": [
              "           Punjab     Haryana\n",
              "count  503.000000  503.000000\n",
              "mean   141.145527  138.333598\n",
              "std     56.977361   38.106593\n",
              "min     56.100000   64.800000\n",
              "25%    104.000000  114.800000\n",
              "50%    118.300000  126.800000\n",
              "75%    162.500000  158.100000\n",
              "max    300.000000  237.200000"
            ]
          },
          "metadata": {},
          "execution_count": 20
        }
      ]
    },
    {
      "cell_type": "code",
      "source": [
        "data_power_small.isna().sum()"
      ],
      "metadata": {
        "colab": {
          "base_uri": "https://localhost:8080/"
        },
        "id": "NJh5a3BMDkO6",
        "outputId": "7721827d-25ec-4723-fb60-1f51aa4ec55a"
      },
      "execution_count": null,
      "outputs": [
        {
          "output_type": "execute_result",
          "data": {
            "text/plain": [
              "date       0\n",
              "Punjab     0\n",
              "Haryana    0\n",
              "dtype: int64"
            ]
          },
          "metadata": {},
          "execution_count": 21
        }
      ]
    },
    {
      "cell_type": "markdown",
      "source": [
        "### Change Datetime\n",
        "I will change the `date` data type to `datetime`."
      ],
      "metadata": {
        "id": "mLkiLa3HqxQq"
      }
    },
    {
      "cell_type": "code",
      "source": [
        "data_power_small['date'] = pd.to_datetime(data_power_small['date'], dayfirst=True)\n",
        "data_power_small.head()"
      ],
      "metadata": {
        "colab": {
          "base_uri": "https://localhost:8080/",
          "height": 206
        },
        "id": "dPvQk58jfBnk",
        "outputId": "841bf1ed-9e54-4153-bf9b-067d76cb0fe3"
      },
      "execution_count": null,
      "outputs": [
        {
          "output_type": "execute_result",
          "data": {
            "text/html": [
              "\n",
              "  <div id=\"df-795be847-76bc-4b06-8d0c-229081508e2c\">\n",
              "    <div class=\"colab-df-container\">\n",
              "      <div>\n",
              "<style scoped>\n",
              "    .dataframe tbody tr th:only-of-type {\n",
              "        vertical-align: middle;\n",
              "    }\n",
              "\n",
              "    .dataframe tbody tr th {\n",
              "        vertical-align: top;\n",
              "    }\n",
              "\n",
              "    .dataframe thead th {\n",
              "        text-align: right;\n",
              "    }\n",
              "</style>\n",
              "<table border=\"1\" class=\"dataframe\">\n",
              "  <thead>\n",
              "    <tr style=\"text-align: right;\">\n",
              "      <th></th>\n",
              "      <th>date</th>\n",
              "      <th>Punjab</th>\n",
              "      <th>Haryana</th>\n",
              "    </tr>\n",
              "  </thead>\n",
              "  <tbody>\n",
              "    <tr>\n",
              "      <th>0</th>\n",
              "      <td>2019-01-02</td>\n",
              "      <td>119.9</td>\n",
              "      <td>130.3</td>\n",
              "    </tr>\n",
              "    <tr>\n",
              "      <th>1</th>\n",
              "      <td>2019-01-03</td>\n",
              "      <td>121.9</td>\n",
              "      <td>133.5</td>\n",
              "    </tr>\n",
              "    <tr>\n",
              "      <th>2</th>\n",
              "      <td>2019-01-04</td>\n",
              "      <td>118.8</td>\n",
              "      <td>128.2</td>\n",
              "    </tr>\n",
              "    <tr>\n",
              "      <th>3</th>\n",
              "      <td>2019-01-05</td>\n",
              "      <td>121.0</td>\n",
              "      <td>127.5</td>\n",
              "    </tr>\n",
              "    <tr>\n",
              "      <th>4</th>\n",
              "      <td>2019-01-06</td>\n",
              "      <td>121.4</td>\n",
              "      <td>132.6</td>\n",
              "    </tr>\n",
              "  </tbody>\n",
              "</table>\n",
              "</div>\n",
              "      <button class=\"colab-df-convert\" onclick=\"convertToInteractive('df-795be847-76bc-4b06-8d0c-229081508e2c')\"\n",
              "              title=\"Convert this dataframe to an interactive table.\"\n",
              "              style=\"display:none;\">\n",
              "        \n",
              "  <svg xmlns=\"http://www.w3.org/2000/svg\" height=\"24px\"viewBox=\"0 0 24 24\"\n",
              "       width=\"24px\">\n",
              "    <path d=\"M0 0h24v24H0V0z\" fill=\"none\"/>\n",
              "    <path d=\"M18.56 5.44l.94 2.06.94-2.06 2.06-.94-2.06-.94-.94-2.06-.94 2.06-2.06.94zm-11 1L8.5 8.5l.94-2.06 2.06-.94-2.06-.94L8.5 2.5l-.94 2.06-2.06.94zm10 10l.94 2.06.94-2.06 2.06-.94-2.06-.94-.94-2.06-.94 2.06-2.06.94z\"/><path d=\"M17.41 7.96l-1.37-1.37c-.4-.4-.92-.59-1.43-.59-.52 0-1.04.2-1.43.59L10.3 9.45l-7.72 7.72c-.78.78-.78 2.05 0 2.83L4 21.41c.39.39.9.59 1.41.59.51 0 1.02-.2 1.41-.59l7.78-7.78 2.81-2.81c.8-.78.8-2.07 0-2.86zM5.41 20L4 18.59l7.72-7.72 1.47 1.35L5.41 20z\"/>\n",
              "  </svg>\n",
              "      </button>\n",
              "      \n",
              "  <style>\n",
              "    .colab-df-container {\n",
              "      display:flex;\n",
              "      flex-wrap:wrap;\n",
              "      gap: 12px;\n",
              "    }\n",
              "\n",
              "    .colab-df-convert {\n",
              "      background-color: #E8F0FE;\n",
              "      border: none;\n",
              "      border-radius: 50%;\n",
              "      cursor: pointer;\n",
              "      display: none;\n",
              "      fill: #1967D2;\n",
              "      height: 32px;\n",
              "      padding: 0 0 0 0;\n",
              "      width: 32px;\n",
              "    }\n",
              "\n",
              "    .colab-df-convert:hover {\n",
              "      background-color: #E2EBFA;\n",
              "      box-shadow: 0px 1px 2px rgba(60, 64, 67, 0.3), 0px 1px 3px 1px rgba(60, 64, 67, 0.15);\n",
              "      fill: #174EA6;\n",
              "    }\n",
              "\n",
              "    [theme=dark] .colab-df-convert {\n",
              "      background-color: #3B4455;\n",
              "      fill: #D2E3FC;\n",
              "    }\n",
              "\n",
              "    [theme=dark] .colab-df-convert:hover {\n",
              "      background-color: #434B5C;\n",
              "      box-shadow: 0px 1px 3px 1px rgba(0, 0, 0, 0.15);\n",
              "      filter: drop-shadow(0px 1px 2px rgba(0, 0, 0, 0.3));\n",
              "      fill: #FFFFFF;\n",
              "    }\n",
              "  </style>\n",
              "\n",
              "      <script>\n",
              "        const buttonEl =\n",
              "          document.querySelector('#df-795be847-76bc-4b06-8d0c-229081508e2c button.colab-df-convert');\n",
              "        buttonEl.style.display =\n",
              "          google.colab.kernel.accessAllowed ? 'block' : 'none';\n",
              "\n",
              "        async function convertToInteractive(key) {\n",
              "          const element = document.querySelector('#df-795be847-76bc-4b06-8d0c-229081508e2c');\n",
              "          const dataTable =\n",
              "            await google.colab.kernel.invokeFunction('convertToInteractive',\n",
              "                                                     [key], {});\n",
              "          if (!dataTable) return;\n",
              "\n",
              "          const docLinkHtml = 'Like what you see? Visit the ' +\n",
              "            '<a target=\"_blank\" href=https://colab.research.google.com/notebooks/data_table.ipynb>data table notebook</a>'\n",
              "            + ' to learn more about interactive tables.';\n",
              "          element.innerHTML = '';\n",
              "          dataTable['output_type'] = 'display_data';\n",
              "          await google.colab.output.renderOutput(dataTable, element);\n",
              "          const docLink = document.createElement('div');\n",
              "          docLink.innerHTML = docLinkHtml;\n",
              "          element.appendChild(docLink);\n",
              "        }\n",
              "      </script>\n",
              "    </div>\n",
              "  </div>\n",
              "  "
            ],
            "text/plain": [
              "        date  Punjab  Haryana\n",
              "0 2019-01-02   119.9    130.3\n",
              "1 2019-01-03   121.9    133.5\n",
              "2 2019-01-04   118.8    128.2\n",
              "3 2019-01-05   121.0    127.5\n",
              "4 2019-01-06   121.4    132.6"
            ]
          },
          "metadata": {},
          "execution_count": 22
        }
      ]
    },
    {
      "cell_type": "markdown",
      "source": [
        "Also, I will create a new column to store the date but truncate it to month (like DATE_TRUNC in SQL)."
      ],
      "metadata": {
        "id": "-HAnNRGXEXNA"
      }
    },
    {
      "cell_type": "code",
      "source": [
        "data_power_small['date_month'] = data_power_small['date'].values.astype('<M8[M]')\n",
        "data_power_small.head()"
      ],
      "metadata": {
        "colab": {
          "base_uri": "https://localhost:8080/",
          "height": 206
        },
        "id": "HNPs1NaIr-4W",
        "outputId": "ec449f06-4722-4d31-cf5f-8a2d9d4f6124"
      },
      "execution_count": null,
      "outputs": [
        {
          "output_type": "execute_result",
          "data": {
            "text/html": [
              "\n",
              "  <div id=\"df-eff3d529-a15e-4e62-ac5e-6e132d10599b\">\n",
              "    <div class=\"colab-df-container\">\n",
              "      <div>\n",
              "<style scoped>\n",
              "    .dataframe tbody tr th:only-of-type {\n",
              "        vertical-align: middle;\n",
              "    }\n",
              "\n",
              "    .dataframe tbody tr th {\n",
              "        vertical-align: top;\n",
              "    }\n",
              "\n",
              "    .dataframe thead th {\n",
              "        text-align: right;\n",
              "    }\n",
              "</style>\n",
              "<table border=\"1\" class=\"dataframe\">\n",
              "  <thead>\n",
              "    <tr style=\"text-align: right;\">\n",
              "      <th></th>\n",
              "      <th>date</th>\n",
              "      <th>Punjab</th>\n",
              "      <th>Haryana</th>\n",
              "      <th>date_month</th>\n",
              "    </tr>\n",
              "  </thead>\n",
              "  <tbody>\n",
              "    <tr>\n",
              "      <th>0</th>\n",
              "      <td>2019-01-02</td>\n",
              "      <td>119.9</td>\n",
              "      <td>130.3</td>\n",
              "      <td>2019-01-01</td>\n",
              "    </tr>\n",
              "    <tr>\n",
              "      <th>1</th>\n",
              "      <td>2019-01-03</td>\n",
              "      <td>121.9</td>\n",
              "      <td>133.5</td>\n",
              "      <td>2019-01-01</td>\n",
              "    </tr>\n",
              "    <tr>\n",
              "      <th>2</th>\n",
              "      <td>2019-01-04</td>\n",
              "      <td>118.8</td>\n",
              "      <td>128.2</td>\n",
              "      <td>2019-01-01</td>\n",
              "    </tr>\n",
              "    <tr>\n",
              "      <th>3</th>\n",
              "      <td>2019-01-05</td>\n",
              "      <td>121.0</td>\n",
              "      <td>127.5</td>\n",
              "      <td>2019-01-01</td>\n",
              "    </tr>\n",
              "    <tr>\n",
              "      <th>4</th>\n",
              "      <td>2019-01-06</td>\n",
              "      <td>121.4</td>\n",
              "      <td>132.6</td>\n",
              "      <td>2019-01-01</td>\n",
              "    </tr>\n",
              "  </tbody>\n",
              "</table>\n",
              "</div>\n",
              "      <button class=\"colab-df-convert\" onclick=\"convertToInteractive('df-eff3d529-a15e-4e62-ac5e-6e132d10599b')\"\n",
              "              title=\"Convert this dataframe to an interactive table.\"\n",
              "              style=\"display:none;\">\n",
              "        \n",
              "  <svg xmlns=\"http://www.w3.org/2000/svg\" height=\"24px\"viewBox=\"0 0 24 24\"\n",
              "       width=\"24px\">\n",
              "    <path d=\"M0 0h24v24H0V0z\" fill=\"none\"/>\n",
              "    <path d=\"M18.56 5.44l.94 2.06.94-2.06 2.06-.94-2.06-.94-.94-2.06-.94 2.06-2.06.94zm-11 1L8.5 8.5l.94-2.06 2.06-.94-2.06-.94L8.5 2.5l-.94 2.06-2.06.94zm10 10l.94 2.06.94-2.06 2.06-.94-2.06-.94-.94-2.06-.94 2.06-2.06.94z\"/><path d=\"M17.41 7.96l-1.37-1.37c-.4-.4-.92-.59-1.43-.59-.52 0-1.04.2-1.43.59L10.3 9.45l-7.72 7.72c-.78.78-.78 2.05 0 2.83L4 21.41c.39.39.9.59 1.41.59.51 0 1.02-.2 1.41-.59l7.78-7.78 2.81-2.81c.8-.78.8-2.07 0-2.86zM5.41 20L4 18.59l7.72-7.72 1.47 1.35L5.41 20z\"/>\n",
              "  </svg>\n",
              "      </button>\n",
              "      \n",
              "  <style>\n",
              "    .colab-df-container {\n",
              "      display:flex;\n",
              "      flex-wrap:wrap;\n",
              "      gap: 12px;\n",
              "    }\n",
              "\n",
              "    .colab-df-convert {\n",
              "      background-color: #E8F0FE;\n",
              "      border: none;\n",
              "      border-radius: 50%;\n",
              "      cursor: pointer;\n",
              "      display: none;\n",
              "      fill: #1967D2;\n",
              "      height: 32px;\n",
              "      padding: 0 0 0 0;\n",
              "      width: 32px;\n",
              "    }\n",
              "\n",
              "    .colab-df-convert:hover {\n",
              "      background-color: #E2EBFA;\n",
              "      box-shadow: 0px 1px 2px rgba(60, 64, 67, 0.3), 0px 1px 3px 1px rgba(60, 64, 67, 0.15);\n",
              "      fill: #174EA6;\n",
              "    }\n",
              "\n",
              "    [theme=dark] .colab-df-convert {\n",
              "      background-color: #3B4455;\n",
              "      fill: #D2E3FC;\n",
              "    }\n",
              "\n",
              "    [theme=dark] .colab-df-convert:hover {\n",
              "      background-color: #434B5C;\n",
              "      box-shadow: 0px 1px 3px 1px rgba(0, 0, 0, 0.15);\n",
              "      filter: drop-shadow(0px 1px 2px rgba(0, 0, 0, 0.3));\n",
              "      fill: #FFFFFF;\n",
              "    }\n",
              "  </style>\n",
              "\n",
              "      <script>\n",
              "        const buttonEl =\n",
              "          document.querySelector('#df-eff3d529-a15e-4e62-ac5e-6e132d10599b button.colab-df-convert');\n",
              "        buttonEl.style.display =\n",
              "          google.colab.kernel.accessAllowed ? 'block' : 'none';\n",
              "\n",
              "        async function convertToInteractive(key) {\n",
              "          const element = document.querySelector('#df-eff3d529-a15e-4e62-ac5e-6e132d10599b');\n",
              "          const dataTable =\n",
              "            await google.colab.kernel.invokeFunction('convertToInteractive',\n",
              "                                                     [key], {});\n",
              "          if (!dataTable) return;\n",
              "\n",
              "          const docLinkHtml = 'Like what you see? Visit the ' +\n",
              "            '<a target=\"_blank\" href=https://colab.research.google.com/notebooks/data_table.ipynb>data table notebook</a>'\n",
              "            + ' to learn more about interactive tables.';\n",
              "          element.innerHTML = '';\n",
              "          dataTable['output_type'] = 'display_data';\n",
              "          await google.colab.output.renderOutput(dataTable, element);\n",
              "          const docLink = document.createElement('div');\n",
              "          docLink.innerHTML = docLinkHtml;\n",
              "          element.appendChild(docLink);\n",
              "        }\n",
              "      </script>\n",
              "    </div>\n",
              "  </div>\n",
              "  "
            ],
            "text/plain": [
              "        date  Punjab  Haryana date_month\n",
              "0 2019-01-02   119.9    130.3 2019-01-01\n",
              "1 2019-01-03   121.9    133.5 2019-01-01\n",
              "2 2019-01-04   118.8    128.2 2019-01-01\n",
              "3 2019-01-05   121.0    127.5 2019-01-01\n",
              "4 2019-01-06   121.4    132.6 2019-01-01"
            ]
          },
          "metadata": {},
          "execution_count": 23
        }
      ]
    },
    {
      "cell_type": "code",
      "source": [
        "data_power_small.info()"
      ],
      "metadata": {
        "colab": {
          "base_uri": "https://localhost:8080/"
        },
        "id": "5lIthCLZD_F_",
        "outputId": "5b97e22a-2c93-421b-a34f-e77f90c3bdc0"
      },
      "execution_count": null,
      "outputs": [
        {
          "output_type": "stream",
          "name": "stdout",
          "text": [
            "<class 'pandas.core.frame.DataFrame'>\n",
            "RangeIndex: 503 entries, 0 to 502\n",
            "Data columns (total 4 columns):\n",
            " #   Column      Non-Null Count  Dtype         \n",
            "---  ------      --------------  -----         \n",
            " 0   date        503 non-null    datetime64[ns]\n",
            " 1   Punjab      503 non-null    float64       \n",
            " 2   Haryana     503 non-null    float64       \n",
            " 3   date_month  503 non-null    datetime64[ns]\n",
            "dtypes: datetime64[ns](2), float64(2)\n",
            "memory usage: 15.8 KB\n"
          ]
        }
      ]
    },
    {
      "cell_type": "markdown",
      "source": [
        "## Data Visualization"
      ],
      "metadata": {
        "id": "w76PntA7q2EJ"
      }
    },
    {
      "cell_type": "markdown",
      "source": [
        "### Histogram"
      ],
      "metadata": {
        "id": "P7__aiA_q36I"
      }
    },
    {
      "cell_type": "code",
      "source": [
        "data_power_small[['Punjab','Haryana']].plot(kind='hist', subplots=True, sharex=True, sharey=True, bins=20, figsize=(9,6))"
      ],
      "metadata": {
        "colab": {
          "base_uri": "https://localhost:8080/",
          "height": 425
        },
        "id": "cxaJYHomwI0t",
        "outputId": "2db960bd-6da4-4511-f5ee-f0f0475bb3c3"
      },
      "execution_count": null,
      "outputs": [
        {
          "output_type": "execute_result",
          "data": {
            "text/plain": [
              "array([<matplotlib.axes._subplots.AxesSubplot object at 0x7f92d02e2250>,\n",
              "       <matplotlib.axes._subplots.AxesSubplot object at 0x7f92d0193650>],\n",
              "      dtype=object)"
            ]
          },
          "metadata": {},
          "execution_count": 24
        },
        {
          "output_type": "display_data",
          "data": {
            "image/png": "[encoded data removed]",
            "text/plain": [
              "<Figure size 648x432 with 2 Axes>"
            ]
          },
          "metadata": {
            "needs_background": "light"
          }
        }
      ]
    },
    {
      "cell_type": "markdown",
      "source": [
        "From this histogram, we can see that Punjab and Haryana are skewed to the right. Moreover, these two states have almost similar distribution of power consumption."
      ],
      "metadata": {
        "id": "-Qf7Jsicw-fI"
      }
    },
    {
      "cell_type": "markdown",
      "source": [
        "### Box Plot"
      ],
      "metadata": {
        "id": "iuJaDZ6nq6O-"
      }
    },
    {
      "cell_type": "code",
      "source": [
        "data_power_small.plot(kind='box', figsize=(9,6))"
      ],
      "metadata": {
        "colab": {
          "base_uri": "https://localhost:8080/",
          "height": 391
        },
        "id": "rOV8Z_STqN9z",
        "outputId": "fd0cdca0-e9de-4d2f-df73-8af828f81343"
      },
      "execution_count": null,
      "outputs": [
        {
          "output_type": "execute_result",
          "data": {
            "text/plain": [
              "<matplotlib.axes._subplots.AxesSubplot at 0x7f92d022c390>"
            ]
          },
          "metadata": {},
          "execution_count": 25
        },
        {
          "output_type": "display_data",
          "data": {
            "image/png": "[encoded data removed]",
            "text/plain": [
              "<Figure size 648x432 with 1 Axes>"
            ]
          },
          "metadata": {
            "needs_background": "light"
          }
        }
      ]
    },
    {
      "cell_type": "markdown",
      "source": [
        "Boxplots are very useful for visualizing outliers. From this plot, we can see that Punjab and Haryana have outliers. Even so, Punjab has more outliers than Haryana."
      ],
      "metadata": {
        "id": "kYmlM8pNyPib"
      }
    },
    {
      "cell_type": "markdown",
      "source": [
        "### Scatter Plot"
      ],
      "metadata": {
        "id": "n7f3HZ7prGij"
      }
    },
    {
      "cell_type": "code",
      "source": [
        "data_power_small.plot(kind='scatter', x='Punjab', y='Haryana', figsize=(9,6))"
      ],
      "metadata": {
        "colab": {
          "base_uri": "https://localhost:8080/",
          "height": 405
        },
        "id": "mJ83aC6irPrK",
        "outputId": "320e8b2f-fa0a-4394-9957-e0285b56e719"
      },
      "execution_count": null,
      "outputs": [
        {
          "output_type": "execute_result",
          "data": {
            "text/plain": [
              "<matplotlib.axes._subplots.AxesSubplot at 0x7f92cffbd910>"
            ]
          },
          "metadata": {},
          "execution_count": 26
        },
        {
          "output_type": "display_data",
          "data": {
            "image/png": "[encoded data removed]",
            "text/plain": [
              "<Figure size 648x432 with 1 Axes>"
            ]
          },
          "metadata": {
            "needs_background": "light"
          }
        }
      ]
    },
    {
      "cell_type": "markdown",
      "source": [
        "Using a scatter plot, we can clearly see that Punjab and Haryana have a high correlation in terms of power consumption."
      ],
      "metadata": {
        "id": "O8OSxSz8ypu1"
      }
    },
    {
      "cell_type": "markdown",
      "source": [
        "### Line Chart"
      ],
      "metadata": {
        "id": "6VdgZcmSrZxE"
      }
    },
    {
      "cell_type": "code",
      "source": [
        "data_power_small.plot(kind='line', x='date', y=['Punjab','Haryana'], figsize=(12,6))"
      ],
      "metadata": {
        "colab": {
          "base_uri": "https://localhost:8080/",
          "height": 392
        },
        "id": "wPyFu78Z82dx",
        "outputId": "d829eb3d-2f8c-4461-b7e1-915c4557f36e"
      },
      "execution_count": null,
      "outputs": [
        {
          "output_type": "execute_result",
          "data": {
            "text/plain": [
              "<matplotlib.axes._subplots.AxesSubplot at 0x7f92cffb6690>"
            ]
          },
          "metadata": {},
          "execution_count": 27
        },
        {
          "output_type": "display_data",
          "data": {
            "image/png": "[encoded data removed]",
            "text/plain": [
              "<Figure size 864x432 with 1 Axes>"
            ]
          },
          "metadata": {
            "needs_background": "light"
          }
        }
      ]
    },
    {
      "cell_type": "markdown",
      "source": [
        "From this plot, we can see that power consumption in Punjab and Haryana has an up and down pattern over time."
      ],
      "metadata": {
        "id": "PdWzckgcAHQ_"
      }
    },
    {
      "cell_type": "code",
      "source": [
        "pd.pivot_table(data=data_power_small,\n",
        "               index=['date_month'],\n",
        "               values=['Punjab','Haryana'],\n",
        "               aggfunc='median').plot(kind='line', figsize=(12,6))"
      ],
      "metadata": {
        "colab": {
          "base_uri": "https://localhost:8080/",
          "height": 418
        },
        "id": "31tSXNwoowK-",
        "outputId": "e19ee1b4-090b-4082-e417-d6a7f401584c"
      },
      "execution_count": null,
      "outputs": [
        {
          "output_type": "execute_result",
          "data": {
            "text/plain": [
              "<matplotlib.axes._subplots.AxesSubplot at 0x7f92cfedba50>"
            ]
          },
          "metadata": {},
          "execution_count": 28
        },
        {
          "output_type": "display_data",
          "data": {
            "image/png": "[encoded data removed]",
            "text/plain": [
              "<Figure size 864x432 with 1 Axes>"
            ]
          },
          "metadata": {
            "needs_background": "light"
          }
        }
      ]
    },
    {
      "cell_type": "markdown",
      "source": [
        "If I do aggregation on power consumption and group it by month, the pattern can be seen more clearly. I use median because this dataset contains so many outliers."
      ],
      "metadata": {
        "id": "SYxSGdXsBbI8"
      }
    },
    {
      "cell_type": "markdown",
      "source": [
        "### Area Chart"
      ],
      "metadata": {
        "id": "0q8GDI-irovU"
      }
    },
    {
      "cell_type": "code",
      "source": [
        "pd.pivot_table(data=data_power_small,\n",
        "               index=['date_month'],\n",
        "               aggfunc='median').plot(kind='area', figsize=(12,6))"
      ],
      "metadata": {
        "colab": {
          "base_uri": "https://localhost:8080/",
          "height": 418
        },
        "id": "YIREfNaprqKt",
        "outputId": "73e059b5-3594-4a03-c9e5-841dfe899dba"
      },
      "execution_count": null,
      "outputs": [
        {
          "output_type": "execute_result",
          "data": {
            "text/plain": [
              "<matplotlib.axes._subplots.AxesSubplot at 0x7f92cffb6c50>"
            ]
          },
          "metadata": {},
          "execution_count": 29
        },
        {
          "output_type": "display_data",
          "data": {
            "image/png": "[encoded data removed]",
            "text/plain": [
              "<Figure size 864x432 with 1 Axes>"
            ]
          },
          "metadata": {
            "needs_background": "light"
          }
        }
      ]
    },
    {
      "cell_type": "markdown",
      "source": [
        "Using a stacked area chart, we can see the pattern of total power consumption for each month in Punjab and Haryana."
      ],
      "metadata": {
        "id": "Vk28pRQaCeM4"
      }
    }
  ]
}