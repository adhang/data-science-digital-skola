{
  "nbformat": 4,
  "nbformat_minor": 0,
  "metadata": {
    "colab": {
      "name": "Homework - API.ipynb",
      "provenance": [],
      "collapsed_sections": [],
      "toc_visible": true,
      "authorship_tag": "ABX9TyMjWa79qXAP39/R505e/ehx",
      "include_colab_link": true
    },
    "kernelspec": {
      "name": "python3",
      "display_name": "Python 3"
    },
    "language_info": {
      "name": "python"
    }
  },
  "cells": [
    {
      "cell_type": "markdown",
      "metadata": {
        "id": "view-in-github",
        "colab_type": "text"
      },
      "source": [
        "<a href=\"https://colab.research.google.com/github/adhang/data-science-digitalskola/blob/update/10.%20Application%20Programming%20Interface/Homework%20-%20API.ipynb\" target=\"_parent\"><img src=\"https://colab.research.google.com/assets/colab-badge.svg\" alt=\"Open In Colab\"/></a>"
      ]
    },
    {
      "cell_type": "markdown",
      "source": [
        "# Homework - API\n",
        "Author: Adhang Muntaha Muhammad\n",
        "\n",
        "[![LinkedIn](https://img.shields.io/badge/linkedin-0077B5?style=for-the-badge&logo=linkedin&logoColor=white&link=https://www.linkedin.com/in/adhangmuntaha/)](https://www.linkedin.com/in/adhangmuntaha/)\n",
        "[![GitHub](https://img.shields.io/badge/github-121011?style=for-the-badge&logo=github&logoColor=white&link=https://github.com/adhang)](https://github.com/adhang)\n",
        "[![Kaggle](https://img.shields.io/badge/kaggle-20BEFF?style=for-the-badge&logo=kaggle&logoColor=white&link=https://www.kaggle.com/adhang)](https://www.kaggle.com/adhang)\n",
        "[![Tableau](https://img.shields.io/badge/tableau-E97627?style=for-the-badge&logo=tableau&logoColor=white&link=https://public.tableau.com/app/profile/adhang)](https://public.tableau.com/app/profile/adhang)\n",
        "___"
      ],
      "metadata": {
        "id": "UoGTNqaWlaNP"
      }
    },
    {
      "cell_type": "markdown",
      "source": [
        "# Problems and Tasks\n",
        "**Tasks**\n",
        "- Create a program to do CRUD (create, read, update, delete) about your favorite product\n",
        "- The properties of the data is up to you, for example `name`, `product_type`, `price`, `location`, etc"
      ],
      "metadata": {
        "id": "Z9Fxnf4Gleu_"
      }
    },
    {
      "cell_type": "markdown",
      "source": [
        "# Solutions\n",
        "To complete this task, I will use Flask-RESTful to build REST API.\n",
        "<br><br>\n",
        "**Note:**\n",
        "\n",
        "For some reason, I'm not gonna re-run this notebook on Google Colab.\n",
        "<br><br>\n",
        "Actually, I run my program on my local computer using Sypder IDE. I'm not using Google Colab because it will raise an error. Up to now, I'm still not sure about the root cause and the solution. Most likely, this is related to the host. Some tutorials said that we can use `ngrok` to solve this problem. But for now, I won't use it.\n",
        "<br><br>\n",
        "And I'm not using Jupyter Notebook because the kernel can't be terminated (I have to re-open the notebook every time I want to terminate it). I think it's a bug from Jupyter Notebook.\n",
        "<br><br>\n",
        "For this task, I didn't set every status codes because I wasn't sure which status code I should use."
      ],
      "metadata": {
        "id": "uBHvGT9Mlpl-"
      }
    },
    {
      "cell_type": "markdown",
      "source": [
        "## Installing Libraries\n",
        "- `flask`\n",
        "- `flask_restful`"
      ],
      "metadata": {
        "id": "MCsaYpberpR_"
      }
    },
    {
      "cell_type": "code",
      "source": [
        "!pip install flask\n",
        "!pip install flask_restful"
      ],
      "metadata": {
        "id": "DDELM1Fwr0Af",
        "colab": {
          "base_uri": "https://localhost:8080/"
        },
        "outputId": "3e5809a2-0703-4559-b0b0-d5f15ebf4e0a"
      },
      "execution_count": null,
      "outputs": [
        {
          "output_type": "stream",
          "name": "stdout",
          "text": [
            "Requirement already satisfied: flask in /usr/local/lib/python3.7/dist-packages (1.1.4)\n",
            "Requirement already satisfied: click<8.0,>=5.1 in /usr/local/lib/python3.7/dist-packages (from flask) (7.1.2)\n",
            "Requirement already satisfied: itsdangerous<2.0,>=0.24 in /usr/local/lib/python3.7/dist-packages (from flask) (1.1.0)\n",
            "Requirement already satisfied: Werkzeug<2.0,>=0.15 in /usr/local/lib/python3.7/dist-packages (from flask) (1.0.1)\n",
            "Requirement already satisfied: Jinja2<3.0,>=2.10.1 in /usr/local/lib/python3.7/dist-packages (from flask) (2.11.3)\n",
            "Requirement already satisfied: MarkupSafe>=0.23 in /usr/local/lib/python3.7/dist-packages (from Jinja2<3.0,>=2.10.1->flask) (2.0.1)\n",
            "Requirement already satisfied: flask_restful in /usr/local/lib/python3.7/dist-packages (0.3.9)\n",
            "Requirement already satisfied: aniso8601>=0.82 in /usr/local/lib/python3.7/dist-packages (from flask_restful) (9.0.1)\n",
            "Requirement already satisfied: pytz in /usr/local/lib/python3.7/dist-packages (from flask_restful) (2018.9)\n",
            "Requirement already satisfied: six>=1.3.0 in /usr/local/lib/python3.7/dist-packages (from flask_restful) (1.15.0)\n",
            "Requirement already satisfied: Flask>=0.8 in /usr/local/lib/python3.7/dist-packages (from flask_restful) (1.1.4)\n",
            "Requirement already satisfied: click<8.0,>=5.1 in /usr/local/lib/python3.7/dist-packages (from Flask>=0.8->flask_restful) (7.1.2)\n",
            "Requirement already satisfied: Jinja2<3.0,>=2.10.1 in /usr/local/lib/python3.7/dist-packages (from Flask>=0.8->flask_restful) (2.11.3)\n",
            "Requirement already satisfied: itsdangerous<2.0,>=0.24 in /usr/local/lib/python3.7/dist-packages (from Flask>=0.8->flask_restful) (1.1.0)\n",
            "Requirement already satisfied: Werkzeug<2.0,>=0.15 in /usr/local/lib/python3.7/dist-packages (from Flask>=0.8->flask_restful) (1.0.1)\n",
            "Requirement already satisfied: MarkupSafe>=0.23 in /usr/local/lib/python3.7/dist-packages (from Jinja2<3.0,>=2.10.1->Flask>=0.8->flask_restful) (2.0.1)\n"
          ]
        }
      ]
    },
    {
      "cell_type": "markdown",
      "source": [
        "## Importing Libraries"
      ],
      "metadata": {
        "id": "amr7Qn3brWaB"
      }
    },
    {
      "cell_type": "code",
      "source": [
        "from flask import Flask\n",
        "from flask_restful import Resource, Api, reqparse"
      ],
      "metadata": {
        "id": "k3r_NEkkldri"
      },
      "execution_count": null,
      "outputs": []
    },
    {
      "cell_type": "markdown",
      "source": [
        "## Initialization"
      ],
      "metadata": {
        "id": "IJI3jpKosBCB"
      }
    },
    {
      "cell_type": "markdown",
      "source": [
        "### Creating Flask App"
      ],
      "metadata": {
        "id": "DARNKZuAsgkE"
      }
    },
    {
      "cell_type": "code",
      "source": [
        "# creating flask app\n",
        "app = Flask(__name__)\n",
        "api = Api(app)"
      ],
      "metadata": {
        "id": "TUmpOxolsH5h"
      },
      "execution_count": null,
      "outputs": []
    },
    {
      "cell_type": "markdown",
      "source": [
        "### Creating Data Placeholder\n",
        "We can use a list or a database to store our data. For this case, I will simply use a list."
      ],
      "metadata": {
        "id": "n0ZVSwQLsiyW"
      }
    },
    {
      "cell_type": "code",
      "source": [
        "# create a list to store the data\n",
        "product_list = []"
      ],
      "metadata": {
        "id": "3GIAHnPWs4tk"
      },
      "execution_count": null,
      "outputs": []
    },
    {
      "cell_type": "markdown",
      "source": [
        "### Defining Parser\n",
        "A parser is used to enable adding and parsing of multiple arguments in the context of a single request.\n",
        "<br><br>\n",
        "I will use 5 arguments (parameters):\n",
        "- `id` - identifier, acts as a primary key\n",
        "- `name` - product name\n",
        "- `type` - product type\n",
        "- `price` - product price\n",
        "- `location` - location to buy the product"
      ],
      "metadata": {
        "id": "VuVPi-MBs7Uk"
      }
    },
    {
      "cell_type": "code",
      "source": [
        "# instantiating the parser\n",
        "parser = reqparse.RequestParser()\n",
        "\n",
        "# adding arguments\n",
        "parser.add_argument('id', type=int, required=True)\n",
        "parser.add_argument('name', type=str, required=False, default=None)\n",
        "parser.add_argument('type', type=str, required=False, default=None)\n",
        "parser.add_argument('price', type=int, required=False, default=None)\n",
        "parser.add_argument('location', type=str, required=False, default=None)"
      ],
      "metadata": {
        "id": "_suFvJmHs_Go",
        "colab": {
          "base_uri": "https://localhost:8080/"
        },
        "outputId": "b85402ac-b9dc-4c40-e524-7f7c29cd7125"
      },
      "execution_count": null,
      "outputs": [
        {
          "output_type": "execute_result",
          "data": {
            "text/plain": [
              "<flask_restful.reqparse.RequestParser at 0x7f9afb6b2910>"
            ]
          },
          "metadata": {},
          "execution_count": 5
        }
      ]
    },
    {
      "cell_type": "markdown",
      "source": [
        "## Building REST API\n",
        "I will create 2 classes:\n",
        "- `mod_product` - to modify the product details, such as add, read, update, and remove\n",
        "- `show_product` - to show all products\n",
        "\n",
        "There are 5 REST API methods used here:\n",
        "- `get` - used to handle the GET method, which is used to read specific data\n",
        "- `post` - used to handle the POST method, which is used to add a new data\n",
        "- `put` - used to handle the PUT method, which is used to update specific data where the user sends the entire data (`id`, `name`, `type`, `price`, `location`) to replace the old data.\n",
        "- `fetch` - used to handle the FETCH method, which is used to update specific data where the user sends the partial data without modifying the entire data\n",
        "- `delete` - used to handle the DELETE method, which is used to delete specific data"
      ],
      "metadata": {
        "id": "145PXIW7uMO-"
      }
    },
    {
      "cell_type": "markdown",
      "source": [
        "### mod_product Class\n"
      ],
      "metadata": {
        "id": "F4BRgQhO0YUt"
      }
    },
    {
      "cell_type": "code",
      "source": [
        "class mod_product(Resource):\n",
        "    \n",
        "    # used to read specific product by its 'id'\n",
        "    def get(self):\n",
        "        not_exist = True\n",
        "        print(product_list)\n",
        "        \n",
        "        args = parser.parse_args()\n",
        "        \n",
        "        # if product exists, then return the product\n",
        "        for product in product_list:\n",
        "            if product['id'] == args['id']:\n",
        "                return product\n",
        "\n",
        "        # if product does not exist, return an error message    \n",
        "        if not_exist:\n",
        "            return {'id':'product id not found'}, 404\n",
        "    \n",
        "    # used to add a new product\n",
        "    def post(self):\n",
        "        not_exist = True\n",
        "        \n",
        "        args = parser.parse_args()\n",
        "        \n",
        "        # if product already exists, return an error message\n",
        "        for product in product_list:\n",
        "            if product['id'] == args['id']:\n",
        "                print(product)\n",
        "                return {'id':'product id already exists'}\n",
        "        \n",
        "        # if product does not exist, add new product data to the list\n",
        "        if not_exist:\n",
        "            product_list.append(args)\n",
        "            \n",
        "            print(product_list)\n",
        "            return args\n",
        "    \n",
        "    # used to update all product's properties\n",
        "    def put(self):\n",
        "        not_exist = True\n",
        "        \n",
        "        args = parser.parse_args()\n",
        "        \n",
        "        # if product exists, update the data\n",
        "        for index, product in enumerate(product_list):\n",
        "            if product['id'] == args['id']:\n",
        "                               \n",
        "                product_list[index] = args\n",
        "                print(product_list[index])\n",
        "                return args\n",
        "        \n",
        "        # if product does not exist, return an error message   \n",
        "        if not_exist:\n",
        "            print(args)\n",
        "            return {'id':'product id not found'}, 404\n",
        "        \n",
        "    # used to update some product's properties\n",
        "    def patch(self):\n",
        "        not_exist = True\n",
        "        \n",
        "        args = parser.parse_args()\n",
        "        \n",
        "        # if product exists, update the data\n",
        "        for index, product in enumerate(product_list):\n",
        "            if product['id'] == args['id']:\n",
        "                new_data = {}\n",
        "                for key, value in args.items():\n",
        "                    if value is None:\n",
        "                        new_data[key] = product[key]\n",
        "                    else:\n",
        "                        new_data[key] = args[key]\n",
        "                                \n",
        "                product_list[index] = new_data\n",
        "                print(new_data)\n",
        "                return new_data\n",
        "        \n",
        "        # if product does not exist, return an error message   \n",
        "        if not_exist:\n",
        "            print(product_list)\n",
        "            return {'id':'product id not found'}, 404\n",
        "    \n",
        "    # sed to delete specific product by its 'id'\n",
        "    def delete(self):\n",
        "        not_exist = True\n",
        "        \n",
        "        args = parser.parse_args()\n",
        "        \n",
        "        # if product exists, delete the data\n",
        "        for index, product in enumerate(product_list):\n",
        "            if product['id'] == args['id']:\n",
        "                del_product = product_list.pop(index)\n",
        "                print(del_product)\n",
        "                return {'id':'product has deleted'}\n",
        "        \n",
        "        # if product does not exist, return an error message   \n",
        "        if not_exist:\n",
        "            print(args)\n",
        "            return {'id':'product id not found'}, 404"
      ],
      "metadata": {
        "id": "JP6DJf70z3ba"
      },
      "execution_count": null,
      "outputs": []
    },
    {
      "cell_type": "markdown",
      "source": [
        "### show_product Class"
      ],
      "metadata": {
        "id": "at22GhC_9xPW"
      }
    },
    {
      "cell_type": "code",
      "source": [
        "class show_product(Resource):\n",
        "    \n",
        "    # this class is only accepting the GET method\n",
        "    def get(self):\n",
        "        return {'product list':product_list}"
      ],
      "metadata": {
        "id": "DK0gOYWE9vo9"
      },
      "execution_count": null,
      "outputs": []
    },
    {
      "cell_type": "markdown",
      "source": [
        "## Adding Resources"
      ],
      "metadata": {
        "id": "u1elN6sT9zxq"
      }
    },
    {
      "cell_type": "code",
      "source": [
        "# localhost:5000/item will be used to run mod_product\n",
        "api.add_resource(mod_product, '/item')\n",
        "\n",
        "# localhost:5000/show will be used to run show_product\n",
        "api.add_resource(show_product, '/show')"
      ],
      "metadata": {
        "id": "mNA8m8g092Xe"
      },
      "execution_count": null,
      "outputs": []
    },
    {
      "cell_type": "markdown",
      "source": [
        "## Running the App"
      ],
      "metadata": {
        "id": "rA1AXs8S947w"
      }
    },
    {
      "cell_type": "code",
      "source": [
        "# run the app\n",
        "if __name__ == '__main__':\n",
        "  app.run(debug=True, use_reloader=False)  "
      ],
      "metadata": {
        "id": "qavdWqIU96TC",
        "colab": {
          "base_uri": "https://localhost:8080/"
        },
        "outputId": "509f13a6-c4d5-4339-c545-1f4a9d9a509f"
      },
      "execution_count": null,
      "outputs": [
        {
          "output_type": "stream",
          "name": "stdout",
          "text": [
            " * Serving Flask app \"__main__\" (lazy loading)\n",
            " * Environment: production\n",
            "\u001b[31m   WARNING: This is a development server. Do not use it in a production deployment.\u001b[0m\n",
            "\u001b[2m   Use a production WSGI server instead.\u001b[0m\n",
            " * Debug mode: on\n"
          ]
        },
        {
          "output_type": "stream",
          "name": "stderr",
          "text": [
            " * Running on http://127.0.0.1:5000/ (Press CTRL+C to quit)\n"
          ]
        }
      ]
    },
    {
      "cell_type": "markdown",
      "source": [
        "## Running on Spyder IDE\n",
        "\n",
        "<img src='https://drive.google.com/uc?export=view&id=1yvqz3aWlubcscVzyfa0qs67mjgcVsWM_'>"
      ],
      "metadata": {
        "id": "jBeUowPZIdHv"
      }
    },
    {
      "cell_type": "markdown",
      "source": [
        "## API Testing on Postman"
      ],
      "metadata": {
        "id": "3Ra8hRyLkdTf"
      }
    },
    {
      "cell_type": "markdown",
      "source": [
        "### Add Item"
      ],
      "metadata": {
        "id": "iy7UzSpPkkzq"
      }
    },
    {
      "cell_type": "markdown",
      "source": [
        "#### Add New Item\n",
        "<img src='https://drive.google.com/uc?export=view&id=1lWIP6Du_LI2UINeVpsianG0diN-kPabu' width=80%>"
      ],
      "metadata": {
        "id": "qBXlgJ5HlAUP"
      }
    },
    {
      "cell_type": "markdown",
      "source": [
        "#### Item Already Exists\n",
        "Each item is identified by `id`. So, we can't add a new item with the same `id`.\n",
        "\n",
        "<img src='https://drive.google.com/uc?export=view&id=10qiufZIDE9Y6V3gTR6J3MGgPFlwgmPio' width=80%>\n",
        "\n",
        "To add a new item, we have to use different `id`.\n",
        "\n",
        "<img src='https://drive.google.com/uc?export=view&id=1s9UnLQlUB1V3DdrgljnA00PBr_MK5i0O' width=80%>"
      ],
      "metadata": {
        "id": "-0IemAzAlCkm"
      }
    },
    {
      "cell_type": "markdown",
      "source": [
        "### Read Item"
      ],
      "metadata": {
        "id": "zPluyAExkmZX"
      }
    },
    {
      "cell_type": "markdown",
      "source": [
        "#### Read All Items\n",
        "\n",
        "<img src='https://drive.google.com/uc?export=view&id=137w3mWJw5lmp_O0LJgVBkBzBJVVT4S-v' width=80%>"
      ],
      "metadata": {
        "id": "U_8aDG0R1j0T"
      }
    },
    {
      "cell_type": "markdown",
      "source": [
        "#### Read an Item\n",
        "\n",
        "I use query string parameter `127.0.0.1:5000/item?id=1` to see the product details with `id` 1.\n",
        "\n",
        "<img src='https://drive.google.com/uc?export=view&id=1ttwY4NurJ_ENdGiSWNMJjW714weYaH4t' width=80%>"
      ],
      "metadata": {
        "id": "x0eTgbuZmmXB"
      }
    },
    {
      "cell_type": "markdown",
      "source": [
        "#### Item not Exists\n",
        "\n",
        "I don't have an item with `id` 3, so it won't show the product details.\n",
        "\n",
        "<img src='https://drive.google.com/uc?export=view&id=1S2Ni-EhVhSlm-n5FflgeBCq5xiAgrkqF' width=80%>"
      ],
      "metadata": {
        "id": "reZzPEs8nVwh"
      }
    },
    {
      "cell_type": "markdown",
      "source": [
        "### Update Entire Properties"
      ],
      "metadata": {
        "id": "L33aDzMMkqSG"
      }
    },
    {
      "cell_type": "markdown",
      "source": [
        "#### Update an Item\n",
        "I will update the product with `id` 1, and I will update all of its properties using the PUT method.\n",
        "\n",
        "<img src='https://drive.google.com/uc?export=view&id=1BK_M26b-jtW9X1ZgMnUyhIy6euhyr2bO' width=80%>\n",
        "\n",
        "It will replace the previous product data.\n",
        "\n",
        "<img src='https://drive.google.com/uc?export=view&id=11OH3cIL9c5VoUXiA2lvbLNmku2qY2LQ2' width=80%>"
      ],
      "metadata": {
        "id": "fW5qzMkF2LuD"
      }
    },
    {
      "cell_type": "markdown",
      "source": [
        "#### Item not Exists\n",
        "\n",
        "I don't have an item with `id` 3, so it won't change any product properties.\n",
        "\n",
        "<img src='https://drive.google.com/uc?export=view&id=1lh5Z8G6gWgZdOv-PWKNyPpvOzLCBPqqA' width=80%>"
      ],
      "metadata": {
        "id": "8Pp0BQoc3Co4"
      }
    },
    {
      "cell_type": "markdown",
      "source": [
        "### Update Partial Properties"
      ],
      "metadata": {
        "id": "8VhGJNrg3iET"
      }
    },
    {
      "cell_type": "markdown",
      "source": [
        "#### Update an Item\n",
        "I will update the product with `id` 2, and I will update part of its properties using the PATCH method.\n",
        "\n",
        "<img src='https://drive.google.com/uc?export=view&id=1YBpStc7Cb-Ow_CmKdAReGs9Zed0lfWKS' width=80%>\n",
        "\n",
        "It will update the previous product data.\n",
        "\n",
        "<img src='https://drive.google.com/uc?export=view&id=1ixPkaWn9GXAr4c_q5seiURXJNmBK98_A' width=80%>"
      ],
      "metadata": {
        "id": "QVbftkje3mi7"
      }
    },
    {
      "cell_type": "markdown",
      "source": [
        "#### Item not Exists\n",
        "\n",
        "I don't have an item with `id` 3, so it won't change any product properties.\n",
        "\n",
        "<img src='https://drive.google.com/uc?export=view&id=1GC92dU0fVIFqR8GPGAIWITwE7WszRTOf' width=80%>"
      ],
      "metadata": {
        "id": "bs2qslWf4NHL"
      }
    },
    {
      "cell_type": "markdown",
      "source": [
        "### Delete Item"
      ],
      "metadata": {
        "id": "wGk8aA5kkvzU"
      }
    },
    {
      "cell_type": "markdown",
      "source": [
        "#### Delete an Item\n",
        "I will delete the product with `id` 1.\n",
        "\n",
        "<img src='https://drive.google.com/uc?export=view&id=1uD9GKIyp8z0JVfvxUvCz5oiSs7TEMCMu' width=80%>\n",
        "\n",
        "The product data will be removed from the list.\n",
        "\n",
        "<img src='https://drive.google.com/uc?export=view&id=1iUutw_YSAtiV9yl5QNZPQvsyWluaWl-D' width=80%>\n"
      ],
      "metadata": {
        "id": "Ua-C_N4r4WtP"
      }
    },
    {
      "cell_type": "markdown",
      "source": [
        "#### Item not Exists\n",
        "\n",
        "I don't have an item with `id` 3, so it won't delete any product data.\n",
        "\n",
        "<img src='https://drive.google.com/uc?export=view&id=1Dc9q4ukN_38V6RkPLMszzj1xj2RlyrLM' width=80%>"
      ],
      "metadata": {
        "id": "Gd0Tz2lj44hd"
      }
    }
  ]
}