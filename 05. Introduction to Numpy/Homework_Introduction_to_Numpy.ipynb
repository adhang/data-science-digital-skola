{
  "nbformat": 4,
  "nbformat_minor": 0,
  "metadata": {
    "colab": {
      "name": "Homework - Introduction to Numpy.ipynb",
      "provenance": [],
      "collapsed_sections": [],
      "authorship_tag": "ABX9TyO2vx1ILwmCgrs6/jCKMhJA",
      "include_colab_link": true
    },
    "kernelspec": {
      "name": "python3",
      "display_name": "Python 3"
    },
    "language_info": {
      "name": "python"
    }
  },
  "cells": [
    {
      "cell_type": "markdown",
      "metadata": {
        "id": "view-in-github",
        "colab_type": "text"
      },
      "source": [
        "<a href=\"https://colab.research.google.com/github/adhang/data-science-digitalskola/blob/update/04.%20Introduction%20to%20Numpy/Homework_Introduction_to_Numpy.ipynb\" target=\"_parent\"><img src=\"https://colab.research.google.com/assets/colab-badge.svg\" alt=\"Open In Colab\"/></a>"
      ]
    },
    {
      "cell_type": "markdown",
      "source": [
        "# Homework - Introduction to Numpy\n",
        "Author: Adhang Muntaha Muhammad\n",
        "\n",
        "[GitHub](https://github.com/adhang)\n",
        "[LinkedIn](https://www.linkedin.com/in/adhangmuntaha/)\n",
        "___"
      ],
      "metadata": {
        "id": "FrFFJ4cMy8qT"
      }
    },
    {
      "cell_type": "markdown",
      "source": [
        "## Soal\n",
        "\n",
        "1. Buatlah matrix 2 dimensi dengan nilai seperti ini\n",
        "2. Coding dan ambil angka yang berwarna merah\n",
        "3. Coding dan ambil angka yang berwarna kuning\n",
        "\n",
        "<img src='https://drive.google.com/uc?export=view&id=1A-dIyJaDCmGZfSvpGAXW18xQs-cJorkd' width=400>\n",
        "\n"
      ],
      "metadata": {
        "id": "U64KL65L80p4"
      }
    },
    {
      "cell_type": "markdown",
      "source": [
        "## Jawaban Soal Nomor 1"
      ],
      "metadata": {
        "id": "VTfNBa_dz1Jg"
      }
    },
    {
      "cell_type": "code",
      "source": [
        "import numpy as np\n",
        "\n",
        "# cara ke-1\n",
        "# menuliskan data secara manual\n",
        "arr = np.array([[1,2,3,4,5,6],\n",
        "                [7,8,9,10,11,12],\n",
        "                [13,14,15,16,17,18],\n",
        "                [19,20,21,22,23,24],\n",
        "                [25,26,27,28,29,30]])\n",
        "arr"
      ],
      "metadata": {
        "colab": {
          "base_uri": "https://localhost:8080/"
        },
        "id": "aCRd-QFx0ddE",
        "outputId": "f90d48d7-4b8f-4f69-82c9-b759f27959b0"
      },
      "execution_count": null,
      "outputs": [
        {
          "output_type": "execute_result",
          "data": {
            "text/plain": [
              "array([[ 1,  2,  3,  4,  5,  6],\n",
              "       [ 7,  8,  9, 10, 11, 12],\n",
              "       [13, 14, 15, 16, 17, 18],\n",
              "       [19, 20, 21, 22, 23, 24],\n",
              "       [25, 26, 27, 28, 29, 30]])"
            ]
          },
          "metadata": {},
          "execution_count": 39
        }
      ]
    },
    {
      "cell_type": "code",
      "source": [
        "# cara ke-2\n",
        "# karena datanya urut, bisa menggunakan fungsi arange()\n",
        "arr = np.array([np.arange(1,6+1),\n",
        "                np.arange(7,12+1),\n",
        "                np.arange(13,18+1),\n",
        "                np.arange(19,24+1),\n",
        "                np.arange(25,30+1)])\n",
        "arr"
      ],
      "metadata": {
        "colab": {
          "base_uri": "https://localhost:8080/"
        },
        "id": "AK3h8klK1ECE",
        "outputId": "f58389b8-b8d4-4292-829d-9cd0e2c66378"
      },
      "execution_count": null,
      "outputs": [
        {
          "output_type": "execute_result",
          "data": {
            "text/plain": [
              "array([[ 1,  2,  3,  4,  5,  6],\n",
              "       [ 7,  8,  9, 10, 11, 12],\n",
              "       [13, 14, 15, 16, 17, 18],\n",
              "       [19, 20, 21, 22, 23, 24],\n",
              "       [25, 26, 27, 28, 29, 30]])"
            ]
          },
          "metadata": {},
          "execution_count": 40
        }
      ]
    },
    {
      "cell_type": "markdown",
      "source": [
        "## Jawaban Soal Nomor 2\n",
        "Karena cell berwana merah membentuk L-shape, maka (sepengetahuan saya) tidak bisa dilakukan hanya dengan 1 kali slicing"
      ],
      "metadata": {
        "id": "US0NobTv1Mx-"
      }
    },
    {
      "cell_type": "code",
      "source": [
        "# mengambil angka merah vertikal\n",
        "arr_merah_1 = arr[:,1]\n",
        "arr_merah_1"
      ],
      "metadata": {
        "colab": {
          "base_uri": "https://localhost:8080/"
        },
        "id": "asrbN_CV1sk7",
        "outputId": "a2db26bb-0034-4a6f-c5fd-2a7567c23c95"
      },
      "execution_count": null,
      "outputs": [
        {
          "output_type": "execute_result",
          "data": {
            "text/plain": [
              "array([ 2,  8, 14, 20, 26])"
            ]
          },
          "metadata": {},
          "execution_count": 41
        }
      ]
    },
    {
      "cell_type": "code",
      "source": [
        "# mengambil angka merah horizontal\n",
        "# angka 2 di-exclude, agar tidak terjadi duplicate data\n",
        "arr_merah_2 = arr[0,2:]\n",
        "arr_merah_2"
      ],
      "metadata": {
        "colab": {
          "base_uri": "https://localhost:8080/"
        },
        "id": "5byDHHID5u4s",
        "outputId": "20b37c8d-5502-43cd-8c44-97926aa2ab5a"
      },
      "execution_count": null,
      "outputs": [
        {
          "output_type": "execute_result",
          "data": {
            "text/plain": [
              "array([3, 4, 5, 6])"
            ]
          },
          "metadata": {},
          "execution_count": 42
        }
      ]
    },
    {
      "cell_type": "markdown",
      "source": [
        "## Jawaban Soal Nomor 3"
      ],
      "metadata": {
        "id": "-OtS5pQ72aJn"
      }
    },
    {
      "cell_type": "code",
      "source": [
        "# mengambil angka kuning\n",
        "arr_kuning = arr[-2:, -2:]\n",
        "arr_kuning"
      ],
      "metadata": {
        "colab": {
          "base_uri": "https://localhost:8080/"
        },
        "id": "i3Ch1Ke84Lko",
        "outputId": "781a1a66-ca74-4ef2-8025-1c2d7c8a2d84"
      },
      "execution_count": null,
      "outputs": [
        {
          "output_type": "execute_result",
          "data": {
            "text/plain": [
              "array([[23, 24],\n",
              "       [29, 30]])"
            ]
          },
          "metadata": {},
          "execution_count": 43
        }
      ]
    },
    {
      "cell_type": "code",
      "source": [
        ""
      ],
      "metadata": {
        "id": "-Rspvotn56z_"
      },
      "execution_count": null,
      "outputs": []
    }
  ]
}