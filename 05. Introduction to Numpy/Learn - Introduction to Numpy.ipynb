{
  "nbformat": 4,
  "nbformat_minor": 0,
  "metadata": {
    "colab": {
      "name": "Learn - Introduction to Numpy.ipynb",
      "provenance": [],
      "toc_visible": true,
      "collapsed_sections": [
        "bnhWPV9k0LnT",
        "R1PWGmwb0LnU"
      ],
      "authorship_tag": "ABX9TyNC8s8hx94JOqZsDcbfmvhY",
      "include_colab_link": true
    },
    "kernelspec": {
      "name": "python3",
      "display_name": "Python 3"
    },
    "language_info": {
      "name": "python"
    }
  },
  "cells": [
    {
      "cell_type": "markdown",
      "metadata": {
        "id": "view-in-github",
        "colab_type": "text"
      },
      "source": [
        "<a href=\"https://colab.research.google.com/github/adhang/data-science-digitalskola/blob/update/05.%20Introduction%20to%20Numpy/Learn%20-%20Introduction%20to%20Numpy.ipynb\" target=\"_parent\"><img src=\"https://colab.research.google.com/assets/colab-badge.svg\" alt=\"Open In Colab\"/></a>"
      ]
    },
    {
      "cell_type": "markdown",
      "source": [
        "# Introduction to Numpy\n",
        "Author: Adhang Muntaha Muhammad\n",
        "\n",
        "[![LinkedIn](https://img.shields.io/badge/linkedin-0077B5?style=for-the-badge&logo=linkedin&logoColor=white&link=https://www.linkedin.com/in/adhangmuntaha/)](https://www.linkedin.com/in/adhangmuntaha/)\n",
        "[![GitHub](https://img.shields.io/badge/github-121011?style=for-the-badge&logo=github&logoColor=white&link=https://github.com/adhang)](https://github.com/adhang)\n",
        "[![Kaggle](https://img.shields.io/badge/kaggle-20BEFF?style=for-the-badge&logo=kaggle&logoColor=white&link=https://www.kaggle.com/adhang)](https://www.kaggle.com/adhang)\n",
        "[![Tableau](https://img.shields.io/badge/tableau-E97627?style=for-the-badge&logo=tableau&logoColor=white&link=https://public.tableau.com/app/profile/adhang)](https://public.tableau.com/app/profile/adhang)\n",
        "___\n",
        "**Contents**\n",
        "- Creating Array\n",
        "- Indexing Array\n",
        "- Reshaping Array\n",
        "- Joining Array\n",
        "- Splitting Array\n",
        "- Sorting Array\n",
        "- Filtering Array\n",
        "- Matrix Operation"
      ],
      "metadata": {
        "id": "pEdrQe0I0LnG"
      }
    },
    {
      "cell_type": "markdown",
      "source": [
        "# Creating Array"
      ],
      "metadata": {
        "id": "ZcrsZsrQ0LnJ"
      }
    },
    {
      "cell_type": "code",
      "source": [
        "!pip install numpy"
      ],
      "metadata": {
        "colab": {
          "base_uri": "https://localhost:8080/"
        },
        "outputId": "33658758-fac9-4f56-e641-cd68ecee1b92",
        "id": "NxZDMT2y0LnK"
      },
      "execution_count": null,
      "outputs": [
        {
          "output_type": "stream",
          "name": "stdout",
          "text": [
            "Requirement already satisfied: numpy in /usr/local/lib/python3.7/dist-packages (1.19.5)\n"
          ]
        }
      ]
    },
    {
      "cell_type": "code",
      "source": [
        "import numpy as np\n",
        "\n",
        "np.__version__"
      ],
      "metadata": {
        "colab": {
          "base_uri": "https://localhost:8080/",
          "height": 35
        },
        "outputId": "ae658e32-2c2b-4a44-c68b-952f352f9c9a",
        "id": "Ovw5Hj-y0LnL"
      },
      "execution_count": null,
      "outputs": [
        {
          "output_type": "execute_result",
          "data": {
            "application/vnd.google.colaboratory.intrinsic+json": {
              "type": "string"
            },
            "text/plain": [
              "'1.19.5'"
            ]
          },
          "metadata": {},
          "execution_count": 1
        }
      ]
    },
    {
      "cell_type": "code",
      "source": [
        "# 1D array\n",
        "arr1 = np.array([1,2,3,4])\n",
        "arr1"
      ],
      "metadata": {
        "colab": {
          "base_uri": "https://localhost:8080/"
        },
        "outputId": "ffa24416-0ba9-43af-faeb-86e75c7e81b8",
        "id": "H97ngbiT0LnL"
      },
      "execution_count": null,
      "outputs": [
        {
          "output_type": "execute_result",
          "data": {
            "text/plain": [
              "array([1, 2, 3, 4])"
            ]
          },
          "metadata": {},
          "execution_count": 3
        }
      ]
    },
    {
      "cell_type": "code",
      "source": [
        "# 2D array\n",
        "arr2 = np.array([[1,2,3], [4,5,6]])\n",
        "arr2"
      ],
      "metadata": {
        "colab": {
          "base_uri": "https://localhost:8080/"
        },
        "outputId": "0852eb49-c9db-4036-df6b-bdd38be252a7",
        "id": "qYkiR1J80LnM"
      },
      "execution_count": null,
      "outputs": [
        {
          "output_type": "execute_result",
          "data": {
            "text/plain": [
              "array([[1, 2, 3],\n",
              "       [4, 5, 6]])"
            ]
          },
          "metadata": {},
          "execution_count": 4
        }
      ]
    },
    {
      "cell_type": "code",
      "source": [
        "# 3D array\n",
        "arr3 = np.array([\n",
        "                 [[1,2,3], [4,5,6]], \n",
        "                 [[7,8,9], [10,11,12]]\n",
        "                 ])\n",
        "arr3"
      ],
      "metadata": {
        "colab": {
          "base_uri": "https://localhost:8080/"
        },
        "outputId": "78dfcf54-35f6-4f6d-c7e1-12c21878b13c",
        "id": "94morMLT0LnM"
      },
      "execution_count": null,
      "outputs": [
        {
          "output_type": "execute_result",
          "data": {
            "text/plain": [
              "array([[[ 1,  2,  3],\n",
              "        [ 4,  5,  6]],\n",
              "\n",
              "       [[ 7,  8,  9],\n",
              "        [10, 11, 12]]])"
            ]
          },
          "metadata": {},
          "execution_count": 5
        }
      ]
    },
    {
      "cell_type": "code",
      "source": [
        "# Dimension checking\n",
        "print(\"arr1:\", arr1.ndim)\n",
        "print(\"arr2:\", arr2.ndim)\n",
        "print(\"arr3:\", arr3.ndim)"
      ],
      "metadata": {
        "colab": {
          "base_uri": "https://localhost:8080/"
        },
        "outputId": "a4147dca-7bcd-40f7-9067-9e5f8b698de9",
        "id": "f7GbvbDd0LnN"
      },
      "execution_count": null,
      "outputs": [
        {
          "output_type": "stream",
          "name": "stdout",
          "text": [
            "arr1: 1\n",
            "arr2: 2\n",
            "arr3: 3\n"
          ]
        }
      ]
    },
    {
      "cell_type": "markdown",
      "source": [
        "# Indexing Array"
      ],
      "metadata": {
        "id": "6Ed78x7H0LnN"
      }
    },
    {
      "cell_type": "code",
      "source": [
        "arr = np.array([i+1 for i in range(20)])\n",
        "arr"
      ],
      "metadata": {
        "colab": {
          "base_uri": "https://localhost:8080/"
        },
        "outputId": "586bff11-dff3-4bd4-e23f-fc3114ed8f30",
        "id": "jY5Iu3Ku0LnN"
      },
      "execution_count": null,
      "outputs": [
        {
          "output_type": "execute_result",
          "data": {
            "text/plain": [
              "array([ 1,  2,  3,  4,  5,  6,  7,  8,  9, 10, 11, 12, 13, 14, 15, 16, 17,\n",
              "       18, 19, 20])"
            ]
          },
          "metadata": {},
          "execution_count": 7
        }
      ]
    },
    {
      "cell_type": "code",
      "source": [
        "# first element\n",
        "arr[0]"
      ],
      "metadata": {
        "colab": {
          "base_uri": "https://localhost:8080/"
        },
        "outputId": "c282c0bb-d068-4161-a1d9-1ae0bc7b3a54",
        "id": "qNWoCyiO0LnO"
      },
      "execution_count": null,
      "outputs": [
        {
          "output_type": "execute_result",
          "data": {
            "text/plain": [
              "1"
            ]
          },
          "metadata": {},
          "execution_count": 8
        }
      ]
    },
    {
      "cell_type": "code",
      "source": [
        "# last element\n",
        "arr[-1]"
      ],
      "metadata": {
        "colab": {
          "base_uri": "https://localhost:8080/"
        },
        "outputId": "346b42da-28e2-49e9-c7db-d26f6f15dfef",
        "id": "88GdxxnK0LnO"
      },
      "execution_count": null,
      "outputs": [
        {
          "output_type": "execute_result",
          "data": {
            "text/plain": [
              "20"
            ]
          },
          "metadata": {},
          "execution_count": 9
        }
      ]
    },
    {
      "cell_type": "code",
      "source": [
        "# 6-th element upto last element\n",
        "arr[5:]"
      ],
      "metadata": {
        "colab": {
          "base_uri": "https://localhost:8080/"
        },
        "outputId": "759168fb-832a-4a35-dbb9-75222083a8a2",
        "id": "Yrv5HBmJ0LnP"
      },
      "execution_count": null,
      "outputs": [
        {
          "output_type": "execute_result",
          "data": {
            "text/plain": [
              "array([ 6,  7,  8,  9, 10, 11, 12, 13, 14, 15, 16, 17, 18, 19, 20])"
            ]
          },
          "metadata": {},
          "execution_count": 10
        }
      ]
    },
    {
      "cell_type": "code",
      "source": [
        "arr2"
      ],
      "metadata": {
        "colab": {
          "base_uri": "https://localhost:8080/"
        },
        "outputId": "b994c77b-c6ab-4400-a28c-58518d5866e0",
        "id": "l54jLurA0LnP"
      },
      "execution_count": null,
      "outputs": [
        {
          "output_type": "execute_result",
          "data": {
            "text/plain": [
              "array([[1, 2, 3],\n",
              "       [4, 5, 6]])"
            ]
          },
          "metadata": {},
          "execution_count": 11
        }
      ]
    },
    {
      "cell_type": "code",
      "source": [
        "# first row\n",
        "arr2[0]"
      ],
      "metadata": {
        "colab": {
          "base_uri": "https://localhost:8080/"
        },
        "outputId": "b5b597af-b34a-4b6f-df84-1fa222e87c3d",
        "id": "XnmeeUPf0LnQ"
      },
      "execution_count": null,
      "outputs": [
        {
          "output_type": "execute_result",
          "data": {
            "text/plain": [
              "array([1, 2, 3])"
            ]
          },
          "metadata": {},
          "execution_count": 12
        }
      ]
    },
    {
      "cell_type": "code",
      "source": [
        "# first row, 3rd column\n",
        "arr2[0][2]"
      ],
      "metadata": {
        "colab": {
          "base_uri": "https://localhost:8080/"
        },
        "outputId": "9b4502c9-6e64-425c-d5e8-3200cff6a5b3",
        "id": "FYVhKgIJ0LnQ"
      },
      "execution_count": null,
      "outputs": [
        {
          "output_type": "execute_result",
          "data": {
            "text/plain": [
              "3"
            ]
          },
          "metadata": {},
          "execution_count": 13
        }
      ]
    },
    {
      "cell_type": "code",
      "source": [
        "# first row, 3rd column\n",
        "arr2[0, 2]"
      ],
      "metadata": {
        "colab": {
          "base_uri": "https://localhost:8080/"
        },
        "outputId": "fb90ec32-94d1-49cf-e7e8-0ea97916306a",
        "id": "p1-gJcfB0LnQ"
      },
      "execution_count": null,
      "outputs": [
        {
          "output_type": "execute_result",
          "data": {
            "text/plain": [
              "3"
            ]
          },
          "metadata": {},
          "execution_count": 14
        }
      ]
    },
    {
      "cell_type": "markdown",
      "source": [
        "# Reshaping Array"
      ],
      "metadata": {
        "id": "_dBGPDBe0LnR"
      }
    },
    {
      "cell_type": "code",
      "source": [
        "print(\"arr:\", arr.ndim)\n",
        "arr"
      ],
      "metadata": {
        "colab": {
          "base_uri": "https://localhost:8080/"
        },
        "outputId": "109cfe2b-e462-483b-81a1-9cce5dcdba7e",
        "id": "_ma1SzGA0LnR"
      },
      "execution_count": null,
      "outputs": [
        {
          "output_type": "stream",
          "name": "stdout",
          "text": [
            "arr: 1\n"
          ]
        },
        {
          "output_type": "execute_result",
          "data": {
            "text/plain": [
              "array([ 1,  2,  3,  4,  5,  6,  7,  8,  9, 10, 11, 12, 13, 14, 15, 16, 17,\n",
              "       18, 19, 20])"
            ]
          },
          "metadata": {},
          "execution_count": 15
        }
      ]
    },
    {
      "cell_type": "code",
      "source": [
        "# 4 row, 5 col\n",
        "arr.reshape(4,5)"
      ],
      "metadata": {
        "colab": {
          "base_uri": "https://localhost:8080/"
        },
        "outputId": "7c04574e-383f-452d-f845-228e723c038a",
        "id": "n0DuUP160LnR"
      },
      "execution_count": null,
      "outputs": [
        {
          "output_type": "execute_result",
          "data": {
            "text/plain": [
              "array([[ 1,  2,  3,  4,  5],\n",
              "       [ 6,  7,  8,  9, 10],\n",
              "       [11, 12, 13, 14, 15],\n",
              "       [16, 17, 18, 19, 20]])"
            ]
          },
          "metadata": {},
          "execution_count": 16
        }
      ]
    },
    {
      "cell_type": "code",
      "source": [
        "# unspecified size is defined with -1\n",
        "# 1 col, unkown row (not specified)\n",
        "arr.reshape(-1,1)"
      ],
      "metadata": {
        "colab": {
          "base_uri": "https://localhost:8080/"
        },
        "outputId": "2a2a7cd5-cd66-4b19-c7a7-9e088ff2aecc",
        "id": "PVzNq6qG0LnS"
      },
      "execution_count": null,
      "outputs": [
        {
          "output_type": "execute_result",
          "data": {
            "text/plain": [
              "array([[ 1],\n",
              "       [ 2],\n",
              "       [ 3],\n",
              "       [ 4],\n",
              "       [ 5],\n",
              "       [ 6],\n",
              "       [ 7],\n",
              "       [ 8],\n",
              "       [ 9],\n",
              "       [10],\n",
              "       [11],\n",
              "       [12],\n",
              "       [13],\n",
              "       [14],\n",
              "       [15],\n",
              "       [16],\n",
              "       [17],\n",
              "       [18],\n",
              "       [19],\n",
              "       [20]])"
            ]
          },
          "metadata": {},
          "execution_count": 17
        }
      ]
    },
    {
      "cell_type": "code",
      "source": [
        "# 5 col, -1 row (20/5 = 4)\n",
        "arr.reshape(-1,5)"
      ],
      "metadata": {
        "colab": {
          "base_uri": "https://localhost:8080/"
        },
        "outputId": "8bfe7909-4eb6-4c7d-e595-bc82f114b1e7",
        "id": "xLq_7eYZ0LnS"
      },
      "execution_count": null,
      "outputs": [
        {
          "output_type": "execute_result",
          "data": {
            "text/plain": [
              "array([[ 1,  2,  3,  4,  5],\n",
              "       [ 6,  7,  8,  9, 10],\n",
              "       [11, 12, 13, 14, 15],\n",
              "       [16, 17, 18, 19, 20]])"
            ]
          },
          "metadata": {},
          "execution_count": 18
        }
      ]
    },
    {
      "cell_type": "code",
      "source": [
        "# reshape 1D to 3D\n",
        "arr.reshape(2,2,5)"
      ],
      "metadata": {
        "colab": {
          "base_uri": "https://localhost:8080/"
        },
        "outputId": "963bba0c-502c-4baa-81a8-a072833c2dde",
        "id": "JLrXrX7f0LnT"
      },
      "execution_count": null,
      "outputs": [
        {
          "output_type": "execute_result",
          "data": {
            "text/plain": [
              "array([[[ 1,  2,  3,  4,  5],\n",
              "        [ 6,  7,  8,  9, 10]],\n",
              "\n",
              "       [[11, 12, 13, 14, 15],\n",
              "        [16, 17, 18, 19, 20]]])"
            ]
          },
          "metadata": {},
          "execution_count": 19
        }
      ]
    },
    {
      "cell_type": "markdown",
      "source": [
        "# Joining Array"
      ],
      "metadata": {
        "id": "bnhWPV9k0LnT"
      }
    },
    {
      "cell_type": "code",
      "source": [
        "arr1 = np.array([1,2,3])\n",
        "arr2 = np.array([4,5,6])\n",
        "\n",
        "concat0 = np.concatenate((arr1, arr2), axis=0)\n",
        "concat0"
      ],
      "metadata": {
        "colab": {
          "base_uri": "https://localhost:8080/"
        },
        "outputId": "cd09096b-addc-4553-8800-5c15d0d33040",
        "id": "NwkYthsC0LnT"
      },
      "execution_count": null,
      "outputs": [
        {
          "output_type": "execute_result",
          "data": {
            "text/plain": [
              "array([1, 2, 3, 4, 5, 6])"
            ]
          },
          "metadata": {},
          "execution_count": 20
        }
      ]
    },
    {
      "cell_type": "code",
      "source": [
        "arr1 = np.array([[1,2,3],[4,5,6]])\n",
        "arr2 = np.array([[10,11,12],[13,14,15]])\n",
        "\n",
        "concat1 = np.concatenate((arr1, arr2),axis=0)\n",
        "concat1"
      ],
      "metadata": {
        "colab": {
          "base_uri": "https://localhost:8080/"
        },
        "outputId": "0565a61f-9136-4c3a-b227-3b3d472826ca",
        "id": "4i9nYYHg0LnU"
      },
      "execution_count": null,
      "outputs": [
        {
          "output_type": "execute_result",
          "data": {
            "text/plain": [
              "array([[ 1,  2,  3],\n",
              "       [ 4,  5,  6],\n",
              "       [10, 11, 12],\n",
              "       [13, 14, 15]])"
            ]
          },
          "metadata": {},
          "execution_count": 21
        }
      ]
    },
    {
      "cell_type": "code",
      "source": [
        "concat2 = np.concatenate((arr1, arr2),axis=1)\n",
        "concat2"
      ],
      "metadata": {
        "colab": {
          "base_uri": "https://localhost:8080/"
        },
        "outputId": "7ab5293f-caba-407a-af2e-7e5a3db7c41b",
        "id": "Ttitrxpa0LnU"
      },
      "execution_count": null,
      "outputs": [
        {
          "output_type": "execute_result",
          "data": {
            "text/plain": [
              "array([[ 1,  2,  3, 10, 11, 12],\n",
              "       [ 4,  5,  6, 13, 14, 15]])"
            ]
          },
          "metadata": {},
          "execution_count": 22
        }
      ]
    },
    {
      "cell_type": "markdown",
      "source": [
        "# Splitting Array"
      ],
      "metadata": {
        "id": "R1PWGmwb0LnU"
      }
    },
    {
      "cell_type": "code",
      "source": [
        "print(concat0)\n",
        "np.array_split(concat0, 2, axis=0)"
      ],
      "metadata": {
        "colab": {
          "base_uri": "https://localhost:8080/"
        },
        "outputId": "692f0c7d-8eb0-4656-cdd6-c234b7834bdf",
        "id": "ApcxFutm0LnV"
      },
      "execution_count": null,
      "outputs": [
        {
          "output_type": "stream",
          "name": "stdout",
          "text": [
            "[1 2 3 4 5 6]\n"
          ]
        },
        {
          "output_type": "execute_result",
          "data": {
            "text/plain": [
              "[array([1, 2, 3]), array([4, 5, 6])]"
            ]
          },
          "metadata": {},
          "execution_count": 23
        }
      ]
    },
    {
      "cell_type": "code",
      "source": [
        "print(concat1)\n",
        "np.array_split(concat1, 2, axis=0)"
      ],
      "metadata": {
        "colab": {
          "base_uri": "https://localhost:8080/"
        },
        "outputId": "f553c14a-f550-4c00-ee02-669831b0f4d4",
        "id": "jkw8Xfst0LnV"
      },
      "execution_count": null,
      "outputs": [
        {
          "output_type": "stream",
          "name": "stdout",
          "text": [
            "[[ 1  2  3]\n",
            " [ 4  5  6]\n",
            " [10 11 12]\n",
            " [13 14 15]]\n"
          ]
        },
        {
          "output_type": "execute_result",
          "data": {
            "text/plain": [
              "[array([[1, 2, 3],\n",
              "        [4, 5, 6]]), array([[10, 11, 12],\n",
              "        [13, 14, 15]])]"
            ]
          },
          "metadata": {},
          "execution_count": 24
        }
      ]
    },
    {
      "cell_type": "code",
      "source": [
        "print(concat2)\n",
        "np.array_split(concat2, 2, axis=1)"
      ],
      "metadata": {
        "colab": {
          "base_uri": "https://localhost:8080/"
        },
        "outputId": "2c2177af-9ac4-4ad0-d772-901a5f4d8c03",
        "id": "UeDRkxGz0LnV"
      },
      "execution_count": null,
      "outputs": [
        {
          "output_type": "stream",
          "name": "stdout",
          "text": [
            "[[ 1  2  3 10 11 12]\n",
            " [ 4  5  6 13 14 15]]\n"
          ]
        },
        {
          "output_type": "execute_result",
          "data": {
            "text/plain": [
              "[array([[1, 2, 3],\n",
              "        [4, 5, 6]]), array([[10, 11, 12],\n",
              "        [13, 14, 15]])]"
            ]
          },
          "metadata": {},
          "execution_count": 25
        }
      ]
    },
    {
      "cell_type": "markdown",
      "source": [
        "# Sorting Array"
      ],
      "metadata": {
        "id": "35mCRhV30LnW"
      }
    },
    {
      "cell_type": "code",
      "source": [
        "unsorted_arr = np.array([5,6,2,4,1])\n",
        "unsorted_arr"
      ],
      "metadata": {
        "colab": {
          "base_uri": "https://localhost:8080/"
        },
        "outputId": "4cc0b50a-138f-415b-b4a2-0c677edeee8a",
        "id": "ltJDpmsX0LnW"
      },
      "execution_count": null,
      "outputs": [
        {
          "output_type": "execute_result",
          "data": {
            "text/plain": [
              "array([5, 6, 2, 4, 1])"
            ]
          },
          "metadata": {},
          "execution_count": 26
        }
      ]
    },
    {
      "cell_type": "code",
      "source": [
        "# default = ascending\n",
        "sorted_arr = np.sort(unsorted_arr)\n",
        "sorted_arr"
      ],
      "metadata": {
        "colab": {
          "base_uri": "https://localhost:8080/"
        },
        "outputId": "eb4c3b69-6ba5-470f-85e9-8387b6ab0609",
        "id": "qnDyqxlE0LnW"
      },
      "execution_count": null,
      "outputs": [
        {
          "output_type": "execute_result",
          "data": {
            "text/plain": [
              "array([1, 2, 4, 5, 6])"
            ]
          },
          "metadata": {},
          "execution_count": 27
        }
      ]
    },
    {
      "cell_type": "code",
      "source": [
        "# descending (wrong)\n",
        "np.sort(sorted_arr)[:-1]"
      ],
      "metadata": {
        "colab": {
          "base_uri": "https://localhost:8080/"
        },
        "outputId": "b8c8a808-fd74-407e-9396-015b208d8cfc",
        "id": "QAIY7AaD0LnX"
      },
      "execution_count": null,
      "outputs": [
        {
          "output_type": "execute_result",
          "data": {
            "text/plain": [
              "array([1, 2, 4, 5])"
            ]
          },
          "metadata": {},
          "execution_count": 28
        }
      ]
    },
    {
      "cell_type": "code",
      "source": [
        "# descending\n",
        "np.sort(sorted_arr)[::-1]"
      ],
      "metadata": {
        "colab": {
          "base_uri": "https://localhost:8080/"
        },
        "outputId": "69d60e0b-ad34-4f20-f2f5-13c03a22c7fe",
        "id": "qIDEZ8rS0LnX"
      },
      "execution_count": null,
      "outputs": [
        {
          "output_type": "execute_result",
          "data": {
            "text/plain": [
              "array([6, 5, 4, 2, 1])"
            ]
          },
          "metadata": {},
          "execution_count": 29
        }
      ]
    },
    {
      "cell_type": "code",
      "source": [
        "# sorting 2D array\n",
        "\n",
        "arr_2d = np.array([[4,5,1,2], [7,3,9,8]])\n",
        "arr_2d"
      ],
      "metadata": {
        "colab": {
          "base_uri": "https://localhost:8080/"
        },
        "outputId": "1895328c-1868-4183-b930-39e9174be742",
        "id": "MxEUlXoM0LnY"
      },
      "execution_count": null,
      "outputs": [
        {
          "output_type": "execute_result",
          "data": {
            "text/plain": [
              "array([[4, 5, 1, 2],\n",
              "       [7, 3, 9, 8]])"
            ]
          },
          "metadata": {},
          "execution_count": 30
        }
      ]
    },
    {
      "cell_type": "code",
      "source": [
        "# ascending, sort each row\n",
        "np.sort(arr_2d)"
      ],
      "metadata": {
        "colab": {
          "base_uri": "https://localhost:8080/"
        },
        "outputId": "23d39cea-bb08-4f74-be98-fc5007750d3b",
        "id": "3H28m_vQ0LnZ"
      },
      "execution_count": null,
      "outputs": [
        {
          "output_type": "execute_result",
          "data": {
            "text/plain": [
              "array([[1, 2, 4, 5],\n",
              "       [3, 7, 8, 9]])"
            ]
          },
          "metadata": {},
          "execution_count": 31
        }
      ]
    },
    {
      "cell_type": "code",
      "source": [
        "# descending (wrong)\n",
        "np.sort(arr_2d)[::-1]"
      ],
      "metadata": {
        "colab": {
          "base_uri": "https://localhost:8080/"
        },
        "outputId": "fa4b403c-14ba-45b8-f841-d7fa8a8f2b0f",
        "id": "BHjfO0pS0LnZ"
      },
      "execution_count": null,
      "outputs": [
        {
          "output_type": "execute_result",
          "data": {
            "text/plain": [
              "array([[3, 7, 8, 9],\n",
              "       [1, 2, 4, 5]])"
            ]
          },
          "metadata": {},
          "execution_count": 32
        }
      ]
    },
    {
      "cell_type": "code",
      "source": [
        "# descending, sort each row\n",
        "np.sort(arr_2d)[::1, ::-1]"
      ],
      "metadata": {
        "colab": {
          "base_uri": "https://localhost:8080/"
        },
        "outputId": "433a4b0b-9c58-421d-b164-23aaba45d151",
        "id": "8m1VgjfD0Lna"
      },
      "execution_count": null,
      "outputs": [
        {
          "output_type": "execute_result",
          "data": {
            "text/plain": [
              "array([[5, 4, 2, 1],\n",
              "       [9, 8, 7, 3]])"
            ]
          },
          "metadata": {},
          "execution_count": 33
        }
      ]
    },
    {
      "cell_type": "markdown",
      "source": [
        "# Filtering Array"
      ],
      "metadata": {
        "id": "0f5ZY7ZR0Lna"
      }
    },
    {
      "cell_type": "markdown",
      "source": [
        "## Using np.where"
      ],
      "metadata": {
        "id": "tr3ageVtAdHC"
      }
    },
    {
      "cell_type": "code",
      "source": [
        "arr_2d = np.array([[1,2,3,4], [5,6,7,8]])\n",
        "arr_2d"
      ],
      "metadata": {
        "colab": {
          "base_uri": "https://localhost:8080/"
        },
        "outputId": "9a773464-38f5-4810-8c40-9c829844e155",
        "id": "9FSE0Foa0Lna"
      },
      "execution_count": null,
      "outputs": [
        {
          "output_type": "execute_result",
          "data": {
            "text/plain": [
              "array([[1, 2, 3, 4],\n",
              "       [5, 6, 7, 8]])"
            ]
          },
          "metadata": {},
          "execution_count": 2
        }
      ]
    },
    {
      "cell_type": "code",
      "source": [
        "np.where(arr_2d < 5)"
      ],
      "metadata": {
        "colab": {
          "base_uri": "https://localhost:8080/"
        },
        "outputId": "ab791eed-5cd6-4fd6-ed40-6e337be2473a",
        "id": "kvj4VqyZ0Lnb"
      },
      "execution_count": null,
      "outputs": [
        {
          "output_type": "execute_result",
          "data": {
            "text/plain": [
              "(array([0, 0, 0, 0]), array([0, 1, 2, 3]))"
            ]
          },
          "metadata": {},
          "execution_count": 35
        }
      ]
    },
    {
      "cell_type": "code",
      "source": [
        "# We can specify the value if the condition is satisfied or not\n",
        "np.where(arr_2d < 5, True, False)"
      ],
      "metadata": {
        "colab": {
          "base_uri": "https://localhost:8080/"
        },
        "outputId": "21af5437-c9a1-4552-dbdc-5a072036fd5b",
        "id": "0g6AiXTt0Lnb"
      },
      "execution_count": null,
      "outputs": [
        {
          "output_type": "execute_result",
          "data": {
            "text/plain": [
              "array([[ True,  True,  True,  True],\n",
              "       [False, False, False, False]])"
            ]
          },
          "metadata": {},
          "execution_count": 4
        }
      ]
    },
    {
      "cell_type": "code",
      "source": [
        "# filter data less than 5\n",
        "arr_2d[np.where(arr_2d < 5)]"
      ],
      "metadata": {
        "colab": {
          "base_uri": "https://localhost:8080/"
        },
        "outputId": "c83fb9ad-b247-4742-b038-a51418878593",
        "id": "CYiZ5Dn20Lnb"
      },
      "execution_count": null,
      "outputs": [
        {
          "output_type": "execute_result",
          "data": {
            "text/plain": [
              "array([1, 2, 3, 4])"
            ]
          },
          "metadata": {},
          "execution_count": 37
        }
      ]
    },
    {
      "cell_type": "code",
      "source": [
        "# filter data, even number\n",
        "\n",
        "arr = np.arange(0,20) # like range(start, stop, step)\n",
        "print(arr)\n",
        "\n",
        "arr[np.where(arr % 2 == 0)]"
      ],
      "metadata": {
        "colab": {
          "base_uri": "https://localhost:8080/"
        },
        "outputId": "d6e15dd1-601b-4552-8c66-17ecd89795d8",
        "id": "aQYHhMhS0Lnc"
      },
      "execution_count": null,
      "outputs": [
        {
          "output_type": "stream",
          "name": "stdout",
          "text": [
            "[ 0  1  2  3  4  5  6  7  8  9 10 11 12 13 14 15 16 17 18 19]\n"
          ]
        },
        {
          "output_type": "execute_result",
          "data": {
            "text/plain": [
              "array([ 0,  2,  4,  6,  8, 10, 12, 14, 16, 18])"
            ]
          },
          "metadata": {},
          "execution_count": 38
        }
      ]
    },
    {
      "cell_type": "markdown",
      "source": [
        "## Using Mask"
      ],
      "metadata": {
        "id": "5T2VSPQLAjGH"
      }
    },
    {
      "cell_type": "code",
      "source": [
        "arr = np.arange(0,20)\n",
        "arr"
      ],
      "metadata": {
        "colab": {
          "base_uri": "https://localhost:8080/"
        },
        "id": "Cq-EopBvAio-",
        "outputId": "75638f76-4d50-471c-9ecb-a6799ac0a0bc"
      },
      "execution_count": null,
      "outputs": [
        {
          "output_type": "execute_result",
          "data": {
            "text/plain": [
              "array([ 0,  1,  2,  3,  4,  5,  6,  7,  8,  9, 10, 11, 12, 13, 14, 15, 16,\n",
              "       17, 18, 19])"
            ]
          },
          "metadata": {},
          "execution_count": 5
        }
      ]
    },
    {
      "cell_type": "code",
      "source": [
        "# see which indices that met the condition\n",
        "arr % 2 == 0"
      ],
      "metadata": {
        "colab": {
          "base_uri": "https://localhost:8080/"
        },
        "id": "JIBFN0yUAoUE",
        "outputId": "d403a5b4-29f0-4303-e92a-3021e2b66988"
      },
      "execution_count": null,
      "outputs": [
        {
          "output_type": "execute_result",
          "data": {
            "text/plain": [
              "array([ True, False,  True, False,  True, False,  True, False,  True,\n",
              "       False,  True, False,  True, False,  True, False,  True, False,\n",
              "        True, False])"
            ]
          },
          "metadata": {},
          "execution_count": 7
        }
      ]
    },
    {
      "cell_type": "code",
      "source": [
        "# array masking\n",
        "mask = (arr% 2 == 0)\n",
        "arr[mask]"
      ],
      "metadata": {
        "colab": {
          "base_uri": "https://localhost:8080/"
        },
        "id": "eKZ94SvzAtcB",
        "outputId": "0c0ccfbd-cd0d-4de7-80ed-5a2857d6395a"
      },
      "execution_count": null,
      "outputs": [
        {
          "output_type": "execute_result",
          "data": {
            "text/plain": [
              "array([ 0,  2,  4,  6,  8, 10, 12, 14, 16, 18])"
            ]
          },
          "metadata": {},
          "execution_count": 9
        }
      ]
    },
    {
      "cell_type": "markdown",
      "source": [
        "# Matrix Operation\n",
        "Numpy provides some element-wise matrix operation, such as:\n",
        "- `add()`\n",
        "- `subtract()`\n",
        "- `divide()`\n",
        "- `multiply()`\n",
        "If you want to do dot multiplication (not element-wise operation), you can use `dot()`"
      ],
      "metadata": {
        "id": "2CMdTdNE0Lnc"
      }
    },
    {
      "cell_type": "code",
      "source": [
        "# 1D matrix operation\n",
        "\n",
        "arr1 = np.array([1,2,3])\n",
        "arr2 = np.array([4,5,6])\n",
        "\n",
        "np.add(arr1, arr2)"
      ],
      "metadata": {
        "colab": {
          "base_uri": "https://localhost:8080/"
        },
        "outputId": "438dcf3b-3c7b-44aa-8bff-03604ade56b7",
        "id": "EbqztyfG0Lnc"
      },
      "execution_count": null,
      "outputs": [
        {
          "output_type": "execute_result",
          "data": {
            "text/plain": [
              "array([5, 7, 9])"
            ]
          },
          "metadata": {},
          "execution_count": 39
        }
      ]
    },
    {
      "cell_type": "code",
      "source": [
        "# 2D matrix operation\n",
        "\n",
        "arr3 = np.array([[1,2,3],[4,5,6]])\n",
        "arr4 = np.array([[10,11,12],[13,14,15]])\n",
        "\n",
        "print('arr3\\n', arr3, '\\n')\n",
        "print('arr4\\n', arr4, '\\n')\n",
        "\n",
        "print('New arr')\n",
        "np.add(arr3, arr4)"
      ],
      "metadata": {
        "colab": {
          "base_uri": "https://localhost:8080/"
        },
        "outputId": "dc00d8b7-3259-40bd-9d06-9a585340d2e0",
        "id": "A_Nqp7C-0Lnc"
      },
      "execution_count": null,
      "outputs": [
        {
          "output_type": "stream",
          "name": "stdout",
          "text": [
            "arr3\n",
            " [[1 2 3]\n",
            " [4 5 6]] \n",
            "\n",
            "arr4\n",
            " [[10 11 12]\n",
            " [13 14 15]] \n",
            "\n",
            "New arr\n"
          ]
        },
        {
          "output_type": "execute_result",
          "data": {
            "text/plain": [
              "array([[11, 13, 15],\n",
              "       [17, 19, 21]])"
            ]
          },
          "metadata": {},
          "execution_count": 40
        }
      ]
    },
    {
      "cell_type": "code",
      "source": [
        "# 3D matrix operation\n",
        "\n",
        "arr5 = np.array([[[1,2,3],[4,5,6]],[[7,8,9],[10,11,12]]])\n",
        "arr6 = np.array([[[10,11,12],[13,14,15]],[[16,17,18],[19,20,21]]])\n",
        "\n",
        "print('arr5\\n', arr5, '\\n')\n",
        "print('arr6\\n', arr6, '\\n')\n",
        "\n",
        "print('New arr')\n",
        "np.add(arr5, arr6)"
      ],
      "metadata": {
        "colab": {
          "base_uri": "https://localhost:8080/"
        },
        "outputId": "816a091f-3e10-4fa0-d595-a3f2c262ad78",
        "id": "_vW6SvuS0Lnd"
      },
      "execution_count": null,
      "outputs": [
        {
          "output_type": "stream",
          "name": "stdout",
          "text": [
            "arr5\n",
            " [[[ 1  2  3]\n",
            "  [ 4  5  6]]\n",
            "\n",
            " [[ 7  8  9]\n",
            "  [10 11 12]]] \n",
            "\n",
            "arr6\n",
            " [[[10 11 12]\n",
            "  [13 14 15]]\n",
            "\n",
            " [[16 17 18]\n",
            "  [19 20 21]]] \n",
            "\n",
            "New arr\n"
          ]
        },
        {
          "output_type": "execute_result",
          "data": {
            "text/plain": [
              "array([[[11, 13, 15],\n",
              "        [17, 19, 21]],\n",
              "\n",
              "       [[23, 25, 27],\n",
              "        [29, 31, 33]]])"
            ]
          },
          "metadata": {},
          "execution_count": 41
        }
      ]
    },
    {
      "cell_type": "code",
      "source": [
        "# 2D + 3D matrix operatior\n",
        "# 2D matrix added to each layer of 3D matrix\n",
        "\n",
        "arr7 = np.array([[1,2,3],[4,5,6]])\n",
        "arr8 = np.array([[[10,11,12],[13,14,15]],[[16,17,18],[19,20,21]]])\n",
        "\n",
        "print('2D arr\\n', arr7, '\\n')\n",
        "print('3D arr\\n', arr8, '\\n')\n",
        "\n",
        "print('New arr')\n",
        "np.add(arr7, arr8)"
      ],
      "metadata": {
        "colab": {
          "base_uri": "https://localhost:8080/"
        },
        "outputId": "bc1a8fdd-6760-4c05-8faf-8c9f7ace7228",
        "id": "Ii5Z3Z0w0Lnd"
      },
      "execution_count": null,
      "outputs": [
        {
          "output_type": "stream",
          "name": "stdout",
          "text": [
            "2D arr\n",
            " [[1 2 3]\n",
            " [4 5 6]] \n",
            "\n",
            "3D arr\n",
            " [[[10 11 12]\n",
            "  [13 14 15]]\n",
            "\n",
            " [[16 17 18]\n",
            "  [19 20 21]]] \n",
            "\n",
            "New arr\n"
          ]
        },
        {
          "output_type": "execute_result",
          "data": {
            "text/plain": [
              "array([[[11, 13, 15],\n",
              "        [17, 19, 21]],\n",
              "\n",
              "       [[17, 19, 21],\n",
              "        [23, 25, 27]]])"
            ]
          },
          "metadata": {},
          "execution_count": 42
        }
      ]
    }
  ]
}