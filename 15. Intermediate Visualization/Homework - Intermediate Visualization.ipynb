{
  "nbformat": 4,
  "nbformat_minor": 0,
  "metadata": {
    "colab": {
      "name": "Homework - Intermediate Visualization.ipynb",
      "provenance": [],
      "collapsed_sections": [],
      "toc_visible": true,
      "mount_file_id": "1sXUfLsscQGs-R80pxOVYX9hfxoyeFUf3",
      "authorship_tag": "ABX9TyPo4fGOYgjpyfC+4NGgCnwi",
      "include_colab_link": true
    },
    "kernelspec": {
      "name": "python3",
      "display_name": "Python 3"
    },
    "language_info": {
      "name": "python"
    }
  },
  "cells": [
    {
      "cell_type": "markdown",
      "metadata": {
        "id": "view-in-github",
        "colab_type": "text"
      },
      "source": [
        "<a href=\"https://colab.research.google.com/github/adhang/data-science-digital-skola/blob/update/15.%20Intermediate%20Visualization/Homework%20-%20Intermediate%20Visualization.ipynb\" target=\"_parent\"><img src=\"https://colab.research.google.com/assets/colab-badge.svg\" alt=\"Open In Colab\"/></a>"
      ]
    },
    {
      "cell_type": "markdown",
      "source": [
        "# Homework - Intermediate Visualization\n",
        "Author: Adhang Muntaha Muhammad\n",
        "\n",
        "[![LinkedIn](https://img.shields.io/badge/linkedin-0077B5?style=for-the-badge&logo=linkedin&logoColor=white&link=https://www.linkedin.com/in/adhangmuntaha/)](https://www.linkedin.com/in/adhangmuntaha/)\n",
        "[![GitHub](https://img.shields.io/badge/github-121011?style=for-the-badge&logo=github&logoColor=white&link=https://github.com/adhang)](https://github.com/adhang)\n",
        "[![Kaggle](https://img.shields.io/badge/kaggle-20BEFF?style=for-the-badge&logo=kaggle&logoColor=white&link=https://www.kaggle.com/adhang)](https://www.kaggle.com/adhang)\n",
        "[![Tableau](https://img.shields.io/badge/tableau-E97627?style=for-the-badge&logo=tableau&logoColor=white&link=https://public.tableau.com/app/profile/adhang)](https://public.tableau.com/app/profile/adhang)\n",
        "___\n",
        "**Contents**\n",
        "- Matplotlib Cheatsheet\n",
        "- Matplotlib Example"
      ],
      "metadata": {
        "id": "ohcwGoejGams"
      }
    },
    {
      "cell_type": "markdown",
      "source": [
        "# Matplotlib Cheatsheet"
      ],
      "metadata": {
        "id": "7cjDalKjGqcP"
      }
    },
    {
      "cell_type": "markdown",
      "source": [
        "## Importing Libraries\n",
        "\n",
        "```python\n",
        "import pandas as pd\n",
        "import matplotlib.pyplot as plt\n",
        "```"
      ],
      "metadata": {
        "id": "G49VuzRTGsVS"
      }
    },
    {
      "cell_type": "markdown",
      "source": [
        "## Anatomy of a Figure\n",
        "<img src=\"https://matplotlib.org/stable/_images/sphx_glr_anatomy_001.png\" alt=\"matplotlib figure anatomy\" title=\"matplotlib figure anatomy\" width=50%>"
      ],
      "metadata": {
        "id": "LC3gg70jHFFp"
      }
    },
    {
      "cell_type": "markdown",
      "source": [
        "## Create a Single Plot\n",
        "Used to create a single axes\n",
        "```\n",
        "fig, ax = plt.subplots()\n",
        "```\n",
        "- `fig` = figure object\n",
        "- `ax` = single axes object\n",
        "\n"
      ],
      "metadata": {
        "id": "uspmUpEH321v"
      }
    },
    {
      "cell_type": "markdown",
      "source": [
        "## Sub Plots\n",
        "Used to create multiple axes (plots)"
      ],
      "metadata": {
        "id": "jre_hOmJxuYd"
      }
    },
    {
      "cell_type": "markdown",
      "source": [
        "### Method 1\n",
        "\n",
        "```python\n",
        "plt.subplot(nrow, ncol, index)\n",
        "```\n",
        "- `nrow` = number of rows\n",
        "- `ncol` = number of columns\n",
        "- `index` = axes position, strat at 1 in the upper left corner and increases to the right\n"
      ],
      "metadata": {
        "id": "YuC7-9ha02yd"
      }
    },
    {
      "cell_type": "markdown",
      "source": [
        "### Method 2\n",
        "\n",
        "```python\n",
        "fig = plt.figure()\n",
        "ax_1 = fig.add_subplot(nrow, ncol, index_1)\n",
        "ax_2 = fig.add_subplot(nrow, ncol, index_2)\n",
        "...\n",
        "ax_n = fig.add_subplot(nrow, ncol, index_n)\n",
        "```\n",
        "- `fig` = figure object\n",
        "- `ax_n` = n-th axes\n",
        "- `nrow` = number of rows\n",
        "- `ncol` = number of columns\n",
        "- `index` = axes position, strat at 1 in the upper left corner and increases to the right"
      ],
      "metadata": {
        "id": "AHpVkz8J1rDG"
      }
    },
    {
      "cell_type": "markdown",
      "source": [
        "### Method 3\n",
        "\n",
        "```python\n",
        "fig, ax = plt.subplots(nrow, ncol)\n",
        "```\n",
        "- `fig` = figure object\n",
        "- `ax` = list of axes objects\n",
        "- `nrow` = number of rows\n",
        "- `ncol` = number of columns\n"
      ],
      "metadata": {
        "id": "H917N5602DjZ"
      }
    },
    {
      "cell_type": "markdown",
      "source": [
        "## Save Plot\n",
        "\n",
        "```python\n",
        "plt.savefig('plot.png')\n",
        "plt.savefig('plot.png', transparent=True) # transparent background\n",
        "```\n",
        "\n",
        "\n"
      ],
      "metadata": {
        "id": "5xsXthoVrste"
      }
    },
    {
      "cell_type": "markdown",
      "source": [
        "## Legend\n",
        "\n",
        "```python\n",
        "ax.legend(handles, labels)\n",
        "```\n",
        "- `handles` = a list of Artists (lines, patches) to be added to the legend\n",
        "- `labels` = a list of labels to show next to the artists\n"
      ],
      "metadata": {
        "id": "vqDV4fXg2vYb"
      }
    },
    {
      "cell_type": "markdown",
      "source": [
        "## Line Plot\n",
        "\n",
        "```python\n",
        "ax.plot(x, y, ...)\n",
        "```\n",
        "- `x` = the horizontal (X-axis) coordinates of the data points\n",
        "- `y` = the vertical (Y-axis) coordinates of the data points\n"
      ],
      "metadata": {
        "id": "O8jVxG0MH_xB"
      }
    },
    {
      "cell_type": "markdown",
      "source": [
        "## Scatter Plot\n",
        "\n",
        "```python\n",
        "ax.scatter(x, y, ...)\n",
        "```\n",
        "- `x` = the horizontal (X-axis) coordinates of the data points\n",
        "- `y` = the vertical (Y-axis) coordinates of the data points\n",
        "\n"
      ],
      "metadata": {
        "id": "gf0Iu0FKIOLf"
      }
    },
    {
      "cell_type": "markdown",
      "source": [
        "## Vertical Bar Plot\n",
        "\n",
        "```python\n",
        "ax.bar(x, height, ...)\n",
        "```\n",
        "- `x` = the horizontal (X-axis) coordinates of the data points\n",
        "- `height` = the height of the bars (Y-axis)\n"
      ],
      "metadata": {
        "id": "khkXURu0I-O5"
      }
    },
    {
      "cell_type": "markdown",
      "source": [
        "## Horizontal Bar Plot\n",
        "\n",
        "```python\n",
        "ax.barh(y, width, ...)\n",
        "```\n",
        "- `y` = the vertical (Y-axis) coordinates of the data points\n",
        "- `width` = the width of the bars (X-axis)\n"
      ],
      "metadata": {
        "id": "0EXLjsZ9Jkxk"
      }
    },
    {
      "cell_type": "markdown",
      "source": [
        "## Pie Chart\n",
        "\n",
        "```python\n",
        "ax.pie(x, ...)\n",
        "```\n",
        "- `x` = the wedges size (proportion)\n"
      ],
      "metadata": {
        "id": "DZkNV9AiKcPd"
      }
    },
    {
      "cell_type": "markdown",
      "source": [
        "## Box Plot\n",
        "\n",
        "```python\n",
        "ax.boxplot(x, ...)\n",
        "```\n",
        "- `x` = the input data\n",
        "\n"
      ],
      "metadata": {
        "id": "3F5eo6dPL5wh"
      }
    },
    {
      "cell_type": "markdown",
      "source": [
        "## Histogram\n",
        "\n",
        "```python\n",
        "ax.hist(x, bins, ...)\n",
        "```\n",
        "- `x` = the input data\n",
        "- `bins` = the number of bins or the bin edges\n",
        "\n"
      ],
      "metadata": {
        "id": "U7h7mLhjMQli"
      }
    },
    {
      "cell_type": "markdown",
      "source": [
        "## Violin Plot\n",
        "\n",
        "```python\n",
        "ax.violinplot(dataset, ...)\n",
        "```\n",
        "- `dataset` = the input data\n",
        "\n"
      ],
      "metadata": {
        "id": "peqHq49TM8ji"
      }
    },
    {
      "cell_type": "markdown",
      "source": [
        "## Stacked Area Plot"
      ],
      "metadata": {
        "id": "HhUmO6yQNrUe"
      }
    },
    {
      "cell_type": "markdown",
      "source": [
        "### Method 1\n",
        "```python\n",
        "ax.stackplot(x, y, ...)\n",
        "```\n",
        "- `x`\n",
        "  - the horizontal (X-axis) coordinates of the data points\n",
        "  - shape = (N,)\n",
        "- `y`\n",
        "  - the vertical (Y-axis) unstacked data\n",
        "  - shape = (M, N)"
      ],
      "metadata": {
        "id": "qTS4SggNPmNa"
      }
    },
    {
      "cell_type": "markdown",
      "source": [
        "### Method 2\n",
        "\n",
        "```python\n",
        "ax.stackplot(x, y1, y2, ...)\n",
        "```\n",
        "- `x`\n",
        "  - the horizontal (X-axis) coordinates of the data points\n",
        "  - shape = (N,)\n",
        "- `y1`\n",
        "  - the vertical (Y-axis) unstacked data\n",
        "  - shape = (N,)\n",
        "- `y2`\n",
        "  - the vertical (Y-axis) unstacked data\n",
        "  - shape = (N,)"
      ],
      "metadata": {
        "id": "XA3Upc0YPpAW"
      }
    },
    {
      "cell_type": "markdown",
      "source": [
        "## Quick Reminder\n",
        "\n",
        "```python\n",
        "# display grid\n",
        "ax.grid()\n",
        "\n",
        "# set plot title\n",
        "ax.set_title(title)\n",
        "\n",
        "# set axis limit\n",
        "ax.set_xlim(vmin, vmax)\n",
        "ax.set_ylim(vmin, vmax)\n",
        "\n",
        "# set axis label\n",
        "ax.set_xlabel(label)\n",
        "ax.set_ylabel(label)\n",
        "```\n",
        "\n"
      ],
      "metadata": {
        "id": "IHcviu-9yppC"
      }
    },
    {
      "cell_type": "markdown",
      "source": [
        "## Show Plot\n",
        "\n",
        "```python\n",
        "plt.show()\n",
        "```\n",
        "\n"
      ],
      "metadata": {
        "id": "CnhDiJWFsRbk"
      }
    },
    {
      "cell_type": "markdown",
      "source": [
        "## Clear Plot\n",
        "\n",
        "```python\n",
        "# clear an axis\n",
        "plt.cla()\n",
        "\n",
        "# clear the entire figure\n",
        "plt.clf()\n",
        "\n",
        "# close figure window\n",
        "plt.close()\n",
        "```\n",
        "\n"
      ],
      "metadata": {
        "id": "vAA88-P0sUtW"
      }
    },
    {
      "cell_type": "markdown",
      "source": [
        "# Matplotlib Example"
      ],
      "metadata": {
        "id": "zXs0G53KCInE"
      }
    },
    {
      "cell_type": "markdown",
      "source": [
        "## Importing Libraries"
      ],
      "metadata": {
        "id": "PBrQnd0mCMVu"
      }
    },
    {
      "cell_type": "code",
      "source": [
        "import pandas as pd\n",
        "import matplotlib.pyplot as plt"
      ],
      "metadata": {
        "id": "04mLuFA_CKdO"
      },
      "execution_count": null,
      "outputs": []
    },
    {
      "cell_type": "code",
      "source": [
        "# from google.colab import drive\n",
        "# drive.mount('/content/drive')"
      ],
      "metadata": {
        "id": "SCUY7cugCRNJ"
      },
      "execution_count": null,
      "outputs": []
    },
    {
      "cell_type": "markdown",
      "source": [
        "## Reading Dataset"
      ],
      "metadata": {
        "id": "T5pCqn3SCn8c"
      }
    },
    {
      "cell_type": "code",
      "source": [
        "data = pd.read_csv('/content/drive/MyDrive/Digital Skola/dataset/kaggle_iris.csv')\n",
        "data.head()"
      ],
      "metadata": {
        "colab": {
          "base_uri": "https://localhost:8080/",
          "height": 206
        },
        "id": "afUq7HCyJA74",
        "outputId": "8f9d8109-c5da-46a8-b539-96a242de4bba"
      },
      "execution_count": null,
      "outputs": [
        {
          "output_type": "execute_result",
          "data": {
            "text/html": [
              "\n",
              "  <div id=\"df-1fef2b40-2c71-44ed-b21d-9ea6fb04b665\">\n",
              "    <div class=\"colab-df-container\">\n",
              "      <div>\n",
              "<style scoped>\n",
              "    .dataframe tbody tr th:only-of-type {\n",
              "        vertical-align: middle;\n",
              "    }\n",
              "\n",
              "    .dataframe tbody tr th {\n",
              "        vertical-align: top;\n",
              "    }\n",
              "\n",
              "    .dataframe thead th {\n",
              "        text-align: right;\n",
              "    }\n",
              "</style>\n",
              "<table border=\"1\" class=\"dataframe\">\n",
              "  <thead>\n",
              "    <tr style=\"text-align: right;\">\n",
              "      <th></th>\n",
              "      <th>Id</th>\n",
              "      <th>SepalLengthCm</th>\n",
              "      <th>SepalWidthCm</th>\n",
              "      <th>PetalLengthCm</th>\n",
              "      <th>PetalWidthCm</th>\n",
              "      <th>Species</th>\n",
              "    </tr>\n",
              "  </thead>\n",
              "  <tbody>\n",
              "    <tr>\n",
              "      <th>0</th>\n",
              "      <td>1</td>\n",
              "      <td>5.1</td>\n",
              "      <td>3.5</td>\n",
              "      <td>1.4</td>\n",
              "      <td>0.2</td>\n",
              "      <td>Iris-setosa</td>\n",
              "    </tr>\n",
              "    <tr>\n",
              "      <th>1</th>\n",
              "      <td>2</td>\n",
              "      <td>4.9</td>\n",
              "      <td>3.0</td>\n",
              "      <td>1.4</td>\n",
              "      <td>0.2</td>\n",
              "      <td>Iris-setosa</td>\n",
              "    </tr>\n",
              "    <tr>\n",
              "      <th>2</th>\n",
              "      <td>3</td>\n",
              "      <td>4.7</td>\n",
              "      <td>3.2</td>\n",
              "      <td>1.3</td>\n",
              "      <td>0.2</td>\n",
              "      <td>Iris-setosa</td>\n",
              "    </tr>\n",
              "    <tr>\n",
              "      <th>3</th>\n",
              "      <td>4</td>\n",
              "      <td>4.6</td>\n",
              "      <td>3.1</td>\n",
              "      <td>1.5</td>\n",
              "      <td>0.2</td>\n",
              "      <td>Iris-setosa</td>\n",
              "    </tr>\n",
              "    <tr>\n",
              "      <th>4</th>\n",
              "      <td>5</td>\n",
              "      <td>5.0</td>\n",
              "      <td>3.6</td>\n",
              "      <td>1.4</td>\n",
              "      <td>0.2</td>\n",
              "      <td>Iris-setosa</td>\n",
              "    </tr>\n",
              "  </tbody>\n",
              "</table>\n",
              "</div>\n",
              "      <button class=\"colab-df-convert\" onclick=\"convertToInteractive('df-1fef2b40-2c71-44ed-b21d-9ea6fb04b665')\"\n",
              "              title=\"Convert this dataframe to an interactive table.\"\n",
              "              style=\"display:none;\">\n",
              "        \n",
              "  <svg xmlns=\"http://www.w3.org/2000/svg\" height=\"24px\"viewBox=\"0 0 24 24\"\n",
              "       width=\"24px\">\n",
              "    <path d=\"M0 0h24v24H0V0z\" fill=\"none\"/>\n",
              "    <path d=\"M18.56 5.44l.94 2.06.94-2.06 2.06-.94-2.06-.94-.94-2.06-.94 2.06-2.06.94zm-11 1L8.5 8.5l.94-2.06 2.06-.94-2.06-.94L8.5 2.5l-.94 2.06-2.06.94zm10 10l.94 2.06.94-2.06 2.06-.94-2.06-.94-.94-2.06-.94 2.06-2.06.94z\"/><path d=\"M17.41 7.96l-1.37-1.37c-.4-.4-.92-.59-1.43-.59-.52 0-1.04.2-1.43.59L10.3 9.45l-7.72 7.72c-.78.78-.78 2.05 0 2.83L4 21.41c.39.39.9.59 1.41.59.51 0 1.02-.2 1.41-.59l7.78-7.78 2.81-2.81c.8-.78.8-2.07 0-2.86zM5.41 20L4 18.59l7.72-7.72 1.47 1.35L5.41 20z\"/>\n",
              "  </svg>\n",
              "      </button>\n",
              "      \n",
              "  <style>\n",
              "    .colab-df-container {\n",
              "      display:flex;\n",
              "      flex-wrap:wrap;\n",
              "      gap: 12px;\n",
              "    }\n",
              "\n",
              "    .colab-df-convert {\n",
              "      background-color: #E8F0FE;\n",
              "      border: none;\n",
              "      border-radius: 50%;\n",
              "      cursor: pointer;\n",
              "      display: none;\n",
              "      fill: #1967D2;\n",
              "      height: 32px;\n",
              "      padding: 0 0 0 0;\n",
              "      width: 32px;\n",
              "    }\n",
              "\n",
              "    .colab-df-convert:hover {\n",
              "      background-color: #E2EBFA;\n",
              "      box-shadow: 0px 1px 2px rgba(60, 64, 67, 0.3), 0px 1px 3px 1px rgba(60, 64, 67, 0.15);\n",
              "      fill: #174EA6;\n",
              "    }\n",
              "\n",
              "    [theme=dark] .colab-df-convert {\n",
              "      background-color: #3B4455;\n",
              "      fill: #D2E3FC;\n",
              "    }\n",
              "\n",
              "    [theme=dark] .colab-df-convert:hover {\n",
              "      background-color: #434B5C;\n",
              "      box-shadow: 0px 1px 3px 1px rgba(0, 0, 0, 0.15);\n",
              "      filter: drop-shadow(0px 1px 2px rgba(0, 0, 0, 0.3));\n",
              "      fill: #FFFFFF;\n",
              "    }\n",
              "  </style>\n",
              "\n",
              "      <script>\n",
              "        const buttonEl =\n",
              "          document.querySelector('#df-1fef2b40-2c71-44ed-b21d-9ea6fb04b665 button.colab-df-convert');\n",
              "        buttonEl.style.display =\n",
              "          google.colab.kernel.accessAllowed ? 'block' : 'none';\n",
              "\n",
              "        async function convertToInteractive(key) {\n",
              "          const element = document.querySelector('#df-1fef2b40-2c71-44ed-b21d-9ea6fb04b665');\n",
              "          const dataTable =\n",
              "            await google.colab.kernel.invokeFunction('convertToInteractive',\n",
              "                                                     [key], {});\n",
              "          if (!dataTable) return;\n",
              "\n",
              "          const docLinkHtml = 'Like what you see? Visit the ' +\n",
              "            '<a target=\"_blank\" href=https://colab.research.google.com/notebooks/data_table.ipynb>data table notebook</a>'\n",
              "            + ' to learn more about interactive tables.';\n",
              "          element.innerHTML = '';\n",
              "          dataTable['output_type'] = 'display_data';\n",
              "          await google.colab.output.renderOutput(dataTable, element);\n",
              "          const docLink = document.createElement('div');\n",
              "          docLink.innerHTML = docLinkHtml;\n",
              "          element.appendChild(docLink);\n",
              "        }\n",
              "      </script>\n",
              "    </div>\n",
              "  </div>\n",
              "  "
            ],
            "text/plain": [
              "   Id  SepalLengthCm  SepalWidthCm  PetalLengthCm  PetalWidthCm      Species\n",
              "0   1            5.1           3.5            1.4           0.2  Iris-setosa\n",
              "1   2            4.9           3.0            1.4           0.2  Iris-setosa\n",
              "2   3            4.7           3.2            1.3           0.2  Iris-setosa\n",
              "3   4            4.6           3.1            1.5           0.2  Iris-setosa\n",
              "4   5            5.0           3.6            1.4           0.2  Iris-setosa"
            ]
          },
          "metadata": {},
          "execution_count": 3
        }
      ]
    },
    {
      "cell_type": "markdown",
      "source": [
        "### Basic Information"
      ],
      "metadata": {
        "id": "nUb1kE1BDdEZ"
      }
    },
    {
      "cell_type": "code",
      "source": [
        "data.info()"
      ],
      "metadata": {
        "colab": {
          "base_uri": "https://localhost:8080/"
        },
        "id": "n0_XgV7mDfzE",
        "outputId": "c7fbfcec-9182-4cf4-beac-a2f570e59f45"
      },
      "execution_count": null,
      "outputs": [
        {
          "output_type": "stream",
          "name": "stdout",
          "text": [
            "<class 'pandas.core.frame.DataFrame'>\n",
            "RangeIndex: 150 entries, 0 to 149\n",
            "Data columns (total 6 columns):\n",
            " #   Column         Non-Null Count  Dtype  \n",
            "---  ------         --------------  -----  \n",
            " 0   Id             150 non-null    int64  \n",
            " 1   SepalLengthCm  150 non-null    float64\n",
            " 2   SepalWidthCm   150 non-null    float64\n",
            " 3   PetalLengthCm  150 non-null    float64\n",
            " 4   PetalWidthCm   150 non-null    float64\n",
            " 5   Species        150 non-null    object \n",
            "dtypes: float64(4), int64(1), object(1)\n",
            "memory usage: 7.2+ KB\n"
          ]
        }
      ]
    },
    {
      "cell_type": "markdown",
      "source": [
        "### Summary Statistics"
      ],
      "metadata": {
        "id": "BhWR3aruJMUq"
      }
    },
    {
      "cell_type": "code",
      "source": [
        "data.describe()"
      ],
      "metadata": {
        "colab": {
          "base_uri": "https://localhost:8080/",
          "height": 300
        },
        "id": "gJtuoc1UDiMS",
        "outputId": "64976ce8-1896-4e38-a016-90ff997a88f8"
      },
      "execution_count": null,
      "outputs": [
        {
          "output_type": "execute_result",
          "data": {
            "text/html": [
              "\n",
              "  <div id=\"df-aa144532-647f-41bd-82a9-be0cdc8faa2f\">\n",
              "    <div class=\"colab-df-container\">\n",
              "      <div>\n",
              "<style scoped>\n",
              "    .dataframe tbody tr th:only-of-type {\n",
              "        vertical-align: middle;\n",
              "    }\n",
              "\n",
              "    .dataframe tbody tr th {\n",
              "        vertical-align: top;\n",
              "    }\n",
              "\n",
              "    .dataframe thead th {\n",
              "        text-align: right;\n",
              "    }\n",
              "</style>\n",
              "<table border=\"1\" class=\"dataframe\">\n",
              "  <thead>\n",
              "    <tr style=\"text-align: right;\">\n",
              "      <th></th>\n",
              "      <th>Id</th>\n",
              "      <th>SepalLengthCm</th>\n",
              "      <th>SepalWidthCm</th>\n",
              "      <th>PetalLengthCm</th>\n",
              "      <th>PetalWidthCm</th>\n",
              "    </tr>\n",
              "  </thead>\n",
              "  <tbody>\n",
              "    <tr>\n",
              "      <th>count</th>\n",
              "      <td>150.000000</td>\n",
              "      <td>150.000000</td>\n",
              "      <td>150.000000</td>\n",
              "      <td>150.000000</td>\n",
              "      <td>150.000000</td>\n",
              "    </tr>\n",
              "    <tr>\n",
              "      <th>mean</th>\n",
              "      <td>75.500000</td>\n",
              "      <td>5.843333</td>\n",
              "      <td>3.054000</td>\n",
              "      <td>3.758667</td>\n",
              "      <td>1.198667</td>\n",
              "    </tr>\n",
              "    <tr>\n",
              "      <th>std</th>\n",
              "      <td>43.445368</td>\n",
              "      <td>0.828066</td>\n",
              "      <td>0.433594</td>\n",
              "      <td>1.764420</td>\n",
              "      <td>0.763161</td>\n",
              "    </tr>\n",
              "    <tr>\n",
              "      <th>min</th>\n",
              "      <td>1.000000</td>\n",
              "      <td>4.300000</td>\n",
              "      <td>2.000000</td>\n",
              "      <td>1.000000</td>\n",
              "      <td>0.100000</td>\n",
              "    </tr>\n",
              "    <tr>\n",
              "      <th>25%</th>\n",
              "      <td>38.250000</td>\n",
              "      <td>5.100000</td>\n",
              "      <td>2.800000</td>\n",
              "      <td>1.600000</td>\n",
              "      <td>0.300000</td>\n",
              "    </tr>\n",
              "    <tr>\n",
              "      <th>50%</th>\n",
              "      <td>75.500000</td>\n",
              "      <td>5.800000</td>\n",
              "      <td>3.000000</td>\n",
              "      <td>4.350000</td>\n",
              "      <td>1.300000</td>\n",
              "    </tr>\n",
              "    <tr>\n",
              "      <th>75%</th>\n",
              "      <td>112.750000</td>\n",
              "      <td>6.400000</td>\n",
              "      <td>3.300000</td>\n",
              "      <td>5.100000</td>\n",
              "      <td>1.800000</td>\n",
              "    </tr>\n",
              "    <tr>\n",
              "      <th>max</th>\n",
              "      <td>150.000000</td>\n",
              "      <td>7.900000</td>\n",
              "      <td>4.400000</td>\n",
              "      <td>6.900000</td>\n",
              "      <td>2.500000</td>\n",
              "    </tr>\n",
              "  </tbody>\n",
              "</table>\n",
              "</div>\n",
              "      <button class=\"colab-df-convert\" onclick=\"convertToInteractive('df-aa144532-647f-41bd-82a9-be0cdc8faa2f')\"\n",
              "              title=\"Convert this dataframe to an interactive table.\"\n",
              "              style=\"display:none;\">\n",
              "        \n",
              "  <svg xmlns=\"http://www.w3.org/2000/svg\" height=\"24px\"viewBox=\"0 0 24 24\"\n",
              "       width=\"24px\">\n",
              "    <path d=\"M0 0h24v24H0V0z\" fill=\"none\"/>\n",
              "    <path d=\"M18.56 5.44l.94 2.06.94-2.06 2.06-.94-2.06-.94-.94-2.06-.94 2.06-2.06.94zm-11 1L8.5 8.5l.94-2.06 2.06-.94-2.06-.94L8.5 2.5l-.94 2.06-2.06.94zm10 10l.94 2.06.94-2.06 2.06-.94-2.06-.94-.94-2.06-.94 2.06-2.06.94z\"/><path d=\"M17.41 7.96l-1.37-1.37c-.4-.4-.92-.59-1.43-.59-.52 0-1.04.2-1.43.59L10.3 9.45l-7.72 7.72c-.78.78-.78 2.05 0 2.83L4 21.41c.39.39.9.59 1.41.59.51 0 1.02-.2 1.41-.59l7.78-7.78 2.81-2.81c.8-.78.8-2.07 0-2.86zM5.41 20L4 18.59l7.72-7.72 1.47 1.35L5.41 20z\"/>\n",
              "  </svg>\n",
              "      </button>\n",
              "      \n",
              "  <style>\n",
              "    .colab-df-container {\n",
              "      display:flex;\n",
              "      flex-wrap:wrap;\n",
              "      gap: 12px;\n",
              "    }\n",
              "\n",
              "    .colab-df-convert {\n",
              "      background-color: #E8F0FE;\n",
              "      border: none;\n",
              "      border-radius: 50%;\n",
              "      cursor: pointer;\n",
              "      display: none;\n",
              "      fill: #1967D2;\n",
              "      height: 32px;\n",
              "      padding: 0 0 0 0;\n",
              "      width: 32px;\n",
              "    }\n",
              "\n",
              "    .colab-df-convert:hover {\n",
              "      background-color: #E2EBFA;\n",
              "      box-shadow: 0px 1px 2px rgba(60, 64, 67, 0.3), 0px 1px 3px 1px rgba(60, 64, 67, 0.15);\n",
              "      fill: #174EA6;\n",
              "    }\n",
              "\n",
              "    [theme=dark] .colab-df-convert {\n",
              "      background-color: #3B4455;\n",
              "      fill: #D2E3FC;\n",
              "    }\n",
              "\n",
              "    [theme=dark] .colab-df-convert:hover {\n",
              "      background-color: #434B5C;\n",
              "      box-shadow: 0px 1px 3px 1px rgba(0, 0, 0, 0.15);\n",
              "      filter: drop-shadow(0px 1px 2px rgba(0, 0, 0, 0.3));\n",
              "      fill: #FFFFFF;\n",
              "    }\n",
              "  </style>\n",
              "\n",
              "      <script>\n",
              "        const buttonEl =\n",
              "          document.querySelector('#df-aa144532-647f-41bd-82a9-be0cdc8faa2f button.colab-df-convert');\n",
              "        buttonEl.style.display =\n",
              "          google.colab.kernel.accessAllowed ? 'block' : 'none';\n",
              "\n",
              "        async function convertToInteractive(key) {\n",
              "          const element = document.querySelector('#df-aa144532-647f-41bd-82a9-be0cdc8faa2f');\n",
              "          const dataTable =\n",
              "            await google.colab.kernel.invokeFunction('convertToInteractive',\n",
              "                                                     [key], {});\n",
              "          if (!dataTable) return;\n",
              "\n",
              "          const docLinkHtml = 'Like what you see? Visit the ' +\n",
              "            '<a target=\"_blank\" href=https://colab.research.google.com/notebooks/data_table.ipynb>data table notebook</a>'\n",
              "            + ' to learn more about interactive tables.';\n",
              "          element.innerHTML = '';\n",
              "          dataTable['output_type'] = 'display_data';\n",
              "          await google.colab.output.renderOutput(dataTable, element);\n",
              "          const docLink = document.createElement('div');\n",
              "          docLink.innerHTML = docLinkHtml;\n",
              "          element.appendChild(docLink);\n",
              "        }\n",
              "      </script>\n",
              "    </div>\n",
              "  </div>\n",
              "  "
            ],
            "text/plain": [
              "               Id  SepalLengthCm  SepalWidthCm  PetalLengthCm  PetalWidthCm\n",
              "count  150.000000     150.000000    150.000000     150.000000    150.000000\n",
              "mean    75.500000       5.843333      3.054000       3.758667      1.198667\n",
              "std     43.445368       0.828066      0.433594       1.764420      0.763161\n",
              "min      1.000000       4.300000      2.000000       1.000000      0.100000\n",
              "25%     38.250000       5.100000      2.800000       1.600000      0.300000\n",
              "50%     75.500000       5.800000      3.000000       4.350000      1.300000\n",
              "75%    112.750000       6.400000      3.300000       5.100000      1.800000\n",
              "max    150.000000       7.900000      4.400000       6.900000      2.500000"
            ]
          },
          "metadata": {},
          "execution_count": 5
        }
      ]
    },
    {
      "cell_type": "markdown",
      "source": [
        "### Null Values"
      ],
      "metadata": {
        "id": "9ACiJ0fzJPE-"
      }
    },
    {
      "cell_type": "code",
      "source": [
        "data.isna().sum()"
      ],
      "metadata": {
        "colab": {
          "base_uri": "https://localhost:8080/"
        },
        "id": "NJh5a3BMDkO6",
        "outputId": "7b045aca-808b-4edc-8d8f-919a33c0609b"
      },
      "execution_count": null,
      "outputs": [
        {
          "output_type": "execute_result",
          "data": {
            "text/plain": [
              "Id               0\n",
              "SepalLengthCm    0\n",
              "SepalWidthCm     0\n",
              "PetalLengthCm    0\n",
              "PetalWidthCm     0\n",
              "Species          0\n",
              "dtype: int64"
            ]
          },
          "metadata": {},
          "execution_count": 6
        }
      ]
    },
    {
      "cell_type": "markdown",
      "source": [
        "### Duplicated Values"
      ],
      "metadata": {
        "id": "r1wsVzS0JQUe"
      }
    },
    {
      "cell_type": "code",
      "source": [
        "data.duplicated().sum()"
      ],
      "metadata": {
        "colab": {
          "base_uri": "https://localhost:8080/"
        },
        "id": "1qprA7kiF2xx",
        "outputId": "09280c75-d249-473e-91b7-000cf37403a3"
      },
      "execution_count": null,
      "outputs": [
        {
          "output_type": "execute_result",
          "data": {
            "text/plain": [
              "0"
            ]
          },
          "metadata": {},
          "execution_count": 7
        }
      ]
    },
    {
      "cell_type": "markdown",
      "source": [
        "### Categorical Values"
      ],
      "metadata": {
        "id": "sbuiPHu9JR9c"
      }
    },
    {
      "cell_type": "code",
      "source": [
        "data['Species'].unique()"
      ],
      "metadata": {
        "colab": {
          "base_uri": "https://localhost:8080/"
        },
        "id": "hEn1RGD3GGZP",
        "outputId": "77f3b292-e0e0-4ed1-909b-728eec2cda01"
      },
      "execution_count": null,
      "outputs": [
        {
          "output_type": "execute_result",
          "data": {
            "text/plain": [
              "array(['Iris-setosa', 'Iris-versicolor', 'Iris-virginica'], dtype=object)"
            ]
          },
          "metadata": {},
          "execution_count": 8
        }
      ]
    },
    {
      "cell_type": "markdown",
      "source": [
        "## Data Visualization"
      ],
      "metadata": {
        "id": "UAKzpddRJUhR"
      }
    },
    {
      "cell_type": "markdown",
      "source": [
        "### Scatter Plot"
      ],
      "metadata": {
        "id": "dnaLR8TeJXMF"
      }
    },
    {
      "cell_type": "code",
      "source": [
        "petal_len = data['PetalLengthCm']\n",
        "petal_wd = data['PetalWidthCm']\n",
        "\n",
        "fig, ax = plt.subplots()\n",
        "\n",
        "ax.scatter(x=petal_len, y=petal_wd)\n",
        "ax.set_xlabel('Petal Length (cm)')\n",
        "ax.set_ylabel('Petal Width (cm)')\n",
        "\n",
        "plt.show()"
      ],
      "metadata": {
        "colab": {
          "base_uri": "https://localhost:8080/",
          "height": 278
        },
        "id": "gXLJm-xcJWlM",
        "outputId": "c626ffaf-f0c7-477c-ed9d-37913f95280b"
      },
      "execution_count": null,
      "outputs": [
        {
          "output_type": "display_data",
          "data": {
            "image/png": "[encoded data removed]",
            "text/plain": [
              "<Figure size 432x288 with 1 Axes>"
            ]
          },
          "metadata": {
            "needs_background": "light"
          }
        }
      ]
    },
    {
      "cell_type": "markdown",
      "source": [
        "From this plot, we can see that petal length and petal width have a positive correlation."
      ],
      "metadata": {
        "id": "7Ig5sSrlAvQH"
      }
    },
    {
      "cell_type": "markdown",
      "source": [
        "### Vertical Bar Plot"
      ],
      "metadata": {
        "id": "6wBRrXtEK469"
      }
    },
    {
      "cell_type": "code",
      "source": [
        "species_count = data['Species'].value_counts()\n",
        "\n",
        "fig, ax = plt.subplots()\n",
        "\n",
        "ax.bar(x=species_count.index, height=species_count)\n",
        "ax.set_ylabel('Count')\n",
        "\n",
        "plt.show()"
      ],
      "metadata": {
        "colab": {
          "base_uri": "https://localhost:8080/",
          "height": 264
        },
        "id": "V9x6h1g4K82k",
        "outputId": "62b99f0a-909b-44f4-ee49-e34151f813f3"
      },
      "execution_count": null,
      "outputs": [
        {
          "output_type": "display_data",
          "data": {
            "image/png": "[encoded data removed]",
            "text/plain": [
              "<Figure size 432x288 with 1 Axes>"
            ]
          },
          "metadata": {
            "needs_background": "light"
          }
        }
      ]
    },
    {
      "cell_type": "markdown",
      "source": [
        "Using a horizontal bar plot, we can see that the number of iris species in the dataset is the same, that is 50 data for each species."
      ],
      "metadata": {
        "id": "fW4ge5hHA9UR"
      }
    },
    {
      "cell_type": "markdown",
      "source": [
        "### Horizontal Bar Plot"
      ],
      "metadata": {
        "id": "5bMynkxBNl82"
      }
    },
    {
      "cell_type": "code",
      "source": [
        "species_count = data['Species'].value_counts()\n",
        "\n",
        "fig, ax = plt.subplots()\n",
        "\n",
        "ax.barh(y=species_count.index, width=species_count)\n",
        "ax.set_xlabel('Count')\n",
        "plt.show()"
      ],
      "metadata": {
        "colab": {
          "base_uri": "https://localhost:8080/",
          "height": 278
        },
        "id": "nAO9ERd4NqdK",
        "outputId": "60dc78d5-5e32-4bfd-e00e-4c0f29a6e276"
      },
      "execution_count": null,
      "outputs": [
        {
          "output_type": "display_data",
          "data": {
            "image/png": "[encoded data removed]",
            "text/plain": [
              "<Figure size 432x288 with 1 Axes>"
            ]
          },
          "metadata": {
            "needs_background": "light"
          }
        }
      ]
    },
    {
      "cell_type": "markdown",
      "source": [
        "Using a horizontal bar chart, we can see that the number of iris species in the dataset is the same, that is 50 data for each species. Just like when using a vertical bar chart."
      ],
      "metadata": {
        "id": "WfBQZPylCXI-"
      }
    },
    {
      "cell_type": "markdown",
      "source": [
        "### Pie Chart"
      ],
      "metadata": {
        "id": "BfoWzpAoJmr0"
      }
    },
    {
      "cell_type": "code",
      "source": [
        "species_count = data['Species'].value_counts(normalize=True)\n",
        "\n",
        "fig, ax = plt.subplots()\n",
        "\n",
        "ax.pie(x=species_count, labels=species_count.index)\n",
        "\n",
        "plt.show()"
      ],
      "metadata": {
        "colab": {
          "base_uri": "https://localhost:8080/",
          "height": 247
        },
        "id": "QpU_rPprJ24V",
        "outputId": "041c8a3b-88d1-455e-c55b-54d62c07faaa"
      },
      "execution_count": null,
      "outputs": [
        {
          "output_type": "display_data",
          "data": {
            "image/png": "[encoded data removed]",
            "text/plain": [
              "<Figure size 432x288 with 1 Axes>"
            ]
          },
          "metadata": {}
        }
      ]
    },
    {
      "cell_type": "code",
      "source": [
        "species_count = data['Species'].value_counts(normalize=True)\n",
        "\n",
        "fig, ax = plt.subplots()\n",
        "\n",
        "ax.pie(x=species_count, labels=species_count.index, autopct='%.2f%%')\n",
        "\n",
        "plt.show()"
      ],
      "metadata": {
        "colab": {
          "base_uri": "https://localhost:8080/",
          "height": 247
        },
        "id": "-zM1qryrklFq",
        "outputId": "1542a7e6-1db4-4b53-be96-74e84e92cca5"
      },
      "execution_count": null,
      "outputs": [
        {
          "output_type": "display_data",
          "data": {
            "image/png": "[encoded data removed]",
            "text/plain": [
              "<Figure size 432x288 with 1 Axes>"
            ]
          },
          "metadata": {}
        }
      ]
    },
    {
      "cell_type": "markdown",
      "source": [
        "From this pie chart, we can see that each species has the same proportion in the dataset, which is 33.33% for each species."
      ],
      "metadata": {
        "id": "gpwiMXxwCpyl"
      }
    },
    {
      "cell_type": "markdown",
      "source": [
        "### Box Plot"
      ],
      "metadata": {
        "id": "2_vxmvjDN9kj"
      }
    },
    {
      "cell_type": "code",
      "source": [
        "petal_len = data['PetalLengthCm']\n",
        "\n",
        "fig, ax = plt.subplots()\n",
        "\n",
        "ax.boxplot(x=petal_len)\n",
        "ax.set_ylabel('Petal Length (cm)')\n",
        "\n",
        "plt.show()"
      ],
      "metadata": {
        "colab": {
          "base_uri": "https://localhost:8080/",
          "height": 264
        },
        "id": "aKmgKxBUKpuW",
        "outputId": "2416a19b-216b-4293-d05d-f2d6212ec62d"
      },
      "execution_count": null,
      "outputs": [
        {
          "output_type": "display_data",
          "data": {
            "image/png": "[encoded data removed]",
            "text/plain": [
              "<Figure size 432x288 with 1 Axes>"
            ]
          },
          "metadata": {
            "needs_background": "light"
          }
        }
      ]
    },
    {
      "cell_type": "markdown",
      "source": [
        "Besides being used to see the distribution of data, box plots are also very useful for seeing outliers. From this plot, we can see that the `PetalLenghtCm` attribute has no outliers."
      ],
      "metadata": {
        "id": "ZkVwsdbJOe8n"
      }
    },
    {
      "cell_type": "markdown",
      "source": [
        "### Histogram"
      ],
      "metadata": {
        "id": "cbxRgR2KOhRI"
      }
    },
    {
      "cell_type": "code",
      "source": [
        "petal_len = data['PetalLengthCm']\n",
        "\n",
        "fig, ax = plt.subplots()\n",
        "\n",
        "ax.hist(x=petal_len, bins=20)\n",
        "ax.set_xlabel('Petal Length (cm)')\n",
        "ax.set_ylabel('Count')\n",
        "\n",
        "plt.show()"
      ],
      "metadata": {
        "colab": {
          "base_uri": "https://localhost:8080/",
          "height": 278
        },
        "id": "NWLrMKC7OLDf",
        "outputId": "265969c0-a9d0-462b-dc60-6f2992935bfe"
      },
      "execution_count": null,
      "outputs": [
        {
          "output_type": "display_data",
          "data": {
            "image/png": "[encoded data removed]",
            "text/plain": [
              "<Figure size 432x288 with 1 Axes>"
            ]
          },
          "metadata": {
            "needs_background": "light"
          }
        }
      ]
    },
    {
      "cell_type": "markdown",
      "source": [
        "This histogram is very useful to see the distribution of data. As we can see, the `PetalLengthCm` attribute distribution is not normal."
      ],
      "metadata": {
        "id": "bnlEhG5SPDOM"
      }
    },
    {
      "cell_type": "markdown",
      "source": [
        "### Violin Plot"
      ],
      "metadata": {
        "id": "Son3WFxEOwUY"
      }
    },
    {
      "cell_type": "code",
      "source": [
        "petal_len = data['PetalLengthCm']\n",
        "\n",
        "fig, ax = plt.subplots()\n",
        "\n",
        "ax.violinplot(dataset=petal_len)\n",
        "ax.set_xlabel('Density')\n",
        "ax.set_ylabel('Petal Length (cm)')\n",
        "\n",
        "plt.show()"
      ],
      "metadata": {
        "colab": {
          "base_uri": "https://localhost:8080/",
          "height": 278
        },
        "id": "bebs-Ct0OnKc",
        "outputId": "7a627c5e-3a1d-4ef2-839d-7a9fb69f72ed"
      },
      "execution_count": null,
      "outputs": [
        {
          "output_type": "display_data",
          "data": {
            "image/png": "[encoded data removed]",
            "text/plain": [
              "<Figure size 432x288 with 1 Axes>"
            ]
          },
          "metadata": {
            "needs_background": "light"
          }
        }
      ]
    },
    {
      "cell_type": "markdown",
      "source": [
        "A violin plot is a combination of a box plot and a density plot. Using this plot, we can clearly see the data distribution for each datapoint and it has no outliers."
      ],
      "metadata": {
        "id": "jzEaRy5GPZdg"
      }
    }
  ]
}