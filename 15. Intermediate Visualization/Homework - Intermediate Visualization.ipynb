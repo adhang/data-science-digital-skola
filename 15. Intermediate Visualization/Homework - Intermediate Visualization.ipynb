{
  "nbformat": 4,
  "nbformat_minor": 0,
  "metadata": {
    "colab": {
      "name": "Homework - Intermediate Visualization.ipynb",
      "provenance": [],
      "collapsed_sections": [],
      "toc_visible": true,
      "authorship_tag": "ABX9TyMBMNZ0Ym/tlcqogrs0aZ5j",
      "include_colab_link": true
    },
    "kernelspec": {
      "name": "python3",
      "display_name": "Python 3"
    },
    "language_info": {
      "name": "python"
    }
  },
  "cells": [
    {
      "cell_type": "markdown",
      "metadata": {
        "id": "view-in-github",
        "colab_type": "text"
      },
      "source": [
        "<a href=\"https://colab.research.google.com/github/adhang/data-science-digital-skola/blob/update/15.%20Intermediate%20Visualization/Homework%20-%20Intermediate%20Visualization.ipynb\" target=\"_parent\"><img src=\"https://colab.research.google.com/assets/colab-badge.svg\" alt=\"Open In Colab\"/></a>"
      ]
    },
    {
      "cell_type": "markdown",
      "source": [
        "# Homework - Intermediate Visualization\n",
        "Author: Adhang Muntaha Muhammad\n",
        "\n",
        "[![LinkedIn](https://img.shields.io/badge/linkedin-0077B5?style=for-the-badge&logo=linkedin&logoColor=white&link=https://www.linkedin.com/in/adhangmuntaha/)](https://www.linkedin.com/in/adhangmuntaha/)\n",
        "[![GitHub](https://img.shields.io/badge/github-121011?style=for-the-badge&logo=github&logoColor=white&link=https://github.com/adhang)](https://github.com/adhang)\n",
        "[![Kaggle](https://img.shields.io/badge/kaggle-20BEFF?style=for-the-badge&logo=kaggle&logoColor=white&link=https://www.kaggle.com/adhang)](https://www.kaggle.com/adhang)\n",
        "[![Tableau](https://img.shields.io/badge/tableau-E97627?style=for-the-badge&logo=tableau&logoColor=white&link=https://public.tableau.com/app/profile/adhang)](https://public.tableau.com/app/profile/adhang)\n",
        "___\n",
        "**Contents**\n",
        "- Matplotlib Cheatsheet\n",
        "- Matplotlib Example"
      ],
      "metadata": {
        "id": "ohcwGoejGams"
      }
    },
    {
      "cell_type": "markdown",
      "source": [
        "# Matplotlib Cheatsheet"
      ],
      "metadata": {
        "id": "7cjDalKjGqcP"
      }
    },
    {
      "cell_type": "markdown",
      "source": [
        "## Importing Libraries\n",
        "\n",
        "```python\n",
        "import matplotlib.pyplot as plt\n",
        "import matplotlib as mpl\n",
        "```"
      ],
      "metadata": {
        "id": "G49VuzRTGsVS"
      }
    },
    {
      "cell_type": "markdown",
      "source": [
        "## Figure Anatomy\n",
        "<img src=\"https://matplotlib.org/stable/_images/sphx_glr_anatomy_001.png\" alt=\"matplotlib figure anatomy\" title=\"matplotlib figure anatomy\" width=50%>"
      ],
      "metadata": {
        "id": "LC3gg70jHFFp"
      }
    },
    {
      "cell_type": "markdown",
      "source": [
        "## Line Plot\n",
        "\n",
        "```python\n",
        "plt.plot(x, y, ...)\n",
        "```\n",
        "- `x` = the horizontal (X-axis) coordinates of the data points\n",
        "- `y` = the vertical (Y-axis) coordinates of the data points\n"
      ],
      "metadata": {
        "id": "O8jVxG0MH_xB"
      }
    },
    {
      "cell_type": "markdown",
      "source": [
        "## Scatter Plot\n",
        "\n",
        "```python\n",
        "plt.scatter(x, y, ...)\n",
        "```\n",
        "- `x` = the horizontal (X-axis) coordinates of the data points\n",
        "- `y` = the vertical (Y-axis) coordinates of the data points\n",
        "\n"
      ],
      "metadata": {
        "id": "gf0Iu0FKIOLf"
      }
    },
    {
      "cell_type": "markdown",
      "source": [
        "## Vertical Bar Plot\n",
        "\n",
        "```python\n",
        "plt.bar(x, height, ...)\n",
        "```\n",
        "- `x` = the horizontal (X-axis) coordinates of the data points\n",
        "- `height` = the height of the bars (Y-axis)\n"
      ],
      "metadata": {
        "id": "khkXURu0I-O5"
      }
    },
    {
      "cell_type": "markdown",
      "source": [
        "## Horizontal Bar Plot\n",
        "\n",
        "```python\n",
        "plt.barh(y, width, ...)\n",
        "```\n",
        "- `y` = the vertical (Y-axis) coordinates of the data points\n",
        "- `width` = the width of the bars (X-axis)\n"
      ],
      "metadata": {
        "id": "0EXLjsZ9Jkxk"
      }
    },
    {
      "cell_type": "markdown",
      "source": [
        "## Pie Chart\n",
        "\n",
        "```python\n",
        "plt.pie(x, ...)\n",
        "```\n",
        "- `x` = the wedges size\n"
      ],
      "metadata": {
        "id": "DZkNV9AiKcPd"
      }
    },
    {
      "cell_type": "markdown",
      "source": [
        "## Box Plot\n",
        "\n",
        "```python\n",
        "plt.boxplot(x, ...)\n",
        "```\n",
        "- `x` = the input data\n",
        "\n"
      ],
      "metadata": {
        "id": "3F5eo6dPL5wh"
      }
    },
    {
      "cell_type": "markdown",
      "source": [
        "## Histogram\n",
        "\n",
        "```python\n",
        "plt.hist(x, bins, ...)\n",
        "```\n",
        "- `x` = the input data\n",
        "- `bins` = the number of bins or the bin edges\n",
        "\n"
      ],
      "metadata": {
        "id": "U7h7mLhjMQli"
      }
    },
    {
      "cell_type": "markdown",
      "source": [
        "## Violin Plot\n",
        "\n",
        "```python\n",
        "plt.violinplot(x, ...)\n",
        "```\n",
        "- `x` = the input data\n",
        "\n"
      ],
      "metadata": {
        "id": "peqHq49TM8ji"
      }
    },
    {
      "cell_type": "markdown",
      "source": [
        "## Stacked Area Plot"
      ],
      "metadata": {
        "id": "HhUmO6yQNrUe"
      }
    },
    {
      "cell_type": "markdown",
      "source": [
        "### Method 1\n",
        "```python\n",
        "plt.stackplot(x, y, ...)\n",
        "```\n",
        "- `x`\n",
        "  - The horizontal (X-axis) coordinates of the data points\n",
        "  - Shape = (N,)\n",
        "- `y`\n",
        "  - the vertical (Y-axis) unstacked data\n",
        "  - Shape = (M, N)"
      ],
      "metadata": {
        "id": "qTS4SggNPmNa"
      }
    },
    {
      "cell_type": "markdown",
      "source": [
        "### Method 2\n",
        "\n",
        "```python\n",
        "plt.stackplot(x, y1, y2, ...)\n",
        "```\n",
        "- `x`\n",
        "  - The horizontal (X-axis) coordinates of the data points\n",
        "  - Shape = (N,)\n",
        "- `y1`\n",
        "  - the vertical (Y-axis) unstacked data\n",
        "  - Shape = (N,)\n",
        "- `y2`\n",
        "  - the vertical (Y-axis) unstacked data\n",
        "  - Shape = (N,)"
      ],
      "metadata": {
        "id": "XA3Upc0YPpAW"
      }
    }
  ]
}