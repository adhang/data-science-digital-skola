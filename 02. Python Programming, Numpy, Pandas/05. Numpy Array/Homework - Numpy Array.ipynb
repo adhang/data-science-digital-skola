{
  "nbformat": 4,
  "nbformat_minor": 0,
  "metadata": {
    "colab": {
      "name": "Homework - Numpy Array.ipynb",
      "provenance": [],
      "collapsed_sections": [],
      "toc_visible": true,
      "authorship_tag": "ABX9TyMODVt0ui61PHsxCLZP+yOg",
      "include_colab_link": true
    },
    "kernelspec": {
      "name": "python3",
      "display_name": "Python 3"
    },
    "language_info": {
      "name": "python"
    }
  },
  "cells": [
    {
      "cell_type": "markdown",
      "metadata": {
        "id": "view-in-github",
        "colab_type": "text"
      },
      "source": [
        "<a href=\"https://colab.research.google.com/github/adhang/data-science-digital-skola/blob/update/05.%20Numpy%20Array/Homework%20-%20Numpy%20Array.ipynb\" target=\"_parent\"><img src=\"https://colab.research.google.com/assets/colab-badge.svg\" alt=\"Open In Colab\"/></a>"
      ]
    },
    {
      "cell_type": "markdown",
      "source": [
        "# Homework - Numpy Array\n",
        "Author: Adhang Muntaha Muhammad\n",
        "\n",
        "[![LinkedIn](https://img.shields.io/badge/linkedin-0077B5?style=for-the-badge&logo=linkedin&logoColor=white&link=https://www.linkedin.com/in/adhangmuntaha/)](https://www.linkedin.com/in/adhangmuntaha/)\n",
        "[![GitHub](https://img.shields.io/badge/github-121011?style=for-the-badge&logo=github&logoColor=white&link=https://github.com/adhang)](https://github.com/adhang)\n",
        "[![Kaggle](https://img.shields.io/badge/kaggle-20BEFF?style=for-the-badge&logo=kaggle&logoColor=white&link=https://www.kaggle.com/adhang)](https://www.kaggle.com/adhang)\n",
        "[![Tableau](https://img.shields.io/badge/tableau-E97627?style=for-the-badge&logo=tableau&logoColor=white&link=https://public.tableau.com/app/profile/adhang)](https://public.tableau.com/app/profile/adhang)\n",
        "___"
      ],
      "metadata": {
        "id": "FrFFJ4cMy8qT"
      }
    },
    {
      "cell_type": "markdown",
      "source": [
        "## Problems and Tasks\n",
        "\n",
        "1. Create a 2-dimensional matrix with values like this\n",
        "2. Create a code to retrieve all red values (values in red cells)\n",
        "3. Create a code to retrieve all yellow values (values in yellow cells)\n",
        "\n",
        "<img src='https://drive.google.com/uc?export=view&id=1A-dIyJaDCmGZfSvpGAXW18xQs-cJorkd' width=400>\n",
        "\n"
      ],
      "metadata": {
        "id": "U64KL65L80p4"
      }
    },
    {
      "cell_type": "markdown",
      "source": [
        "## Solutions"
      ],
      "metadata": {
        "id": "VTfNBa_dz1Jg"
      }
    },
    {
      "cell_type": "markdown",
      "source": [
        "### Solution - Task 1"
      ],
      "metadata": {
        "id": "Yb52Ns2a36C8"
      }
    },
    {
      "cell_type": "code",
      "source": [
        "import numpy as np\n",
        "\n",
        "# first method\n",
        "# write all data manually\n",
        "arr = np.array([[1,2,3,4,5,6],\n",
        "                [7,8,9,10,11,12],\n",
        "                [13,14,15,16,17,18],\n",
        "                [19,20,21,22,23,24],\n",
        "                [25,26,27,28,29,30]])\n",
        "arr"
      ],
      "metadata": {
        "colab": {
          "base_uri": "https://localhost:8080/"
        },
        "id": "aCRd-QFx0ddE",
        "outputId": "f90d48d7-4b8f-4f69-82c9-b759f27959b0"
      },
      "execution_count": null,
      "outputs": [
        {
          "output_type": "execute_result",
          "data": {
            "text/plain": [
              "array([[ 1,  2,  3,  4,  5,  6],\n",
              "       [ 7,  8,  9, 10, 11, 12],\n",
              "       [13, 14, 15, 16, 17, 18],\n",
              "       [19, 20, 21, 22, 23, 24],\n",
              "       [25, 26, 27, 28, 29, 30]])"
            ]
          },
          "metadata": {},
          "execution_count": 39
        }
      ]
    },
    {
      "cell_type": "code",
      "source": [
        "# second method\n",
        "# since the data is in order, we can use the arange() function\n",
        "arr = np.array([np.arange(1,6+1),\n",
        "                np.arange(7,12+1),\n",
        "                np.arange(13,18+1),\n",
        "                np.arange(19,24+1),\n",
        "                np.arange(25,30+1)])\n",
        "arr"
      ],
      "metadata": {
        "colab": {
          "base_uri": "https://localhost:8080/"
        },
        "id": "AK3h8klK1ECE",
        "outputId": "f58389b8-b8d4-4292-829d-9cd0e2c66378"
      },
      "execution_count": null,
      "outputs": [
        {
          "output_type": "execute_result",
          "data": {
            "text/plain": [
              "array([[ 1,  2,  3,  4,  5,  6],\n",
              "       [ 7,  8,  9, 10, 11, 12],\n",
              "       [13, 14, 15, 16, 17, 18],\n",
              "       [19, 20, 21, 22, 23, 24],\n",
              "       [25, 26, 27, 28, 29, 30]])"
            ]
          },
          "metadata": {},
          "execution_count": 40
        }
      ]
    },
    {
      "cell_type": "markdown",
      "source": [
        "### Solution - Task 2\n",
        "Since the red cells form an L-shape, then (as far as I know) we can't retrieve all values by doiang a single slicing."
      ],
      "metadata": {
        "id": "US0NobTv1Mx-"
      }
    },
    {
      "cell_type": "code",
      "source": [
        "# fetch vertical red numbers\n",
        "arr_merah_1 = arr[:,1]\n",
        "arr_merah_1"
      ],
      "metadata": {
        "colab": {
          "base_uri": "https://localhost:8080/"
        },
        "id": "asrbN_CV1sk7",
        "outputId": "a2db26bb-0034-4a6f-c5fd-2a7567c23c95"
      },
      "execution_count": null,
      "outputs": [
        {
          "output_type": "execute_result",
          "data": {
            "text/plain": [
              "array([ 2,  8, 14, 20, 26])"
            ]
          },
          "metadata": {},
          "execution_count": 41
        }
      ]
    },
    {
      "cell_type": "code",
      "source": [
        "# fetch horizontal red numbers\n",
        "# number '2' is excluded, so there will be no duplicate data\n",
        "arr_merah_2 = arr[0,2:]\n",
        "arr_merah_2"
      ],
      "metadata": {
        "colab": {
          "base_uri": "https://localhost:8080/"
        },
        "id": "5byDHHID5u4s",
        "outputId": "20b37c8d-5502-43cd-8c44-97926aa2ab5a"
      },
      "execution_count": null,
      "outputs": [
        {
          "output_type": "execute_result",
          "data": {
            "text/plain": [
              "array([3, 4, 5, 6])"
            ]
          },
          "metadata": {},
          "execution_count": 42
        }
      ]
    },
    {
      "cell_type": "markdown",
      "source": [
        "### Solution - Task 3"
      ],
      "metadata": {
        "id": "-OtS5pQ72aJn"
      }
    },
    {
      "cell_type": "code",
      "source": [
        "# fetch yellow numbers\n",
        "arr_kuning = arr[-2:, -2:]\n",
        "arr_kuning"
      ],
      "metadata": {
        "colab": {
          "base_uri": "https://localhost:8080/"
        },
        "id": "i3Ch1Ke84Lko",
        "outputId": "781a1a66-ca74-4ef2-8025-1c2d7c8a2d84"
      },
      "execution_count": null,
      "outputs": [
        {
          "output_type": "execute_result",
          "data": {
            "text/plain": [
              "array([[23, 24],\n",
              "       [29, 30]])"
            ]
          },
          "metadata": {},
          "execution_count": 43
        }
      ]
    },
    {
      "cell_type": "code",
      "source": [
        ""
      ],
      "metadata": {
        "id": "-Rspvotn56z_"
      },
      "execution_count": null,
      "outputs": []
    }
  ]
}