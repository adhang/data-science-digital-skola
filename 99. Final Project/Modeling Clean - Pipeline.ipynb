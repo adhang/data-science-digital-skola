{
  "cells": [
    {
      "cell_type": "markdown",
      "metadata": {
        "id": "view-in-github",
        "colab_type": "text"
      },
      "source": [
        "<a href=\"https://colab.research.google.com/github/adhang/data-science-digital-skola/blob/update/99.%20Final%20Project/Modeling%20Clean%20-%20Pipeline.ipynb\" target=\"_parent\"><img src=\"https://colab.research.google.com/assets/colab-badge.svg\" alt=\"Open In Colab\"/></a>"
      ]
    },
    {
      "cell_type": "markdown",
      "metadata": {
        "id": "K1lWo2rUN2-R"
      },
      "source": [
        "# Telco Customer Churn Prediction\n",
        "Author: Adhang Muntaha Muhammad\n",
        "\n",
        "[![LinkedIn](https://img.shields.io/badge/linkedin-0077B5?style=for-the-badge&logo=linkedin&logoColor=white&link=https://www.linkedin.com/in/adhangmuntaha/)](https://www.linkedin.com/in/adhangmuntaha/)\n",
        "[![GitHub](https://img.shields.io/badge/github-121011?style=for-the-badge&logo=github&logoColor=white&link=https://github.com/adhang)](https://github.com/adhang)\n",
        "[![Kaggle](https://img.shields.io/badge/kaggle-20BEFF?style=for-the-badge&logo=kaggle&logoColor=white&link=https://www.kaggle.com/adhang)](https://www.kaggle.com/adhang)\n",
        "[![Tableau](https://img.shields.io/badge/tableau-E97627?style=for-the-badge&logo=tableau&logoColor=white&link=https://public.tableau.com/app/profile/adhang)](https://public.tableau.com/app/profile/adhang)\n",
        "___\n",
        "\n",
        "**Context**\n",
        "- The telco customer churn data contains customer information from a fictional telco company\n",
        "- This company provides various services such as streaming, phone, and internet services\n",
        "<br><br>\n",
        "\n",
        "**Problem Background**\n",
        "- Customer churn is one of the biggest problems in the telecommunications industry\n",
        "- By definition, customer churn is when customers stop interacting (subscribe) with the company\n",
        "- Companies need to invest (expense costs) to get new customers\n",
        "- When a customer leaves the service (churns), it indicates a loss of investment\n",
        "- Cost, time, and effort need to be channelled to replace customers who have left the service\n",
        "- Acquiring new customers is often more difficult and more expensive than retaining existing customers\n",
        "- On Hardvard Business Review [page](https://hbr.org/2014/10/the-value-of-keeping-the-right-customers), they said: acquiring a new customer is anywhere from five to 25 times more expensive than retaining an existing one\n",
        "<br><br>\n",
        "\n",
        "**Objectives**\n",
        "- Predict whether customers will continue to use the service or will leave the service\n",
        "- Understand the customer behaviors: what keeps customers using the service and what makes them leave the service\n",
        "<br><br>\n",
        "\n",
        "**Contents**\n",
        "1. Dataset Information\n",
        "2. Importing Libraries\n",
        "3. Dataset Overview\n",
        "4. Dataset Overview - Function\n",
        "5. Exploratory Data Analysis\n",
        "6. Data Preprocessing"
      ]
    },
    {
      "cell_type": "markdown",
      "metadata": {
        "id": "gTXyF_Ep8b9r"
      },
      "source": [
        "# 1. Dataset Information\n",
        "This dataset comes from Kaggle, you can find it here: [Telco Customer Churn](https://www.kaggle.com/blastchar/telco-customer-churn).\n",
        "<br><br>\n",
        "This dataset is used to predict behavior to retain customers. Each row represents a customer, and each column contains customer's attribute.\n",
        "<br><br>\n",
        "**Attribute Information**\n",
        "- Identifier\n",
        "  - `customerID` - ID number of the customer\n",
        "\n",
        "- Target Variable\n",
        "  - `Churn` - Churn status, whether the customer churned or not\n",
        "\n",
        "- Demographic information\n",
        "  - `gender` - Whether the customer is a male or a female\n",
        "  - `SeniorCitizen` - Whether the customer is a senior citizen or not\n",
        "  - `Partner` - Whether the customer has a partner or not\n",
        "  - `Dependents` - Whether the customer has dependents or not\n",
        "\n",
        "- Customer account information\n",
        "  - `tenure` - Number of months the customer has used the service\n",
        "  - `Contract` - The contract term of the customer\n",
        "  - `PaperlessBilling` - Whether the customer has paperless billing or not\n",
        "  - `PaymentMethod` - The customer’s payment method\n",
        "  - `MonthlyCharges` - The amount charged to the customer monthly\n",
        "  - `TotalCharges` - The total amount charged to the customer\n",
        "  \n",
        "- Services that each customer has signed up for\n",
        "  - `PhoneService` - Whether the customer has a phone service or not\n",
        "  - `MultipleLines` - Whether the customer has multiple lines or not\n",
        "  - `InternetService` - Customer’s internet service provider\n",
        "  - `OnlineSecurity` - Whether the customer has online security or not\n",
        "  - `OnlineBackup` - Whether the customer has online backup or not\n",
        "  - `DeviceProtection` - Whether the customer has device protection or not\n",
        "  - `TechSupport` - Whether the customer has tech support or not\n",
        "  - `StreamingTV` - Whether the customer has streaming TV or not\n",
        "  - `StreamingMovies` - Whether the customer has streaming movies or not\n",
        "<br><br>\n",
        "\n",
        "**Note:** Since this dataset is using `CamelCase` format for the column names, for this project, I will convert it to `snake_case` format."
      ]
    },
    {
      "cell_type": "markdown",
      "source": [
        "- kalo di dunia kerja, konten dari dashboard/ report itu dari kita sendiri (BI/ DA) atau di-request oleh pihak lain? misal dari orang bisnis.\n",
        "\n",
        "- BI tools kan cukup mahal, itu nanti pasti disediain oleh perusahaan kan mas? kalo iya, berarti nanti BI/ DA harus pakai perangkat dari kantor(?)"
      ],
      "metadata": {
        "id": "nyNLMmwVSmCf"
      }
    },
    {
      "cell_type": "markdown",
      "metadata": {
        "id": "RMaB9Xc6OOm7"
      },
      "source": [
        "# 2. Importing Libraries"
      ]
    },
    {
      "cell_type": "code",
      "execution_count": null,
      "metadata": {
        "id": "8N7vRMwbngUq"
      },
      "outputs": [],
      "source": [
        "!pip install --upgrade matplotlib\n",
        "!pip install --upgrade seaborn\n",
        "# !pip install xgboost\n",
        "# !pip install lightgbm\n",
        "!pip install catboost\n",
        "\n",
        "!pip install inflection\n",
        "!pip install dython\n",
        "!pip install shap\n",
        "\n",
        "# !pip install bayesian-optimization\n",
        "# from bayes_opt import BayesianOptimization"
      ]
    },
    {
      "cell_type": "code",
      "execution_count": 1,
      "metadata": {
        "id": "E5MoOZCJOT63"
      },
      "outputs": [],
      "source": [
        "# association between attributes\n",
        "from dython.nominal import associations\n",
        "\n",
        "# basic\n",
        "import pandas as pd\n",
        "import numpy as np\n",
        "\n",
        "# viz\n",
        "import matplotlib.pyplot as plt\n",
        "import matplotlib.patches as mpatches\n",
        "from matplotlib.colors import LinearSegmentedColormap\n",
        "from mpl_toolkits.mplot3d import Axes3D\n",
        "import seaborn as sns\n",
        "\n",
        "plt.style.use('fivethirtyeight')\n",
        "sns.set_style('white')\n",
        "sns.set_context('notebook', font_scale=1.5, rc={'lines.linewidth':1.5})\n",
        "# I change the maximum width in characters of a column (default: 50)\n",
        "pd.set_option('display.max_colwidth', None)\n",
        "\n",
        "# explainable AI\n",
        "import shap\n",
        "\n",
        "# CamelCase to snake_case format\n",
        "import inflection\n",
        "\n",
        "# encoding\n",
        "from sklearn.preprocessing import LabelEncoder\n",
        "from sklearn.preprocessing import OrdinalEncoder\n",
        "from sklearn.preprocessing import OneHotEncoder\n",
        "\n",
        "# scaling\n",
        "from sklearn.preprocessing import MinMaxScaler\n",
        "from sklearn.preprocessing import StandardScaler\n",
        "\n",
        "# oversampling\n",
        "from imblearn.over_sampling import SMOTE\n",
        "from imblearn.over_sampling import SMOTENC\n",
        "from imblearn.over_sampling import ADASYN\n",
        "\n",
        "# train test split\n",
        "from sklearn.model_selection import train_test_split\n",
        "\n",
        "# model\n",
        "from sklearn.linear_model import LogisticRegression\n",
        "from sklearn.linear_model import RidgeClassifier\n",
        "from sklearn.neighbors import KNeighborsClassifier\n",
        "from sklearn.svm import SVC\n",
        "from sklearn.tree import DecisionTreeClassifier\n",
        "from sklearn.ensemble import RandomForestClassifier\n",
        "from sklearn.ensemble import AdaBoostClassifier\n",
        "from sklearn.ensemble import GradientBoostingClassifier\n",
        "from sklearn.ensemble import HistGradientBoostingClassifier\n",
        "from sklearn.neural_network import MLPClassifier\n",
        "from xgboost import XGBClassifier\n",
        "from xgboost import XGBRFClassifier\n",
        "from catboost import CatBoostClassifier\n",
        "from lightgbm import LGBMClassifier\n",
        "from sklearn.ensemble import VotingClassifier\n",
        "from sklearn.ensemble import StackingClassifier\n",
        "\n",
        "# metrics\n",
        "from sklearn.metrics import accuracy_score\n",
        "from sklearn.metrics import precision_score\n",
        "from sklearn.metrics import recall_score\n",
        "from sklearn.metrics import f1_score\n",
        "from sklearn.metrics import roc_auc_score\n",
        "from sklearn.metrics import log_loss\n",
        "from sklearn.metrics import confusion_matrix\n",
        "from sklearn.metrics import classification_report\n",
        "from sklearn.metrics import make_scorer\n",
        "\n",
        "# model evaluation & tuning hyperparameter\n",
        "from sklearn.model_selection import GridSearchCV\n",
        "from sklearn.model_selection import RepeatedStratifiedKFold\n",
        "from sklearn.model_selection import cross_val_score\n",
        "from sklearn.model_selection import cross_validate\n",
        "from sklearn.feature_selection import SelectKBest, RFE, SelectFromModel\n",
        "from sklearn.feature_selection import chi2, f_classif, mutual_info_classif\n",
        "\n",
        "# pipeline\n",
        "# from sklearn.pipeline import Pipeline\n",
        "from imblearn.pipeline import Pipeline\n",
        "from sklearn.impute import SimpleImputer\n",
        "from sklearn.compose import ColumnTransformer\n",
        "from sklearn import set_config"
      ]
    },
    {
      "cell_type": "markdown",
      "source": [
        "# Pipeline"
      ],
      "metadata": {
        "id": "l_3iVcqWRPiF"
      }
    },
    {
      "cell_type": "markdown",
      "source": [
        "## Basic Cleansing"
      ],
      "metadata": {
        "id": "rtNMHkPLhAWI"
      }
    },
    {
      "cell_type": "code",
      "source": [
        "def get_camel_case(data):\n",
        "  # renaming column\n",
        "  column_list = list(data.columns)\n",
        "\n",
        "  for i, col in enumerate(column_list):\n",
        "    column_list[i] = inflection.underscore(column_list[i]).replace(' ', '_')\n",
        "\n",
        "  return column_list"
      ],
      "metadata": {
        "id": "JRWco2fDRlxt"
      },
      "execution_count": 2,
      "outputs": []
    },
    {
      "cell_type": "code",
      "source": [
        "path = 'https://raw.githubusercontent.com/adhang/datasets/main/telco-customer-churn.csv'\n",
        "\n",
        "data = pd.read_csv(path)\n",
        "\n",
        "# renaming column\n",
        "column_list = get_camel_case(data)\n",
        "data.columns = column_list\n",
        "data.drop('customer_id', axis=1, inplace=True)\n",
        "\n",
        "# rename value\n",
        "data['senior_citizen'] = data['senior_citizen'].replace({0:'No', 1:'Yes'})\n",
        "data.replace({'No phone service':'No',\n",
        "            'No internet service':'No'},\n",
        "            inplace=True)\n",
        "\n",
        "# fill missing values\n",
        "data['total_charges'] = pd.to_numeric(data['total_charges'], errors='coerce')\n",
        "data['total_charges'].fillna(0, inplace=True)\n",
        "data['total_charges'] = data['total_charges'].astype(float)"
      ],
      "metadata": {
        "id": "qILw6lyiRQvo"
      },
      "execution_count": 14,
      "outputs": []
    },
    {
      "cell_type": "code",
      "source": [
        "data_X = data.drop('churn', axis=1)\n",
        "data_y = data['churn']\n",
        "\n",
        "X_train, X_test, y_train, y_test = train_test_split(data_X, data_y, test_size=0.3,\n",
        "                                                    random_state=1, stratify=data_y)"
      ],
      "metadata": {
        "id": "VDzw3XKsSiCw"
      },
      "execution_count": 39,
      "outputs": []
    },
    {
      "cell_type": "code",
      "source": [
        "le = LabelEncoder()\n",
        "\n",
        "le.fit(y_train)\n",
        "\n",
        "y_train = le.transform(y_train)\n",
        "y_test = le.transform(y_test)"
      ],
      "metadata": {
        "id": "Gv_xgYO5SmUh"
      },
      "execution_count": 73,
      "outputs": []
    },
    {
      "cell_type": "code",
      "source": [
        "# from tempfile import mkdtemp\n",
        "# from shutil import rmtree\n",
        "# # make the cache directory\n",
        "# cachedir = mkdtemp()\n",
        "# # remove the cache directory\n",
        "# rmtree(cachedir)\n",
        "\n",
        "# numerical\n",
        "column_numerical = ['tenure', 'monthly_charges', 'total_charges']\n",
        "\n",
        "# categorical\n",
        "column_categorical = list(data.columns)\n",
        "column_categorical.remove('tenure')\n",
        "column_categorical.remove('monthly_charges')\n",
        "column_categorical.remove('total_charges')\n",
        "\n",
        "# only contains input features\n",
        "column_categorical.remove('churn')\n",
        "\n",
        "transformer_numerical = Pipeline(steps=[('imputer', SimpleImputer(strategy='median')),\n",
        "                                        ('scaler', MinMaxScaler())])\n",
        "\n",
        "transformer_categorical = Pipeline(steps=[('imputer', SimpleImputer(strategy='most_frequent')),\n",
        "                                          ('encoder', OneHotEncoder(sparse=False, drop='if_binary', handle_unknown='ignore'))])\n",
        "\n",
        "preprocessor = ColumnTransformer(transformers=[('numerical', transformer_numerical, column_numerical),\n",
        "                                               ('categorical', transformer_categorical, column_categorical)])\n",
        "\n",
        "pipeline = Pipeline(steps=[('preprocessor', preprocessor),\n",
        "                           ('smote', SMOTE(random_state=1)),\n",
        "                           ('feature_selection', SelectKBest(score_func=f_classif, k=13)),\n",
        "                           ('estimator', LGBMClassifier(random_state=1, num_leaves=10, n_estimators=175, learning_rate=0.01))])\n",
        "\n",
        "model = pipeline.fit(X_train, y_train)\n",
        "\n",
        "y_pred = pipeline.predict(X_test)\n",
        "\n",
        "print(classification_report(y_test, y_pred, digits=3))"
      ],
      "metadata": {
        "colab": {
          "base_uri": "https://localhost:8080/"
        },
        "id": "njFYEx4jSxOG",
        "outputId": "ecc582ca-6f97-453e-a722-35e2986fc546"
      },
      "execution_count": 85,
      "outputs": [
        {
          "output_type": "stream",
          "name": "stdout",
          "text": [
            "              precision    recall  f1-score   support\n",
            "\n",
            "           0      0.909     0.752     0.823      1552\n",
            "           1      0.536     0.791     0.639       561\n",
            "\n",
            "    accuracy                          0.762      2113\n",
            "   macro avg      0.722     0.772     0.731      2113\n",
            "weighted avg      0.810     0.762     0.774      2113\n",
            "\n"
          ]
        }
      ]
    },
    {
      "cell_type": "code",
      "source": [
        "scoring = 'accuracy'\n",
        "cv = RepeatedStratifiedKFold(n_splits=10, n_repeats=3, random_state=1)\n",
        "scores = cross_validate(pipeline, X_train, y_train, scoring=scoring, cv=cv, n_jobs=-1)\n",
        "print(f'Cross validation {scoring}\\t: {np.mean(scores[\"test_score\"]).round(3)} ({np.std(scores[\"test_score\"]).round(3)})')"
      ],
      "metadata": {
        "colab": {
          "base_uri": "https://localhost:8080/"
        },
        "id": "4QY0ZXtzd05N",
        "outputId": "ab539e52-2d59-4fcd-c04c-a44f07a8dd2f"
      },
      "execution_count": 66,
      "outputs": [
        {
          "output_type": "stream",
          "name": "stdout",
          "text": [
            "Cross validation accuracy\t: 0.756 (0.018)\n"
          ]
        }
      ]
    },
    {
      "cell_type": "code",
      "source": [
        "pipeline.named_steps['estimator']"
      ],
      "metadata": {
        "colab": {
          "base_uri": "https://localhost:8080/"
        },
        "id": "cA_H6rWVrD_n",
        "outputId": "997090d8-f840-47de-a561-9150091568cd"
      },
      "execution_count": 86,
      "outputs": [
        {
          "output_type": "execute_result",
          "data": {
            "text/plain": [
              "LGBMClassifier(learning_rate=0.01, n_estimators=175, num_leaves=10,\n",
              "               random_state=1)"
            ]
          },
          "metadata": {},
          "execution_count": 86
        }
      ]
    },
    {
      "cell_type": "code",
      "source": [
        "def hm_acc_recall(y_test, y_pred, beta=1, **kwargs):\n",
        "  accuracy = accuracy_score(y_test, y_pred)\n",
        "  recall = recall_score(y_test, y_pred)\n",
        "  # beta = 1\n",
        "\n",
        "  fbeta_score = (1 + beta**2) * (accuracy*recall)/(beta*accuracy+recall)\n",
        "  return fbeta_score\n",
        "\n",
        "print(hm_acc_recall(y_test, y_pred))"
      ],
      "metadata": {
        "colab": {
          "base_uri": "https://localhost:8080/"
        },
        "id": "DaHIioE8ilob",
        "outputId": "e2ba9437-ff0e-4813-aefc-e6758dff3e9b"
      },
      "execution_count": 75,
      "outputs": [
        {
          "output_type": "stream",
          "name": "stdout",
          "text": [
            "0.776662470011287\n"
          ]
        }
      ]
    },
    {
      "cell_type": "code",
      "source": [
        "cv_scoring = {'acc':'accuracy',\n",
        "              'rec':'recall',\n",
        "              'fbeta':make_scorer(hm_acc_recall)}\n",
        "\n",
        "# cv_scoring = {'acc':'accuracy',\n",
        "#               'recall':'recall'}\n",
        "\n",
        "cv = RepeatedStratifiedKFold(n_splits=10, n_repeats=3, random_state=1)\n",
        "scores = cross_validate(pipeline, X_train, y_train, scoring=cv_scoring, cv=cv, n_jobs=-1)\n",
        "\n",
        "for scoring in cv_scoring:\n",
        "  tmp = f'test_{scoring}'\n",
        "  print(f'Cross validation {scoring}\\t: {np.mean(scores[tmp]).round(3)} ({np.std(scores[tmp]).round(3)})')"
      ],
      "metadata": {
        "colab": {
          "base_uri": "https://localhost:8080/"
        },
        "id": "fS8twwceh5bm",
        "outputId": "e5f84936-6bb4-427b-ab2c-9f109141b04d"
      },
      "execution_count": 83,
      "outputs": [
        {
          "output_type": "stream",
          "name": "stdout",
          "text": [
            "Cross validation acc\t: 0.756 (0.018)\n",
            "Cross validation rec\t: 0.779 (0.033)\n",
            "Cross validation fbeta\t: 0.767 (0.022)\n"
          ]
        }
      ]
    },
    {
      "cell_type": "code",
      "source": [
        "set_config(display='diagram')\n",
        "display(pipeline)\n",
        "\n",
        "set_config(display='text')"
      ],
      "metadata": {
        "colab": {
          "base_uri": "https://localhost:8080/",
          "height": 296
        },
        "id": "v-tuMsyrXwuB",
        "outputId": "5246b24e-5ea9-4552-8819-b1bc919d942b"
      },
      "execution_count": 71,
      "outputs": [
        {
          "output_type": "display_data",
          "data": {
            "text/plain": [
              "Pipeline(memory='/tmp/tmp4fyn742d',\n",
              "         steps=[('preprocessor',\n",
              "                 ColumnTransformer(transformers=[('numerical',\n",
              "                                                  Pipeline(memory='/tmp/tmp4fyn742d',\n",
              "                                                           steps=[('imputer',\n",
              "                                                                   SimpleImputer(strategy='median')),\n",
              "                                                                  ('scaler',\n",
              "                                                                   MinMaxScaler())]),\n",
              "                                                  ['tenure', 'monthly_charges',\n",
              "                                                   'total_charges']),\n",
              "                                                 ('categorical',\n",
              "                                                  Pipeline(memory='/tmp/tmp4fyn742d',\n",
              "                                                           steps=[('imputer',\n",
              "                                                                   SimpleImputer(stra...\n",
              "                                                   'multiple_lines',\n",
              "                                                   'internet_service',\n",
              "                                                   'online_security',\n",
              "                                                   'online_backup',\n",
              "                                                   'device_protection',\n",
              "                                                   'tech_support',\n",
              "                                                   'streaming_tv',\n",
              "                                                   'streaming_movies',\n",
              "                                                   'contract',\n",
              "                                                   'paperless_billing',\n",
              "                                                   'payment_method'])])),\n",
              "                ('smote', SMOTE(random_state=1)),\n",
              "                ('feature_selection', SelectKBest(k=13)),\n",
              "                ('classifier',\n",
              "                 LGBMClassifier(learning_rate=0.01, n_estimators=175,\n",
              "                                num_leaves=10, random_state=1))])"
            ],
            "text/html": [
              "<style>#sk-38e233fe-7297-4600-90d7-99b4134882b6 {color: black;background-color: white;}#sk-38e233fe-7297-4600-90d7-99b4134882b6 pre{padding: 0;}#sk-38e233fe-7297-4600-90d7-99b4134882b6 div.sk-toggleable {background-color: white;}#sk-38e233fe-7297-4600-90d7-99b4134882b6 label.sk-toggleable__label {cursor: pointer;display: block;width: 100%;margin-bottom: 0;padding: 0.3em;box-sizing: border-box;text-align: center;}#sk-38e233fe-7297-4600-90d7-99b4134882b6 label.sk-toggleable__label-arrow:before {content: \"▸\";float: left;margin-right: 0.25em;color: #696969;}#sk-38e233fe-7297-4600-90d7-99b4134882b6 label.sk-toggleable__label-arrow:hover:before {color: black;}#sk-38e233fe-7297-4600-90d7-99b4134882b6 div.sk-estimator:hover label.sk-toggleable__label-arrow:before {color: black;}#sk-38e233fe-7297-4600-90d7-99b4134882b6 div.sk-toggleable__content {max-height: 0;max-width: 0;overflow: hidden;text-align: left;background-color: #f0f8ff;}#sk-38e233fe-7297-4600-90d7-99b4134882b6 div.sk-toggleable__content pre {margin: 0.2em;color: black;border-radius: 0.25em;background-color: #f0f8ff;}#sk-38e233fe-7297-4600-90d7-99b4134882b6 input.sk-toggleable__control:checked~div.sk-toggleable__content {max-height: 200px;max-width: 100%;overflow: auto;}#sk-38e233fe-7297-4600-90d7-99b4134882b6 input.sk-toggleable__control:checked~label.sk-toggleable__label-arrow:before {content: \"▾\";}#sk-38e233fe-7297-4600-90d7-99b4134882b6 div.sk-estimator input.sk-toggleable__control:checked~label.sk-toggleable__label {background-color: #d4ebff;}#sk-38e233fe-7297-4600-90d7-99b4134882b6 div.sk-label input.sk-toggleable__control:checked~label.sk-toggleable__label {background-color: #d4ebff;}#sk-38e233fe-7297-4600-90d7-99b4134882b6 input.sk-hidden--visually {border: 0;clip: rect(1px 1px 1px 1px);clip: rect(1px, 1px, 1px, 1px);height: 1px;margin: -1px;overflow: hidden;padding: 0;position: absolute;width: 1px;}#sk-38e233fe-7297-4600-90d7-99b4134882b6 div.sk-estimator {font-family: monospace;background-color: #f0f8ff;border: 1px dotted black;border-radius: 0.25em;box-sizing: border-box;margin-bottom: 0.5em;}#sk-38e233fe-7297-4600-90d7-99b4134882b6 div.sk-estimator:hover {background-color: #d4ebff;}#sk-38e233fe-7297-4600-90d7-99b4134882b6 div.sk-parallel-item::after {content: \"\";width: 100%;border-bottom: 1px solid gray;flex-grow: 1;}#sk-38e233fe-7297-4600-90d7-99b4134882b6 div.sk-label:hover label.sk-toggleable__label {background-color: #d4ebff;}#sk-38e233fe-7297-4600-90d7-99b4134882b6 div.sk-serial::before {content: \"\";position: absolute;border-left: 1px solid gray;box-sizing: border-box;top: 2em;bottom: 0;left: 50%;}#sk-38e233fe-7297-4600-90d7-99b4134882b6 div.sk-serial {display: flex;flex-direction: column;align-items: center;background-color: white;padding-right: 0.2em;padding-left: 0.2em;}#sk-38e233fe-7297-4600-90d7-99b4134882b6 div.sk-item {z-index: 1;}#sk-38e233fe-7297-4600-90d7-99b4134882b6 div.sk-parallel {display: flex;align-items: stretch;justify-content: center;background-color: white;}#sk-38e233fe-7297-4600-90d7-99b4134882b6 div.sk-parallel::before {content: \"\";position: absolute;border-left: 1px solid gray;box-sizing: border-box;top: 2em;bottom: 0;left: 50%;}#sk-38e233fe-7297-4600-90d7-99b4134882b6 div.sk-parallel-item {display: flex;flex-direction: column;position: relative;background-color: white;}#sk-38e233fe-7297-4600-90d7-99b4134882b6 div.sk-parallel-item:first-child::after {align-self: flex-end;width: 50%;}#sk-38e233fe-7297-4600-90d7-99b4134882b6 div.sk-parallel-item:last-child::after {align-self: flex-start;width: 50%;}#sk-38e233fe-7297-4600-90d7-99b4134882b6 div.sk-parallel-item:only-child::after {width: 0;}#sk-38e233fe-7297-4600-90d7-99b4134882b6 div.sk-dashed-wrapped {border: 1px dashed gray;margin: 0 0.4em 0.5em 0.4em;box-sizing: border-box;padding-bottom: 0.4em;background-color: white;position: relative;}#sk-38e233fe-7297-4600-90d7-99b4134882b6 div.sk-label label {font-family: monospace;font-weight: bold;background-color: white;display: inline-block;line-height: 1.2em;}#sk-38e233fe-7297-4600-90d7-99b4134882b6 div.sk-label-container {position: relative;z-index: 2;text-align: center;}#sk-38e233fe-7297-4600-90d7-99b4134882b6 div.sk-container {/* jupyter's `normalize.less` sets `[hidden] { display: none; }` but bootstrap.min.css set `[hidden] { display: none !important; }` so we also need the `!important` here to be able to override the default hidden behavior on the sphinx rendered scikit-learn.org. See: https://github.com/scikit-learn/scikit-learn/issues/21755 */display: inline-block !important;position: relative;}#sk-38e233fe-7297-4600-90d7-99b4134882b6 div.sk-text-repr-fallback {display: none;}</style><div id=\"sk-38e233fe-7297-4600-90d7-99b4134882b6\" class=\"sk-top-container\"><div class=\"sk-text-repr-fallback\"><pre>Pipeline(memory=&#x27;/tmp/tmp4fyn742d&#x27;,\n",
              "         steps=[(&#x27;preprocessor&#x27;,\n",
              "                 ColumnTransformer(transformers=[(&#x27;numerical&#x27;,\n",
              "                                                  Pipeline(memory=&#x27;/tmp/tmp4fyn742d&#x27;,\n",
              "                                                           steps=[(&#x27;imputer&#x27;,\n",
              "                                                                   SimpleImputer(strategy=&#x27;median&#x27;)),\n",
              "                                                                  (&#x27;scaler&#x27;,\n",
              "                                                                   MinMaxScaler())]),\n",
              "                                                  [&#x27;tenure&#x27;, &#x27;monthly_charges&#x27;,\n",
              "                                                   &#x27;total_charges&#x27;]),\n",
              "                                                 (&#x27;categorical&#x27;,\n",
              "                                                  Pipeline(memory=&#x27;/tmp/tmp4fyn742d&#x27;,\n",
              "                                                           steps=[(&#x27;imputer&#x27;,\n",
              "                                                                   SimpleImputer(stra...\n",
              "                                                   &#x27;multiple_lines&#x27;,\n",
              "                                                   &#x27;internet_service&#x27;,\n",
              "                                                   &#x27;online_security&#x27;,\n",
              "                                                   &#x27;online_backup&#x27;,\n",
              "                                                   &#x27;device_protection&#x27;,\n",
              "                                                   &#x27;tech_support&#x27;,\n",
              "                                                   &#x27;streaming_tv&#x27;,\n",
              "                                                   &#x27;streaming_movies&#x27;,\n",
              "                                                   &#x27;contract&#x27;,\n",
              "                                                   &#x27;paperless_billing&#x27;,\n",
              "                                                   &#x27;payment_method&#x27;])])),\n",
              "                (&#x27;smote&#x27;, SMOTE(random_state=1)),\n",
              "                (&#x27;feature_selection&#x27;, SelectKBest(k=13)),\n",
              "                (&#x27;classifier&#x27;,\n",
              "                 LGBMClassifier(learning_rate=0.01, n_estimators=175,\n",
              "                                num_leaves=10, random_state=1))])</pre><b>Please rerun this cell to show the HTML repr or trust the notebook.</b></div><div class=\"sk-container\" hidden><div class=\"sk-item sk-dashed-wrapped\"><div class=\"sk-label-container\"><div class=\"sk-label sk-toggleable\"><input class=\"sk-toggleable__control sk-hidden--visually\" id=\"a5e673b3-c1a6-451a-8620-136c1151d2f9\" type=\"checkbox\" ><label for=\"a5e673b3-c1a6-451a-8620-136c1151d2f9\" class=\"sk-toggleable__label sk-toggleable__label-arrow\">Pipeline</label><div class=\"sk-toggleable__content\"><pre>Pipeline(memory=&#x27;/tmp/tmp4fyn742d&#x27;,\n",
              "         steps=[(&#x27;preprocessor&#x27;,\n",
              "                 ColumnTransformer(transformers=[(&#x27;numerical&#x27;,\n",
              "                                                  Pipeline(memory=&#x27;/tmp/tmp4fyn742d&#x27;,\n",
              "                                                           steps=[(&#x27;imputer&#x27;,\n",
              "                                                                   SimpleImputer(strategy=&#x27;median&#x27;)),\n",
              "                                                                  (&#x27;scaler&#x27;,\n",
              "                                                                   MinMaxScaler())]),\n",
              "                                                  [&#x27;tenure&#x27;, &#x27;monthly_charges&#x27;,\n",
              "                                                   &#x27;total_charges&#x27;]),\n",
              "                                                 (&#x27;categorical&#x27;,\n",
              "                                                  Pipeline(memory=&#x27;/tmp/tmp4fyn742d&#x27;,\n",
              "                                                           steps=[(&#x27;imputer&#x27;,\n",
              "                                                                   SimpleImputer(stra...\n",
              "                                                   &#x27;multiple_lines&#x27;,\n",
              "                                                   &#x27;internet_service&#x27;,\n",
              "                                                   &#x27;online_security&#x27;,\n",
              "                                                   &#x27;online_backup&#x27;,\n",
              "                                                   &#x27;device_protection&#x27;,\n",
              "                                                   &#x27;tech_support&#x27;,\n",
              "                                                   &#x27;streaming_tv&#x27;,\n",
              "                                                   &#x27;streaming_movies&#x27;,\n",
              "                                                   &#x27;contract&#x27;,\n",
              "                                                   &#x27;paperless_billing&#x27;,\n",
              "                                                   &#x27;payment_method&#x27;])])),\n",
              "                (&#x27;smote&#x27;, SMOTE(random_state=1)),\n",
              "                (&#x27;feature_selection&#x27;, SelectKBest(k=13)),\n",
              "                (&#x27;classifier&#x27;,\n",
              "                 LGBMClassifier(learning_rate=0.01, n_estimators=175,\n",
              "                                num_leaves=10, random_state=1))])</pre></div></div></div><div class=\"sk-serial\"><div class=\"sk-item sk-dashed-wrapped\"><div class=\"sk-label-container\"><div class=\"sk-label sk-toggleable\"><input class=\"sk-toggleable__control sk-hidden--visually\" id=\"ca274448-0428-45df-bbb0-42db2777b240\" type=\"checkbox\" ><label for=\"ca274448-0428-45df-bbb0-42db2777b240\" class=\"sk-toggleable__label sk-toggleable__label-arrow\">preprocessor: ColumnTransformer</label><div class=\"sk-toggleable__content\"><pre>ColumnTransformer(transformers=[(&#x27;numerical&#x27;,\n",
              "                                 Pipeline(memory=&#x27;/tmp/tmp4fyn742d&#x27;,\n",
              "                                          steps=[(&#x27;imputer&#x27;,\n",
              "                                                  SimpleImputer(strategy=&#x27;median&#x27;)),\n",
              "                                                 (&#x27;scaler&#x27;, MinMaxScaler())]),\n",
              "                                 [&#x27;tenure&#x27;, &#x27;monthly_charges&#x27;,\n",
              "                                  &#x27;total_charges&#x27;]),\n",
              "                                (&#x27;categorical&#x27;,\n",
              "                                 Pipeline(memory=&#x27;/tmp/tmp4fyn742d&#x27;,\n",
              "                                          steps=[(&#x27;imputer&#x27;,\n",
              "                                                  SimpleImputer(strategy=&#x27;most_frequent&#x27;)),\n",
              "                                                 (&#x27;encoder&#x27;,\n",
              "                                                  OneHotEncoder(drop=&#x27;if_binary&#x27;,\n",
              "                                                                handle_unknown=&#x27;ignore&#x27;,\n",
              "                                                                sparse=False))]),\n",
              "                                 [&#x27;gender&#x27;, &#x27;senior_citizen&#x27;, &#x27;partner&#x27;,\n",
              "                                  &#x27;dependents&#x27;, &#x27;phone_service&#x27;,\n",
              "                                  &#x27;multiple_lines&#x27;, &#x27;internet_service&#x27;,\n",
              "                                  &#x27;online_security&#x27;, &#x27;online_backup&#x27;,\n",
              "                                  &#x27;device_protection&#x27;, &#x27;tech_support&#x27;,\n",
              "                                  &#x27;streaming_tv&#x27;, &#x27;streaming_movies&#x27;,\n",
              "                                  &#x27;contract&#x27;, &#x27;paperless_billing&#x27;,\n",
              "                                  &#x27;payment_method&#x27;])])</pre></div></div></div><div class=\"sk-parallel\"><div class=\"sk-parallel-item\"><div class=\"sk-item\"><div class=\"sk-label-container\"><div class=\"sk-label sk-toggleable\"><input class=\"sk-toggleable__control sk-hidden--visually\" id=\"8d9b28d1-4dbf-4dc8-92be-c6e038a7ae91\" type=\"checkbox\" ><label for=\"8d9b28d1-4dbf-4dc8-92be-c6e038a7ae91\" class=\"sk-toggleable__label sk-toggleable__label-arrow\">numerical</label><div class=\"sk-toggleable__content\"><pre>[&#x27;tenure&#x27;, &#x27;monthly_charges&#x27;, &#x27;total_charges&#x27;]</pre></div></div></div><div class=\"sk-serial\"><div class=\"sk-item\"><div class=\"sk-serial\"><div class=\"sk-item\"><div class=\"sk-estimator sk-toggleable\"><input class=\"sk-toggleable__control sk-hidden--visually\" id=\"39758466-1b0f-412f-b9c7-2423032a04b4\" type=\"checkbox\" ><label for=\"39758466-1b0f-412f-b9c7-2423032a04b4\" class=\"sk-toggleable__label sk-toggleable__label-arrow\">SimpleImputer</label><div class=\"sk-toggleable__content\"><pre>SimpleImputer(strategy=&#x27;median&#x27;)</pre></div></div></div><div class=\"sk-item\"><div class=\"sk-estimator sk-toggleable\"><input class=\"sk-toggleable__control sk-hidden--visually\" id=\"95a7aaf6-877f-4d37-a26f-f57d55388d8e\" type=\"checkbox\" ><label for=\"95a7aaf6-877f-4d37-a26f-f57d55388d8e\" class=\"sk-toggleable__label sk-toggleable__label-arrow\">MinMaxScaler</label><div class=\"sk-toggleable__content\"><pre>MinMaxScaler()</pre></div></div></div></div></div></div></div></div><div class=\"sk-parallel-item\"><div class=\"sk-item\"><div class=\"sk-label-container\"><div class=\"sk-label sk-toggleable\"><input class=\"sk-toggleable__control sk-hidden--visually\" id=\"bb794808-5585-416b-8b88-13523d282d96\" type=\"checkbox\" ><label for=\"bb794808-5585-416b-8b88-13523d282d96\" class=\"sk-toggleable__label sk-toggleable__label-arrow\">categorical</label><div class=\"sk-toggleable__content\"><pre>[&#x27;gender&#x27;, &#x27;senior_citizen&#x27;, &#x27;partner&#x27;, &#x27;dependents&#x27;, &#x27;phone_service&#x27;, &#x27;multiple_lines&#x27;, &#x27;internet_service&#x27;, &#x27;online_security&#x27;, &#x27;online_backup&#x27;, &#x27;device_protection&#x27;, &#x27;tech_support&#x27;, &#x27;streaming_tv&#x27;, &#x27;streaming_movies&#x27;, &#x27;contract&#x27;, &#x27;paperless_billing&#x27;, &#x27;payment_method&#x27;]</pre></div></div></div><div class=\"sk-serial\"><div class=\"sk-item\"><div class=\"sk-serial\"><div class=\"sk-item\"><div class=\"sk-estimator sk-toggleable\"><input class=\"sk-toggleable__control sk-hidden--visually\" id=\"b95d5fc8-2e95-41c0-a4be-f9620f204ac9\" type=\"checkbox\" ><label for=\"b95d5fc8-2e95-41c0-a4be-f9620f204ac9\" class=\"sk-toggleable__label sk-toggleable__label-arrow\">SimpleImputer</label><div class=\"sk-toggleable__content\"><pre>SimpleImputer(strategy=&#x27;most_frequent&#x27;)</pre></div></div></div><div class=\"sk-item\"><div class=\"sk-estimator sk-toggleable\"><input class=\"sk-toggleable__control sk-hidden--visually\" id=\"0d7d2aa0-fd55-498a-8f34-dc205216a3f9\" type=\"checkbox\" ><label for=\"0d7d2aa0-fd55-498a-8f34-dc205216a3f9\" class=\"sk-toggleable__label sk-toggleable__label-arrow\">OneHotEncoder</label><div class=\"sk-toggleable__content\"><pre>OneHotEncoder(drop=&#x27;if_binary&#x27;, handle_unknown=&#x27;ignore&#x27;, sparse=False)</pre></div></div></div></div></div></div></div></div></div></div><div class=\"sk-item\"><div class=\"sk-estimator sk-toggleable\"><input class=\"sk-toggleable__control sk-hidden--visually\" id=\"5aa9d731-458a-45a6-a3f1-53f768072748\" type=\"checkbox\" ><label for=\"5aa9d731-458a-45a6-a3f1-53f768072748\" class=\"sk-toggleable__label sk-toggleable__label-arrow\">SMOTE</label><div class=\"sk-toggleable__content\"><pre>SMOTE(random_state=1)</pre></div></div></div><div class=\"sk-item\"><div class=\"sk-estimator sk-toggleable\"><input class=\"sk-toggleable__control sk-hidden--visually\" id=\"755db134-bfc5-4d7f-ab07-a156d0b4f23d\" type=\"checkbox\" ><label for=\"755db134-bfc5-4d7f-ab07-a156d0b4f23d\" class=\"sk-toggleable__label sk-toggleable__label-arrow\">SelectKBest</label><div class=\"sk-toggleable__content\"><pre>SelectKBest(k=13)</pre></div></div></div><div class=\"sk-item\"><div class=\"sk-estimator sk-toggleable\"><input class=\"sk-toggleable__control sk-hidden--visually\" id=\"fbf705af-5909-4aab-838e-5e43632e1b65\" type=\"checkbox\" ><label for=\"fbf705af-5909-4aab-838e-5e43632e1b65\" class=\"sk-toggleable__label sk-toggleable__label-arrow\">LGBMClassifier</label><div class=\"sk-toggleable__content\"><pre>LGBMClassifier(learning_rate=0.01, n_estimators=175, num_leaves=10,\n",
              "               random_state=1)</pre></div></div></div></div></div></div></div>"
            ]
          },
          "metadata": {}
        }
      ]
    }
  ],
  "metadata": {
    "colab": {
      "collapsed_sections": [],
      "name": "Modeling Clean - Pipeline.ipynb",
      "toc_visible": true,
      "provenance": [],
      "authorship_tag": "ABX9TyNxO3UUMn9TsKFohO2yuCYy",
      "include_colab_link": true
    },
    "kernelspec": {
      "display_name": "Python 3",
      "name": "python3"
    },
    "language_info": {
      "name": "python"
    }
  },
  "nbformat": 4,
  "nbformat_minor": 0
}