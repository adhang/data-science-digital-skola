{
  "cells": [
    {
      "cell_type": "markdown",
      "metadata": {
        "id": "view-in-github",
        "colab_type": "text"
      },
      "source": [
        "<a href=\"https://colab.research.google.com/github/adhang/data-science-digital-skola/blob/update/99.%20Final%20Project/Modeling%20Clean%20-%20Pipeline.ipynb\" target=\"_parent\"><img src=\"https://colab.research.google.com/assets/colab-badge.svg\" alt=\"Open In Colab\"/></a>"
      ]
    },
    {
      "cell_type": "markdown",
      "metadata": {
        "id": "K1lWo2rUN2-R"
      },
      "source": [
        "# Telco Customer Churn Prediction\n",
        "Author: Adhang Muntaha Muhammad\n",
        "\n",
        "[![LinkedIn](https://img.shields.io/badge/linkedin-0077B5?style=for-the-badge&logo=linkedin&logoColor=white&link=https://www.linkedin.com/in/adhangmuntaha/)](https://www.linkedin.com/in/adhangmuntaha/)\n",
        "[![GitHub](https://img.shields.io/badge/github-121011?style=for-the-badge&logo=github&logoColor=white&link=https://github.com/adhang)](https://github.com/adhang)\n",
        "[![Kaggle](https://img.shields.io/badge/kaggle-20BEFF?style=for-the-badge&logo=kaggle&logoColor=white&link=https://www.kaggle.com/adhang)](https://www.kaggle.com/adhang)\n",
        "[![Tableau](https://img.shields.io/badge/tableau-E97627?style=for-the-badge&logo=tableau&logoColor=white&link=https://public.tableau.com/app/profile/adhang)](https://public.tableau.com/app/profile/adhang)\n",
        "___\n",
        "\n",
        "**Context**\n",
        "- The telco customer churn data contains customer information from a fictional telco company\n",
        "- This company provides various services such as streaming, phone, and internet services\n",
        "<br><br>\n",
        "\n",
        "**Problem Background**\n",
        "- Customer churn is one of the biggest problems in the telecommunications industry\n",
        "- By definition, customer churn is when customers stop interacting (subscribe) with the company\n",
        "- Companies need to invest (expense costs) to get new customers\n",
        "- When a customer leaves the service (churns), it indicates a loss of investment\n",
        "- Cost, time, and effort need to be channelled to replace customers who have left the service\n",
        "- Acquiring new customers is often more difficult and more expensive than retaining existing customers\n",
        "- On Hardvard Business Review [page](https://hbr.org/2014/10/the-value-of-keeping-the-right-customers), they said: acquiring a new customer is anywhere from five to 25 times more expensive than retaining an existing one\n",
        "<br><br>\n",
        "\n",
        "**Objectives**\n",
        "- Predict whether customers will continue to use the service or will leave the service\n",
        "- Understand the customer behaviors: what keeps customers using the service and what makes them leave the service\n",
        "<br><br>\n",
        "\n",
        "**Contents**\n",
        "1. Dataset Information\n",
        "2. Importing Libraries\n",
        "3. Dataset Overview\n",
        "4. Dataset Overview - Function\n",
        "5. Exploratory Data Analysis\n",
        "6. Data Preprocessing"
      ]
    },
    {
      "cell_type": "markdown",
      "metadata": {
        "id": "gTXyF_Ep8b9r"
      },
      "source": [
        "# 1. Dataset Information\n",
        "This dataset comes from Kaggle, you can find it here: [Telco Customer Churn](https://www.kaggle.com/blastchar/telco-customer-churn).\n",
        "<br><br>\n",
        "This dataset is used to predict behavior to retain customers. Each row represents a customer, and each column contains customer's attribute.\n",
        "<br><br>\n",
        "**Attribute Information**\n",
        "- Identifier\n",
        "  - `customerID` - ID number of the customer\n",
        "\n",
        "- Target Variable\n",
        "  - `Churn` - Churn status, whether the customer churned or not\n",
        "\n",
        "- Demographic information\n",
        "  - `gender` - Whether the customer is a male or a female\n",
        "  - `SeniorCitizen` - Whether the customer is a senior citizen or not\n",
        "  - `Partner` - Whether the customer has a partner or not\n",
        "  - `Dependents` - Whether the customer has dependents or not\n",
        "\n",
        "- Customer account information\n",
        "  - `tenure` - Number of months the customer has used the service\n",
        "  - `Contract` - The contract term of the customer\n",
        "  - `PaperlessBilling` - Whether the customer has paperless billing or not\n",
        "  - `PaymentMethod` - The customer’s payment method\n",
        "  - `MonthlyCharges` - The amount charged to the customer monthly\n",
        "  - `TotalCharges` - The total amount charged to the customer\n",
        "  \n",
        "- Services that each customer has signed up for\n",
        "  - `PhoneService` - Whether the customer has a phone service or not\n",
        "  - `MultipleLines` - Whether the customer has multiple lines or not\n",
        "  - `InternetService` - Customer’s internet service provider\n",
        "  - `OnlineSecurity` - Whether the customer has online security or not\n",
        "  - `OnlineBackup` - Whether the customer has online backup or not\n",
        "  - `DeviceProtection` - Whether the customer has device protection or not\n",
        "  - `TechSupport` - Whether the customer has tech support or not\n",
        "  - `StreamingTV` - Whether the customer has streaming TV or not\n",
        "  - `StreamingMovies` - Whether the customer has streaming movies or not\n",
        "<br><br>\n",
        "\n",
        "**Note:** Since this dataset is using `CamelCase` format for the column names, for this project, I will convert it to `snake_case` format."
      ]
    },
    {
      "cell_type": "markdown",
      "source": [
        "- kalo di dunia kerja, konten dari dashboard/ report itu dari kita sendiri (BI/ DA) atau di-request oleh pihak lain? misal dari orang bisnis.\n",
        "\n",
        "- BI tools kan cukup mahal, itu nanti pasti disediain oleh perusahaan kan mas? kalo iya, berarti nanti BI/ DA harus pakai perangkat dari kantor(?)"
      ],
      "metadata": {
        "id": "nyNLMmwVSmCf"
      }
    },
    {
      "cell_type": "markdown",
      "metadata": {
        "id": "RMaB9Xc6OOm7"
      },
      "source": [
        "# 2. Importing Libraries"
      ]
    },
    {
      "cell_type": "code",
      "execution_count": null,
      "metadata": {
        "id": "8N7vRMwbngUq"
      },
      "outputs": [],
      "source": [
        "!pip install --upgrade matplotlib\n",
        "!pip install --upgrade seaborn\n",
        "# !pip install xgboost\n",
        "# !pip install lightgbm\n",
        "!pip install catboost\n",
        "\n",
        "!pip install inflection\n",
        "!pip install dython\n",
        "!pip install shap\n",
        "\n",
        "# !pip install bayesian-optimization\n",
        "# from bayes_opt import BayesianOptimization"
      ]
    },
    {
      "cell_type": "code",
      "execution_count": null,
      "metadata": {
        "id": "E5MoOZCJOT63"
      },
      "outputs": [],
      "source": [
        "# association between attributes\n",
        "from dython.nominal import associations\n",
        "\n",
        "# basic\n",
        "import pandas as pd\n",
        "import numpy as np\n",
        "\n",
        "# viz\n",
        "import matplotlib.pyplot as plt\n",
        "import matplotlib.patches as mpatches\n",
        "from matplotlib.colors import LinearSegmentedColormap\n",
        "from mpl_toolkits.mplot3d import Axes3D\n",
        "import seaborn as sns\n",
        "\n",
        "plt.style.use('fivethirtyeight')\n",
        "sns.set_style('white')\n",
        "sns.set_context('notebook', font_scale=1.5, rc={'lines.linewidth':1.5})\n",
        "# I change the maximum width in characters of a column (default: 50)\n",
        "pd.set_option('display.max_colwidth', None)\n",
        "\n",
        "# explainable AI\n",
        "import shap\n",
        "\n",
        "# CamelCase to snake_case format\n",
        "import inflection\n",
        "\n",
        "# encoding\n",
        "from sklearn.preprocessing import LabelEncoder\n",
        "from sklearn.preprocessing import OrdinalEncoder\n",
        "from sklearn.preprocessing import OneHotEncoder\n",
        "\n",
        "# scaling\n",
        "from sklearn.preprocessing import MinMaxScaler\n",
        "from sklearn.preprocessing import StandardScaler\n",
        "\n",
        "# oversampling\n",
        "from imblearn.over_sampling import SMOTE\n",
        "from imblearn.over_sampling import SMOTENC\n",
        "from imblearn.over_sampling import ADASYN\n",
        "\n",
        "# train test split\n",
        "from sklearn.model_selection import train_test_split\n",
        "\n",
        "# model\n",
        "from sklearn.linear_model import LogisticRegression\n",
        "from sklearn.linear_model import RidgeClassifier\n",
        "from sklearn.neighbors import KNeighborsClassifier\n",
        "from sklearn.svm import SVC\n",
        "from sklearn.tree import DecisionTreeClassifier\n",
        "from sklearn.ensemble import RandomForestClassifier\n",
        "from sklearn.ensemble import AdaBoostClassifier\n",
        "from sklearn.ensemble import GradientBoostingClassifier\n",
        "from sklearn.ensemble import HistGradientBoostingClassifier\n",
        "from sklearn.neural_network import MLPClassifier\n",
        "from xgboost import XGBClassifier\n",
        "from xgboost import XGBRFClassifier\n",
        "from catboost import CatBoostClassifier\n",
        "from lightgbm import LGBMClassifier\n",
        "from sklearn.ensemble import VotingClassifier\n",
        "from sklearn.ensemble import StackingClassifier\n",
        "\n",
        "# metrics\n",
        "from sklearn.metrics import accuracy_score\n",
        "from sklearn.metrics import precision_score\n",
        "from sklearn.metrics import recall_score\n",
        "from sklearn.metrics import f1_score\n",
        "from sklearn.metrics import roc_auc_score\n",
        "from sklearn.metrics import log_loss\n",
        "from sklearn.metrics import confusion_matrix\n",
        "from sklearn.metrics import classification_report\n",
        "from sklearn.metrics import make_scorer\n",
        "\n",
        "# model evaluation & tuning hyperparameter\n",
        "from sklearn.model_selection import GridSearchCV\n",
        "from sklearn.model_selection import RepeatedStratifiedKFold\n",
        "from sklearn.model_selection import cross_val_score\n",
        "from sklearn.model_selection import cross_validate\n",
        "from sklearn.feature_selection import SelectKBest, RFE, SelectFromModel\n",
        "from sklearn.feature_selection import chi2, f_classif, mutual_info_classif\n",
        "\n",
        "# pipeline\n",
        "# from sklearn.pipeline import Pipeline\n",
        "from imblearn.pipeline import Pipeline\n",
        "from sklearn.impute import SimpleImputer\n",
        "from sklearn.compose import ColumnTransformer\n",
        "from sklearn import set_config"
      ]
    },
    {
      "cell_type": "markdown",
      "source": [
        "# Pipeline"
      ],
      "metadata": {
        "id": "l_3iVcqWRPiF"
      }
    },
    {
      "cell_type": "markdown",
      "source": [
        "## Basic Preparation"
      ],
      "metadata": {
        "id": "rtNMHkPLhAWI"
      }
    },
    {
      "cell_type": "code",
      "source": [
        "def get_camel_case(data):\n",
        "  # renaming column\n",
        "  column_list = list(data.columns)\n",
        "\n",
        "  for i, col in enumerate(column_list):\n",
        "    column_list[i] = inflection.underscore(column_list[i]).replace(' ', '_')\n",
        "\n",
        "  return column_list"
      ],
      "metadata": {
        "id": "JRWco2fDRlxt"
      },
      "execution_count": null,
      "outputs": []
    },
    {
      "cell_type": "code",
      "source": [
        "path = 'https://raw.githubusercontent.com/adhang/datasets/main/telco-customer-churn.csv'\n",
        "\n",
        "data = pd.read_csv(path)\n",
        "\n",
        "# renaming column\n",
        "column_list = get_camel_case(data)\n",
        "data.columns = column_list\n",
        "data.drop('customer_id', axis=1, inplace=True)\n",
        "\n",
        "# rename value\n",
        "data['senior_citizen'] = data['senior_citizen'].replace({0:'No', 1:'Yes'})\n",
        "data.replace({'No phone service':'No',\n",
        "            'No internet service':'No'},\n",
        "            inplace=True)\n",
        "\n",
        "# fill missing values\n",
        "data['total_charges'] = pd.to_numeric(data['total_charges'], errors='coerce')\n",
        "data['total_charges'].fillna(0, inplace=True)\n",
        "data['total_charges'] = data['total_charges'].astype(float)"
      ],
      "metadata": {
        "id": "qILw6lyiRQvo"
      },
      "execution_count": null,
      "outputs": []
    },
    {
      "cell_type": "markdown",
      "source": [
        "## Train-Test Split"
      ],
      "metadata": {
        "id": "zVNRgDtOsDxA"
      }
    },
    {
      "cell_type": "code",
      "source": [
        "data_X = data.drop('churn', axis=1)\n",
        "data_y = data['churn']\n",
        "\n",
        "X_train, X_test, y_train, y_test = train_test_split(data_X, data_y, test_size=0.3,\n",
        "                                                    random_state=1, stratify=data_y)"
      ],
      "metadata": {
        "id": "VDzw3XKsSiCw"
      },
      "execution_count": null,
      "outputs": []
    },
    {
      "cell_type": "markdown",
      "source": [
        "## Label Encoding"
      ],
      "metadata": {
        "id": "t13FSn-qsJAz"
      }
    },
    {
      "cell_type": "code",
      "source": [
        "le = LabelEncoder()\n",
        "\n",
        "le.fit(y_train)\n",
        "\n",
        "y_train = le.transform(y_train)\n",
        "y_test = le.transform(y_test)"
      ],
      "metadata": {
        "id": "Gv_xgYO5SmUh"
      },
      "execution_count": null,
      "outputs": []
    },
    {
      "cell_type": "markdown",
      "source": [
        "## Pipeline"
      ],
      "metadata": {
        "id": "WdfqjaTfsKvM"
      }
    },
    {
      "cell_type": "code",
      "source": [
        "# from tempfile import mkdtemp\n",
        "# from shutil import rmtree\n",
        "# # make the cache directory\n",
        "# cachedir = mkdtemp()\n",
        "# # remove the cache directory\n",
        "# rmtree(cachedir)\n",
        "\n",
        "# numerical\n",
        "column_numerical = ['tenure', 'monthly_charges', 'total_charges']\n",
        "\n",
        "# categorical\n",
        "column_categorical = list(data.columns)\n",
        "column_categorical.remove('tenure')\n",
        "column_categorical.remove('monthly_charges')\n",
        "column_categorical.remove('total_charges')\n",
        "\n",
        "# only contains input features\n",
        "column_categorical.remove('churn')\n",
        "\n",
        "transformer_numerical = Pipeline(steps=[('imputer', SimpleImputer(strategy='median')),\n",
        "                                        ('scaler', MinMaxScaler())])\n",
        "\n",
        "transformer_categorical = Pipeline(steps=[('imputer', SimpleImputer(strategy='most_frequent')),\n",
        "                                          ('encoder', OneHotEncoder(sparse=False, drop='if_binary', handle_unknown='ignore'))])\n",
        "\n",
        "preprocessor = ColumnTransformer(transformers=[('numerical', transformer_numerical, column_numerical),\n",
        "                                               ('categorical', transformer_categorical, column_categorical)])\n",
        "\n",
        "pipeline = Pipeline(steps=[('preprocessor', preprocessor),\n",
        "                           ('smote', SMOTE(random_state=1)),\n",
        "                           ('feature_selection', SelectKBest(score_func=f_classif, k=13)),\n",
        "                           ('estimator', LGBMClassifier(random_state=1, num_leaves=10, n_estimators=175, learning_rate=0.01))])\n",
        "\n",
        "pipeline.fit(X_train, y_train)\n",
        "y_pred = pipeline.predict(X_test)\n",
        "\n",
        "print(classification_report(y_test, y_pred, digits=3))"
      ],
      "metadata": {
        "colab": {
          "base_uri": "https://localhost:8080/"
        },
        "id": "njFYEx4jSxOG",
        "outputId": "a2ca51d1-7268-4c1f-b62d-4dcfbf7e0d1c"
      },
      "execution_count": null,
      "outputs": [
        {
          "output_type": "stream",
          "name": "stdout",
          "text": [
            "              precision    recall  f1-score   support\n",
            "\n",
            "           0      0.909     0.752     0.823      1552\n",
            "           1      0.536     0.791     0.639       561\n",
            "\n",
            "    accuracy                          0.762      2113\n",
            "   macro avg      0.722     0.772     0.731      2113\n",
            "weighted avg      0.810     0.762     0.774      2113\n",
            "\n"
          ]
        }
      ]
    },
    {
      "cell_type": "code",
      "source": [
        "pipeline.named_steps['estimator']"
      ],
      "metadata": {
        "colab": {
          "base_uri": "https://localhost:8080/"
        },
        "id": "cA_H6rWVrD_n",
        "outputId": "da0972da-9016-4776-b3bd-eea08edb7a8a"
      },
      "execution_count": null,
      "outputs": [
        {
          "output_type": "execute_result",
          "data": {
            "text/plain": [
              "LGBMClassifier(learning_rate=0.01, n_estimators=175, num_leaves=10,\n",
              "               random_state=1)"
            ]
          },
          "metadata": {},
          "execution_count": 90
        }
      ]
    },
    {
      "cell_type": "code",
      "source": [
        "def hm_acc_recall(y_test, y_pred, beta=1, **kwargs):\n",
        "  accuracy = accuracy_score(y_test, y_pred)\n",
        "  recall = recall_score(y_test, y_pred)\n",
        "  # beta = 1\n",
        "\n",
        "  fbeta_score = (1 + beta**2) * (accuracy*recall)/(beta*accuracy+recall)\n",
        "  return fbeta_score\n",
        "\n",
        "print(hm_acc_recall(y_test, y_pred))"
      ],
      "metadata": {
        "colab": {
          "base_uri": "https://localhost:8080/"
        },
        "id": "DaHIioE8ilob",
        "outputId": "e7f151be-3073-4e0a-8155-d81eafee29b3"
      },
      "execution_count": null,
      "outputs": [
        {
          "output_type": "stream",
          "name": "stdout",
          "text": [
            "0.776662470011287\n"
          ]
        }
      ]
    },
    {
      "cell_type": "code",
      "source": [
        "cv_scoring = {'acc':'accuracy',\n",
        "              'rec':'recall',\n",
        "              'fbeta':make_scorer(hm_acc_recall)}\n",
        "\n",
        "# cv_scoring = {'acc':'accuracy',\n",
        "#               'recall':'recall'}\n",
        "\n",
        "cv = RepeatedStratifiedKFold(n_splits=10, n_repeats=3, random_state=1)\n",
        "scores = cross_validate(pipeline, X_train, y_train, scoring=cv_scoring, cv=cv, n_jobs=-1)\n",
        "\n",
        "for scoring in cv_scoring:\n",
        "  tmp = f'test_{scoring}'\n",
        "  print(f'Cross validation {scoring}\\t: {np.mean(scores[tmp]).round(3)} ({np.std(scores[tmp]).round(3)})')"
      ],
      "metadata": {
        "colab": {
          "base_uri": "https://localhost:8080/"
        },
        "id": "fS8twwceh5bm",
        "outputId": "effdd67a-2e18-4a81-98ad-223c6f73facf"
      },
      "execution_count": null,
      "outputs": [
        {
          "output_type": "stream",
          "name": "stdout",
          "text": [
            "Cross validation acc\t: 0.756 (0.018)\n",
            "Cross validation rec\t: 0.779 (0.033)\n",
            "Cross validation fbeta\t: 0.767 (0.022)\n"
          ]
        }
      ]
    },
    {
      "cell_type": "code",
      "source": [
        "set_config(display='diagram')\n",
        "display(pipeline)\n",
        "\n",
        "set_config(display='text')"
      ],
      "metadata": {
        "colab": {
          "base_uri": "https://localhost:8080/",
          "height": 296
        },
        "id": "v-tuMsyrXwuB",
        "outputId": "81cd969f-9769-458a-f528-0ccff4a58f01"
      },
      "execution_count": null,
      "outputs": [
        {
          "output_type": "display_data",
          "data": {
            "text/plain": [
              "Pipeline(steps=[('preprocessor',\n",
              "                 ColumnTransformer(transformers=[('numerical',\n",
              "                                                  Pipeline(steps=[('imputer',\n",
              "                                                                   SimpleImputer(strategy='median')),\n",
              "                                                                  ('scaler',\n",
              "                                                                   MinMaxScaler())]),\n",
              "                                                  ['tenure', 'monthly_charges',\n",
              "                                                   'total_charges']),\n",
              "                                                 ('categorical',\n",
              "                                                  Pipeline(steps=[('imputer',\n",
              "                                                                   SimpleImputer(strategy='most_frequent')),\n",
              "                                                                  ('encoder',\n",
              "                                                                   OneHotEncoder(drop='if_binary',\n",
              "                                                                                 handle_unknow...\n",
              "                                                   'multiple_lines',\n",
              "                                                   'internet_service',\n",
              "                                                   'online_security',\n",
              "                                                   'online_backup',\n",
              "                                                   'device_protection',\n",
              "                                                   'tech_support',\n",
              "                                                   'streaming_tv',\n",
              "                                                   'streaming_movies',\n",
              "                                                   'contract',\n",
              "                                                   'paperless_billing',\n",
              "                                                   'payment_method'])])),\n",
              "                ('smote', SMOTE(random_state=1)),\n",
              "                ('feature_selection', SelectKBest(k=13)),\n",
              "                ('estimator',\n",
              "                 LGBMClassifier(learning_rate=0.01, n_estimators=175,\n",
              "                                num_leaves=10, random_state=1))])"
            ],
            "text/html": [
              "<style>#sk-c82aad17-96a1-4837-93e0-03db0e9907c3 {color: black;background-color: white;}#sk-c82aad17-96a1-4837-93e0-03db0e9907c3 pre{padding: 0;}#sk-c82aad17-96a1-4837-93e0-03db0e9907c3 div.sk-toggleable {background-color: white;}#sk-c82aad17-96a1-4837-93e0-03db0e9907c3 label.sk-toggleable__label {cursor: pointer;display: block;width: 100%;margin-bottom: 0;padding: 0.3em;box-sizing: border-box;text-align: center;}#sk-c82aad17-96a1-4837-93e0-03db0e9907c3 label.sk-toggleable__label-arrow:before {content: \"▸\";float: left;margin-right: 0.25em;color: #696969;}#sk-c82aad17-96a1-4837-93e0-03db0e9907c3 label.sk-toggleable__label-arrow:hover:before {color: black;}#sk-c82aad17-96a1-4837-93e0-03db0e9907c3 div.sk-estimator:hover label.sk-toggleable__label-arrow:before {color: black;}#sk-c82aad17-96a1-4837-93e0-03db0e9907c3 div.sk-toggleable__content {max-height: 0;max-width: 0;overflow: hidden;text-align: left;background-color: #f0f8ff;}#sk-c82aad17-96a1-4837-93e0-03db0e9907c3 div.sk-toggleable__content pre {margin: 0.2em;color: black;border-radius: 0.25em;background-color: #f0f8ff;}#sk-c82aad17-96a1-4837-93e0-03db0e9907c3 input.sk-toggleable__control:checked~div.sk-toggleable__content {max-height: 200px;max-width: 100%;overflow: auto;}#sk-c82aad17-96a1-4837-93e0-03db0e9907c3 input.sk-toggleable__control:checked~label.sk-toggleable__label-arrow:before {content: \"▾\";}#sk-c82aad17-96a1-4837-93e0-03db0e9907c3 div.sk-estimator input.sk-toggleable__control:checked~label.sk-toggleable__label {background-color: #d4ebff;}#sk-c82aad17-96a1-4837-93e0-03db0e9907c3 div.sk-label input.sk-toggleable__control:checked~label.sk-toggleable__label {background-color: #d4ebff;}#sk-c82aad17-96a1-4837-93e0-03db0e9907c3 input.sk-hidden--visually {border: 0;clip: rect(1px 1px 1px 1px);clip: rect(1px, 1px, 1px, 1px);height: 1px;margin: -1px;overflow: hidden;padding: 0;position: absolute;width: 1px;}#sk-c82aad17-96a1-4837-93e0-03db0e9907c3 div.sk-estimator {font-family: monospace;background-color: #f0f8ff;border: 1px dotted black;border-radius: 0.25em;box-sizing: border-box;margin-bottom: 0.5em;}#sk-c82aad17-96a1-4837-93e0-03db0e9907c3 div.sk-estimator:hover {background-color: #d4ebff;}#sk-c82aad17-96a1-4837-93e0-03db0e9907c3 div.sk-parallel-item::after {content: \"\";width: 100%;border-bottom: 1px solid gray;flex-grow: 1;}#sk-c82aad17-96a1-4837-93e0-03db0e9907c3 div.sk-label:hover label.sk-toggleable__label {background-color: #d4ebff;}#sk-c82aad17-96a1-4837-93e0-03db0e9907c3 div.sk-serial::before {content: \"\";position: absolute;border-left: 1px solid gray;box-sizing: border-box;top: 2em;bottom: 0;left: 50%;}#sk-c82aad17-96a1-4837-93e0-03db0e9907c3 div.sk-serial {display: flex;flex-direction: column;align-items: center;background-color: white;padding-right: 0.2em;padding-left: 0.2em;}#sk-c82aad17-96a1-4837-93e0-03db0e9907c3 div.sk-item {z-index: 1;}#sk-c82aad17-96a1-4837-93e0-03db0e9907c3 div.sk-parallel {display: flex;align-items: stretch;justify-content: center;background-color: white;}#sk-c82aad17-96a1-4837-93e0-03db0e9907c3 div.sk-parallel::before {content: \"\";position: absolute;border-left: 1px solid gray;box-sizing: border-box;top: 2em;bottom: 0;left: 50%;}#sk-c82aad17-96a1-4837-93e0-03db0e9907c3 div.sk-parallel-item {display: flex;flex-direction: column;position: relative;background-color: white;}#sk-c82aad17-96a1-4837-93e0-03db0e9907c3 div.sk-parallel-item:first-child::after {align-self: flex-end;width: 50%;}#sk-c82aad17-96a1-4837-93e0-03db0e9907c3 div.sk-parallel-item:last-child::after {align-self: flex-start;width: 50%;}#sk-c82aad17-96a1-4837-93e0-03db0e9907c3 div.sk-parallel-item:only-child::after {width: 0;}#sk-c82aad17-96a1-4837-93e0-03db0e9907c3 div.sk-dashed-wrapped {border: 1px dashed gray;margin: 0 0.4em 0.5em 0.4em;box-sizing: border-box;padding-bottom: 0.4em;background-color: white;position: relative;}#sk-c82aad17-96a1-4837-93e0-03db0e9907c3 div.sk-label label {font-family: monospace;font-weight: bold;background-color: white;display: inline-block;line-height: 1.2em;}#sk-c82aad17-96a1-4837-93e0-03db0e9907c3 div.sk-label-container {position: relative;z-index: 2;text-align: center;}#sk-c82aad17-96a1-4837-93e0-03db0e9907c3 div.sk-container {/* jupyter's `normalize.less` sets `[hidden] { display: none; }` but bootstrap.min.css set `[hidden] { display: none !important; }` so we also need the `!important` here to be able to override the default hidden behavior on the sphinx rendered scikit-learn.org. See: https://github.com/scikit-learn/scikit-learn/issues/21755 */display: inline-block !important;position: relative;}#sk-c82aad17-96a1-4837-93e0-03db0e9907c3 div.sk-text-repr-fallback {display: none;}</style><div id=\"sk-c82aad17-96a1-4837-93e0-03db0e9907c3\" class=\"sk-top-container\"><div class=\"sk-text-repr-fallback\"><pre>Pipeline(steps=[(&#x27;preprocessor&#x27;,\n",
              "                 ColumnTransformer(transformers=[(&#x27;numerical&#x27;,\n",
              "                                                  Pipeline(steps=[(&#x27;imputer&#x27;,\n",
              "                                                                   SimpleImputer(strategy=&#x27;median&#x27;)),\n",
              "                                                                  (&#x27;scaler&#x27;,\n",
              "                                                                   MinMaxScaler())]),\n",
              "                                                  [&#x27;tenure&#x27;, &#x27;monthly_charges&#x27;,\n",
              "                                                   &#x27;total_charges&#x27;]),\n",
              "                                                 (&#x27;categorical&#x27;,\n",
              "                                                  Pipeline(steps=[(&#x27;imputer&#x27;,\n",
              "                                                                   SimpleImputer(strategy=&#x27;most_frequent&#x27;)),\n",
              "                                                                  (&#x27;encoder&#x27;,\n",
              "                                                                   OneHotEncoder(drop=&#x27;if_binary&#x27;,\n",
              "                                                                                 handle_unknow...\n",
              "                                                   &#x27;multiple_lines&#x27;,\n",
              "                                                   &#x27;internet_service&#x27;,\n",
              "                                                   &#x27;online_security&#x27;,\n",
              "                                                   &#x27;online_backup&#x27;,\n",
              "                                                   &#x27;device_protection&#x27;,\n",
              "                                                   &#x27;tech_support&#x27;,\n",
              "                                                   &#x27;streaming_tv&#x27;,\n",
              "                                                   &#x27;streaming_movies&#x27;,\n",
              "                                                   &#x27;contract&#x27;,\n",
              "                                                   &#x27;paperless_billing&#x27;,\n",
              "                                                   &#x27;payment_method&#x27;])])),\n",
              "                (&#x27;smote&#x27;, SMOTE(random_state=1)),\n",
              "                (&#x27;feature_selection&#x27;, SelectKBest(k=13)),\n",
              "                (&#x27;estimator&#x27;,\n",
              "                 LGBMClassifier(learning_rate=0.01, n_estimators=175,\n",
              "                                num_leaves=10, random_state=1))])</pre><b>Please rerun this cell to show the HTML repr or trust the notebook.</b></div><div class=\"sk-container\" hidden><div class=\"sk-item sk-dashed-wrapped\"><div class=\"sk-label-container\"><div class=\"sk-label sk-toggleable\"><input class=\"sk-toggleable__control sk-hidden--visually\" id=\"ab27c659-562b-457f-9621-02addaaecaf9\" type=\"checkbox\" ><label for=\"ab27c659-562b-457f-9621-02addaaecaf9\" class=\"sk-toggleable__label sk-toggleable__label-arrow\">Pipeline</label><div class=\"sk-toggleable__content\"><pre>Pipeline(steps=[(&#x27;preprocessor&#x27;,\n",
              "                 ColumnTransformer(transformers=[(&#x27;numerical&#x27;,\n",
              "                                                  Pipeline(steps=[(&#x27;imputer&#x27;,\n",
              "                                                                   SimpleImputer(strategy=&#x27;median&#x27;)),\n",
              "                                                                  (&#x27;scaler&#x27;,\n",
              "                                                                   MinMaxScaler())]),\n",
              "                                                  [&#x27;tenure&#x27;, &#x27;monthly_charges&#x27;,\n",
              "                                                   &#x27;total_charges&#x27;]),\n",
              "                                                 (&#x27;categorical&#x27;,\n",
              "                                                  Pipeline(steps=[(&#x27;imputer&#x27;,\n",
              "                                                                   SimpleImputer(strategy=&#x27;most_frequent&#x27;)),\n",
              "                                                                  (&#x27;encoder&#x27;,\n",
              "                                                                   OneHotEncoder(drop=&#x27;if_binary&#x27;,\n",
              "                                                                                 handle_unknow...\n",
              "                                                   &#x27;multiple_lines&#x27;,\n",
              "                                                   &#x27;internet_service&#x27;,\n",
              "                                                   &#x27;online_security&#x27;,\n",
              "                                                   &#x27;online_backup&#x27;,\n",
              "                                                   &#x27;device_protection&#x27;,\n",
              "                                                   &#x27;tech_support&#x27;,\n",
              "                                                   &#x27;streaming_tv&#x27;,\n",
              "                                                   &#x27;streaming_movies&#x27;,\n",
              "                                                   &#x27;contract&#x27;,\n",
              "                                                   &#x27;paperless_billing&#x27;,\n",
              "                                                   &#x27;payment_method&#x27;])])),\n",
              "                (&#x27;smote&#x27;, SMOTE(random_state=1)),\n",
              "                (&#x27;feature_selection&#x27;, SelectKBest(k=13)),\n",
              "                (&#x27;estimator&#x27;,\n",
              "                 LGBMClassifier(learning_rate=0.01, n_estimators=175,\n",
              "                                num_leaves=10, random_state=1))])</pre></div></div></div><div class=\"sk-serial\"><div class=\"sk-item sk-dashed-wrapped\"><div class=\"sk-label-container\"><div class=\"sk-label sk-toggleable\"><input class=\"sk-toggleable__control sk-hidden--visually\" id=\"25813a83-80a7-492c-9805-602e1b87e775\" type=\"checkbox\" ><label for=\"25813a83-80a7-492c-9805-602e1b87e775\" class=\"sk-toggleable__label sk-toggleable__label-arrow\">preprocessor: ColumnTransformer</label><div class=\"sk-toggleable__content\"><pre>ColumnTransformer(transformers=[(&#x27;numerical&#x27;,\n",
              "                                 Pipeline(steps=[(&#x27;imputer&#x27;,\n",
              "                                                  SimpleImputer(strategy=&#x27;median&#x27;)),\n",
              "                                                 (&#x27;scaler&#x27;, MinMaxScaler())]),\n",
              "                                 [&#x27;tenure&#x27;, &#x27;monthly_charges&#x27;,\n",
              "                                  &#x27;total_charges&#x27;]),\n",
              "                                (&#x27;categorical&#x27;,\n",
              "                                 Pipeline(steps=[(&#x27;imputer&#x27;,\n",
              "                                                  SimpleImputer(strategy=&#x27;most_frequent&#x27;)),\n",
              "                                                 (&#x27;encoder&#x27;,\n",
              "                                                  OneHotEncoder(drop=&#x27;if_binary&#x27;,\n",
              "                                                                handle_unknown=&#x27;ignore&#x27;,\n",
              "                                                                sparse=False))]),\n",
              "                                 [&#x27;gender&#x27;, &#x27;senior_citizen&#x27;, &#x27;partner&#x27;,\n",
              "                                  &#x27;dependents&#x27;, &#x27;phone_service&#x27;,\n",
              "                                  &#x27;multiple_lines&#x27;, &#x27;internet_service&#x27;,\n",
              "                                  &#x27;online_security&#x27;, &#x27;online_backup&#x27;,\n",
              "                                  &#x27;device_protection&#x27;, &#x27;tech_support&#x27;,\n",
              "                                  &#x27;streaming_tv&#x27;, &#x27;streaming_movies&#x27;,\n",
              "                                  &#x27;contract&#x27;, &#x27;paperless_billing&#x27;,\n",
              "                                  &#x27;payment_method&#x27;])])</pre></div></div></div><div class=\"sk-parallel\"><div class=\"sk-parallel-item\"><div class=\"sk-item\"><div class=\"sk-label-container\"><div class=\"sk-label sk-toggleable\"><input class=\"sk-toggleable__control sk-hidden--visually\" id=\"d3226d74-9b5a-4960-b580-5c9e16febba5\" type=\"checkbox\" ><label for=\"d3226d74-9b5a-4960-b580-5c9e16febba5\" class=\"sk-toggleable__label sk-toggleable__label-arrow\">numerical</label><div class=\"sk-toggleable__content\"><pre>[&#x27;tenure&#x27;, &#x27;monthly_charges&#x27;, &#x27;total_charges&#x27;]</pre></div></div></div><div class=\"sk-serial\"><div class=\"sk-item\"><div class=\"sk-serial\"><div class=\"sk-item\"><div class=\"sk-estimator sk-toggleable\"><input class=\"sk-toggleable__control sk-hidden--visually\" id=\"675881e2-198b-441c-a45d-cb38dbdc9622\" type=\"checkbox\" ><label for=\"675881e2-198b-441c-a45d-cb38dbdc9622\" class=\"sk-toggleable__label sk-toggleable__label-arrow\">SimpleImputer</label><div class=\"sk-toggleable__content\"><pre>SimpleImputer(strategy=&#x27;median&#x27;)</pre></div></div></div><div class=\"sk-item\"><div class=\"sk-estimator sk-toggleable\"><input class=\"sk-toggleable__control sk-hidden--visually\" id=\"187286d8-e3a0-4c1d-9e14-b51b0081867a\" type=\"checkbox\" ><label for=\"187286d8-e3a0-4c1d-9e14-b51b0081867a\" class=\"sk-toggleable__label sk-toggleable__label-arrow\">MinMaxScaler</label><div class=\"sk-toggleable__content\"><pre>MinMaxScaler()</pre></div></div></div></div></div></div></div></div><div class=\"sk-parallel-item\"><div class=\"sk-item\"><div class=\"sk-label-container\"><div class=\"sk-label sk-toggleable\"><input class=\"sk-toggleable__control sk-hidden--visually\" id=\"ea05f6a1-23a1-43ee-97be-7f3685aded6f\" type=\"checkbox\" ><label for=\"ea05f6a1-23a1-43ee-97be-7f3685aded6f\" class=\"sk-toggleable__label sk-toggleable__label-arrow\">categorical</label><div class=\"sk-toggleable__content\"><pre>[&#x27;gender&#x27;, &#x27;senior_citizen&#x27;, &#x27;partner&#x27;, &#x27;dependents&#x27;, &#x27;phone_service&#x27;, &#x27;multiple_lines&#x27;, &#x27;internet_service&#x27;, &#x27;online_security&#x27;, &#x27;online_backup&#x27;, &#x27;device_protection&#x27;, &#x27;tech_support&#x27;, &#x27;streaming_tv&#x27;, &#x27;streaming_movies&#x27;, &#x27;contract&#x27;, &#x27;paperless_billing&#x27;, &#x27;payment_method&#x27;]</pre></div></div></div><div class=\"sk-serial\"><div class=\"sk-item\"><div class=\"sk-serial\"><div class=\"sk-item\"><div class=\"sk-estimator sk-toggleable\"><input class=\"sk-toggleable__control sk-hidden--visually\" id=\"a695b678-d216-4b4c-9cf0-063dac7d4a0c\" type=\"checkbox\" ><label for=\"a695b678-d216-4b4c-9cf0-063dac7d4a0c\" class=\"sk-toggleable__label sk-toggleable__label-arrow\">SimpleImputer</label><div class=\"sk-toggleable__content\"><pre>SimpleImputer(strategy=&#x27;most_frequent&#x27;)</pre></div></div></div><div class=\"sk-item\"><div class=\"sk-estimator sk-toggleable\"><input class=\"sk-toggleable__control sk-hidden--visually\" id=\"75872427-c6f7-4e7d-9bff-e41baf468888\" type=\"checkbox\" ><label for=\"75872427-c6f7-4e7d-9bff-e41baf468888\" class=\"sk-toggleable__label sk-toggleable__label-arrow\">OneHotEncoder</label><div class=\"sk-toggleable__content\"><pre>OneHotEncoder(drop=&#x27;if_binary&#x27;, handle_unknown=&#x27;ignore&#x27;, sparse=False)</pre></div></div></div></div></div></div></div></div></div></div><div class=\"sk-item\"><div class=\"sk-estimator sk-toggleable\"><input class=\"sk-toggleable__control sk-hidden--visually\" id=\"cfc0aebf-0448-4bd2-8519-65fef2d33dd3\" type=\"checkbox\" ><label for=\"cfc0aebf-0448-4bd2-8519-65fef2d33dd3\" class=\"sk-toggleable__label sk-toggleable__label-arrow\">SMOTE</label><div class=\"sk-toggleable__content\"><pre>SMOTE(random_state=1)</pre></div></div></div><div class=\"sk-item\"><div class=\"sk-estimator sk-toggleable\"><input class=\"sk-toggleable__control sk-hidden--visually\" id=\"141915c5-134d-4bef-b416-8d4e51faf621\" type=\"checkbox\" ><label for=\"141915c5-134d-4bef-b416-8d4e51faf621\" class=\"sk-toggleable__label sk-toggleable__label-arrow\">SelectKBest</label><div class=\"sk-toggleable__content\"><pre>SelectKBest(k=13)</pre></div></div></div><div class=\"sk-item\"><div class=\"sk-estimator sk-toggleable\"><input class=\"sk-toggleable__control sk-hidden--visually\" id=\"d327e6cd-754c-465b-b546-98eb52aece6d\" type=\"checkbox\" ><label for=\"d327e6cd-754c-465b-b546-98eb52aece6d\" class=\"sk-toggleable__label sk-toggleable__label-arrow\">LGBMClassifier</label><div class=\"sk-toggleable__content\"><pre>LGBMClassifier(learning_rate=0.01, n_estimators=175, num_leaves=10,\n",
              "               random_state=1)</pre></div></div></div></div></div></div></div>"
            ]
          },
          "metadata": {}
        }
      ]
    },
    {
      "cell_type": "markdown",
      "source": [
        "# Save Model"
      ],
      "metadata": {
        "id": "aZwhuSXjsNNF"
      }
    },
    {
      "cell_type": "code",
      "source": [
        "import joblib\n",
        "\n",
        "path = '/content/drive/MyDrive/Digital Skola/Final Project/output/trained_model.pkl'\n",
        "\n",
        "joblib.dump(pipeline, path)"
      ],
      "metadata": {
        "colab": {
          "base_uri": "https://localhost:8080/"
        },
        "id": "WwEa_PajsOqP",
        "outputId": "cc6a52fe-e8a0-4f59-f0c1-5e25808c5a8b"
      },
      "execution_count": null,
      "outputs": [
        {
          "output_type": "execute_result",
          "data": {
            "text/plain": [
              "['/content/drive/MyDrive/Digital Skola/Final Project/output/trained_model.pkl']"
            ]
          },
          "metadata": {},
          "execution_count": 94
        }
      ]
    },
    {
      "cell_type": "markdown",
      "source": [
        "# Load Model"
      ],
      "metadata": {
        "id": "3bix9R4atc7C"
      }
    },
    {
      "cell_type": "code",
      "source": [
        "path = '/content/drive/MyDrive/Digital Skola/Final Project/output/trained_model.pkl'\n",
        "\n",
        "loaded_model = joblib.load(path)\n",
        "\n",
        "set_config(display='diagram')\n",
        "display(loaded_model)\n",
        "\n",
        "set_config(display='text')"
      ],
      "metadata": {
        "id": "8VIwVEqetLke",
        "colab": {
          "base_uri": "https://localhost:8080/",
          "height": 296
        },
        "outputId": "c058ae79-5af1-4134-e7ab-b93494e9763b"
      },
      "execution_count": 95,
      "outputs": [
        {
          "output_type": "display_data",
          "data": {
            "text/plain": [
              "Pipeline(steps=[('preprocessor',\n",
              "                 ColumnTransformer(transformers=[('numerical',\n",
              "                                                  Pipeline(steps=[('imputer',\n",
              "                                                                   SimpleImputer(strategy='median')),\n",
              "                                                                  ('scaler',\n",
              "                                                                   MinMaxScaler())]),\n",
              "                                                  ['tenure', 'monthly_charges',\n",
              "                                                   'total_charges']),\n",
              "                                                 ('categorical',\n",
              "                                                  Pipeline(steps=[('imputer',\n",
              "                                                                   SimpleImputer(strategy='most_frequent')),\n",
              "                                                                  ('encoder',\n",
              "                                                                   OneHotEncoder(drop='if_binary',\n",
              "                                                                                 handle_unknow...\n",
              "                                                   'multiple_lines',\n",
              "                                                   'internet_service',\n",
              "                                                   'online_security',\n",
              "                                                   'online_backup',\n",
              "                                                   'device_protection',\n",
              "                                                   'tech_support',\n",
              "                                                   'streaming_tv',\n",
              "                                                   'streaming_movies',\n",
              "                                                   'contract',\n",
              "                                                   'paperless_billing',\n",
              "                                                   'payment_method'])])),\n",
              "                ('smote', SMOTE(random_state=1)),\n",
              "                ('feature_selection', SelectKBest(k=13)),\n",
              "                ('estimator',\n",
              "                 LGBMClassifier(learning_rate=0.01, n_estimators=175,\n",
              "                                num_leaves=10, random_state=1))])"
            ],
            "text/html": [
              "<style>#sk-19c92f6a-499b-48f4-a50c-d180313f0bc3 {color: black;background-color: white;}#sk-19c92f6a-499b-48f4-a50c-d180313f0bc3 pre{padding: 0;}#sk-19c92f6a-499b-48f4-a50c-d180313f0bc3 div.sk-toggleable {background-color: white;}#sk-19c92f6a-499b-48f4-a50c-d180313f0bc3 label.sk-toggleable__label {cursor: pointer;display: block;width: 100%;margin-bottom: 0;padding: 0.3em;box-sizing: border-box;text-align: center;}#sk-19c92f6a-499b-48f4-a50c-d180313f0bc3 label.sk-toggleable__label-arrow:before {content: \"▸\";float: left;margin-right: 0.25em;color: #696969;}#sk-19c92f6a-499b-48f4-a50c-d180313f0bc3 label.sk-toggleable__label-arrow:hover:before {color: black;}#sk-19c92f6a-499b-48f4-a50c-d180313f0bc3 div.sk-estimator:hover label.sk-toggleable__label-arrow:before {color: black;}#sk-19c92f6a-499b-48f4-a50c-d180313f0bc3 div.sk-toggleable__content {max-height: 0;max-width: 0;overflow: hidden;text-align: left;background-color: #f0f8ff;}#sk-19c92f6a-499b-48f4-a50c-d180313f0bc3 div.sk-toggleable__content pre {margin: 0.2em;color: black;border-radius: 0.25em;background-color: #f0f8ff;}#sk-19c92f6a-499b-48f4-a50c-d180313f0bc3 input.sk-toggleable__control:checked~div.sk-toggleable__content {max-height: 200px;max-width: 100%;overflow: auto;}#sk-19c92f6a-499b-48f4-a50c-d180313f0bc3 input.sk-toggleable__control:checked~label.sk-toggleable__label-arrow:before {content: \"▾\";}#sk-19c92f6a-499b-48f4-a50c-d180313f0bc3 div.sk-estimator input.sk-toggleable__control:checked~label.sk-toggleable__label {background-color: #d4ebff;}#sk-19c92f6a-499b-48f4-a50c-d180313f0bc3 div.sk-label input.sk-toggleable__control:checked~label.sk-toggleable__label {background-color: #d4ebff;}#sk-19c92f6a-499b-48f4-a50c-d180313f0bc3 input.sk-hidden--visually {border: 0;clip: rect(1px 1px 1px 1px);clip: rect(1px, 1px, 1px, 1px);height: 1px;margin: -1px;overflow: hidden;padding: 0;position: absolute;width: 1px;}#sk-19c92f6a-499b-48f4-a50c-d180313f0bc3 div.sk-estimator {font-family: monospace;background-color: #f0f8ff;border: 1px dotted black;border-radius: 0.25em;box-sizing: border-box;margin-bottom: 0.5em;}#sk-19c92f6a-499b-48f4-a50c-d180313f0bc3 div.sk-estimator:hover {background-color: #d4ebff;}#sk-19c92f6a-499b-48f4-a50c-d180313f0bc3 div.sk-parallel-item::after {content: \"\";width: 100%;border-bottom: 1px solid gray;flex-grow: 1;}#sk-19c92f6a-499b-48f4-a50c-d180313f0bc3 div.sk-label:hover label.sk-toggleable__label {background-color: #d4ebff;}#sk-19c92f6a-499b-48f4-a50c-d180313f0bc3 div.sk-serial::before {content: \"\";position: absolute;border-left: 1px solid gray;box-sizing: border-box;top: 2em;bottom: 0;left: 50%;}#sk-19c92f6a-499b-48f4-a50c-d180313f0bc3 div.sk-serial {display: flex;flex-direction: column;align-items: center;background-color: white;padding-right: 0.2em;padding-left: 0.2em;}#sk-19c92f6a-499b-48f4-a50c-d180313f0bc3 div.sk-item {z-index: 1;}#sk-19c92f6a-499b-48f4-a50c-d180313f0bc3 div.sk-parallel {display: flex;align-items: stretch;justify-content: center;background-color: white;}#sk-19c92f6a-499b-48f4-a50c-d180313f0bc3 div.sk-parallel::before {content: \"\";position: absolute;border-left: 1px solid gray;box-sizing: border-box;top: 2em;bottom: 0;left: 50%;}#sk-19c92f6a-499b-48f4-a50c-d180313f0bc3 div.sk-parallel-item {display: flex;flex-direction: column;position: relative;background-color: white;}#sk-19c92f6a-499b-48f4-a50c-d180313f0bc3 div.sk-parallel-item:first-child::after {align-self: flex-end;width: 50%;}#sk-19c92f6a-499b-48f4-a50c-d180313f0bc3 div.sk-parallel-item:last-child::after {align-self: flex-start;width: 50%;}#sk-19c92f6a-499b-48f4-a50c-d180313f0bc3 div.sk-parallel-item:only-child::after {width: 0;}#sk-19c92f6a-499b-48f4-a50c-d180313f0bc3 div.sk-dashed-wrapped {border: 1px dashed gray;margin: 0 0.4em 0.5em 0.4em;box-sizing: border-box;padding-bottom: 0.4em;background-color: white;position: relative;}#sk-19c92f6a-499b-48f4-a50c-d180313f0bc3 div.sk-label label {font-family: monospace;font-weight: bold;background-color: white;display: inline-block;line-height: 1.2em;}#sk-19c92f6a-499b-48f4-a50c-d180313f0bc3 div.sk-label-container {position: relative;z-index: 2;text-align: center;}#sk-19c92f6a-499b-48f4-a50c-d180313f0bc3 div.sk-container {/* jupyter's `normalize.less` sets `[hidden] { display: none; }` but bootstrap.min.css set `[hidden] { display: none !important; }` so we also need the `!important` here to be able to override the default hidden behavior on the sphinx rendered scikit-learn.org. See: https://github.com/scikit-learn/scikit-learn/issues/21755 */display: inline-block !important;position: relative;}#sk-19c92f6a-499b-48f4-a50c-d180313f0bc3 div.sk-text-repr-fallback {display: none;}</style><div id=\"sk-19c92f6a-499b-48f4-a50c-d180313f0bc3\" class=\"sk-top-container\"><div class=\"sk-text-repr-fallback\"><pre>Pipeline(steps=[(&#x27;preprocessor&#x27;,\n",
              "                 ColumnTransformer(transformers=[(&#x27;numerical&#x27;,\n",
              "                                                  Pipeline(steps=[(&#x27;imputer&#x27;,\n",
              "                                                                   SimpleImputer(strategy=&#x27;median&#x27;)),\n",
              "                                                                  (&#x27;scaler&#x27;,\n",
              "                                                                   MinMaxScaler())]),\n",
              "                                                  [&#x27;tenure&#x27;, &#x27;monthly_charges&#x27;,\n",
              "                                                   &#x27;total_charges&#x27;]),\n",
              "                                                 (&#x27;categorical&#x27;,\n",
              "                                                  Pipeline(steps=[(&#x27;imputer&#x27;,\n",
              "                                                                   SimpleImputer(strategy=&#x27;most_frequent&#x27;)),\n",
              "                                                                  (&#x27;encoder&#x27;,\n",
              "                                                                   OneHotEncoder(drop=&#x27;if_binary&#x27;,\n",
              "                                                                                 handle_unknow...\n",
              "                                                   &#x27;multiple_lines&#x27;,\n",
              "                                                   &#x27;internet_service&#x27;,\n",
              "                                                   &#x27;online_security&#x27;,\n",
              "                                                   &#x27;online_backup&#x27;,\n",
              "                                                   &#x27;device_protection&#x27;,\n",
              "                                                   &#x27;tech_support&#x27;,\n",
              "                                                   &#x27;streaming_tv&#x27;,\n",
              "                                                   &#x27;streaming_movies&#x27;,\n",
              "                                                   &#x27;contract&#x27;,\n",
              "                                                   &#x27;paperless_billing&#x27;,\n",
              "                                                   &#x27;payment_method&#x27;])])),\n",
              "                (&#x27;smote&#x27;, SMOTE(random_state=1)),\n",
              "                (&#x27;feature_selection&#x27;, SelectKBest(k=13)),\n",
              "                (&#x27;estimator&#x27;,\n",
              "                 LGBMClassifier(learning_rate=0.01, n_estimators=175,\n",
              "                                num_leaves=10, random_state=1))])</pre><b>Please rerun this cell to show the HTML repr or trust the notebook.</b></div><div class=\"sk-container\" hidden><div class=\"sk-item sk-dashed-wrapped\"><div class=\"sk-label-container\"><div class=\"sk-label sk-toggleable\"><input class=\"sk-toggleable__control sk-hidden--visually\" id=\"e2cc7e34-e235-4de4-bbad-4ce96a64c007\" type=\"checkbox\" ><label for=\"e2cc7e34-e235-4de4-bbad-4ce96a64c007\" class=\"sk-toggleable__label sk-toggleable__label-arrow\">Pipeline</label><div class=\"sk-toggleable__content\"><pre>Pipeline(steps=[(&#x27;preprocessor&#x27;,\n",
              "                 ColumnTransformer(transformers=[(&#x27;numerical&#x27;,\n",
              "                                                  Pipeline(steps=[(&#x27;imputer&#x27;,\n",
              "                                                                   SimpleImputer(strategy=&#x27;median&#x27;)),\n",
              "                                                                  (&#x27;scaler&#x27;,\n",
              "                                                                   MinMaxScaler())]),\n",
              "                                                  [&#x27;tenure&#x27;, &#x27;monthly_charges&#x27;,\n",
              "                                                   &#x27;total_charges&#x27;]),\n",
              "                                                 (&#x27;categorical&#x27;,\n",
              "                                                  Pipeline(steps=[(&#x27;imputer&#x27;,\n",
              "                                                                   SimpleImputer(strategy=&#x27;most_frequent&#x27;)),\n",
              "                                                                  (&#x27;encoder&#x27;,\n",
              "                                                                   OneHotEncoder(drop=&#x27;if_binary&#x27;,\n",
              "                                                                                 handle_unknow...\n",
              "                                                   &#x27;multiple_lines&#x27;,\n",
              "                                                   &#x27;internet_service&#x27;,\n",
              "                                                   &#x27;online_security&#x27;,\n",
              "                                                   &#x27;online_backup&#x27;,\n",
              "                                                   &#x27;device_protection&#x27;,\n",
              "                                                   &#x27;tech_support&#x27;,\n",
              "                                                   &#x27;streaming_tv&#x27;,\n",
              "                                                   &#x27;streaming_movies&#x27;,\n",
              "                                                   &#x27;contract&#x27;,\n",
              "                                                   &#x27;paperless_billing&#x27;,\n",
              "                                                   &#x27;payment_method&#x27;])])),\n",
              "                (&#x27;smote&#x27;, SMOTE(random_state=1)),\n",
              "                (&#x27;feature_selection&#x27;, SelectKBest(k=13)),\n",
              "                (&#x27;estimator&#x27;,\n",
              "                 LGBMClassifier(learning_rate=0.01, n_estimators=175,\n",
              "                                num_leaves=10, random_state=1))])</pre></div></div></div><div class=\"sk-serial\"><div class=\"sk-item sk-dashed-wrapped\"><div class=\"sk-label-container\"><div class=\"sk-label sk-toggleable\"><input class=\"sk-toggleable__control sk-hidden--visually\" id=\"b994bcc4-072e-46e4-ab65-5eb82cc343cd\" type=\"checkbox\" ><label for=\"b994bcc4-072e-46e4-ab65-5eb82cc343cd\" class=\"sk-toggleable__label sk-toggleable__label-arrow\">preprocessor: ColumnTransformer</label><div class=\"sk-toggleable__content\"><pre>ColumnTransformer(transformers=[(&#x27;numerical&#x27;,\n",
              "                                 Pipeline(steps=[(&#x27;imputer&#x27;,\n",
              "                                                  SimpleImputer(strategy=&#x27;median&#x27;)),\n",
              "                                                 (&#x27;scaler&#x27;, MinMaxScaler())]),\n",
              "                                 [&#x27;tenure&#x27;, &#x27;monthly_charges&#x27;,\n",
              "                                  &#x27;total_charges&#x27;]),\n",
              "                                (&#x27;categorical&#x27;,\n",
              "                                 Pipeline(steps=[(&#x27;imputer&#x27;,\n",
              "                                                  SimpleImputer(strategy=&#x27;most_frequent&#x27;)),\n",
              "                                                 (&#x27;encoder&#x27;,\n",
              "                                                  OneHotEncoder(drop=&#x27;if_binary&#x27;,\n",
              "                                                                handle_unknown=&#x27;ignore&#x27;,\n",
              "                                                                sparse=False))]),\n",
              "                                 [&#x27;gender&#x27;, &#x27;senior_citizen&#x27;, &#x27;partner&#x27;,\n",
              "                                  &#x27;dependents&#x27;, &#x27;phone_service&#x27;,\n",
              "                                  &#x27;multiple_lines&#x27;, &#x27;internet_service&#x27;,\n",
              "                                  &#x27;online_security&#x27;, &#x27;online_backup&#x27;,\n",
              "                                  &#x27;device_protection&#x27;, &#x27;tech_support&#x27;,\n",
              "                                  &#x27;streaming_tv&#x27;, &#x27;streaming_movies&#x27;,\n",
              "                                  &#x27;contract&#x27;, &#x27;paperless_billing&#x27;,\n",
              "                                  &#x27;payment_method&#x27;])])</pre></div></div></div><div class=\"sk-parallel\"><div class=\"sk-parallel-item\"><div class=\"sk-item\"><div class=\"sk-label-container\"><div class=\"sk-label sk-toggleable\"><input class=\"sk-toggleable__control sk-hidden--visually\" id=\"2ae3101c-e333-48a3-b4a5-f369505458fb\" type=\"checkbox\" ><label for=\"2ae3101c-e333-48a3-b4a5-f369505458fb\" class=\"sk-toggleable__label sk-toggleable__label-arrow\">numerical</label><div class=\"sk-toggleable__content\"><pre>[&#x27;tenure&#x27;, &#x27;monthly_charges&#x27;, &#x27;total_charges&#x27;]</pre></div></div></div><div class=\"sk-serial\"><div class=\"sk-item\"><div class=\"sk-serial\"><div class=\"sk-item\"><div class=\"sk-estimator sk-toggleable\"><input class=\"sk-toggleable__control sk-hidden--visually\" id=\"87bcdaec-ae81-4dea-9625-513dd10655af\" type=\"checkbox\" ><label for=\"87bcdaec-ae81-4dea-9625-513dd10655af\" class=\"sk-toggleable__label sk-toggleable__label-arrow\">SimpleImputer</label><div class=\"sk-toggleable__content\"><pre>SimpleImputer(strategy=&#x27;median&#x27;)</pre></div></div></div><div class=\"sk-item\"><div class=\"sk-estimator sk-toggleable\"><input class=\"sk-toggleable__control sk-hidden--visually\" id=\"5e8102a1-60ec-4636-a313-0c541cf63f65\" type=\"checkbox\" ><label for=\"5e8102a1-60ec-4636-a313-0c541cf63f65\" class=\"sk-toggleable__label sk-toggleable__label-arrow\">MinMaxScaler</label><div class=\"sk-toggleable__content\"><pre>MinMaxScaler()</pre></div></div></div></div></div></div></div></div><div class=\"sk-parallel-item\"><div class=\"sk-item\"><div class=\"sk-label-container\"><div class=\"sk-label sk-toggleable\"><input class=\"sk-toggleable__control sk-hidden--visually\" id=\"748f86cf-1951-4423-bca4-c244a5339a79\" type=\"checkbox\" ><label for=\"748f86cf-1951-4423-bca4-c244a5339a79\" class=\"sk-toggleable__label sk-toggleable__label-arrow\">categorical</label><div class=\"sk-toggleable__content\"><pre>[&#x27;gender&#x27;, &#x27;senior_citizen&#x27;, &#x27;partner&#x27;, &#x27;dependents&#x27;, &#x27;phone_service&#x27;, &#x27;multiple_lines&#x27;, &#x27;internet_service&#x27;, &#x27;online_security&#x27;, &#x27;online_backup&#x27;, &#x27;device_protection&#x27;, &#x27;tech_support&#x27;, &#x27;streaming_tv&#x27;, &#x27;streaming_movies&#x27;, &#x27;contract&#x27;, &#x27;paperless_billing&#x27;, &#x27;payment_method&#x27;]</pre></div></div></div><div class=\"sk-serial\"><div class=\"sk-item\"><div class=\"sk-serial\"><div class=\"sk-item\"><div class=\"sk-estimator sk-toggleable\"><input class=\"sk-toggleable__control sk-hidden--visually\" id=\"01673a52-4357-473b-b175-aaab5d29dd06\" type=\"checkbox\" ><label for=\"01673a52-4357-473b-b175-aaab5d29dd06\" class=\"sk-toggleable__label sk-toggleable__label-arrow\">SimpleImputer</label><div class=\"sk-toggleable__content\"><pre>SimpleImputer(strategy=&#x27;most_frequent&#x27;)</pre></div></div></div><div class=\"sk-item\"><div class=\"sk-estimator sk-toggleable\"><input class=\"sk-toggleable__control sk-hidden--visually\" id=\"2c78a55c-7d3e-4738-9d5f-56a51ebe0471\" type=\"checkbox\" ><label for=\"2c78a55c-7d3e-4738-9d5f-56a51ebe0471\" class=\"sk-toggleable__label sk-toggleable__label-arrow\">OneHotEncoder</label><div class=\"sk-toggleable__content\"><pre>OneHotEncoder(drop=&#x27;if_binary&#x27;, handle_unknown=&#x27;ignore&#x27;, sparse=False)</pre></div></div></div></div></div></div></div></div></div></div><div class=\"sk-item\"><div class=\"sk-estimator sk-toggleable\"><input class=\"sk-toggleable__control sk-hidden--visually\" id=\"36ae85b0-62f4-4392-aaae-5ea2c12c66b1\" type=\"checkbox\" ><label for=\"36ae85b0-62f4-4392-aaae-5ea2c12c66b1\" class=\"sk-toggleable__label sk-toggleable__label-arrow\">SMOTE</label><div class=\"sk-toggleable__content\"><pre>SMOTE(random_state=1)</pre></div></div></div><div class=\"sk-item\"><div class=\"sk-estimator sk-toggleable\"><input class=\"sk-toggleable__control sk-hidden--visually\" id=\"0449ae2a-b430-4c7e-8a19-192719b6d601\" type=\"checkbox\" ><label for=\"0449ae2a-b430-4c7e-8a19-192719b6d601\" class=\"sk-toggleable__label sk-toggleable__label-arrow\">SelectKBest</label><div class=\"sk-toggleable__content\"><pre>SelectKBest(k=13)</pre></div></div></div><div class=\"sk-item\"><div class=\"sk-estimator sk-toggleable\"><input class=\"sk-toggleable__control sk-hidden--visually\" id=\"0c4a1b8f-d364-4cbd-8275-6cfd1039b9b6\" type=\"checkbox\" ><label for=\"0c4a1b8f-d364-4cbd-8275-6cfd1039b9b6\" class=\"sk-toggleable__label sk-toggleable__label-arrow\">LGBMClassifier</label><div class=\"sk-toggleable__content\"><pre>LGBMClassifier(learning_rate=0.01, n_estimators=175, num_leaves=10,\n",
              "               random_state=1)</pre></div></div></div></div></div></div></div>"
            ]
          },
          "metadata": {}
        }
      ]
    },
    {
      "cell_type": "code",
      "source": [
        "y_pred_2 = loaded_model.predict(X_test)\n",
        "\n",
        "print(classification_report(y_test, y_pred_2, digits=3))"
      ],
      "metadata": {
        "colab": {
          "base_uri": "https://localhost:8080/"
        },
        "id": "jZ-rj0v9tmeH",
        "outputId": "6667e5f3-b783-4289-fb67-2f804ebdd761"
      },
      "execution_count": 96,
      "outputs": [
        {
          "output_type": "stream",
          "name": "stdout",
          "text": [
            "              precision    recall  f1-score   support\n",
            "\n",
            "           0      0.909     0.752     0.823      1552\n",
            "           1      0.536     0.791     0.639       561\n",
            "\n",
            "    accuracy                          0.762      2113\n",
            "   macro avg      0.722     0.772     0.731      2113\n",
            "weighted avg      0.810     0.762     0.774      2113\n",
            "\n"
          ]
        }
      ]
    }
  ],
  "metadata": {
    "colab": {
      "collapsed_sections": [],
      "name": "Modeling Clean - Pipeline.ipynb",
      "provenance": [],
      "toc_visible": true,
      "mount_file_id": "1EuXrSVbDZ_BEjqdEz9KyPVnfAGN39---",
      "authorship_tag": "ABX9TyOkbQmzgkSPq9Vs7mSViQGY",
      "include_colab_link": true
    },
    "kernelspec": {
      "display_name": "Python 3",
      "name": "python3"
    },
    "language_info": {
      "name": "python"
    }
  },
  "nbformat": 4,
  "nbformat_minor": 0
}