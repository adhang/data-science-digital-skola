{
  "nbformat": 4,
  "nbformat_minor": 0,
  "metadata": {
    "colab": {
      "name": "Learn - Python Basic Programming.ipynb",
      "provenance": [],
      "collapsed_sections": [],
      "toc_visible": true,
      "authorship_tag": "ABX9TyOqQDFfWduPpwpRB6vZjkgn",
      "include_colab_link": true
    },
    "kernelspec": {
      "name": "python3",
      "display_name": "Python 3"
    },
    "language_info": {
      "name": "python"
    }
  },
  "cells": [
    {
      "cell_type": "markdown",
      "metadata": {
        "id": "view-in-github",
        "colab_type": "text"
      },
      "source": [
        "<a href=\"https://colab.research.google.com/github/adhang/data-science-digitalskola/blob/update/04.%20Python%20Basic%20Programming/Learn%20-%20Python%20Basic%20Programming.ipynb\" target=\"_parent\"><img src=\"https://colab.research.google.com/assets/colab-badge.svg\" alt=\"Open In Colab\"/></a>"
      ]
    },
    {
      "cell_type": "markdown",
      "source": [
        "# Python Basic Programming\n",
        "Author: Adhang Muntaha Muhammad\n",
        "\n",
        "[GitHub](https://github.com/adhang)\n",
        "[LinkedIn](https://www.linkedin.com/in/adhangmuntaha/)\n",
        "___\n",
        "**Contents**\n",
        "- Data Types\n",
        "  - Integer\n",
        "  - Float\n",
        "  - String\n",
        "  - List\n",
        "  - Tuple\n",
        "  - Set\n",
        "  - Dictionary\n",
        "- Conditions\n",
        "- Looping\n",
        "- Functions"
      ],
      "metadata": {
        "id": "l_gPmSu2Qrwb"
      }
    },
    {
      "cell_type": "markdown",
      "source": [
        "# Data Types"
      ],
      "metadata": {
        "id": "vYSAM6q8RT2l"
      }
    },
    {
      "cell_type": "markdown",
      "source": [
        "## Integer\n",
        "Integer is used to store numeric value, without a decimal point."
      ],
      "metadata": {
        "id": "XQDubsuFSqTQ"
      }
    },
    {
      "cell_type": "code",
      "source": [
        "my_int = 25\n",
        "my_int"
      ],
      "metadata": {
        "colab": {
          "base_uri": "https://localhost:8080/"
        },
        "id": "cv8M5oo5SFiy",
        "outputId": "8e4e4925-bc24-4e20-9823-572b144563fd"
      },
      "execution_count": null,
      "outputs": [
        {
          "output_type": "execute_result",
          "data": {
            "text/plain": [
              "25"
            ]
          },
          "metadata": {},
          "execution_count": 1
        }
      ]
    },
    {
      "cell_type": "code",
      "source": [
        "# convert to int\n",
        "my_int = int(25.5)\n",
        "my_int"
      ],
      "metadata": {
        "colab": {
          "base_uri": "https://localhost:8080/"
        },
        "id": "Mks-v4UjSMGB",
        "outputId": "8e177248-d215-4396-a84c-74add97ab9ce"
      },
      "execution_count": null,
      "outputs": [
        {
          "output_type": "execute_result",
          "data": {
            "text/plain": [
              "25"
            ]
          },
          "metadata": {},
          "execution_count": 2
        }
      ]
    },
    {
      "cell_type": "code",
      "source": [
        "type(my_int)"
      ],
      "metadata": {
        "colab": {
          "base_uri": "https://localhost:8080/"
        },
        "id": "qzOmJ2iUSViL",
        "outputId": "0d7d551a-e512-45b4-deee-794727bc153a"
      },
      "execution_count": null,
      "outputs": [
        {
          "output_type": "execute_result",
          "data": {
            "text/plain": [
              "int"
            ]
          },
          "metadata": {},
          "execution_count": 5
        }
      ]
    },
    {
      "cell_type": "markdown",
      "source": [
        "## Float\n",
        "Float is used to store numeric value that has a deicmal place.\n"
      ],
      "metadata": {
        "id": "KiXwicR7R5Yw"
      }
    },
    {
      "cell_type": "code",
      "source": [
        "my_float = 25.5\n",
        "my_float"
      ],
      "metadata": {
        "colab": {
          "base_uri": "https://localhost:8080/"
        },
        "id": "4x4TaH9zRbXQ",
        "outputId": "c120116d-9f2e-4375-994e-d6ed828c96c9"
      },
      "execution_count": null,
      "outputs": [
        {
          "output_type": "execute_result",
          "data": {
            "text/plain": [
              "25.5"
            ]
          },
          "metadata": {},
          "execution_count": 3
        }
      ]
    },
    {
      "cell_type": "code",
      "source": [
        "# convert to float\n",
        "my_float = float(25)\n",
        "my_float"
      ],
      "metadata": {
        "colab": {
          "base_uri": "https://localhost:8080/"
        },
        "id": "YkuSthFESUaC",
        "outputId": "b358b7df-41b2-4ac4-cb52-3789dbf1ddb8"
      },
      "execution_count": null,
      "outputs": [
        {
          "output_type": "execute_result",
          "data": {
            "text/plain": [
              "25.0"
            ]
          },
          "metadata": {},
          "execution_count": 6
        }
      ]
    },
    {
      "cell_type": "code",
      "source": [
        "type(my_float)"
      ],
      "metadata": {
        "colab": {
          "base_uri": "https://localhost:8080/"
        },
        "id": "sDGL8vazShpo",
        "outputId": "0e126936-d513-4af1-e212-6f6950b53ab6"
      },
      "execution_count": null,
      "outputs": [
        {
          "output_type": "execute_result",
          "data": {
            "text/plain": [
              "float"
            ]
          },
          "metadata": {},
          "execution_count": 7
        }
      ]
    },
    {
      "cell_type": "markdown",
      "source": [
        "## String\n",
        "- String is used to store text data\n",
        "- We can define string value with single quote ('...') or double quote (\"...\")"
      ],
      "metadata": {
        "id": "NvvuS_rcSmnH"
      }
    },
    {
      "cell_type": "code",
      "source": [
        "my_str = 'String with single quote'\n",
        "my_str"
      ],
      "metadata": {
        "colab": {
          "base_uri": "https://localhost:8080/",
          "height": 35
        },
        "id": "Pr8xMX33TA0K",
        "outputId": "f2a8fcb7-a4a5-4483-e1e5-713ab5dfc57e"
      },
      "execution_count": null,
      "outputs": [
        {
          "output_type": "execute_result",
          "data": {
            "application/vnd.google.colaboratory.intrinsic+json": {
              "type": "string"
            },
            "text/plain": [
              "'String with single quote'"
            ]
          },
          "metadata": {},
          "execution_count": 8
        }
      ]
    },
    {
      "cell_type": "code",
      "source": [
        "my_str = \"String with double quote\"\n",
        "my_str"
      ],
      "metadata": {
        "colab": {
          "base_uri": "https://localhost:8080/",
          "height": 35
        },
        "id": "xiT4kvIiTIrO",
        "outputId": "13b8503a-67f2-4f88-ae68-bdb743a8b444"
      },
      "execution_count": null,
      "outputs": [
        {
          "output_type": "execute_result",
          "data": {
            "application/vnd.google.colaboratory.intrinsic+json": {
              "type": "string"
            },
            "text/plain": [
              "'String with double quote'"
            ]
          },
          "metadata": {},
          "execution_count": 9
        }
      ]
    },
    {
      "cell_type": "markdown",
      "source": [
        "- If the text is too long, we can use backslash (\\\\) to continue on new line"
      ],
      "metadata": {
        "id": "iuD8HpctTK60"
      }
    },
    {
      "cell_type": "code",
      "source": [
        "my_str = 'String string string string string \\\n",
        "with with with with with \\\n",
        "backslash backslash backslash backslash backslash'\n",
        "\n",
        "my_str"
      ],
      "metadata": {
        "colab": {
          "base_uri": "https://localhost:8080/",
          "height": 35
        },
        "id": "JwOryDwZTmXx",
        "outputId": "3588581c-192d-4f97-ee4c-e81e7e1814ba"
      },
      "execution_count": null,
      "outputs": [
        {
          "output_type": "execute_result",
          "data": {
            "application/vnd.google.colaboratory.intrinsic+json": {
              "type": "string"
            },
            "text/plain": [
              "'String string string string string with with with with with backslash backslash backslash backslash backslash'"
            ]
          },
          "metadata": {},
          "execution_count": 14
        }
      ]
    },
    {
      "cell_type": "code",
      "source": [
        "# concatenate using +\n",
        "str_1 = 'String'\n",
        "str_2 = 'concatenate'\n",
        "\n",
        "str_3 = str_1 + ' ' + str_2\n",
        "str_3"
      ],
      "metadata": {
        "colab": {
          "base_uri": "https://localhost:8080/",
          "height": 35
        },
        "id": "klXG2D4fTq8G",
        "outputId": "50e4ea04-4774-4e4b-e0e6-7c646ac8c0ad"
      },
      "execution_count": null,
      "outputs": [
        {
          "output_type": "execute_result",
          "data": {
            "application/vnd.google.colaboratory.intrinsic+json": {
              "type": "string"
            },
            "text/plain": [
              "'String concatenate'"
            ]
          },
          "metadata": {},
          "execution_count": 17
        }
      ]
    },
    {
      "cell_type": "markdown",
      "source": [
        "## List\n",
        "- Used to store multiple value\n",
        "- Mutable, we can change list's element\n",
        "- We can access list's element using index (start from 0)\n",
        "- List can contain multiple data type"
      ],
      "metadata": {
        "id": "2zYxFuINUTii"
      }
    },
    {
      "cell_type": "code",
      "source": [
        "# creating blank list\n",
        "my_list = []\n",
        "my_list"
      ],
      "metadata": {
        "colab": {
          "base_uri": "https://localhost:8080/"
        },
        "id": "JXPnEFMhVPlE",
        "outputId": "7e0f4648-c42a-4ad3-d23b-2f67ed60c358"
      },
      "execution_count": null,
      "outputs": [
        {
          "output_type": "execute_result",
          "data": {
            "text/plain": [
              "[]"
            ]
          },
          "metadata": {},
          "execution_count": 18
        }
      ]
    },
    {
      "cell_type": "code",
      "source": [
        "# creating blank list\n",
        "my_list = list()\n",
        "my_list"
      ],
      "metadata": {
        "colab": {
          "base_uri": "https://localhost:8080/"
        },
        "id": "tiRHZrvZVWsE",
        "outputId": "c4912668-d9b5-4df9-e62c-5a9036e1da5d"
      },
      "execution_count": null,
      "outputs": [
        {
          "output_type": "execute_result",
          "data": {
            "text/plain": [
              "[]"
            ]
          },
          "metadata": {},
          "execution_count": 19
        }
      ]
    },
    {
      "cell_type": "code",
      "source": [
        "# list with value\n",
        "my_list = [1, 2, 3, 4]\n",
        "my_list"
      ],
      "metadata": {
        "colab": {
          "base_uri": "https://localhost:8080/"
        },
        "id": "P4G_aGpqVbkr",
        "outputId": "c60b9bca-0528-4991-927b-c9db6056b434"
      },
      "execution_count": null,
      "outputs": [
        {
          "output_type": "execute_result",
          "data": {
            "text/plain": [
              "[1, 2, 3, 4]"
            ]
          },
          "metadata": {},
          "execution_count": 21
        }
      ]
    },
    {
      "cell_type": "code",
      "source": [
        "type(my_list)"
      ],
      "metadata": {
        "colab": {
          "base_uri": "https://localhost:8080/"
        },
        "id": "BqlThIetVgnf",
        "outputId": "11b11f12-f230-48f9-e27c-d40b28069685"
      },
      "execution_count": null,
      "outputs": [
        {
          "output_type": "execute_result",
          "data": {
            "text/plain": [
              "list"
            ]
          },
          "metadata": {},
          "execution_count": 22
        }
      ]
    },
    {
      "cell_type": "code",
      "source": [
        "# elements with different data type\n",
        "my_list = ['Adhang', 24, 'Jogja', 8.7]\n",
        "my_list"
      ],
      "metadata": {
        "colab": {
          "base_uri": "https://localhost:8080/"
        },
        "id": "UwsMaX8QVncU",
        "outputId": "0d0cc09b-189d-4046-fc8c-4a330c37c07a"
      },
      "execution_count": null,
      "outputs": [
        {
          "output_type": "execute_result",
          "data": {
            "text/plain": [
              "['Adhang', 24, 'Jogja', 8.7]"
            ]
          },
          "metadata": {},
          "execution_count": 23
        }
      ]
    },
    {
      "cell_type": "code",
      "source": [
        "# access first element\n",
        "my_list = ['Adhang', 24, 'Jogja', 8.7]\n",
        "my_list[0]"
      ],
      "metadata": {
        "colab": {
          "base_uri": "https://localhost:8080/",
          "height": 35
        },
        "id": "vfyO8xi3WGUW",
        "outputId": "dfcce5b4-b6fd-4c7c-e810-67d750664558"
      },
      "execution_count": null,
      "outputs": [
        {
          "output_type": "execute_result",
          "data": {
            "application/vnd.google.colaboratory.intrinsic+json": {
              "type": "string"
            },
            "text/plain": [
              "'Adhang'"
            ]
          },
          "metadata": {},
          "execution_count": 24
        }
      ]
    },
    {
      "cell_type": "code",
      "source": [
        "# access last element\n",
        "my_list = ['Adhang', 24, 'Jogja', 8.7]\n",
        "my_list[-1]"
      ],
      "metadata": {
        "colab": {
          "base_uri": "https://localhost:8080/"
        },
        "id": "J9SMb7dCblN4",
        "outputId": "57662d9e-2410-4118-da8b-1b4e19711d40"
      },
      "execution_count": null,
      "outputs": [
        {
          "output_type": "execute_result",
          "data": {
            "text/plain": [
              "8.7"
            ]
          },
          "metadata": {},
          "execution_count": 27
        }
      ]
    },
    {
      "cell_type": "code",
      "source": [
        "# change the last element\n",
        "my_list = ['Adhang', 24, 'Jogja', 8.7]\n",
        "my_list[-1] = 7.8\n",
        "my_list"
      ],
      "metadata": {
        "colab": {
          "base_uri": "https://localhost:8080/"
        },
        "id": "A09aQ70Rb2EJ",
        "outputId": "36ab4109-9515-4b5d-ee70-86c4fa641ab2"
      },
      "execution_count": null,
      "outputs": [
        {
          "output_type": "execute_result",
          "data": {
            "text/plain": [
              "['Adhang', 24, 'Jogja', 7.8]"
            ]
          },
          "metadata": {},
          "execution_count": 28
        }
      ]
    },
    {
      "cell_type": "markdown",
      "source": [
        "### List Methods\n",
        "- `append()`: Adds an element at the end of the list\n",
        "- `clear()`: Removes all the elements from the list\n",
        "- `copy()`: Returns a copy of the list\n",
        "- `count()`:\tReturns the number of elements with the specified value\n",
        "- `extend()`:\tAdd the elements of a list (or any iterable), to the end of the current list\n",
        "- `index()`:\tReturns the index of the first element with the specified value\n",
        "- `insert()`:\tAdds an element at the specified position\n",
        "- `pop()`:\tRemoves the element at the specified position\n",
        "- `remove()`:\tRemoves the item with the specified value\n",
        "- `reverse()`:\tReverses the order of the list\n",
        "- `sort()`:\tSorts the list\n",
        "\n",
        "[List Methods Reference](https://www.w3schools.com/python/python_lists_methods.asp)"
      ],
      "metadata": {
        "id": "dwzfY1X3dDP3"
      }
    },
    {
      "cell_type": "code",
      "source": [
        "# add list's element\n",
        "my_list = [1, 2]\n",
        "my_list.append(3)\n",
        "my_list.append(4)\n",
        "my_list"
      ],
      "metadata": {
        "colab": {
          "base_uri": "https://localhost:8080/"
        },
        "id": "JasAL0B5eCRz",
        "outputId": "7c9c8bd8-c8b3-4a75-bd7f-e7a46b3512cc"
      },
      "execution_count": null,
      "outputs": [
        {
          "output_type": "execute_result",
          "data": {
            "text/plain": [
              "[1, 2, 3, 4]"
            ]
          },
          "metadata": {},
          "execution_count": 40
        }
      ]
    },
    {
      "cell_type": "code",
      "source": [
        "# clear list's element\n",
        "my_list = [1, 2, 3, 4]\n",
        "my_list.clear()\n",
        "my_list"
      ],
      "metadata": {
        "colab": {
          "base_uri": "https://localhost:8080/"
        },
        "id": "YtZl99R9eOUU",
        "outputId": "951c2ba8-ac03-4858-f69e-024d8a476fb7"
      },
      "execution_count": null,
      "outputs": [
        {
          "output_type": "execute_result",
          "data": {
            "text/plain": [
              "[]"
            ]
          },
          "metadata": {},
          "execution_count": 42
        }
      ]
    },
    {
      "cell_type": "markdown",
      "source": [
        "## Tuple\n",
        "- Used to store multiple value\n",
        "- Immutable, we can't change tuple's element\n",
        "- We can access tuple's element using index (start from 0)\n",
        "- Tuple can contain multiple data type"
      ],
      "metadata": {
        "id": "RaWG8EFHUjFz"
      }
    },
    {
      "cell_type": "code",
      "source": [
        "# creating blank tuple\n",
        "my_tuple = ()\n",
        "my_tuple"
      ],
      "metadata": {
        "colab": {
          "base_uri": "https://localhost:8080/"
        },
        "outputId": "bbebcbe9-ad15-4c3f-e5cf-06764cfd8d2f",
        "id": "IvT-MQ9YcNce"
      },
      "execution_count": null,
      "outputs": [
        {
          "output_type": "execute_result",
          "data": {
            "text/plain": [
              "()"
            ]
          },
          "metadata": {},
          "execution_count": 39
        }
      ]
    },
    {
      "cell_type": "code",
      "source": [
        "# creating blank tuple\n",
        "my_tuple = tuple()\n",
        "my_tuple"
      ],
      "metadata": {
        "colab": {
          "base_uri": "https://localhost:8080/"
        },
        "outputId": "c0d6c8e4-c70a-4796-ec90-fa142a463025",
        "id": "9nxobBaYcNcy"
      },
      "execution_count": null,
      "outputs": [
        {
          "output_type": "execute_result",
          "data": {
            "text/plain": [
              "()"
            ]
          },
          "metadata": {},
          "execution_count": 31
        }
      ]
    },
    {
      "cell_type": "code",
      "source": [
        "# tuple with value\n",
        "my_tuple = (1, 2, 3, 4)\n",
        "my_tuple"
      ],
      "metadata": {
        "colab": {
          "base_uri": "https://localhost:8080/"
        },
        "outputId": "5404faf1-93c4-43aa-ff95-f0f222fc63a0",
        "id": "A4nxL959cNcy"
      },
      "execution_count": null,
      "outputs": [
        {
          "output_type": "execute_result",
          "data": {
            "text/plain": [
              "(1, 2, 3, 4)"
            ]
          },
          "metadata": {},
          "execution_count": 32
        }
      ]
    },
    {
      "cell_type": "code",
      "source": [
        "type(my_tuple)"
      ],
      "metadata": {
        "colab": {
          "base_uri": "https://localhost:8080/"
        },
        "outputId": "c7ec46ba-bf39-497f-b4d5-ca35d0d7333d",
        "id": "F5705jbjcNcz"
      },
      "execution_count": null,
      "outputs": [
        {
          "output_type": "execute_result",
          "data": {
            "text/plain": [
              "tuple"
            ]
          },
          "metadata": {},
          "execution_count": 33
        }
      ]
    },
    {
      "cell_type": "code",
      "source": [
        "# elements with different data type\n",
        "my_tuple = ('Adhang', 24, 'Jogja', 8.7)\n",
        "my_tuple"
      ],
      "metadata": {
        "colab": {
          "base_uri": "https://localhost:8080/"
        },
        "outputId": "cf95641c-94e6-434e-c22a-9c136985d795",
        "id": "dbA0uTP3cNcz"
      },
      "execution_count": null,
      "outputs": [
        {
          "output_type": "execute_result",
          "data": {
            "text/plain": [
              "('Adhang', 24, 'Jogja', 8.7)"
            ]
          },
          "metadata": {},
          "execution_count": 34
        }
      ]
    },
    {
      "cell_type": "code",
      "source": [
        "# access first element\n",
        "my_tuple = ('Adhang', 24, 'Jogja', 8.7)\n",
        "my_tuple[0]"
      ],
      "metadata": {
        "colab": {
          "base_uri": "https://localhost:8080/",
          "height": 35
        },
        "outputId": "fc191286-f2d8-4515-8584-d8bf31de1958",
        "id": "u4CFWCO-cNcz"
      },
      "execution_count": null,
      "outputs": [
        {
          "output_type": "execute_result",
          "data": {
            "application/vnd.google.colaboratory.intrinsic+json": {
              "type": "string"
            },
            "text/plain": [
              "'Adhang'"
            ]
          },
          "metadata": {},
          "execution_count": 35
        }
      ]
    },
    {
      "cell_type": "code",
      "source": [
        "# access last element\n",
        "my_tuple = ('Adhang', 24, 'Jogja', 8.7)\n",
        "my_tuple[-1]"
      ],
      "metadata": {
        "colab": {
          "base_uri": "https://localhost:8080/"
        },
        "outputId": "5720a699-c1a9-4afa-fc3f-59b17a81c04d",
        "id": "ecpirN3ocNc0"
      },
      "execution_count": null,
      "outputs": [
        {
          "output_type": "execute_result",
          "data": {
            "text/plain": [
              "8.7"
            ]
          },
          "metadata": {},
          "execution_count": 36
        }
      ]
    },
    {
      "cell_type": "code",
      "source": [
        "# changing list's element will cause error\n",
        "my_tuple = ('Adhang', 24, 'Jogja', 8.7)\n",
        "my_tuple[-1] = 7.8\n",
        "my_tuple"
      ],
      "metadata": {
        "colab": {
          "base_uri": "https://localhost:8080/",
          "height": 218
        },
        "outputId": "d777d204-d4a3-450b-ea7e-819d911b8662",
        "id": "0O80doGVcNc0"
      },
      "execution_count": null,
      "outputs": [
        {
          "output_type": "error",
          "ename": "TypeError",
          "evalue": "ignored",
          "traceback": [
            "\u001b[0;31m---------------------------------------------------------------------------\u001b[0m",
            "\u001b[0;31mTypeError\u001b[0m                                 Traceback (most recent call last)",
            "\u001b[0;32m<ipython-input-37-742f7bb97fa5>\u001b[0m in \u001b[0;36m<module>\u001b[0;34m()\u001b[0m\n\u001b[1;32m      1\u001b[0m \u001b[0;31m# change last element\u001b[0m\u001b[0;34m\u001b[0m\u001b[0;34m\u001b[0m\u001b[0;34m\u001b[0m\u001b[0m\n\u001b[1;32m      2\u001b[0m \u001b[0mmy_tuple\u001b[0m \u001b[0;34m=\u001b[0m \u001b[0;34m(\u001b[0m\u001b[0;34m'Adhang'\u001b[0m\u001b[0;34m,\u001b[0m \u001b[0;36m24\u001b[0m\u001b[0;34m,\u001b[0m \u001b[0;34m'Jogja'\u001b[0m\u001b[0;34m,\u001b[0m \u001b[0;36m8.7\u001b[0m\u001b[0;34m)\u001b[0m\u001b[0;34m\u001b[0m\u001b[0;34m\u001b[0m\u001b[0m\n\u001b[0;32m----> 3\u001b[0;31m \u001b[0mmy_tuple\u001b[0m\u001b[0;34m[\u001b[0m\u001b[0;34m-\u001b[0m\u001b[0;36m1\u001b[0m\u001b[0;34m]\u001b[0m \u001b[0;34m=\u001b[0m \u001b[0;36m7.8\u001b[0m\u001b[0;34m\u001b[0m\u001b[0;34m\u001b[0m\u001b[0m\n\u001b[0m\u001b[1;32m      4\u001b[0m \u001b[0mmy_tuple\u001b[0m\u001b[0;34m\u001b[0m\u001b[0;34m\u001b[0m\u001b[0m\n",
            "\u001b[0;31mTypeError\u001b[0m: 'tuple' object does not support item assignment"
          ]
        }
      ]
    },
    {
      "cell_type": "markdown",
      "source": [
        "### Tuple Methods\n",
        "\n",
        "- `count()`:\tReturns the number of times a specified value occurs in a tuple\n",
        "- `index()`:\tSearches the tuple for a specified value and returns the position of where it was found\n",
        "\n",
        "[Tuple Methods Reference](https://www.w3schools.com/python/python_tuples_methods.asp)"
      ],
      "metadata": {
        "id": "OszM-ydpepVp"
      }
    },
    {
      "cell_type": "code",
      "source": [
        "# count specified item in tuple\n",
        "my_tuple = (1, 2, 3, 1, 1, 2)\n",
        "my_tuple.count(1)"
      ],
      "metadata": {
        "colab": {
          "base_uri": "https://localhost:8080/"
        },
        "id": "643R0qnTe87o",
        "outputId": "2f05d77b-e185-4f42-c099-1ec54135d7d6"
      },
      "execution_count": null,
      "outputs": [
        {
          "output_type": "execute_result",
          "data": {
            "text/plain": [
              "3"
            ]
          },
          "metadata": {},
          "execution_count": 45
        }
      ]
    },
    {
      "cell_type": "markdown",
      "source": [
        "## Set\n",
        "- Used to store multiple value, but with distinct value (unique)\n",
        "- Immutable, we can't change set's element. But, we can add new item to set or remove item from set\n",
        "- Unordered, so we can't access set's element using index\n",
        "- Set can contain multiple data type"
      ],
      "metadata": {
        "id": "epiYE3h0UkdJ"
      }
    },
    {
      "cell_type": "code",
      "source": [
        "# creating blank set\n",
        "my_set = set()\n",
        "my_set"
      ],
      "metadata": {
        "colab": {
          "base_uri": "https://localhost:8080/"
        },
        "outputId": "f4f18242-4976-43f3-b445-e308aa4da5c6",
        "id": "78-ObukqfiEA"
      },
      "execution_count": null,
      "outputs": [
        {
          "output_type": "execute_result",
          "data": {
            "text/plain": [
              "set()"
            ]
          },
          "metadata": {},
          "execution_count": 46
        }
      ]
    },
    {
      "cell_type": "code",
      "source": [
        "# set with value\n",
        "my_set = {1, 2, 3, 4}\n",
        "my_set"
      ],
      "metadata": {
        "colab": {
          "base_uri": "https://localhost:8080/"
        },
        "outputId": "3352b767-6343-4c1f-cdd9-5c545dc44815",
        "id": "fnr0FU5PfiED"
      },
      "execution_count": null,
      "outputs": [
        {
          "output_type": "execute_result",
          "data": {
            "text/plain": [
              "{1, 2, 3, 4}"
            ]
          },
          "metadata": {},
          "execution_count": 47
        }
      ]
    },
    {
      "cell_type": "code",
      "source": [
        "# set with value\n",
        "my_set = set([1, 2, 3, 4])\n",
        "my_set"
      ],
      "metadata": {
        "colab": {
          "base_uri": "https://localhost:8080/"
        },
        "id": "zqCO6hZIf_7u",
        "outputId": "6a70d8ca-7c3a-41d5-e848-81499099b8d2"
      },
      "execution_count": null,
      "outputs": [
        {
          "output_type": "execute_result",
          "data": {
            "text/plain": [
              "{1, 2, 3, 4}"
            ]
          },
          "metadata": {},
          "execution_count": 50
        }
      ]
    },
    {
      "cell_type": "code",
      "source": [
        "type(my_set)"
      ],
      "metadata": {
        "colab": {
          "base_uri": "https://localhost:8080/"
        },
        "outputId": "2939bd1e-ea74-44ef-f01e-63f1d395f8b7",
        "id": "e5al2ZX1fiEF"
      },
      "execution_count": null,
      "outputs": [
        {
          "output_type": "execute_result",
          "data": {
            "text/plain": [
              "set"
            ]
          },
          "metadata": {},
          "execution_count": 51
        }
      ]
    },
    {
      "cell_type": "code",
      "source": [
        "# elements with different data type\n",
        "my_set = {'Adhang', 24, 'Jogja', 8.7}\n",
        "my_set\n",
        "# the result order is not the same as the definition order"
      ],
      "metadata": {
        "colab": {
          "base_uri": "https://localhost:8080/"
        },
        "outputId": "fa553fc2-d692-4359-e055-fe88df8f21fc",
        "id": "HlIyk3D-fiEF"
      },
      "execution_count": null,
      "outputs": [
        {
          "output_type": "execute_result",
          "data": {
            "text/plain": [
              "{24, 8.7, 'Adhang', 'Jogja'}"
            ]
          },
          "metadata": {},
          "execution_count": 53
        }
      ]
    },
    {
      "cell_type": "markdown",
      "source": [
        "### Set Methods\n",
        "- `add()`\tAdds an element to the set\n",
        "- `clear()`\tRemoves all the elements from the set\n",
        "- `copy()`\tReturns a copy of the set\n",
        "- `difference()`\tReturns a set containing the difference between two or more sets\n",
        "- `difference_update()`\tRemoves the items in this set that are also included in another, specified set\n",
        "- `discard()`\tRemove the specified item\n",
        "- `intersection()`\tReturns a set, that is the intersection of two other sets\n",
        "- `intersection_update()`\tRemoves the items in this set that are not present in other, specified set(s)\n",
        "- `isdisjoint()`\tReturns whether two sets have a intersection or not\n",
        "- `issubset()`\tReturns whether another set contains this set or not\n",
        "- `issuperset()`\tReturns whether this set contains another set or not\n",
        "- `pop()`\tRemoves an element from the set\n",
        "- `remove()`\tRemoves the specified element\n",
        "- `symmetric_difference()`\tReturns a set with the symmetric differences of two sets\n",
        "- `symmetric_difference_update()`\tinserts the symmetric differences from this set and another\n",
        "- `union()`\tReturn a set containing the union of sets\n",
        "- `update()`\tUpdate the set with the union of this set and others\n",
        "\n",
        "[Set Methods Reference](https://www.w3schools.com/python/python_sets_methods.asp)"
      ],
      "metadata": {
        "id": "Bi-utzi6grPK"
      }
    },
    {
      "cell_type": "code",
      "source": [
        "# add item\n",
        "my_set = {'Adhang', 24, 'Jogja', 8.7}\n",
        "my_set.add('Indonesia')\n",
        "my_set"
      ],
      "metadata": {
        "colab": {
          "base_uri": "https://localhost:8080/"
        },
        "id": "bjOzj_eVhyr-",
        "outputId": "b3b77732-f67d-46a5-a54b-bbf583ad76f5"
      },
      "execution_count": null,
      "outputs": [
        {
          "output_type": "execute_result",
          "data": {
            "text/plain": [
              "{24, 8.7, 'Adhang', 'Indonesia', 'Jogja'}"
            ]
          },
          "metadata": {},
          "execution_count": 54
        }
      ]
    },
    {
      "cell_type": "code",
      "source": [
        "# remove item\n",
        "my_set = {'Adhang', 24, 'Jogja', 8.7}\n",
        "my_set.remove('Jogja')\n",
        "my_set"
      ],
      "metadata": {
        "colab": {
          "base_uri": "https://localhost:8080/"
        },
        "id": "ma1kVx3Lh8hk",
        "outputId": "77e2ecbd-7b08-4262-f3ee-058a556bede4"
      },
      "execution_count": null,
      "outputs": [
        {
          "output_type": "execute_result",
          "data": {
            "text/plain": [
              "{24, 8.7, 'Adhang'}"
            ]
          },
          "metadata": {},
          "execution_count": 55
        }
      ]
    },
    {
      "cell_type": "markdown",
      "source": [
        "## Dictionary\n",
        "- Used to store multiple value, but with key-value pair\n",
        "- Mutable, we can change dictionary's element\n",
        "- We can access dictionary's element using key\n",
        "- Dictionary can contain multiple data type"
      ],
      "metadata": {
        "id": "btPFVDQkUloq"
      }
    },
    {
      "cell_type": "code",
      "source": [
        "# creating blank dictionary\n",
        "my_dict = {}\n",
        "my_dict"
      ],
      "metadata": {
        "colab": {
          "base_uri": "https://localhost:8080/"
        },
        "outputId": "665b9d6f-9bd5-4b3c-9524-07da06d43734",
        "id": "KAgTB55GuH8h"
      },
      "execution_count": null,
      "outputs": [
        {
          "output_type": "execute_result",
          "data": {
            "text/plain": [
              "{}"
            ]
          },
          "metadata": {},
          "execution_count": 56
        }
      ]
    },
    {
      "cell_type": "code",
      "source": [
        "# creating blank dictionary\n",
        "my_dict = dict()\n",
        "my_dict"
      ],
      "metadata": {
        "colab": {
          "base_uri": "https://localhost:8080/"
        },
        "outputId": "31dc2ecd-6715-4abf-b8a4-6ed0f561c2bc",
        "id": "JOXnapEEuH8i"
      },
      "execution_count": null,
      "outputs": [
        {
          "output_type": "execute_result",
          "data": {
            "text/plain": [
              "{}"
            ]
          },
          "metadata": {},
          "execution_count": 58
        }
      ]
    },
    {
      "cell_type": "code",
      "source": [
        "# dictionary with value\n",
        "my_dict = {'name':'Adhang',\n",
        "           'city':'Jogja'}\n",
        "my_dict"
      ],
      "metadata": {
        "colab": {
          "base_uri": "https://localhost:8080/"
        },
        "outputId": "799b5318-5037-4097-d1e9-22f15341319a",
        "id": "fs3pVnfLuH8j"
      },
      "execution_count": null,
      "outputs": [
        {
          "output_type": "execute_result",
          "data": {
            "text/plain": [
              "{'city': 'Jogja', 'name': 'Adhang'}"
            ]
          },
          "metadata": {},
          "execution_count": 61
        }
      ]
    },
    {
      "cell_type": "code",
      "source": [
        "# dictionary with value\n",
        "my_dict = dict(name='Adhang',\n",
        "               city='Jogja')\n",
        "my_dict"
      ],
      "metadata": {
        "colab": {
          "base_uri": "https://localhost:8080/"
        },
        "id": "sbMWBuE8ugfk",
        "outputId": "271c38c5-9093-4778-c482-9cb919395c7d"
      },
      "execution_count": null,
      "outputs": [
        {
          "output_type": "execute_result",
          "data": {
            "text/plain": [
              "{'city': 'Jogja', 'name': 'Adhang'}"
            ]
          },
          "metadata": {},
          "execution_count": 63
        }
      ]
    },
    {
      "cell_type": "code",
      "source": [
        "type(my_dict)"
      ],
      "metadata": {
        "colab": {
          "base_uri": "https://localhost:8080/"
        },
        "outputId": "d453aa74-184e-48a1-8abb-19ae71bc01c6",
        "id": "aUhXQzI4uH8j"
      },
      "execution_count": null,
      "outputs": [
        {
          "output_type": "execute_result",
          "data": {
            "text/plain": [
              "dict"
            ]
          },
          "metadata": {},
          "execution_count": 64
        }
      ]
    },
    {
      "cell_type": "code",
      "source": [
        "# elements with different data type\n",
        "my_dict = {'name':'Adhang',\n",
        "           'age':24,\n",
        "           'city':'Jogja',\n",
        "           'score':8.7}\n",
        "my_dict"
      ],
      "metadata": {
        "colab": {
          "base_uri": "https://localhost:8080/"
        },
        "outputId": "ff7a06c4-95a1-4c2f-e3f4-54acaed71705",
        "id": "MAxKYKA7uH8k"
      },
      "execution_count": null,
      "outputs": [
        {
          "output_type": "execute_result",
          "data": {
            "text/plain": [
              "{'age': 24, 'city': 'Jogja', 'name': 'Adhang', 'score': 8.7}"
            ]
          },
          "metadata": {},
          "execution_count": 65
        }
      ]
    },
    {
      "cell_type": "code",
      "source": [
        "# access dictionary\n",
        "my_dict = {'name':'Adhang',\n",
        "           'age':24,\n",
        "           'city':'Jogja',\n",
        "           'score':8.7}\n",
        "           \n",
        "my_dict['name']"
      ],
      "metadata": {
        "colab": {
          "base_uri": "https://localhost:8080/",
          "height": 35
        },
        "outputId": "9225b0b3-8e4f-4747-dce8-4498ba3c5416",
        "id": "aUGHFXUIuH8k"
      },
      "execution_count": null,
      "outputs": [
        {
          "output_type": "execute_result",
          "data": {
            "application/vnd.google.colaboratory.intrinsic+json": {
              "type": "string"
            },
            "text/plain": [
              "'Adhang'"
            ]
          },
          "metadata": {},
          "execution_count": 66
        }
      ]
    },
    {
      "cell_type": "code",
      "source": [
        "# change dictionary value\n",
        "my_dict = {'name':'Adhang',\n",
        "           'age':24,\n",
        "           'city':'Jogja',\n",
        "           'score':8.7}\n",
        "           \n",
        "my_dict['score'] = 7.8\n",
        "my_dict"
      ],
      "metadata": {
        "colab": {
          "base_uri": "https://localhost:8080/"
        },
        "outputId": "ec0849d0-21a9-4f7b-a391-eb7f0b49a03c",
        "id": "2hQgoOKduH8l"
      },
      "execution_count": null,
      "outputs": [
        {
          "output_type": "execute_result",
          "data": {
            "text/plain": [
              "{'age': 24, 'city': 'Jogja', 'name': 'Adhang', 'score': 7.8}"
            ]
          },
          "metadata": {},
          "execution_count": 67
        }
      ]
    },
    {
      "cell_type": "markdown",
      "source": [
        "### Dictionary Methods\n",
        "\n",
        "- `clear()`:\tRemoves all the elements from the dictionary\n",
        "- `copy()`:\tReturns a copy of the dictionary\n",
        "- `fromkeys()`:\tReturns a dictionary with the specified keys and value\n",
        "- `get()`:\tReturns the value of the specified key\n",
        "- `items()`:\tReturns a list containing a tuple for each key value pair\n",
        "- `keys()`:\tReturns a list containing the dictionary's keys\n",
        "- `pop()`:\tRemoves the element with the specified key\n",
        "- `popitem()`:\tRemoves the last inserted key-value pair\n",
        "- `setdefault()`:\tReturns the value of the specified key. If the key does not exist: insert the key, with the specified value\n",
        "- `update()`:\tUpdates the dictionary with the specified key-value pairs\n",
        "- `values()`:\tReturns a list of all the values in the dictionary\n",
        "\n",
        "[Dictionary Methods Reference](https://www.w3schools.com/python/python_dictionaries_methods.asp)"
      ],
      "metadata": {
        "id": "JvPv7bbgvO_u"
      }
    },
    {
      "cell_type": "code",
      "source": [
        "# clear dictionary's elements\n",
        "my_dict = {'name':'Adhang',\n",
        "           'age':24,\n",
        "           'city':'Jogja',\n",
        "           'score':8.7}\n",
        "\n",
        "my_dict.clear()\n",
        "my_dict"
      ],
      "metadata": {
        "colab": {
          "base_uri": "https://localhost:8080/"
        },
        "id": "JHP8jTMKvsbC",
        "outputId": "6f4fd3aa-5f74-4ffa-dcad-ba8f98f9ec35"
      },
      "execution_count": null,
      "outputs": [
        {
          "output_type": "execute_result",
          "data": {
            "text/plain": [
              "{}"
            ]
          },
          "metadata": {},
          "execution_count": 68
        }
      ]
    },
    {
      "cell_type": "code",
      "source": [
        "# get value from specified key\n",
        "my_dict = {'name':'Adhang',\n",
        "           'age':24,\n",
        "           'city':'Jogja',\n",
        "           'score':8.7}\n",
        "\n",
        "my_dict.get('name')"
      ],
      "metadata": {
        "colab": {
          "base_uri": "https://localhost:8080/",
          "height": 35
        },
        "id": "cSGoKU86v6F2",
        "outputId": "1c9f65ab-d7d4-47f7-b354-478e61c387c0"
      },
      "execution_count": null,
      "outputs": [
        {
          "output_type": "execute_result",
          "data": {
            "application/vnd.google.colaboratory.intrinsic+json": {
              "type": "string"
            },
            "text/plain": [
              "'Adhang'"
            ]
          },
          "metadata": {},
          "execution_count": 69
        }
      ]
    },
    {
      "cell_type": "markdown",
      "source": [
        "# Branching\n",
        "\n",
        "Branching is used to run a block of code when a condition is met"
      ],
      "metadata": {
        "id": "D4-bsR1XUnNr"
      }
    },
    {
      "cell_type": "markdown",
      "source": [
        "## IF Statement\n",
        "Syntax of `if` statement:\n",
        "\n",
        "```\n",
        "if expressions:\n",
        "  statements\n",
        "```\n",
        "\n",
        "Where `expressions` are representation of value (`True` or `False`) and `statements` are some action."
      ],
      "metadata": {
        "id": "xLEGCKFE75Oo"
      }
    },
    {
      "cell_type": "code",
      "source": [
        "age = 25\n",
        "\n",
        "if age > 21:\n",
        "  print('adult')"
      ],
      "metadata": {
        "colab": {
          "base_uri": "https://localhost:8080/"
        },
        "id": "vMKjLgiD9NB9",
        "outputId": "a4e6f43e-a8df-48f8-ffb2-6df7c813261c"
      },
      "execution_count": null,
      "outputs": [
        {
          "output_type": "stream",
          "name": "stdout",
          "text": [
            "adult\n"
          ]
        }
      ]
    },
    {
      "cell_type": "code",
      "source": [
        "city = 'Jogja'\n",
        "\n",
        "if city == 'Jogja':\n",
        "  print('I live in Jogja!')"
      ],
      "metadata": {
        "colab": {
          "base_uri": "https://localhost:8080/"
        },
        "id": "3wAjtPUa9cxr",
        "outputId": "703ae70f-aca1-4a92-b807-4c5e2c216ebe"
      },
      "execution_count": null,
      "outputs": [
        {
          "output_type": "stream",
          "name": "stdout",
          "text": [
            "I live in Jogja!\n"
          ]
        }
      ]
    },
    {
      "cell_type": "markdown",
      "source": [
        "## ELSE Statement\n",
        "If the condition in `if` statement is not satisfied, or we can say if the expressions is `False`, then the `else` statement is executed.\n",
        "<br><br>\n",
        "Syntax of `else` statement:\n",
        "\n",
        "```\n",
        "if expressions:\n",
        "  statements\n",
        "else:\n",
        "  statements\n",
        "```\n",
        "\n"
      ],
      "metadata": {
        "id": "OnqcuQ8r91TQ"
      }
    },
    {
      "cell_type": "code",
      "source": [
        "age = 18\n",
        "\n",
        "if age > 21:\n",
        "  print('adult')\n",
        "else:\n",
        "  print('young')"
      ],
      "metadata": {
        "colab": {
          "base_uri": "https://localhost:8080/"
        },
        "id": "OxpCzZA3-ZBR",
        "outputId": "817dbb73-7c1b-4be0-a235-aca041668521"
      },
      "execution_count": null,
      "outputs": [
        {
          "output_type": "stream",
          "name": "stdout",
          "text": [
            "young\n"
          ]
        }
      ]
    },
    {
      "cell_type": "code",
      "source": [
        "city = 'Jakarta'\n",
        "\n",
        "if city == 'Jogja':\n",
        "  print('I live in Jogja!')\n",
        "else:\n",
        "  print('I am not living in Jogja')"
      ],
      "metadata": {
        "colab": {
          "base_uri": "https://localhost:8080/"
        },
        "id": "mFXSnW1F-h9T",
        "outputId": "102a7a5c-481b-42c1-e7cb-8f0a500e0540"
      },
      "execution_count": null,
      "outputs": [
        {
          "output_type": "stream",
          "name": "stdout",
          "text": [
            "I am not living in Jogja\n"
          ]
        }
      ]
    },
    {
      "cell_type": "markdown",
      "source": [
        "## ELIF Statement\n",
        "What if the first condition is not met, but we want to check again using the second condition? We can use `elif` statement to do this kind of situation.\n",
        "<br><br>\n",
        "Syntax of `elif` statement\n",
        "\n",
        "```\n",
        "if expressions:\n",
        "  statements\n",
        "elif expressions:\n",
        "  statements\n",
        "else:\n",
        "  statements\n",
        "```\n",
        "\n"
      ],
      "metadata": {
        "id": "2xxmTepf-wFa"
      }
    },
    {
      "cell_type": "code",
      "source": [
        "age = 18\n",
        "\n",
        "if age > 21:\n",
        "  print('adult')\n",
        "elif age > 12:\n",
        "  print('young')\n",
        "else:\n",
        "  print('child')"
      ],
      "metadata": {
        "colab": {
          "base_uri": "https://localhost:8080/"
        },
        "id": "-R6ClHPD_y3B",
        "outputId": "7afbc5fe-23d5-47d1-d8b2-83406780ca0e"
      },
      "execution_count": null,
      "outputs": [
        {
          "output_type": "stream",
          "name": "stdout",
          "text": [
            "young\n"
          ]
        }
      ]
    },
    {
      "cell_type": "code",
      "source": [
        "city = 'Bandung'\n",
        "\n",
        "if city == 'Jogja':\n",
        "  print('I live in Jogja!')\n",
        "elif city == 'Jakarta':\n",
        "  print('I live in Jakarta!')\n",
        "else:\n",
        "  print('I am not living in Jogja or Jakarta')"
      ],
      "metadata": {
        "colab": {
          "base_uri": "https://localhost:8080/"
        },
        "id": "RxiSLT1C_8p4",
        "outputId": "682e9b88-2151-4ded-8faa-eaa234822b74"
      },
      "execution_count": null,
      "outputs": [
        {
          "output_type": "stream",
          "name": "stdout",
          "text": [
            "I am not living in Jogja or Jakarta\n"
          ]
        }
      ]
    },
    {
      "cell_type": "markdown",
      "source": [
        "## Nested IF Statement\n",
        "What if our condition is met, but we want to do some checking again with more specific condition? We can use nested `if` statement to do `if` inside another `if` statement.\n",
        "<br><br>\n",
        "Example syntax of nested `if` statement\n",
        "\n",
        "```\n",
        "if expressions:\n",
        "  statements\n",
        "  if expressions:\n",
        "    statements\n",
        "  else:\n",
        "    statements\n",
        "else:\n",
        "  statements\n",
        "```\n",
        "\n",
        "It doesn't matter how we make our nested `if` statements, so it doesn't have an exact syntax template"
      ],
      "metadata": {
        "id": "4T1lZrMEAPWX"
      }
    },
    {
      "cell_type": "code",
      "source": [
        "age = 18\n",
        "city = 'Jogja'\n",
        "\n",
        "if city == 'Jogja':\n",
        "  if age > 21:\n",
        "    print('I am an adult who lives in Jogja')\n",
        "  else:\n",
        "    print('I am a young man who lives in Jogja')\n",
        "else:\n",
        "  if age > 21:\n",
        "    print('I am an adult, but not living in Jogja')\n",
        "  else:\n",
        "    print('I am a young man, but not living in Jogja')"
      ],
      "metadata": {
        "colab": {
          "base_uri": "https://localhost:8080/"
        },
        "id": "aYzPh0k2AOlh",
        "outputId": "488fbb3c-c446-4c38-f6dc-0e28b56a835a"
      },
      "execution_count": null,
      "outputs": [
        {
          "output_type": "stream",
          "name": "stdout",
          "text": [
            "I am a young man who lives in Jogja\n"
          ]
        }
      ]
    },
    {
      "cell_type": "markdown",
      "source": [
        "## Combining Conditions\n",
        "We can use logical operator to combine multiple conditions. For best practice, use parentheses to group an expression.\n",
        "<br><br>\n",
        "Rule of thumb:\n",
        "- `and` operator will return `True` if all the operand are `True`\n",
        "- `or` operator will return `True` if some or all the operand are `True`"
      ],
      "metadata": {
        "id": "72-u2rJ9E1FJ"
      }
    },
    {
      "cell_type": "code",
      "source": [
        "age = 18\n",
        "city = 'Jakarta'\n",
        "\n",
        "if (city == 'Jogja') and (age > 21):\n",
        "    print('I am an adult who lives in Jogja')\n",
        "elif (city == 'Jogja') and (age < 21):\n",
        "    print('I am a young man who lives in Jogja')\n",
        "elif (city != 'Jogja') and (age > 21):\n",
        "    print('I am an adult, but not living in Jogja')\n",
        "elif (city != 'Jogja') and (age < 21):\n",
        "    print('I am a young man, but not living in Jogja')"
      ],
      "metadata": {
        "colab": {
          "base_uri": "https://localhost:8080/"
        },
        "id": "XfYrGpV1FapU",
        "outputId": "6650e4d6-769c-4e3c-e80e-cc29be34f678"
      },
      "execution_count": null,
      "outputs": [
        {
          "output_type": "stream",
          "name": "stdout",
          "text": [
            "I am a young man, but not living in Jogja\n"
          ]
        }
      ]
    },
    {
      "cell_type": "markdown",
      "source": [
        "## MATCH - CASE Statement\n",
        "On Python 3.10 or newer, we can use `match-case` statement. It's like `switch-case` on some other programming language.\n",
        "<br><br>\n",
        "Syntax of `match-case` statement:\n",
        "\n",
        "```\n",
        "match subject:\n",
        "  case pattern_1:\n",
        "    statements\n",
        "  case pattern_2:\n",
        "    statements\n",
        "  ...\n",
        "  case pattern_n:\n",
        "    statements\n",
        "  case _:\n",
        "    statements\n",
        "```\n",
        "\n",
        "- `subject` is an object that will be evaluated using some pattern\n",
        "- `pattern` is a matching parameter\n",
        "- statement in `case _` is executed if all the `patterns` didn't match with the `subject`"
      ],
      "metadata": {
        "id": "9SlzMFloB6_i"
      }
    },
    {
      "cell_type": "code",
      "source": [
        "import sys; print(sys.version)\n",
        "# python version on Google Colab is not met the requirements\n",
        "# so, I can't demonstrate this"
      ],
      "metadata": {
        "colab": {
          "base_uri": "https://localhost:8080/"
        },
        "id": "RJcqpIxmDKbV",
        "outputId": "43423999-42c0-4915-ae75-b2def0906ed6"
      },
      "execution_count": null,
      "outputs": [
        {
          "output_type": "stream",
          "name": "stdout",
          "text": [
            "3.7.12 (default, Jan 15 2022, 18:48:18) \n",
            "[GCC 7.5.0]\n"
          ]
        }
      ]
    },
    {
      "cell_type": "markdown",
      "source": [
        "## Usage of Branching\n",
        "If we want to use `if` statement for branching our program, the are some rules:\n",
        "- `if` is mandatory\n",
        "- `elif` is optional\n",
        "- `else` is optional, even if we use `elif` statement"
      ],
      "metadata": {
        "id": "TKO2ZPhsGG52"
      }
    },
    {
      "cell_type": "markdown",
      "source": [
        "# Looping\n",
        "\n",
        "Looping is used to run a block of code repeatedly, until the stopping condition is met."
      ],
      "metadata": {
        "id": "XvVCiwvcUrXK"
      }
    },
    {
      "cell_type": "markdown",
      "source": [
        "## FOR Loop\n",
        "`for` loop is used to run a block of code where the number of iterations is exact/ explicit.\n",
        "<br><br>\n",
        "Syntax of `for` loop:\n",
        "\n",
        "```\n",
        "for var in iterable:\n",
        "  statements\n",
        "```\n",
        "- `var` is variable(s) name to store the iterator\n",
        "- `iterable` is an object that can be used like sequence, the element can be access one by one. For example: string, list, tuple, set, dictionary"
      ],
      "metadata": {
        "id": "w8l73g00NvOS"
      }
    },
    {
      "cell_type": "code",
      "source": [
        "for i in range(0,5):\n",
        "  print(i)"
      ],
      "metadata": {
        "colab": {
          "base_uri": "https://localhost:8080/"
        },
        "id": "3ORhJAemOyKt",
        "outputId": "2259d074-b857-4e83-ce68-6bba436429f5"
      },
      "execution_count": null,
      "outputs": [
        {
          "output_type": "stream",
          "name": "stdout",
          "text": [
            "0\n",
            "1\n",
            "2\n",
            "3\n",
            "4\n"
          ]
        }
      ]
    },
    {
      "cell_type": "code",
      "source": [
        "my_list = [90, 80, 85, 85]\n",
        "\n",
        "for score in my_list:\n",
        "  print('my score is', score)"
      ],
      "metadata": {
        "colab": {
          "base_uri": "https://localhost:8080/"
        },
        "id": "sdnahKgiO5lC",
        "outputId": "d707ab50-c993-4750-e78b-2c2b4ad4624a"
      },
      "execution_count": null,
      "outputs": [
        {
          "output_type": "stream",
          "name": "stdout",
          "text": [
            "my score is 90\n",
            "my score is 80\n",
            "my score is 85\n",
            "my score is 85\n"
          ]
        }
      ]
    },
    {
      "cell_type": "markdown",
      "source": [
        "## WHILE Loop\n",
        "\n",
        "`while` loop is used to run a block of code where the number of iterations is not exact/ explicit. The looping will continue until the stopping condition is met.\n",
        "<br><br>\n",
        "Syntax of `while` loop:\n",
        "```\n",
        "while expressions:\n",
        "  statements\n",
        "```\n",
        "\n"
      ],
      "metadata": {
        "id": "_YtxPUgcNxrp"
      }
    },
    {
      "cell_type": "code",
      "source": [
        "num = 1\n",
        "\n",
        "while num < 100:\n",
        "  print(num)\n",
        "  num += num"
      ],
      "metadata": {
        "colab": {
          "base_uri": "https://localhost:8080/"
        },
        "id": "ZdnaAfvNPu2y",
        "outputId": "1efd22e8-1b25-4134-a72c-2915a57ed412"
      },
      "execution_count": null,
      "outputs": [
        {
          "output_type": "stream",
          "name": "stdout",
          "text": [
            "1\n",
            "2\n",
            "4\n",
            "8\n",
            "16\n",
            "32\n",
            "64\n"
          ]
        }
      ]
    },
    {
      "cell_type": "markdown",
      "source": [
        "## Nested Loop\n",
        "Nested loop is used to do looping inside another looping.\n",
        "<br><br>\n",
        "Example syntax of nested loop:\n",
        "\n",
        "```\n",
        "# for inside for\n",
        "for var_1 in iterable_1:\n",
        "  statements\n",
        "  for var_2 in iterable_2:\n",
        "    statements\n",
        "\n",
        "# for inside while\n",
        "while expressions:\n",
        "  statements\n",
        "  for var in iterable:\n",
        "    statements\n",
        "```\n",
        "\n",
        "We can use any combination of looping, it's determined by our need or cases.\n"
      ],
      "metadata": {
        "id": "gVRv7bpgRBYd"
      }
    },
    {
      "cell_type": "code",
      "source": [
        "for i in range(0,5):\n",
        "  for x in range(0,i):\n",
        "    print('*', end='')\n",
        "  print()"
      ],
      "metadata": {
        "colab": {
          "base_uri": "https://localhost:8080/"
        },
        "id": "GrexVQrVQBRw",
        "outputId": "73de7d44-ac90-42a4-8ff9-545ca3e8c1aa"
      },
      "execution_count": null,
      "outputs": [
        {
          "output_type": "stream",
          "name": "stdout",
          "text": [
            "\n",
            "*\n",
            "**\n",
            "***\n",
            "****\n"
          ]
        }
      ]
    },
    {
      "cell_type": "markdown",
      "source": [
        "## Usage of Looping\n",
        "- In some cases, looping using `for` can be done using `while`, and vice versa.\n",
        "- But in some cases, looping using `for` can't be done using `while`, and vice versa.\n",
        "- Make sure to make the stopping condition, especially on `while` loop. Otherwise, the looping will run forever.\n"
      ],
      "metadata": {
        "id": "tmhOIskjSQcT"
      }
    },
    {
      "cell_type": "markdown",
      "source": [
        "# Functions\n",
        "Function is very useful to make our program become DRY, not WET. DRY means \"Don't Repeat Yourself\", and WET means \"Write Everything Twice\".\n",
        "<br><br>\n",
        "Imagine if we have a very long mathematic formula, and it's often used in our programs. Of course, it's tiring to have to rewrite all the formulas every time we need to do a calculation, right?\n",
        "<br><br>\n",
        "That's where function shines. We just need to write the formula once (using a function). Then we can call it repeatedly just by writing the name of the function and its arguments."
      ],
      "metadata": {
        "id": "kFBuSvieUtF5"
      }
    },
    {
      "cell_type": "markdown",
      "source": [
        "## Creating Function\n",
        "\n",
        "Syntax for defining function:\n",
        "\n",
        "```\n",
        "def function_name():\n",
        "  statements\n",
        "```\n",
        "\n",
        "Note that when we define our function, we need `def` keyword, parentheses, colon, and don't forget to give indentation."
      ],
      "metadata": {
        "id": "qBetwY2sYAsn"
      }
    },
    {
      "cell_type": "code",
      "source": [
        "def hello_world():\n",
        "  print('Hello World!')"
      ],
      "metadata": {
        "id": "8upAOsTjUp5u"
      },
      "execution_count": null,
      "outputs": []
    },
    {
      "cell_type": "markdown",
      "source": [
        "How to use that function? Just write its name!"
      ],
      "metadata": {
        "id": "wHPoEQE4YbVG"
      }
    },
    {
      "cell_type": "code",
      "source": [
        "hello_world()"
      ],
      "metadata": {
        "colab": {
          "base_uri": "https://localhost:8080/"
        },
        "id": "BchbJkPTYiy8",
        "outputId": "69930644-664d-430b-df32-909a102b77db"
      },
      "execution_count": null,
      "outputs": [
        {
          "output_type": "stream",
          "name": "stdout",
          "text": [
            "Hello World!\n"
          ]
        }
      ]
    },
    {
      "cell_type": "markdown",
      "source": [
        "When we call the function, don't forget to write the parentheses."
      ],
      "metadata": {
        "id": "SXLQbYwGYlty"
      }
    },
    {
      "cell_type": "markdown",
      "source": [
        "## Arguments\n",
        "An argument is value that sent to function when it's called. Function in Python can have no argument or have as many arguments as we want."
      ],
      "metadata": {
        "id": "kTdCjytmZAt9"
      }
    },
    {
      "cell_type": "code",
      "source": [
        "def add(x, y):\n",
        "  print(x + y)\n",
        "\n",
        "add(97, 19)\n",
        "add(1.4, 10.25)"
      ],
      "metadata": {
        "colab": {
          "base_uri": "https://localhost:8080/"
        },
        "id": "DLTI7S0FZgi_",
        "outputId": "56e815c2-9dcd-490f-f14f-26836baa4585"
      },
      "execution_count": null,
      "outputs": [
        {
          "output_type": "stream",
          "name": "stdout",
          "text": [
            "116\n",
            "11.65\n"
          ]
        }
      ]
    },
    {
      "cell_type": "markdown",
      "source": [
        "## Arguments or Parameters?\n",
        "The two terms are basically the same: values that act as function's input.\n",
        "\n",
        "From a function's perspective:\n",
        "- A parameter is the variable listed inside the parentheses in the function definition.\n",
        "```\n",
        "def function_name(this_is_parameter):\n",
        "    statements\n",
        "```\n",
        "- An argument is the value that is sent to the function when it is called.\n",
        "```\n",
        "function_name(this_is_argument)\n",
        "```"
      ],
      "metadata": {
        "id": "s21kMFFlZoti"
      }
    },
    {
      "cell_type": "markdown",
      "source": [
        "## Positional Arguments\n",
        "The number and position of the arguments (when calling the function) must match the paramters in the function definition."
      ],
      "metadata": {
        "id": "fFuXcKl8bTnr"
      }
    },
    {
      "cell_type": "code",
      "source": [
        "def print_age(name, age):\n",
        "  if age < 21:\n",
        "    print(name, 'is young')\n",
        "  else:\n",
        "    print(name, 'is adult')"
      ],
      "metadata": {
        "id": "3fnxLqXydnr7"
      },
      "execution_count": null,
      "outputs": []
    },
    {
      "cell_type": "code",
      "source": [
        "# we sent 'name' followed by 'age'\n",
        "print_age('Adhang', 18)"
      ],
      "metadata": {
        "colab": {
          "base_uri": "https://localhost:8080/"
        },
        "id": "fGbeGtesd69z",
        "outputId": "aef95156-ab53-4349-b1f6-97a2a0145bee"
      },
      "execution_count": null,
      "outputs": [
        {
          "output_type": "stream",
          "name": "stdout",
          "text": [
            "Adhang is young\n"
          ]
        }
      ]
    },
    {
      "cell_type": "code",
      "source": [
        "# what if we change the argument order?\n",
        "print_age(18, 'Adhang')"
      ],
      "metadata": {
        "colab": {
          "base_uri": "https://localhost:8080/",
          "height": 305
        },
        "id": "pr_SETDieVkN",
        "outputId": "1f044ffc-3f48-4806-cd1a-63a32948e079"
      },
      "execution_count": null,
      "outputs": [
        {
          "output_type": "error",
          "ename": "TypeError",
          "evalue": "ignored",
          "traceback": [
            "\u001b[0;31m---------------------------------------------------------------------------\u001b[0m",
            "\u001b[0;31mTypeError\u001b[0m                                 Traceback (most recent call last)",
            "\u001b[0;32m<ipython-input-17-3db73901323b>\u001b[0m in \u001b[0;36m<module>\u001b[0;34m()\u001b[0m\n\u001b[1;32m      1\u001b[0m \u001b[0;31m# what if we change the argument order?\u001b[0m\u001b[0;34m\u001b[0m\u001b[0;34m\u001b[0m\u001b[0;34m\u001b[0m\u001b[0m\n\u001b[0;32m----> 2\u001b[0;31m \u001b[0mprint_age\u001b[0m\u001b[0;34m(\u001b[0m\u001b[0;36m18\u001b[0m\u001b[0;34m,\u001b[0m \u001b[0;34m'Adhang'\u001b[0m\u001b[0;34m)\u001b[0m\u001b[0;34m\u001b[0m\u001b[0;34m\u001b[0m\u001b[0m\n\u001b[0m",
            "\u001b[0;32m<ipython-input-13-e889ef141189>\u001b[0m in \u001b[0;36mprint_age\u001b[0;34m(name, age)\u001b[0m\n\u001b[1;32m      1\u001b[0m \u001b[0;32mdef\u001b[0m \u001b[0mprint_age\u001b[0m\u001b[0;34m(\u001b[0m\u001b[0mname\u001b[0m\u001b[0;34m,\u001b[0m \u001b[0mage\u001b[0m\u001b[0;34m)\u001b[0m\u001b[0;34m:\u001b[0m\u001b[0;34m\u001b[0m\u001b[0;34m\u001b[0m\u001b[0m\n\u001b[0;32m----> 2\u001b[0;31m   \u001b[0;32mif\u001b[0m \u001b[0mage\u001b[0m \u001b[0;34m<\u001b[0m \u001b[0;36m21\u001b[0m\u001b[0;34m:\u001b[0m\u001b[0;34m\u001b[0m\u001b[0;34m\u001b[0m\u001b[0m\n\u001b[0m\u001b[1;32m      3\u001b[0m     \u001b[0mprint\u001b[0m\u001b[0;34m(\u001b[0m\u001b[0mname\u001b[0m\u001b[0;34m,\u001b[0m \u001b[0;34m'is young'\u001b[0m\u001b[0;34m)\u001b[0m\u001b[0;34m\u001b[0m\u001b[0;34m\u001b[0m\u001b[0m\n\u001b[1;32m      4\u001b[0m   \u001b[0;32melse\u001b[0m\u001b[0;34m:\u001b[0m\u001b[0;34m\u001b[0m\u001b[0;34m\u001b[0m\u001b[0m\n\u001b[1;32m      5\u001b[0m     \u001b[0mprint\u001b[0m\u001b[0;34m(\u001b[0m\u001b[0mname\u001b[0m\u001b[0;34m,\u001b[0m \u001b[0;34m'is adult'\u001b[0m\u001b[0;34m)\u001b[0m\u001b[0;34m\u001b[0m\u001b[0;34m\u001b[0m\u001b[0m\n",
            "\u001b[0;31mTypeError\u001b[0m: '<' not supported between instances of 'str' and 'int'"
          ]
        }
      ]
    },
    {
      "cell_type": "markdown",
      "source": [
        "It causes error because the arguments didn't match. In some cases, the function will still run. But it might make the result wrong."
      ],
      "metadata": {
        "id": "zEkGNwsBecXu"
      }
    },
    {
      "cell_type": "code",
      "source": [
        "def subtract(x, y):\n",
        "  print(x/y)"
      ],
      "metadata": {
        "id": "fC19TsajewHu"
      },
      "execution_count": null,
      "outputs": []
    },
    {
      "cell_type": "code",
      "source": [
        "# we want to subtract 10 by 5\n",
        "subtract(10, 5)"
      ],
      "metadata": {
        "colab": {
          "base_uri": "https://localhost:8080/"
        },
        "id": "HbCHNKMRe4PJ",
        "outputId": "47836234-e6ec-4a13-fdd2-52bce07620de"
      },
      "execution_count": null,
      "outputs": [
        {
          "output_type": "stream",
          "name": "stdout",
          "text": [
            "2.0\n"
          ]
        }
      ]
    },
    {
      "cell_type": "code",
      "source": [
        "# we want to subtract 10 by 5\n",
        "subtract(5, 10)"
      ],
      "metadata": {
        "colab": {
          "base_uri": "https://localhost:8080/"
        },
        "id": "5msvQyCHe-Yw",
        "outputId": "ed9e41e6-7de8-43a5-cc92-290e59379d5f"
      },
      "execution_count": null,
      "outputs": [
        {
          "output_type": "stream",
          "name": "stdout",
          "text": [
            "0.5\n"
          ]
        }
      ]
    },
    {
      "cell_type": "markdown",
      "source": [
        "As you can see, even if we change the position of arguments, the function still run. But the result is not right. On the second function call, we want to subtract 10 by 5, but the output is 0.5."
      ],
      "metadata": {
        "id": "K4Eoesi8fChD"
      }
    },
    {
      "cell_type": "markdown",
      "source": [
        "## Default Arguments\n",
        "Default arguments are the default value of parameter. Default arguments are used if we call the function without including the arguments (that have default value)."
      ],
      "metadata": {
        "id": "GMb2NtaXburd"
      }
    },
    {
      "cell_type": "code",
      "source": [
        "def print_power(val, pow=2):\n",
        "  print(val ** pow)"
      ],
      "metadata": {
        "id": "rVYrqeCuf9gW"
      },
      "execution_count": null,
      "outputs": []
    },
    {
      "cell_type": "code",
      "source": [
        "# calculate 5 ^ 3\n",
        "print_power(5, 3)"
      ],
      "metadata": {
        "colab": {
          "base_uri": "https://localhost:8080/"
        },
        "id": "dAonRekpgBXL",
        "outputId": "0fbe0ce5-2e19-48d6-ed45-83366d04116a"
      },
      "execution_count": null,
      "outputs": [
        {
          "output_type": "stream",
          "name": "stdout",
          "text": [
            "125\n"
          ]
        }
      ]
    },
    {
      "cell_type": "code",
      "source": [
        "# without 'pow' argument\n",
        "print_power(5)"
      ],
      "metadata": {
        "colab": {
          "base_uri": "https://localhost:8080/"
        },
        "id": "S72rIo5XgG1m",
        "outputId": "528e8855-cfbf-4d90-8005-cc065a6f1375"
      },
      "execution_count": null,
      "outputs": [
        {
          "output_type": "stream",
          "name": "stdout",
          "text": [
            "25\n"
          ]
        }
      ]
    },
    {
      "cell_type": "markdown",
      "source": [
        "The result is 25 because the default value of `pow` is 2. So, 5 ^ 2 = 25.\n",
        "\n",
        "When we want to use default arguments, make sure that the default arguments must be placed behind (follow) non-default arguments. Let's take a look"
      ],
      "metadata": {
        "id": "zAHtyBQ7gNqz"
      }
    },
    {
      "cell_type": "code",
      "source": [
        "def print_power(pow=2, val):\n",
        "  print(val ** pow)"
      ],
      "metadata": {
        "colab": {
          "base_uri": "https://localhost:8080/",
          "height": 131
        },
        "id": "A5GSFaHegrJH",
        "outputId": "8ce7c73b-5e4b-45ce-d1a5-57053c3567e8"
      },
      "execution_count": null,
      "outputs": [
        {
          "output_type": "error",
          "ename": "SyntaxError",
          "evalue": "ignored",
          "traceback": [
            "\u001b[0;36m  File \u001b[0;32m\"<ipython-input-25-bb57a66d0667>\"\u001b[0;36m, line \u001b[0;32m1\u001b[0m\n\u001b[0;31m    def print_power(pow=2, val):\u001b[0m\n\u001b[0m                   ^\u001b[0m\n\u001b[0;31mSyntaxError\u001b[0m\u001b[0;31m:\u001b[0m non-default argument follows default argument\n"
          ]
        }
      ]
    },
    {
      "cell_type": "markdown",
      "source": [
        "If we put default arguments in front of non-default arguments, it will raise `SyntaxError: non-default argument follows default argument` "
      ],
      "metadata": {
        "id": "nHZdEZ4Zg1ML"
      }
    },
    {
      "cell_type": "markdown",
      "source": [
        "## Arbitrary Arguments\n",
        "- The number of arguments when calling the function does not have to match the number of parameters in the function\n",
        "\n",
        "- Indicated by an asterisk symbol (*) in front of the parameter name\n",
        "\n",
        "- Function will take the arguments as a tuple"
      ],
      "metadata": {
        "id": "x3vwXSzvhBrO"
      }
    },
    {
      "cell_type": "code",
      "source": [
        "def print_sum(*args):\n",
        "  total = 0\n",
        "  \n",
        "  for i in args:\n",
        "    total += i\n",
        "  \n",
        "  print(total)"
      ],
      "metadata": {
        "id": "fEBPAw6GhvNk"
      },
      "execution_count": null,
      "outputs": []
    },
    {
      "cell_type": "code",
      "source": [
        "# sent 3 values\n",
        "print_sum(1, 2, 3)"
      ],
      "metadata": {
        "colab": {
          "base_uri": "https://localhost:8080/"
        },
        "id": "6modUliRh50O",
        "outputId": "bb3c7723-31c4-49ed-f655-0be017a25171"
      },
      "execution_count": null,
      "outputs": [
        {
          "output_type": "stream",
          "name": "stdout",
          "text": [
            "<class 'tuple'>\n",
            "6\n"
          ]
        }
      ]
    },
    {
      "cell_type": "code",
      "source": [
        "# sent 5 values\n",
        "print_sum(1, 2, 3, 4, 5)"
      ],
      "metadata": {
        "colab": {
          "base_uri": "https://localhost:8080/"
        },
        "id": "43MXK5F1h_KB",
        "outputId": "d3872871-93f3-4ec9-8b66-2057d68777bc"
      },
      "execution_count": null,
      "outputs": [
        {
          "output_type": "stream",
          "name": "stdout",
          "text": [
            "15\n"
          ]
        }
      ]
    },
    {
      "cell_type": "markdown",
      "source": [
        "Let's see the data type of the arguments"
      ],
      "metadata": {
        "id": "qfwP4JYeiCkj"
      }
    },
    {
      "cell_type": "code",
      "source": [
        "def print_args(*args):\n",
        "  print(type(args))\n",
        "\n",
        "print_args(1, 2, 3)"
      ],
      "metadata": {
        "colab": {
          "base_uri": "https://localhost:8080/"
        },
        "id": "1y8hDXlkiRgm",
        "outputId": "de00f0cc-5a8e-4d41-c249-a3ee5363bc72"
      },
      "execution_count": null,
      "outputs": [
        {
          "output_type": "stream",
          "name": "stdout",
          "text": [
            "<class 'tuple'>\n"
          ]
        }
      ]
    },
    {
      "cell_type": "markdown",
      "source": [
        "## Keyword Arguments\n",
        "- Arguments are written in the form of `key = value`\n",
        "- `key` is a parameter name inside function definition\n",
        "- `value` is a value that will be assigned to specific parameter\n",
        "- With the keyword arguments, the position of the arguments doesn't have to match the position of parameters in the function definition\n",
        "\n",
        "Let's use the same function to demonstrate this concept."
      ],
      "metadata": {
        "id": "n38pyLZ6hMtF"
      }
    },
    {
      "cell_type": "code",
      "source": [
        "def print_age(name, age):\n",
        "  if age < 21:\n",
        "    print(name, 'is young')\n",
        "  else:\n",
        "    print(name, 'is adult')"
      ],
      "metadata": {
        "id": "LitbedsKi_xE"
      },
      "execution_count": null,
      "outputs": []
    },
    {
      "cell_type": "code",
      "source": [
        "# 'name' followed by 'age'\n",
        "print_age(name='Adhang', age=18)"
      ],
      "metadata": {
        "colab": {
          "base_uri": "https://localhost:8080/"
        },
        "id": "1G2aZXhkjLOV",
        "outputId": "e61f73be-a93d-409e-d781-e6377a0f9e16"
      },
      "execution_count": null,
      "outputs": [
        {
          "output_type": "stream",
          "name": "stdout",
          "text": [
            "Adhang is young\n"
          ]
        }
      ]
    },
    {
      "cell_type": "code",
      "source": [
        "# 'age' followed by 'name'\n",
        "print_age(age=18, name='Adhang')"
      ],
      "metadata": {
        "colab": {
          "base_uri": "https://localhost:8080/"
        },
        "id": "yQTUnlBGj0_i",
        "outputId": "99475c33-adcd-4348-b923-cfe3e9d7d479"
      },
      "execution_count": null,
      "outputs": [
        {
          "output_type": "stream",
          "name": "stdout",
          "text": [
            "Adhang is young\n"
          ]
        }
      ]
    },
    {
      "cell_type": "markdown",
      "source": [
        "See? There's no error even if we change the position of the arguments."
      ],
      "metadata": {
        "id": "EPvAz19oj8ZH"
      }
    },
    {
      "cell_type": "markdown",
      "source": [
        "## Arbitrary Keyword Arguments\n",
        "- Arguments are written in the form of `key = value`\n",
        "- The number of arguments when calling the function does not have to match the number of parameters in the function\n",
        "- Indicated by double asterisk symbol (**) in front of the parameter name\n",
        "- Function will take the arguments as a dictionary\n",
        "\n",
        "I will try to use the same function to make it easier to understand."
      ],
      "metadata": {
        "id": "Cx8CN8PfhQLU"
      }
    },
    {
      "cell_type": "code",
      "source": [
        "def print_age(**kwargs):\n",
        "  if kwargs['age'] < 21:\n",
        "    print(kwargs['name'], 'is young')\n",
        "  else:\n",
        "    print(kwargs['name'], 'is adult')"
      ],
      "metadata": {
        "id": "A1SfTgzknjFp"
      },
      "execution_count": null,
      "outputs": []
    },
    {
      "cell_type": "code",
      "source": [
        "# 'name' followed by 'age'\n",
        "print_age(name='Adhang', age=18)"
      ],
      "metadata": {
        "colab": {
          "base_uri": "https://localhost:8080/"
        },
        "id": "pVenDBdmIX82",
        "outputId": "d06a6f28-f2ff-43b5-f338-0a8154bdcc02"
      },
      "execution_count": null,
      "outputs": [
        {
          "output_type": "stream",
          "name": "stdout",
          "text": [
            "Adhang is young\n"
          ]
        }
      ]
    },
    {
      "cell_type": "code",
      "source": [
        "# 'age' followed by 'name'\n",
        "print_age(age=18, name='Adhang')"
      ],
      "metadata": {
        "colab": {
          "base_uri": "https://localhost:8080/"
        },
        "id": "jMCChCdkIfGA",
        "outputId": "868150a1-98b8-4852-b5ce-1eb5a6848c07"
      },
      "execution_count": null,
      "outputs": [
        {
          "output_type": "stream",
          "name": "stdout",
          "text": [
            "Adhang is young\n"
          ]
        }
      ]
    },
    {
      "cell_type": "markdown",
      "source": [
        "## Variable Scope\n",
        "Scope is a region inside our code. Variable scope means, a variable is only available from inside the region it is created."
      ],
      "metadata": {
        "id": "S6sTgLwZhQRb"
      }
    },
    {
      "cell_type": "markdown",
      "source": [
        "### Local Variable\n",
        "- Local variable is a variable created inside a function, and can only be used in that function\n",
        "- If a local variable is called outside its scope, an error will occur"
      ],
      "metadata": {
        "id": "f9dtagmpI_C_"
      }
    },
    {
      "cell_type": "code",
      "source": [
        "def print_area(width, length):\n",
        "  area = width * length\n",
        "  print('Calculated area:', area)"
      ],
      "metadata": {
        "id": "yvr2pI1HJUUJ"
      },
      "execution_count": null,
      "outputs": []
    },
    {
      "cell_type": "code",
      "source": [
        "print_area(5, 4)"
      ],
      "metadata": {
        "colab": {
          "base_uri": "https://localhost:8080/"
        },
        "id": "AvANraYzJdXB",
        "outputId": "807a40cb-8322-4f82-f4be-bb1a09a8ee37"
      },
      "execution_count": null,
      "outputs": [
        {
          "output_type": "stream",
          "name": "stdout",
          "text": [
            "Calculated area: 20\n"
          ]
        }
      ]
    },
    {
      "cell_type": "markdown",
      "source": [
        "Because we have run the code, we can say that `area` variable inside `print_area()` function has been assigned with some value. Can we call it outside the function?"
      ],
      "metadata": {
        "id": "mZE_tyfHJjP0"
      }
    },
    {
      "cell_type": "code",
      "source": [
        "print('Calculated area:', area)"
      ],
      "metadata": {
        "colab": {
          "base_uri": "https://localhost:8080/",
          "height": 166
        },
        "id": "NslfakQGJhLi",
        "outputId": "8062128b-bdbf-4311-88e1-e17340690746"
      },
      "execution_count": null,
      "outputs": [
        {
          "output_type": "error",
          "ename": "NameError",
          "evalue": "ignored",
          "traceback": [
            "\u001b[0;31m---------------------------------------------------------------------------\u001b[0m",
            "\u001b[0;31mNameError\u001b[0m                                 Traceback (most recent call last)",
            "\u001b[0;32m<ipython-input-6-78b85be6aaae>\u001b[0m in \u001b[0;36m<module>\u001b[0;34m()\u001b[0m\n\u001b[0;32m----> 1\u001b[0;31m \u001b[0mprint\u001b[0m\u001b[0;34m(\u001b[0m\u001b[0;34m'Calculated area:'\u001b[0m\u001b[0;34m,\u001b[0m \u001b[0marea\u001b[0m\u001b[0;34m)\u001b[0m\u001b[0;34m\u001b[0m\u001b[0;34m\u001b[0m\u001b[0m\n\u001b[0m",
            "\u001b[0;31mNameError\u001b[0m: name 'area' is not defined"
          ]
        }
      ]
    },
    {
      "cell_type": "markdown",
      "source": [
        "It raises `NameError: name 'area' is not defined` because we haven't defined any variable named `area`. Variable named `area` only exists inside the function, and we can't call it outside the function. It's what we called local variable."
      ],
      "metadata": {
        "id": "Q1JDHyzFJyGf"
      }
    },
    {
      "cell_type": "markdown",
      "source": [
        "### Global Variable\n",
        "Global variable is a variable created in the main code, and can be call it anywhere"
      ],
      "metadata": {
        "id": "2HVkU2AfJBtJ"
      }
    },
    {
      "cell_type": "code",
      "source": [
        "def print_area():\n",
        "  area = width * length\n",
        "  print('Calculated area:', area)\n",
        "\n",
        "width = 5\n",
        "length = 4\n",
        "\n",
        "print_area()"
      ],
      "metadata": {
        "id": "FLRjvwiinj1K",
        "colab": {
          "base_uri": "https://localhost:8080/"
        },
        "outputId": "44b1f0c6-e064-4261-8005-da71caa202a2"
      },
      "execution_count": null,
      "outputs": [
        {
          "output_type": "stream",
          "name": "stdout",
          "text": [
            "Calculated area: 20\n"
          ]
        }
      ]
    },
    {
      "cell_type": "markdown",
      "source": [
        "`width` and `length` are global variable, so we can call it anywhere, even inside a function."
      ],
      "metadata": {
        "id": "Uv6xnot_KqDK"
      }
    },
    {
      "cell_type": "markdown",
      "source": [
        "### Global Keyword\n",
        "We can change a local variable to a global variable using `global` keyword."
      ],
      "metadata": {
        "id": "gEj8TKxQKzYq"
      }
    },
    {
      "cell_type": "code",
      "source": [
        "def print_area(width, length):\n",
        "  global area\n",
        "  area = width * length\n",
        "  print('Calculated area:', area)"
      ],
      "metadata": {
        "id": "1lxXCWGGKpqM"
      },
      "execution_count": null,
      "outputs": []
    },
    {
      "cell_type": "code",
      "source": [
        "print_area(5, 4)"
      ],
      "metadata": {
        "colab": {
          "base_uri": "https://localhost:8080/"
        },
        "id": "Po5sz-M7LAEx",
        "outputId": "c8909d9d-3223-40dd-9492-53d5261be80d"
      },
      "execution_count": null,
      "outputs": [
        {
          "output_type": "stream",
          "name": "stdout",
          "text": [
            "Calculated area: 20\n"
          ]
        }
      ]
    },
    {
      "cell_type": "markdown",
      "source": [
        "Because we have run the code, we can say that `area` variable inside `print_area()` function has been assigned with some value. Can we call it outside the function?"
      ],
      "metadata": {
        "id": "DDu41QsrLFOp"
      }
    },
    {
      "cell_type": "code",
      "source": [
        "print('Calculated area:', area)"
      ],
      "metadata": {
        "colab": {
          "base_uri": "https://localhost:8080/"
        },
        "id": "R03ZbZQ8LH80",
        "outputId": "73baab56-eefd-424b-de28-7f8813ddb0b4"
      },
      "execution_count": null,
      "outputs": [
        {
          "output_type": "stream",
          "name": "stdout",
          "text": [
            "Calculated area: 20\n"
          ]
        }
      ]
    },
    {
      "cell_type": "markdown",
      "source": [
        "Yes, we can! That because we have defined `area` variable to be a global variable."
      ],
      "metadata": {
        "id": "4tyuAGVeLHdF"
      }
    },
    {
      "cell_type": "markdown",
      "source": [
        "## Return Value\n",
        "In all the example above, I do some calculation or simple algorithm. After the result has been obtained, I always print the result to the screen.\n",
        "<br><br>\n",
        "Instead of printing it to the screen, can we save the result value to a variable?\n",
        "<br><br>\n",
        "In the latest code, I can use `global` keyword to get local variable. But it will be inconvenient because we always get the result in a same variable name.\n",
        "<br><br>\n",
        "To solve this problem, we can use return value. Let's compare the two functions below."
      ],
      "metadata": {
        "id": "zceoe_NDhXAo"
      }
    },
    {
      "cell_type": "code",
      "source": [
        "# without return value\n",
        "# we have to make a local variable to be a global variable\n",
        "def print_area(width, length):\n",
        "  area = width * length\n",
        "\n",
        "print_area(10, 25)\n",
        "print('Calculated area:', area)"
      ],
      "metadata": {
        "id": "j5j7HifqnkRz",
        "colab": {
          "base_uri": "https://localhost:8080/"
        },
        "outputId": "119ed713-13b1-4b2c-9ccc-c63a29fd79a3"
      },
      "execution_count": null,
      "outputs": [
        {
          "output_type": "stream",
          "name": "stdout",
          "text": [
            "Calculated area: 250\n"
          ]
        }
      ]
    },
    {
      "cell_type": "code",
      "source": [
        "# with return value\n",
        "def print_area(width, length):\n",
        "  area = width * length\n",
        "  return area\n",
        "\n",
        "calculated_area = print_area(10, 25)\n",
        "print('Calculated area:', calculated_area)"
      ],
      "metadata": {
        "colab": {
          "base_uri": "https://localhost:8080/"
        },
        "id": "kZjPqvohNWUB",
        "outputId": "8238d698-6931-46c2-97ab-b4246a78354b"
      },
      "execution_count": null,
      "outputs": [
        {
          "output_type": "stream",
          "name": "stdout",
          "text": [
            "Calculated area: 250\n"
          ]
        }
      ]
    },
    {
      "cell_type": "markdown",
      "source": [
        "With return value, we can save our final result from function to somewhere else. And then, we can use it for something else, such as another calculation algorithm or anything you want."
      ],
      "metadata": {
        "id": "GJBm-tKCNhKe"
      }
    },
    {
      "cell_type": "markdown",
      "source": [
        "## Lambda Function\n",
        "I call it as 'small function'. Because this function is very concise, and written in one line.\n",
        "<br><br>\n",
        "For definition matter: Lambda function is a function that can accept multiple arguments, but only has one expression.\n",
        "<br><br>\n",
        "Syntax for defining lamda function\n",
        "- Without function name\n",
        "```\n",
        "  (lambda arguments: expression)(argument_values)\n",
        "```\n",
        "- With function name, we can call it like a regular function\n",
        "```\n",
        "  function_name = lambda arguments: expression\n",
        "```\n",
        "And it's equivalent to this regular function\n",
        "```\n",
        "  def function_name(arguments):\n",
        "    return expression\n",
        "```\n",
        "\n",
        "\n",
        "\n",
        "\n"
      ],
      "metadata": {
        "id": "3cvKQVTQhY7I"
      }
    },
    {
      "cell_type": "code",
      "source": [
        "# without function name\n",
        "(lambda x: x ** 2)(8)"
      ],
      "metadata": {
        "id": "6h6pxgfehPxW",
        "colab": {
          "base_uri": "https://localhost:8080/"
        },
        "outputId": "ad291a02-098f-48ce-eee2-77e8310421b7"
      },
      "execution_count": null,
      "outputs": [
        {
          "output_type": "stream",
          "name": "stdout",
          "text": [
            "64\n"
          ]
        }
      ]
    },
    {
      "cell_type": "markdown",
      "source": [
        "The above function is used to calculate squared value of an argument. The argument value is 8, and assigned to `x`. So, the function will return 64, since 8^2 = 64."
      ],
      "metadata": {
        "id": "i-n8KQtBPj30"
      }
    },
    {
      "cell_type": "code",
      "source": [
        "# with function name\n",
        "square = lambda x: x ** 2\n",
        "square(8)"
      ],
      "metadata": {
        "colab": {
          "base_uri": "https://localhost:8080/"
        },
        "id": "oQa01OTAPi9t",
        "outputId": "cac3f0d8-adb4-4748-e765-8f887e1cecb7"
      },
      "execution_count": null,
      "outputs": [
        {
          "output_type": "execute_result",
          "data": {
            "text/plain": [
              "64"
            ]
          },
          "metadata": {},
          "execution_count": 18
        }
      ]
    },
    {
      "cell_type": "markdown",
      "source": [
        "The above function has the same calculation, but with function name. And of course, we can call that function on somewhere else."
      ],
      "metadata": {
        "id": "43qAIXwNQYYZ"
      }
    },
    {
      "cell_type": "code",
      "source": [
        "print('5 ^ 2 =', square(5))\n",
        "print('6 ^ 2 =', square(6))\n",
        "print('7 ^ 2 =', square(7))"
      ],
      "metadata": {
        "colab": {
          "base_uri": "https://localhost:8080/"
        },
        "id": "foa1h8lZQTC9",
        "outputId": "d835c31c-0619-45ee-f7bc-924b381127f9"
      },
      "execution_count": null,
      "outputs": [
        {
          "output_type": "stream",
          "name": "stdout",
          "text": [
            "5 ^ 2 = 25\n",
            "6 ^ 2 = 36\n",
            "7 ^ 2 = 49\n"
          ]
        }
      ]
    },
    {
      "cell_type": "code",
      "source": [
        ""
      ],
      "metadata": {
        "id": "3WBvJIKuQl-z"
      },
      "execution_count": null,
      "outputs": []
    }
  ]
}