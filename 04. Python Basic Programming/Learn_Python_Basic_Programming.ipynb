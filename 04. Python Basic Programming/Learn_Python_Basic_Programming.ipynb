{
  "nbformat": 4,
  "nbformat_minor": 0,
  "metadata": {
    "colab": {
      "name": "Learn - Python Basic Programming.ipynb",
      "provenance": [],
      "collapsed_sections": [],
      "toc_visible": true,
      "authorship_tag": "ABX9TyOoEIBjUXde7qpgi0pFhFh+",
      "include_colab_link": true
    },
    "kernelspec": {
      "name": "python3",
      "display_name": "Python 3"
    },
    "language_info": {
      "name": "python"
    }
  },
  "cells": [
    {
      "cell_type": "markdown",
      "metadata": {
        "id": "view-in-github",
        "colab_type": "text"
      },
      "source": [
        "<a href=\"https://colab.research.google.com/github/adhang/data-science-digitalskola/blob/update/04.%20Python%20Basic%20Programming/Learn_Python_Basic_Programming.ipynb\" target=\"_parent\"><img src=\"https://colab.research.google.com/assets/colab-badge.svg\" alt=\"Open In Colab\"/></a>"
      ]
    },
    {
      "cell_type": "markdown",
      "source": [
        "# Python Basic Programming\n",
        "Author: Adhang Muntaha Muhammad\n",
        "\n",
        "[GitHub](https://github.com/adhang)\n",
        "[LinkedIn](https://www.linkedin.com/in/adhangmuntaha/)\n",
        "___\n",
        "**Contents**\n",
        "- Data Types\n",
        "  - Integer\n",
        "  - Float\n",
        "  - String\n",
        "  - List\n",
        "  - Tuple\n",
        "  - Set\n",
        "  - Dictionary\n",
        "- Conditions\n",
        "- Looping\n",
        "- Functions"
      ],
      "metadata": {
        "id": "l_gPmSu2Qrwb"
      }
    },
    {
      "cell_type": "markdown",
      "source": [
        "## Data Types"
      ],
      "metadata": {
        "id": "vYSAM6q8RT2l"
      }
    },
    {
      "cell_type": "markdown",
      "source": [
        "### Integer\n",
        "- Used to store numeric value, without a decimal point"
      ],
      "metadata": {
        "id": "XQDubsuFSqTQ"
      }
    },
    {
      "cell_type": "code",
      "source": [
        "my_int = 25\n",
        "my_int"
      ],
      "metadata": {
        "colab": {
          "base_uri": "https://localhost:8080/"
        },
        "id": "cv8M5oo5SFiy",
        "outputId": "8e4e4925-bc24-4e20-9823-572b144563fd"
      },
      "execution_count": 1,
      "outputs": [
        {
          "output_type": "execute_result",
          "data": {
            "text/plain": [
              "25"
            ]
          },
          "metadata": {},
          "execution_count": 1
        }
      ]
    },
    {
      "cell_type": "code",
      "source": [
        "# convert to int\n",
        "my_int = int(25.5)\n",
        "my_int"
      ],
      "metadata": {
        "colab": {
          "base_uri": "https://localhost:8080/"
        },
        "id": "Mks-v4UjSMGB",
        "outputId": "8e177248-d215-4396-a84c-74add97ab9ce"
      },
      "execution_count": 2,
      "outputs": [
        {
          "output_type": "execute_result",
          "data": {
            "text/plain": [
              "25"
            ]
          },
          "metadata": {},
          "execution_count": 2
        }
      ]
    },
    {
      "cell_type": "code",
      "source": [
        "type(my_int)"
      ],
      "metadata": {
        "colab": {
          "base_uri": "https://localhost:8080/"
        },
        "id": "qzOmJ2iUSViL",
        "outputId": "0d7d551a-e512-45b4-deee-794727bc153a"
      },
      "execution_count": 5,
      "outputs": [
        {
          "output_type": "execute_result",
          "data": {
            "text/plain": [
              "int"
            ]
          },
          "metadata": {},
          "execution_count": 5
        }
      ]
    },
    {
      "cell_type": "markdown",
      "source": [
        "### Float\n",
        "- Used to store numeric value that has a deicmal place\n"
      ],
      "metadata": {
        "id": "KiXwicR7R5Yw"
      }
    },
    {
      "cell_type": "code",
      "source": [
        "my_float = 25.5\n",
        "my_float"
      ],
      "metadata": {
        "colab": {
          "base_uri": "https://localhost:8080/"
        },
        "id": "4x4TaH9zRbXQ",
        "outputId": "c120116d-9f2e-4375-994e-d6ed828c96c9"
      },
      "execution_count": 3,
      "outputs": [
        {
          "output_type": "execute_result",
          "data": {
            "text/plain": [
              "25.5"
            ]
          },
          "metadata": {},
          "execution_count": 3
        }
      ]
    },
    {
      "cell_type": "code",
      "source": [
        "# convert to float\n",
        "my_float = float(25)\n",
        "my_float"
      ],
      "metadata": {
        "colab": {
          "base_uri": "https://localhost:8080/"
        },
        "id": "YkuSthFESUaC",
        "outputId": "b358b7df-41b2-4ac4-cb52-3789dbf1ddb8"
      },
      "execution_count": 6,
      "outputs": [
        {
          "output_type": "execute_result",
          "data": {
            "text/plain": [
              "25.0"
            ]
          },
          "metadata": {},
          "execution_count": 6
        }
      ]
    },
    {
      "cell_type": "code",
      "source": [
        "type(my_float)"
      ],
      "metadata": {
        "colab": {
          "base_uri": "https://localhost:8080/"
        },
        "id": "sDGL8vazShpo",
        "outputId": "0e126936-d513-4af1-e212-6f6950b53ab6"
      },
      "execution_count": 7,
      "outputs": [
        {
          "output_type": "execute_result",
          "data": {
            "text/plain": [
              "float"
            ]
          },
          "metadata": {},
          "execution_count": 7
        }
      ]
    },
    {
      "cell_type": "markdown",
      "source": [
        "### String\n",
        "- Used to store text data\n",
        "- Define string value with single quote ('...') or double quote (\"...\")"
      ],
      "metadata": {
        "id": "NvvuS_rcSmnH"
      }
    },
    {
      "cell_type": "code",
      "source": [
        "my_str = 'String with single quote'\n",
        "my_str"
      ],
      "metadata": {
        "colab": {
          "base_uri": "https://localhost:8080/",
          "height": 35
        },
        "id": "Pr8xMX33TA0K",
        "outputId": "f2a8fcb7-a4a5-4483-e1e5-713ab5dfc57e"
      },
      "execution_count": 8,
      "outputs": [
        {
          "output_type": "execute_result",
          "data": {
            "application/vnd.google.colaboratory.intrinsic+json": {
              "type": "string"
            },
            "text/plain": [
              "'String with single quote'"
            ]
          },
          "metadata": {},
          "execution_count": 8
        }
      ]
    },
    {
      "cell_type": "code",
      "source": [
        "my_str = \"String with double quote\"\n",
        "my_str"
      ],
      "metadata": {
        "colab": {
          "base_uri": "https://localhost:8080/",
          "height": 35
        },
        "id": "xiT4kvIiTIrO",
        "outputId": "13b8503a-67f2-4f88-ae68-bdb743a8b444"
      },
      "execution_count": 9,
      "outputs": [
        {
          "output_type": "execute_result",
          "data": {
            "application/vnd.google.colaboratory.intrinsic+json": {
              "type": "string"
            },
            "text/plain": [
              "'String with double quote'"
            ]
          },
          "metadata": {},
          "execution_count": 9
        }
      ]
    },
    {
      "cell_type": "markdown",
      "source": [
        "- If the text is too long, we can use backslash (\\\\) to continue on new line"
      ],
      "metadata": {
        "id": "iuD8HpctTK60"
      }
    },
    {
      "cell_type": "code",
      "source": [
        "my_str = 'String string string string string \\\n",
        "with with with with with \\\n",
        "backslash backslash backslash backslash backslash'\n",
        "\n",
        "my_str"
      ],
      "metadata": {
        "colab": {
          "base_uri": "https://localhost:8080/",
          "height": 35
        },
        "id": "JwOryDwZTmXx",
        "outputId": "3588581c-192d-4f97-ee4c-e81e7e1814ba"
      },
      "execution_count": 14,
      "outputs": [
        {
          "output_type": "execute_result",
          "data": {
            "application/vnd.google.colaboratory.intrinsic+json": {
              "type": "string"
            },
            "text/plain": [
              "'String string string string string with with with with with backslash backslash backslash backslash backslash'"
            ]
          },
          "metadata": {},
          "execution_count": 14
        }
      ]
    },
    {
      "cell_type": "code",
      "source": [
        "# concatenate using +\n",
        "str_1 = 'String'\n",
        "str_2 = 'concatenate'\n",
        "\n",
        "str_3 = str_1 + ' ' + str_2\n",
        "str_3"
      ],
      "metadata": {
        "colab": {
          "base_uri": "https://localhost:8080/",
          "height": 35
        },
        "id": "klXG2D4fTq8G",
        "outputId": "50e4ea04-4774-4e4b-e0e6-7c646ac8c0ad"
      },
      "execution_count": 17,
      "outputs": [
        {
          "output_type": "execute_result",
          "data": {
            "application/vnd.google.colaboratory.intrinsic+json": {
              "type": "string"
            },
            "text/plain": [
              "'String concatenate'"
            ]
          },
          "metadata": {},
          "execution_count": 17
        }
      ]
    },
    {
      "cell_type": "markdown",
      "source": [
        "### List\n",
        "- Used to store multiple value\n",
        "- Mutable, we can change list's element\n",
        "- We can access list's element using index (start from 0)\n",
        "- List can contain multiple data type"
      ],
      "metadata": {
        "id": "2zYxFuINUTii"
      }
    },
    {
      "cell_type": "code",
      "source": [
        "# creating blank list\n",
        "my_list = []\n",
        "my_list"
      ],
      "metadata": {
        "colab": {
          "base_uri": "https://localhost:8080/"
        },
        "id": "JXPnEFMhVPlE",
        "outputId": "7e0f4648-c42a-4ad3-d23b-2f67ed60c358"
      },
      "execution_count": 18,
      "outputs": [
        {
          "output_type": "execute_result",
          "data": {
            "text/plain": [
              "[]"
            ]
          },
          "metadata": {},
          "execution_count": 18
        }
      ]
    },
    {
      "cell_type": "code",
      "source": [
        "# creating blank list\n",
        "my_list = list()\n",
        "my_list"
      ],
      "metadata": {
        "colab": {
          "base_uri": "https://localhost:8080/"
        },
        "id": "tiRHZrvZVWsE",
        "outputId": "c4912668-d9b5-4df9-e62c-5a9036e1da5d"
      },
      "execution_count": 19,
      "outputs": [
        {
          "output_type": "execute_result",
          "data": {
            "text/plain": [
              "[]"
            ]
          },
          "metadata": {},
          "execution_count": 19
        }
      ]
    },
    {
      "cell_type": "code",
      "source": [
        "# list with value\n",
        "my_list = [1, 2, 3, 4]\n",
        "my_list"
      ],
      "metadata": {
        "colab": {
          "base_uri": "https://localhost:8080/"
        },
        "id": "P4G_aGpqVbkr",
        "outputId": "c60b9bca-0528-4991-927b-c9db6056b434"
      },
      "execution_count": 21,
      "outputs": [
        {
          "output_type": "execute_result",
          "data": {
            "text/plain": [
              "[1, 2, 3, 4]"
            ]
          },
          "metadata": {},
          "execution_count": 21
        }
      ]
    },
    {
      "cell_type": "code",
      "source": [
        "type(my_list)"
      ],
      "metadata": {
        "colab": {
          "base_uri": "https://localhost:8080/"
        },
        "id": "BqlThIetVgnf",
        "outputId": "11b11f12-f230-48f9-e27c-d40b28069685"
      },
      "execution_count": 22,
      "outputs": [
        {
          "output_type": "execute_result",
          "data": {
            "text/plain": [
              "list"
            ]
          },
          "metadata": {},
          "execution_count": 22
        }
      ]
    },
    {
      "cell_type": "code",
      "source": [
        "# elements with different data type\n",
        "my_list = ['Adhang', 24, 'Jogja', 8.7]\n",
        "my_list"
      ],
      "metadata": {
        "colab": {
          "base_uri": "https://localhost:8080/"
        },
        "id": "UwsMaX8QVncU",
        "outputId": "0d0cc09b-189d-4046-fc8c-4a330c37c07a"
      },
      "execution_count": 23,
      "outputs": [
        {
          "output_type": "execute_result",
          "data": {
            "text/plain": [
              "['Adhang', 24, 'Jogja', 8.7]"
            ]
          },
          "metadata": {},
          "execution_count": 23
        }
      ]
    },
    {
      "cell_type": "code",
      "source": [
        "# access first element\n",
        "my_list = ['Adhang', 24, 'Jogja', 8.7]\n",
        "my_list[0]"
      ],
      "metadata": {
        "colab": {
          "base_uri": "https://localhost:8080/",
          "height": 35
        },
        "id": "vfyO8xi3WGUW",
        "outputId": "dfcce5b4-b6fd-4c7c-e810-67d750664558"
      },
      "execution_count": 24,
      "outputs": [
        {
          "output_type": "execute_result",
          "data": {
            "application/vnd.google.colaboratory.intrinsic+json": {
              "type": "string"
            },
            "text/plain": [
              "'Adhang'"
            ]
          },
          "metadata": {},
          "execution_count": 24
        }
      ]
    },
    {
      "cell_type": "code",
      "source": [
        "# access last element\n",
        "my_list = ['Adhang', 24, 'Jogja', 8.7]\n",
        "my_list[-1]"
      ],
      "metadata": {
        "colab": {
          "base_uri": "https://localhost:8080/"
        },
        "id": "J9SMb7dCblN4",
        "outputId": "57662d9e-2410-4118-da8b-1b4e19711d40"
      },
      "execution_count": 27,
      "outputs": [
        {
          "output_type": "execute_result",
          "data": {
            "text/plain": [
              "8.7"
            ]
          },
          "metadata": {},
          "execution_count": 27
        }
      ]
    },
    {
      "cell_type": "code",
      "source": [
        "# change the last element\n",
        "my_list = ['Adhang', 24, 'Jogja', 8.7]\n",
        "my_list[-1] = 7.8\n",
        "my_list"
      ],
      "metadata": {
        "colab": {
          "base_uri": "https://localhost:8080/"
        },
        "id": "A09aQ70Rb2EJ",
        "outputId": "36ab4109-9515-4b5d-ee70-86c4fa641ab2"
      },
      "execution_count": 28,
      "outputs": [
        {
          "output_type": "execute_result",
          "data": {
            "text/plain": [
              "['Adhang', 24, 'Jogja', 7.8]"
            ]
          },
          "metadata": {},
          "execution_count": 28
        }
      ]
    },
    {
      "cell_type": "markdown",
      "source": [
        "#### List Methods\n",
        "- `append()`: Adds an element at the end of the list\n",
        "- `clear()`: Removes all the elements from the list\n",
        "- `copy()`: Returns a copy of the list\n",
        "- `count()`:\tReturns the number of elements with the specified value\n",
        "- `extend()`:\tAdd the elements of a list (or any iterable), to the end of the current list\n",
        "- `index()`:\tReturns the index of the first element with the specified value\n",
        "- `insert()`:\tAdds an element at the specified position\n",
        "- `pop()`:\tRemoves the element at the specified position\n",
        "- `remove()`:\tRemoves the item with the specified value\n",
        "- `reverse()`:\tReverses the order of the list\n",
        "- `sort()`:\tSorts the list\n",
        "\n",
        "[List Methods Reference](https://www.w3schools.com/python/python_lists_methods.asp)"
      ],
      "metadata": {
        "id": "dwzfY1X3dDP3"
      }
    },
    {
      "cell_type": "code",
      "source": [
        "# add list's element\n",
        "my_list = [1, 2]\n",
        "my_list.append(3)\n",
        "my_list.append(4)\n",
        "my_list"
      ],
      "metadata": {
        "colab": {
          "base_uri": "https://localhost:8080/"
        },
        "id": "JasAL0B5eCRz",
        "outputId": "7c9c8bd8-c8b3-4a75-bd7f-e7a46b3512cc"
      },
      "execution_count": 40,
      "outputs": [
        {
          "output_type": "execute_result",
          "data": {
            "text/plain": [
              "[1, 2, 3, 4]"
            ]
          },
          "metadata": {},
          "execution_count": 40
        }
      ]
    },
    {
      "cell_type": "code",
      "source": [
        "# clear list's element\n",
        "my_list = [1, 2, 3, 4]\n",
        "my_list.clear()\n",
        "my_list"
      ],
      "metadata": {
        "colab": {
          "base_uri": "https://localhost:8080/"
        },
        "id": "YtZl99R9eOUU",
        "outputId": "951c2ba8-ac03-4858-f69e-024d8a476fb7"
      },
      "execution_count": 42,
      "outputs": [
        {
          "output_type": "execute_result",
          "data": {
            "text/plain": [
              "[]"
            ]
          },
          "metadata": {},
          "execution_count": 42
        }
      ]
    },
    {
      "cell_type": "markdown",
      "source": [
        "### Tuple\n",
        "- Used to store multiple value\n",
        "- Immutable, we can't change tuple's element\n",
        "- We can access tuple's element using index (start from 0)\n",
        "- Tuple can contain multiple data type"
      ],
      "metadata": {
        "id": "RaWG8EFHUjFz"
      }
    },
    {
      "cell_type": "code",
      "source": [
        "# creating blank tuple\n",
        "my_tuple = ()\n",
        "my_tuple"
      ],
      "metadata": {
        "colab": {
          "base_uri": "https://localhost:8080/"
        },
        "outputId": "bbebcbe9-ad15-4c3f-e5cf-06764cfd8d2f",
        "id": "IvT-MQ9YcNce"
      },
      "execution_count": 39,
      "outputs": [
        {
          "output_type": "execute_result",
          "data": {
            "text/plain": [
              "()"
            ]
          },
          "metadata": {},
          "execution_count": 39
        }
      ]
    },
    {
      "cell_type": "code",
      "source": [
        "# creating blank tuple\n",
        "my_tuple = tuple()\n",
        "my_tuple"
      ],
      "metadata": {
        "colab": {
          "base_uri": "https://localhost:8080/"
        },
        "outputId": "c0d6c8e4-c70a-4796-ec90-fa142a463025",
        "id": "9nxobBaYcNcy"
      },
      "execution_count": 31,
      "outputs": [
        {
          "output_type": "execute_result",
          "data": {
            "text/plain": [
              "()"
            ]
          },
          "metadata": {},
          "execution_count": 31
        }
      ]
    },
    {
      "cell_type": "code",
      "source": [
        "# tuple with value\n",
        "my_tuple = (1, 2, 3, 4)\n",
        "my_tuple"
      ],
      "metadata": {
        "colab": {
          "base_uri": "https://localhost:8080/"
        },
        "outputId": "5404faf1-93c4-43aa-ff95-f0f222fc63a0",
        "id": "A4nxL959cNcy"
      },
      "execution_count": 32,
      "outputs": [
        {
          "output_type": "execute_result",
          "data": {
            "text/plain": [
              "(1, 2, 3, 4)"
            ]
          },
          "metadata": {},
          "execution_count": 32
        }
      ]
    },
    {
      "cell_type": "code",
      "source": [
        "type(my_tuple)"
      ],
      "metadata": {
        "colab": {
          "base_uri": "https://localhost:8080/"
        },
        "outputId": "c7ec46ba-bf39-497f-b4d5-ca35d0d7333d",
        "id": "F5705jbjcNcz"
      },
      "execution_count": 33,
      "outputs": [
        {
          "output_type": "execute_result",
          "data": {
            "text/plain": [
              "tuple"
            ]
          },
          "metadata": {},
          "execution_count": 33
        }
      ]
    },
    {
      "cell_type": "code",
      "source": [
        "# elements with different data type\n",
        "my_tuple = ('Adhang', 24, 'Jogja', 8.7)\n",
        "my_tuple"
      ],
      "metadata": {
        "colab": {
          "base_uri": "https://localhost:8080/"
        },
        "outputId": "cf95641c-94e6-434e-c22a-9c136985d795",
        "id": "dbA0uTP3cNcz"
      },
      "execution_count": 34,
      "outputs": [
        {
          "output_type": "execute_result",
          "data": {
            "text/plain": [
              "('Adhang', 24, 'Jogja', 8.7)"
            ]
          },
          "metadata": {},
          "execution_count": 34
        }
      ]
    },
    {
      "cell_type": "code",
      "source": [
        "# access first element\n",
        "my_tuple = ('Adhang', 24, 'Jogja', 8.7)\n",
        "my_tuple[0]"
      ],
      "metadata": {
        "colab": {
          "base_uri": "https://localhost:8080/",
          "height": 35
        },
        "outputId": "fc191286-f2d8-4515-8584-d8bf31de1958",
        "id": "u4CFWCO-cNcz"
      },
      "execution_count": 35,
      "outputs": [
        {
          "output_type": "execute_result",
          "data": {
            "application/vnd.google.colaboratory.intrinsic+json": {
              "type": "string"
            },
            "text/plain": [
              "'Adhang'"
            ]
          },
          "metadata": {},
          "execution_count": 35
        }
      ]
    },
    {
      "cell_type": "code",
      "source": [
        "# access last element\n",
        "my_tuple = ('Adhang', 24, 'Jogja', 8.7)\n",
        "my_tuple[-1]"
      ],
      "metadata": {
        "colab": {
          "base_uri": "https://localhost:8080/"
        },
        "outputId": "5720a699-c1a9-4afa-fc3f-59b17a81c04d",
        "id": "ecpirN3ocNc0"
      },
      "execution_count": 36,
      "outputs": [
        {
          "output_type": "execute_result",
          "data": {
            "text/plain": [
              "8.7"
            ]
          },
          "metadata": {},
          "execution_count": 36
        }
      ]
    },
    {
      "cell_type": "code",
      "source": [
        "# changing list's element will cause error\n",
        "my_tuple = ('Adhang', 24, 'Jogja', 8.7)\n",
        "my_tuple[-1] = 7.8\n",
        "my_tuple"
      ],
      "metadata": {
        "colab": {
          "base_uri": "https://localhost:8080/",
          "height": 218
        },
        "outputId": "d777d204-d4a3-450b-ea7e-819d911b8662",
        "id": "0O80doGVcNc0"
      },
      "execution_count": 37,
      "outputs": [
        {
          "output_type": "error",
          "ename": "TypeError",
          "evalue": "ignored",
          "traceback": [
            "\u001b[0;31m---------------------------------------------------------------------------\u001b[0m",
            "\u001b[0;31mTypeError\u001b[0m                                 Traceback (most recent call last)",
            "\u001b[0;32m<ipython-input-37-742f7bb97fa5>\u001b[0m in \u001b[0;36m<module>\u001b[0;34m()\u001b[0m\n\u001b[1;32m      1\u001b[0m \u001b[0;31m# change last element\u001b[0m\u001b[0;34m\u001b[0m\u001b[0;34m\u001b[0m\u001b[0;34m\u001b[0m\u001b[0m\n\u001b[1;32m      2\u001b[0m \u001b[0mmy_tuple\u001b[0m \u001b[0;34m=\u001b[0m \u001b[0;34m(\u001b[0m\u001b[0;34m'Adhang'\u001b[0m\u001b[0;34m,\u001b[0m \u001b[0;36m24\u001b[0m\u001b[0;34m,\u001b[0m \u001b[0;34m'Jogja'\u001b[0m\u001b[0;34m,\u001b[0m \u001b[0;36m8.7\u001b[0m\u001b[0;34m)\u001b[0m\u001b[0;34m\u001b[0m\u001b[0;34m\u001b[0m\u001b[0m\n\u001b[0;32m----> 3\u001b[0;31m \u001b[0mmy_tuple\u001b[0m\u001b[0;34m[\u001b[0m\u001b[0;34m-\u001b[0m\u001b[0;36m1\u001b[0m\u001b[0;34m]\u001b[0m \u001b[0;34m=\u001b[0m \u001b[0;36m7.8\u001b[0m\u001b[0;34m\u001b[0m\u001b[0;34m\u001b[0m\u001b[0m\n\u001b[0m\u001b[1;32m      4\u001b[0m \u001b[0mmy_tuple\u001b[0m\u001b[0;34m\u001b[0m\u001b[0;34m\u001b[0m\u001b[0m\n",
            "\u001b[0;31mTypeError\u001b[0m: 'tuple' object does not support item assignment"
          ]
        }
      ]
    },
    {
      "cell_type": "markdown",
      "source": [
        "#### Tuple Methods\n",
        "\n",
        "- `count()`:\tReturns the number of times a specified value occurs in a tuple\n",
        "- `index()`:\tSearches the tuple for a specified value and returns the position of where it was found\n",
        "\n",
        "[Tuple Methods Reference](https://www.w3schools.com/python/python_tuples_methods.asp)"
      ],
      "metadata": {
        "id": "OszM-ydpepVp"
      }
    },
    {
      "cell_type": "code",
      "source": [
        "# count specified item in tuple\n",
        "my_tuple = (1, 2, 3, 1, 1, 2)\n",
        "my_tuple.count(1)"
      ],
      "metadata": {
        "colab": {
          "base_uri": "https://localhost:8080/"
        },
        "id": "643R0qnTe87o",
        "outputId": "2f05d77b-e185-4f42-c099-1ec54135d7d6"
      },
      "execution_count": 45,
      "outputs": [
        {
          "output_type": "execute_result",
          "data": {
            "text/plain": [
              "3"
            ]
          },
          "metadata": {},
          "execution_count": 45
        }
      ]
    },
    {
      "cell_type": "markdown",
      "source": [
        "### Set\n",
        "- Used to store multiple value, but with distinct value (unique)\n",
        "- Immutable, we can't change set's element. But, we can add new item to set or remove item from set\n",
        "- Unordered, so we can't access set's element using index\n",
        "- Set can contain multiple data type"
      ],
      "metadata": {
        "id": "epiYE3h0UkdJ"
      }
    },
    {
      "cell_type": "code",
      "source": [
        "# creating blank set\n",
        "my_set = set()\n",
        "my_set"
      ],
      "metadata": {
        "colab": {
          "base_uri": "https://localhost:8080/"
        },
        "outputId": "f4f18242-4976-43f3-b445-e308aa4da5c6",
        "id": "78-ObukqfiEA"
      },
      "execution_count": 46,
      "outputs": [
        {
          "output_type": "execute_result",
          "data": {
            "text/plain": [
              "set()"
            ]
          },
          "metadata": {},
          "execution_count": 46
        }
      ]
    },
    {
      "cell_type": "code",
      "source": [
        "# set with value\n",
        "my_set = {1, 2, 3, 4}\n",
        "my_set"
      ],
      "metadata": {
        "colab": {
          "base_uri": "https://localhost:8080/"
        },
        "outputId": "3352b767-6343-4c1f-cdd9-5c545dc44815",
        "id": "fnr0FU5PfiED"
      },
      "execution_count": 47,
      "outputs": [
        {
          "output_type": "execute_result",
          "data": {
            "text/plain": [
              "{1, 2, 3, 4}"
            ]
          },
          "metadata": {},
          "execution_count": 47
        }
      ]
    },
    {
      "cell_type": "code",
      "source": [
        "# set with value\n",
        "my_set = set([1, 2, 3, 4])\n",
        "my_set"
      ],
      "metadata": {
        "colab": {
          "base_uri": "https://localhost:8080/"
        },
        "id": "zqCO6hZIf_7u",
        "outputId": "6a70d8ca-7c3a-41d5-e848-81499099b8d2"
      },
      "execution_count": 50,
      "outputs": [
        {
          "output_type": "execute_result",
          "data": {
            "text/plain": [
              "{1, 2, 3, 4}"
            ]
          },
          "metadata": {},
          "execution_count": 50
        }
      ]
    },
    {
      "cell_type": "code",
      "source": [
        "type(my_set)"
      ],
      "metadata": {
        "colab": {
          "base_uri": "https://localhost:8080/"
        },
        "outputId": "2939bd1e-ea74-44ef-f01e-63f1d395f8b7",
        "id": "e5al2ZX1fiEF"
      },
      "execution_count": 51,
      "outputs": [
        {
          "output_type": "execute_result",
          "data": {
            "text/plain": [
              "set"
            ]
          },
          "metadata": {},
          "execution_count": 51
        }
      ]
    },
    {
      "cell_type": "code",
      "source": [
        "# elements with different data type\n",
        "my_set = {'Adhang', 24, 'Jogja', 8.7}\n",
        "my_set\n",
        "# the result order is not the same as the definition order"
      ],
      "metadata": {
        "colab": {
          "base_uri": "https://localhost:8080/"
        },
        "outputId": "fa553fc2-d692-4359-e055-fe88df8f21fc",
        "id": "HlIyk3D-fiEF"
      },
      "execution_count": 53,
      "outputs": [
        {
          "output_type": "execute_result",
          "data": {
            "text/plain": [
              "{24, 8.7, 'Adhang', 'Jogja'}"
            ]
          },
          "metadata": {},
          "execution_count": 53
        }
      ]
    },
    {
      "cell_type": "markdown",
      "source": [
        "#### Set Methods\n",
        "- `add()`\tAdds an element to the set\n",
        "- `clear()`\tRemoves all the elements from the set\n",
        "- `copy()`\tReturns a copy of the set\n",
        "- `difference()`\tReturns a set containing the difference between two or more sets\n",
        "- `difference_update()`\tRemoves the items in this set that are also included in another, specified set\n",
        "- `discard()`\tRemove the specified item\n",
        "- `intersection()`\tReturns a set, that is the intersection of two other sets\n",
        "- `intersection_update()`\tRemoves the items in this set that are not present in other, specified set(s)\n",
        "- `isdisjoint()`\tReturns whether two sets have a intersection or not\n",
        "- `issubset()`\tReturns whether another set contains this set or not\n",
        "- `issuperset()`\tReturns whether this set contains another set or not\n",
        "- `pop()`\tRemoves an element from the set\n",
        "- `remove()`\tRemoves the specified element\n",
        "- `symmetric_difference()`\tReturns a set with the symmetric differences of two sets\n",
        "- `symmetric_difference_update()`\tinserts the symmetric differences from this set and another\n",
        "- `union()`\tReturn a set containing the union of sets\n",
        "- `update()`\tUpdate the set with the union of this set and others\n",
        "\n",
        "[Set Methods Reference](https://www.w3schools.com/python/python_sets_methods.asp)"
      ],
      "metadata": {
        "id": "Bi-utzi6grPK"
      }
    },
    {
      "cell_type": "code",
      "source": [
        "# add item\n",
        "my_set = {'Adhang', 24, 'Jogja', 8.7}\n",
        "my_set.add('Indonesia')\n",
        "my_set"
      ],
      "metadata": {
        "colab": {
          "base_uri": "https://localhost:8080/"
        },
        "id": "bjOzj_eVhyr-",
        "outputId": "b3b77732-f67d-46a5-a54b-bbf583ad76f5"
      },
      "execution_count": 54,
      "outputs": [
        {
          "output_type": "execute_result",
          "data": {
            "text/plain": [
              "{24, 8.7, 'Adhang', 'Indonesia', 'Jogja'}"
            ]
          },
          "metadata": {},
          "execution_count": 54
        }
      ]
    },
    {
      "cell_type": "code",
      "source": [
        "# remove item\n",
        "my_set = {'Adhang', 24, 'Jogja', 8.7}\n",
        "my_set.remove('Jogja')\n",
        "my_set"
      ],
      "metadata": {
        "colab": {
          "base_uri": "https://localhost:8080/"
        },
        "id": "ma1kVx3Lh8hk",
        "outputId": "77e2ecbd-7b08-4262-f3ee-058a556bede4"
      },
      "execution_count": 55,
      "outputs": [
        {
          "output_type": "execute_result",
          "data": {
            "text/plain": [
              "{24, 8.7, 'Adhang'}"
            ]
          },
          "metadata": {},
          "execution_count": 55
        }
      ]
    },
    {
      "cell_type": "markdown",
      "source": [
        "### Dictionary"
      ],
      "metadata": {
        "id": "btPFVDQkUloq"
      }
    },
    {
      "cell_type": "markdown",
      "source": [
        "## Conditions"
      ],
      "metadata": {
        "id": "D4-bsR1XUnNr"
      }
    },
    {
      "cell_type": "markdown",
      "source": [
        "## Looping"
      ],
      "metadata": {
        "id": "XvVCiwvcUrXK"
      }
    },
    {
      "cell_type": "markdown",
      "source": [
        "## Functions"
      ],
      "metadata": {
        "id": "kFBuSvieUtF5"
      }
    },
    {
      "cell_type": "code",
      "source": [
        ""
      ],
      "metadata": {
        "id": "nmNOBYvnUqiM"
      },
      "execution_count": null,
      "outputs": []
    },
    {
      "cell_type": "code",
      "source": [
        ""
      ],
      "metadata": {
        "id": "8upAOsTjUp5u"
      },
      "execution_count": null,
      "outputs": []
    }
  ]
}